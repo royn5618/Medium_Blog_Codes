{
  "cells": [
    {
      "cell_type": "markdown",
      "metadata": {
        "id": "view-in-github",
        "colab_type": "text"
      },
      "source": [
        "<a href=\"https://colab.research.google.com/github/royn5618/Medium_Blog_Codes/blob/master/Emotion%20Detection/EmotionClassifier_KerasTuner.ipynb\" target=\"_parent\"><img src=\"https://colab.research.google.com/assets/colab-badge.svg\" alt=\"Open In Colab\"/></a>"
      ]
    },
    {
      "cell_type": "code",
      "execution_count": null,
      "metadata": {
        "colab": {
          "base_uri": "https://localhost:8080/"
        },
        "id": "nJaL3j598YRa",
        "outputId": "50f44761-1071-45d1-c4b3-3fba60b2fc6a"
      },
      "outputs": [
        {
          "output_type": "stream",
          "name": "stdout",
          "text": [
            "[nltk_data] Downloading package punkt to /root/nltk_data...\n",
            "[nltk_data]   Package punkt is already up-to-date!\n",
            "[nltk_data] Downloading package stopwords to /root/nltk_data...\n",
            "[nltk_data]   Package stopwords is already up-to-date!\n"
          ]
        }
      ],
      "source": [
        "import numpy as np\n",
        "import pandas as pd\n",
        "\n",
        "# visualization\n",
        "import matplotlib.pyplot as plt\n",
        "\n",
        "# to avoid warnings \n",
        "import warnings\n",
        "warnings.filterwarnings(\"ignore\")\n",
        "\n",
        "import nltk\n",
        "nltk.download('punkt')\n",
        "nltk.download('stopwords')\n",
        "from nltk.tokenize import word_tokenize\n",
        "from nltk.corpus import stopwords\n",
        "from nltk.stem import PorterStemmer\n",
        "\n",
        "# Keras imports\n",
        "import tensorflow as tf\n",
        "import tensorflow.keras as keras\n",
        "from tensorflow.keras.preprocessing.text import Tokenizer\n",
        "from tensorflow.keras.preprocessing.sequence import pad_sequences\n",
        "from tensorflow.keras import Sequential\n",
        "from tensorflow.keras.layers import Dense, Embedding, Dropout, LSTM\n",
        "\n",
        "# Scikit Learn imports\n",
        "from sklearn.model_selection import train_test_split\n",
        "from sklearn.metrics import classification_report, confusion_matrix"
      ]
    },
    {
      "cell_type": "code",
      "execution_count": null,
      "metadata": {
        "id": "yRtyG9GR9I9m"
      },
      "outputs": [],
      "source": [
        "STOPWORDS = stopwords.words('english')\n",
        "PORTER_STEMMER = PorterStemmer()\n"
      ]
    },
    {
      "cell_type": "code",
      "execution_count": null,
      "metadata": {
        "id": "hdSG9Hs98arN"
      },
      "outputs": [],
      "source": [
        "!pip install -q -U keras-tuner"
      ]
    },
    {
      "cell_type": "code",
      "execution_count": null,
      "metadata": {
        "id": "-bCecoQu8sPX"
      },
      "outputs": [],
      "source": [
        "import keras_tuner as kt"
      ]
    },
    {
      "cell_type": "code",
      "execution_count": null,
      "metadata": {
        "colab": {
          "base_uri": "https://localhost:8080/",
          "height": 206
        },
        "id": "tizoY-ym8sRj",
        "outputId": "6f9f0180-6910-4132-a986-340d3998d4f2"
      },
      "outputs": [
        {
          "output_type": "execute_result",
          "data": {
            "text/plain": [
              "                                                text  emotion\n",
              "0                            i didnt feel humiliated  sadness\n",
              "1  i can go from feeling so hopeless to so damned...  sadness\n",
              "2   im grabbing a minute to post i feel greedy wrong    anger\n",
              "3  i am ever feeling nostalgic about the fireplac...     love\n",
              "4                               i am feeling grouchy    anger"
            ],
            "text/html": [
              "\n",
              "  <div id=\"df-836a237d-a645-4105-b93b-762824b59ae9\">\n",
              "    <div class=\"colab-df-container\">\n",
              "      <div>\n",
              "<style scoped>\n",
              "    .dataframe tbody tr th:only-of-type {\n",
              "        vertical-align: middle;\n",
              "    }\n",
              "\n",
              "    .dataframe tbody tr th {\n",
              "        vertical-align: top;\n",
              "    }\n",
              "\n",
              "    .dataframe thead th {\n",
              "        text-align: right;\n",
              "    }\n",
              "</style>\n",
              "<table border=\"1\" class=\"dataframe\">\n",
              "  <thead>\n",
              "    <tr style=\"text-align: right;\">\n",
              "      <th></th>\n",
              "      <th>text</th>\n",
              "      <th>emotion</th>\n",
              "    </tr>\n",
              "  </thead>\n",
              "  <tbody>\n",
              "    <tr>\n",
              "      <th>0</th>\n",
              "      <td>i didnt feel humiliated</td>\n",
              "      <td>sadness</td>\n",
              "    </tr>\n",
              "    <tr>\n",
              "      <th>1</th>\n",
              "      <td>i can go from feeling so hopeless to so damned...</td>\n",
              "      <td>sadness</td>\n",
              "    </tr>\n",
              "    <tr>\n",
              "      <th>2</th>\n",
              "      <td>im grabbing a minute to post i feel greedy wrong</td>\n",
              "      <td>anger</td>\n",
              "    </tr>\n",
              "    <tr>\n",
              "      <th>3</th>\n",
              "      <td>i am ever feeling nostalgic about the fireplac...</td>\n",
              "      <td>love</td>\n",
              "    </tr>\n",
              "    <tr>\n",
              "      <th>4</th>\n",
              "      <td>i am feeling grouchy</td>\n",
              "      <td>anger</td>\n",
              "    </tr>\n",
              "  </tbody>\n",
              "</table>\n",
              "</div>\n",
              "      <button class=\"colab-df-convert\" onclick=\"convertToInteractive('df-836a237d-a645-4105-b93b-762824b59ae9')\"\n",
              "              title=\"Convert this dataframe to an interactive table.\"\n",
              "              style=\"display:none;\">\n",
              "        \n",
              "  <svg xmlns=\"http://www.w3.org/2000/svg\" height=\"24px\"viewBox=\"0 0 24 24\"\n",
              "       width=\"24px\">\n",
              "    <path d=\"M0 0h24v24H0V0z\" fill=\"none\"/>\n",
              "    <path d=\"M18.56 5.44l.94 2.06.94-2.06 2.06-.94-2.06-.94-.94-2.06-.94 2.06-2.06.94zm-11 1L8.5 8.5l.94-2.06 2.06-.94-2.06-.94L8.5 2.5l-.94 2.06-2.06.94zm10 10l.94 2.06.94-2.06 2.06-.94-2.06-.94-.94-2.06-.94 2.06-2.06.94z\"/><path d=\"M17.41 7.96l-1.37-1.37c-.4-.4-.92-.59-1.43-.59-.52 0-1.04.2-1.43.59L10.3 9.45l-7.72 7.72c-.78.78-.78 2.05 0 2.83L4 21.41c.39.39.9.59 1.41.59.51 0 1.02-.2 1.41-.59l7.78-7.78 2.81-2.81c.8-.78.8-2.07 0-2.86zM5.41 20L4 18.59l7.72-7.72 1.47 1.35L5.41 20z\"/>\n",
              "  </svg>\n",
              "      </button>\n",
              "      \n",
              "  <style>\n",
              "    .colab-df-container {\n",
              "      display:flex;\n",
              "      flex-wrap:wrap;\n",
              "      gap: 12px;\n",
              "    }\n",
              "\n",
              "    .colab-df-convert {\n",
              "      background-color: #E8F0FE;\n",
              "      border: none;\n",
              "      border-radius: 50%;\n",
              "      cursor: pointer;\n",
              "      display: none;\n",
              "      fill: #1967D2;\n",
              "      height: 32px;\n",
              "      padding: 0 0 0 0;\n",
              "      width: 32px;\n",
              "    }\n",
              "\n",
              "    .colab-df-convert:hover {\n",
              "      background-color: #E2EBFA;\n",
              "      box-shadow: 0px 1px 2px rgba(60, 64, 67, 0.3), 0px 1px 3px 1px rgba(60, 64, 67, 0.15);\n",
              "      fill: #174EA6;\n",
              "    }\n",
              "\n",
              "    [theme=dark] .colab-df-convert {\n",
              "      background-color: #3B4455;\n",
              "      fill: #D2E3FC;\n",
              "    }\n",
              "\n",
              "    [theme=dark] .colab-df-convert:hover {\n",
              "      background-color: #434B5C;\n",
              "      box-shadow: 0px 1px 3px 1px rgba(0, 0, 0, 0.15);\n",
              "      filter: drop-shadow(0px 1px 2px rgba(0, 0, 0, 0.3));\n",
              "      fill: #FFFFFF;\n",
              "    }\n",
              "  </style>\n",
              "\n",
              "      <script>\n",
              "        const buttonEl =\n",
              "          document.querySelector('#df-836a237d-a645-4105-b93b-762824b59ae9 button.colab-df-convert');\n",
              "        buttonEl.style.display =\n",
              "          google.colab.kernel.accessAllowed ? 'block' : 'none';\n",
              "\n",
              "        async function convertToInteractive(key) {\n",
              "          const element = document.querySelector('#df-836a237d-a645-4105-b93b-762824b59ae9');\n",
              "          const dataTable =\n",
              "            await google.colab.kernel.invokeFunction('convertToInteractive',\n",
              "                                                     [key], {});\n",
              "          if (!dataTable) return;\n",
              "\n",
              "          const docLinkHtml = 'Like what you see? Visit the ' +\n",
              "            '<a target=\"_blank\" href=https://colab.research.google.com/notebooks/data_table.ipynb>data table notebook</a>'\n",
              "            + ' to learn more about interactive tables.';\n",
              "          element.innerHTML = '';\n",
              "          dataTable['output_type'] = 'display_data';\n",
              "          await google.colab.output.renderOutput(dataTable, element);\n",
              "          const docLink = document.createElement('div');\n",
              "          docLink.innerHTML = docLinkHtml;\n",
              "          element.appendChild(docLink);\n",
              "        }\n",
              "      </script>\n",
              "    </div>\n",
              "  </div>\n",
              "  "
            ]
          },
          "metadata": {},
          "execution_count": 10
        }
      ],
      "source": [
        "train_data = pd.read_csv('train.txt', sep=';', names=['text', 'emotion'])\n",
        "train_data.head()"
      ]
    },
    {
      "cell_type": "code",
      "execution_count": null,
      "metadata": {
        "colab": {
          "base_uri": "https://localhost:8080/",
          "height": 206
        },
        "id": "6VNFwCoB8sU9",
        "outputId": "2049723c-c345-4897-eee9-47becfc3d6c6"
      },
      "outputs": [
        {
          "output_type": "execute_result",
          "data": {
            "text/plain": [
              "                                                text  emotion\n",
              "0  im feeling rather rotten so im not very ambiti...  sadness\n",
              "1          im updating my blog because i feel shitty  sadness\n",
              "2  i never make her separate from me because i do...  sadness\n",
              "3  i left with my bouquet of red and yellow tulip...      joy\n",
              "4    i was feeling a little vain when i did this one  sadness"
            ],
            "text/html": [
              "\n",
              "  <div id=\"df-3413509b-eef3-4b90-8809-64124eca9c1c\">\n",
              "    <div class=\"colab-df-container\">\n",
              "      <div>\n",
              "<style scoped>\n",
              "    .dataframe tbody tr th:only-of-type {\n",
              "        vertical-align: middle;\n",
              "    }\n",
              "\n",
              "    .dataframe tbody tr th {\n",
              "        vertical-align: top;\n",
              "    }\n",
              "\n",
              "    .dataframe thead th {\n",
              "        text-align: right;\n",
              "    }\n",
              "</style>\n",
              "<table border=\"1\" class=\"dataframe\">\n",
              "  <thead>\n",
              "    <tr style=\"text-align: right;\">\n",
              "      <th></th>\n",
              "      <th>text</th>\n",
              "      <th>emotion</th>\n",
              "    </tr>\n",
              "  </thead>\n",
              "  <tbody>\n",
              "    <tr>\n",
              "      <th>0</th>\n",
              "      <td>im feeling rather rotten so im not very ambiti...</td>\n",
              "      <td>sadness</td>\n",
              "    </tr>\n",
              "    <tr>\n",
              "      <th>1</th>\n",
              "      <td>im updating my blog because i feel shitty</td>\n",
              "      <td>sadness</td>\n",
              "    </tr>\n",
              "    <tr>\n",
              "      <th>2</th>\n",
              "      <td>i never make her separate from me because i do...</td>\n",
              "      <td>sadness</td>\n",
              "    </tr>\n",
              "    <tr>\n",
              "      <th>3</th>\n",
              "      <td>i left with my bouquet of red and yellow tulip...</td>\n",
              "      <td>joy</td>\n",
              "    </tr>\n",
              "    <tr>\n",
              "      <th>4</th>\n",
              "      <td>i was feeling a little vain when i did this one</td>\n",
              "      <td>sadness</td>\n",
              "    </tr>\n",
              "  </tbody>\n",
              "</table>\n",
              "</div>\n",
              "      <button class=\"colab-df-convert\" onclick=\"convertToInteractive('df-3413509b-eef3-4b90-8809-64124eca9c1c')\"\n",
              "              title=\"Convert this dataframe to an interactive table.\"\n",
              "              style=\"display:none;\">\n",
              "        \n",
              "  <svg xmlns=\"http://www.w3.org/2000/svg\" height=\"24px\"viewBox=\"0 0 24 24\"\n",
              "       width=\"24px\">\n",
              "    <path d=\"M0 0h24v24H0V0z\" fill=\"none\"/>\n",
              "    <path d=\"M18.56 5.44l.94 2.06.94-2.06 2.06-.94-2.06-.94-.94-2.06-.94 2.06-2.06.94zm-11 1L8.5 8.5l.94-2.06 2.06-.94-2.06-.94L8.5 2.5l-.94 2.06-2.06.94zm10 10l.94 2.06.94-2.06 2.06-.94-2.06-.94-.94-2.06-.94 2.06-2.06.94z\"/><path d=\"M17.41 7.96l-1.37-1.37c-.4-.4-.92-.59-1.43-.59-.52 0-1.04.2-1.43.59L10.3 9.45l-7.72 7.72c-.78.78-.78 2.05 0 2.83L4 21.41c.39.39.9.59 1.41.59.51 0 1.02-.2 1.41-.59l7.78-7.78 2.81-2.81c.8-.78.8-2.07 0-2.86zM5.41 20L4 18.59l7.72-7.72 1.47 1.35L5.41 20z\"/>\n",
              "  </svg>\n",
              "      </button>\n",
              "      \n",
              "  <style>\n",
              "    .colab-df-container {\n",
              "      display:flex;\n",
              "      flex-wrap:wrap;\n",
              "      gap: 12px;\n",
              "    }\n",
              "\n",
              "    .colab-df-convert {\n",
              "      background-color: #E8F0FE;\n",
              "      border: none;\n",
              "      border-radius: 50%;\n",
              "      cursor: pointer;\n",
              "      display: none;\n",
              "      fill: #1967D2;\n",
              "      height: 32px;\n",
              "      padding: 0 0 0 0;\n",
              "      width: 32px;\n",
              "    }\n",
              "\n",
              "    .colab-df-convert:hover {\n",
              "      background-color: #E2EBFA;\n",
              "      box-shadow: 0px 1px 2px rgba(60, 64, 67, 0.3), 0px 1px 3px 1px rgba(60, 64, 67, 0.15);\n",
              "      fill: #174EA6;\n",
              "    }\n",
              "\n",
              "    [theme=dark] .colab-df-convert {\n",
              "      background-color: #3B4455;\n",
              "      fill: #D2E3FC;\n",
              "    }\n",
              "\n",
              "    [theme=dark] .colab-df-convert:hover {\n",
              "      background-color: #434B5C;\n",
              "      box-shadow: 0px 1px 3px 1px rgba(0, 0, 0, 0.15);\n",
              "      filter: drop-shadow(0px 1px 2px rgba(0, 0, 0, 0.3));\n",
              "      fill: #FFFFFF;\n",
              "    }\n",
              "  </style>\n",
              "\n",
              "      <script>\n",
              "        const buttonEl =\n",
              "          document.querySelector('#df-3413509b-eef3-4b90-8809-64124eca9c1c button.colab-df-convert');\n",
              "        buttonEl.style.display =\n",
              "          google.colab.kernel.accessAllowed ? 'block' : 'none';\n",
              "\n",
              "        async function convertToInteractive(key) {\n",
              "          const element = document.querySelector('#df-3413509b-eef3-4b90-8809-64124eca9c1c');\n",
              "          const dataTable =\n",
              "            await google.colab.kernel.invokeFunction('convertToInteractive',\n",
              "                                                     [key], {});\n",
              "          if (!dataTable) return;\n",
              "\n",
              "          const docLinkHtml = 'Like what you see? Visit the ' +\n",
              "            '<a target=\"_blank\" href=https://colab.research.google.com/notebooks/data_table.ipynb>data table notebook</a>'\n",
              "            + ' to learn more about interactive tables.';\n",
              "          element.innerHTML = '';\n",
              "          dataTable['output_type'] = 'display_data';\n",
              "          await google.colab.output.renderOutput(dataTable, element);\n",
              "          const docLink = document.createElement('div');\n",
              "          docLink.innerHTML = docLinkHtml;\n",
              "          element.appendChild(docLink);\n",
              "        }\n",
              "      </script>\n",
              "    </div>\n",
              "  </div>\n",
              "  "
            ]
          },
          "metadata": {},
          "execution_count": 11
        }
      ],
      "source": [
        "test_data = pd.read_csv('test.txt', sep=';', names=['text', 'emotion'])\n",
        "test_data.head()"
      ]
    },
    {
      "cell_type": "code",
      "execution_count": null,
      "metadata": {
        "colab": {
          "base_uri": "https://localhost:8080/",
          "height": 206
        },
        "id": "61xJ-uRM82yT",
        "outputId": "383e5a73-07d7-4cb4-eee7-1785a8e7e722"
      },
      "outputs": [
        {
          "output_type": "execute_result",
          "data": {
            "text/plain": [
              "                                                text  emotion\n",
              "0  im feeling quite sad and sorry for myself but ...  sadness\n",
              "1  i feel like i am still looking at a blank canv...  sadness\n",
              "2                     i feel like a faithful servant     love\n",
              "3                  i am just feeling cranky and blue    anger\n",
              "4  i can have for a treat or if i am feeling festive      joy"
            ],
            "text/html": [
              "\n",
              "  <div id=\"df-e4dda22d-9080-47da-a8bd-f9ee32b3b1cc\">\n",
              "    <div class=\"colab-df-container\">\n",
              "      <div>\n",
              "<style scoped>\n",
              "    .dataframe tbody tr th:only-of-type {\n",
              "        vertical-align: middle;\n",
              "    }\n",
              "\n",
              "    .dataframe tbody tr th {\n",
              "        vertical-align: top;\n",
              "    }\n",
              "\n",
              "    .dataframe thead th {\n",
              "        text-align: right;\n",
              "    }\n",
              "</style>\n",
              "<table border=\"1\" class=\"dataframe\">\n",
              "  <thead>\n",
              "    <tr style=\"text-align: right;\">\n",
              "      <th></th>\n",
              "      <th>text</th>\n",
              "      <th>emotion</th>\n",
              "    </tr>\n",
              "  </thead>\n",
              "  <tbody>\n",
              "    <tr>\n",
              "      <th>0</th>\n",
              "      <td>im feeling quite sad and sorry for myself but ...</td>\n",
              "      <td>sadness</td>\n",
              "    </tr>\n",
              "    <tr>\n",
              "      <th>1</th>\n",
              "      <td>i feel like i am still looking at a blank canv...</td>\n",
              "      <td>sadness</td>\n",
              "    </tr>\n",
              "    <tr>\n",
              "      <th>2</th>\n",
              "      <td>i feel like a faithful servant</td>\n",
              "      <td>love</td>\n",
              "    </tr>\n",
              "    <tr>\n",
              "      <th>3</th>\n",
              "      <td>i am just feeling cranky and blue</td>\n",
              "      <td>anger</td>\n",
              "    </tr>\n",
              "    <tr>\n",
              "      <th>4</th>\n",
              "      <td>i can have for a treat or if i am feeling festive</td>\n",
              "      <td>joy</td>\n",
              "    </tr>\n",
              "  </tbody>\n",
              "</table>\n",
              "</div>\n",
              "      <button class=\"colab-df-convert\" onclick=\"convertToInteractive('df-e4dda22d-9080-47da-a8bd-f9ee32b3b1cc')\"\n",
              "              title=\"Convert this dataframe to an interactive table.\"\n",
              "              style=\"display:none;\">\n",
              "        \n",
              "  <svg xmlns=\"http://www.w3.org/2000/svg\" height=\"24px\"viewBox=\"0 0 24 24\"\n",
              "       width=\"24px\">\n",
              "    <path d=\"M0 0h24v24H0V0z\" fill=\"none\"/>\n",
              "    <path d=\"M18.56 5.44l.94 2.06.94-2.06 2.06-.94-2.06-.94-.94-2.06-.94 2.06-2.06.94zm-11 1L8.5 8.5l.94-2.06 2.06-.94-2.06-.94L8.5 2.5l-.94 2.06-2.06.94zm10 10l.94 2.06.94-2.06 2.06-.94-2.06-.94-.94-2.06-.94 2.06-2.06.94z\"/><path d=\"M17.41 7.96l-1.37-1.37c-.4-.4-.92-.59-1.43-.59-.52 0-1.04.2-1.43.59L10.3 9.45l-7.72 7.72c-.78.78-.78 2.05 0 2.83L4 21.41c.39.39.9.59 1.41.59.51 0 1.02-.2 1.41-.59l7.78-7.78 2.81-2.81c.8-.78.8-2.07 0-2.86zM5.41 20L4 18.59l7.72-7.72 1.47 1.35L5.41 20z\"/>\n",
              "  </svg>\n",
              "      </button>\n",
              "      \n",
              "  <style>\n",
              "    .colab-df-container {\n",
              "      display:flex;\n",
              "      flex-wrap:wrap;\n",
              "      gap: 12px;\n",
              "    }\n",
              "\n",
              "    .colab-df-convert {\n",
              "      background-color: #E8F0FE;\n",
              "      border: none;\n",
              "      border-radius: 50%;\n",
              "      cursor: pointer;\n",
              "      display: none;\n",
              "      fill: #1967D2;\n",
              "      height: 32px;\n",
              "      padding: 0 0 0 0;\n",
              "      width: 32px;\n",
              "    }\n",
              "\n",
              "    .colab-df-convert:hover {\n",
              "      background-color: #E2EBFA;\n",
              "      box-shadow: 0px 1px 2px rgba(60, 64, 67, 0.3), 0px 1px 3px 1px rgba(60, 64, 67, 0.15);\n",
              "      fill: #174EA6;\n",
              "    }\n",
              "\n",
              "    [theme=dark] .colab-df-convert {\n",
              "      background-color: #3B4455;\n",
              "      fill: #D2E3FC;\n",
              "    }\n",
              "\n",
              "    [theme=dark] .colab-df-convert:hover {\n",
              "      background-color: #434B5C;\n",
              "      box-shadow: 0px 1px 3px 1px rgba(0, 0, 0, 0.15);\n",
              "      filter: drop-shadow(0px 1px 2px rgba(0, 0, 0, 0.3));\n",
              "      fill: #FFFFFF;\n",
              "    }\n",
              "  </style>\n",
              "\n",
              "      <script>\n",
              "        const buttonEl =\n",
              "          document.querySelector('#df-e4dda22d-9080-47da-a8bd-f9ee32b3b1cc button.colab-df-convert');\n",
              "        buttonEl.style.display =\n",
              "          google.colab.kernel.accessAllowed ? 'block' : 'none';\n",
              "\n",
              "        async function convertToInteractive(key) {\n",
              "          const element = document.querySelector('#df-e4dda22d-9080-47da-a8bd-f9ee32b3b1cc');\n",
              "          const dataTable =\n",
              "            await google.colab.kernel.invokeFunction('convertToInteractive',\n",
              "                                                     [key], {});\n",
              "          if (!dataTable) return;\n",
              "\n",
              "          const docLinkHtml = 'Like what you see? Visit the ' +\n",
              "            '<a target=\"_blank\" href=https://colab.research.google.com/notebooks/data_table.ipynb>data table notebook</a>'\n",
              "            + ' to learn more about interactive tables.';\n",
              "          element.innerHTML = '';\n",
              "          dataTable['output_type'] = 'display_data';\n",
              "          await google.colab.output.renderOutput(dataTable, element);\n",
              "          const docLink = document.createElement('div');\n",
              "          docLink.innerHTML = docLinkHtml;\n",
              "          element.appendChild(docLink);\n",
              "        }\n",
              "      </script>\n",
              "    </div>\n",
              "  </div>\n",
              "  "
            ]
          },
          "metadata": {},
          "execution_count": 12
        }
      ],
      "source": [
        "val_data = pd.read_csv('val.txt', sep=';', names=['text', 'emotion'])\n",
        "val_data.head()"
      ]
    },
    {
      "cell_type": "code",
      "execution_count": null,
      "metadata": {
        "id": "mVMnGlOv86Zg"
      },
      "outputs": [],
      "source": [
        "def preprocess_text(text):\n",
        "    filtered_text = []\n",
        "    for each_word in word_tokenize(text):\n",
        "        if each_word not in STOPWORDS:\n",
        "            filtered_text.append(PORTER_STEMMER.stem(each_word))\n",
        "    return \" \".join(filtered_text)"
      ]
    },
    {
      "cell_type": "code",
      "execution_count": null,
      "metadata": {
        "id": "V5RuOT7Z86cU"
      },
      "outputs": [],
      "source": [
        "train_data['text'] = train_data.text.apply(preprocess_text)\n",
        "test_data['text'] = test_data.text.apply(preprocess_text)\n",
        "val_data['text'] = val_data.text.apply(preprocess_text)"
      ]
    },
    {
      "cell_type": "code",
      "execution_count": null,
      "metadata": {
        "colab": {
          "base_uri": "https://localhost:8080/",
          "height": 206
        },
        "id": "d3OdbnAe86e4",
        "outputId": "42f4f3b6-c454-4500-8805-405d414363a4"
      },
      "outputs": [
        {
          "output_type": "execute_result",
          "data": {
            "text/plain": [
              "                                                text  emotion  emotion_label\n",
              "0                                  didnt feel humili  sadness              4\n",
              "1  go feel hopeless damn hope around someon care ...  sadness              4\n",
              "2               im grab minut post feel greedi wrong    anger              0\n",
              "3     ever feel nostalg fireplac know still properti     love              3\n",
              "4                                       feel grouchi    anger              0"
            ],
            "text/html": [
              "\n",
              "  <div id=\"df-a40bb8bd-2371-435c-9b42-dbb019007362\">\n",
              "    <div class=\"colab-df-container\">\n",
              "      <div>\n",
              "<style scoped>\n",
              "    .dataframe tbody tr th:only-of-type {\n",
              "        vertical-align: middle;\n",
              "    }\n",
              "\n",
              "    .dataframe tbody tr th {\n",
              "        vertical-align: top;\n",
              "    }\n",
              "\n",
              "    .dataframe thead th {\n",
              "        text-align: right;\n",
              "    }\n",
              "</style>\n",
              "<table border=\"1\" class=\"dataframe\">\n",
              "  <thead>\n",
              "    <tr style=\"text-align: right;\">\n",
              "      <th></th>\n",
              "      <th>text</th>\n",
              "      <th>emotion</th>\n",
              "      <th>emotion_label</th>\n",
              "    </tr>\n",
              "  </thead>\n",
              "  <tbody>\n",
              "    <tr>\n",
              "      <th>0</th>\n",
              "      <td>didnt feel humili</td>\n",
              "      <td>sadness</td>\n",
              "      <td>4</td>\n",
              "    </tr>\n",
              "    <tr>\n",
              "      <th>1</th>\n",
              "      <td>go feel hopeless damn hope around someon care ...</td>\n",
              "      <td>sadness</td>\n",
              "      <td>4</td>\n",
              "    </tr>\n",
              "    <tr>\n",
              "      <th>2</th>\n",
              "      <td>im grab minut post feel greedi wrong</td>\n",
              "      <td>anger</td>\n",
              "      <td>0</td>\n",
              "    </tr>\n",
              "    <tr>\n",
              "      <th>3</th>\n",
              "      <td>ever feel nostalg fireplac know still properti</td>\n",
              "      <td>love</td>\n",
              "      <td>3</td>\n",
              "    </tr>\n",
              "    <tr>\n",
              "      <th>4</th>\n",
              "      <td>feel grouchi</td>\n",
              "      <td>anger</td>\n",
              "      <td>0</td>\n",
              "    </tr>\n",
              "  </tbody>\n",
              "</table>\n",
              "</div>\n",
              "      <button class=\"colab-df-convert\" onclick=\"convertToInteractive('df-a40bb8bd-2371-435c-9b42-dbb019007362')\"\n",
              "              title=\"Convert this dataframe to an interactive table.\"\n",
              "              style=\"display:none;\">\n",
              "        \n",
              "  <svg xmlns=\"http://www.w3.org/2000/svg\" height=\"24px\"viewBox=\"0 0 24 24\"\n",
              "       width=\"24px\">\n",
              "    <path d=\"M0 0h24v24H0V0z\" fill=\"none\"/>\n",
              "    <path d=\"M18.56 5.44l.94 2.06.94-2.06 2.06-.94-2.06-.94-.94-2.06-.94 2.06-2.06.94zm-11 1L8.5 8.5l.94-2.06 2.06-.94-2.06-.94L8.5 2.5l-.94 2.06-2.06.94zm10 10l.94 2.06.94-2.06 2.06-.94-2.06-.94-.94-2.06-.94 2.06-2.06.94z\"/><path d=\"M17.41 7.96l-1.37-1.37c-.4-.4-.92-.59-1.43-.59-.52 0-1.04.2-1.43.59L10.3 9.45l-7.72 7.72c-.78.78-.78 2.05 0 2.83L4 21.41c.39.39.9.59 1.41.59.51 0 1.02-.2 1.41-.59l7.78-7.78 2.81-2.81c.8-.78.8-2.07 0-2.86zM5.41 20L4 18.59l7.72-7.72 1.47 1.35L5.41 20z\"/>\n",
              "  </svg>\n",
              "      </button>\n",
              "      \n",
              "  <style>\n",
              "    .colab-df-container {\n",
              "      display:flex;\n",
              "      flex-wrap:wrap;\n",
              "      gap: 12px;\n",
              "    }\n",
              "\n",
              "    .colab-df-convert {\n",
              "      background-color: #E8F0FE;\n",
              "      border: none;\n",
              "      border-radius: 50%;\n",
              "      cursor: pointer;\n",
              "      display: none;\n",
              "      fill: #1967D2;\n",
              "      height: 32px;\n",
              "      padding: 0 0 0 0;\n",
              "      width: 32px;\n",
              "    }\n",
              "\n",
              "    .colab-df-convert:hover {\n",
              "      background-color: #E2EBFA;\n",
              "      box-shadow: 0px 1px 2px rgba(60, 64, 67, 0.3), 0px 1px 3px 1px rgba(60, 64, 67, 0.15);\n",
              "      fill: #174EA6;\n",
              "    }\n",
              "\n",
              "    [theme=dark] .colab-df-convert {\n",
              "      background-color: #3B4455;\n",
              "      fill: #D2E3FC;\n",
              "    }\n",
              "\n",
              "    [theme=dark] .colab-df-convert:hover {\n",
              "      background-color: #434B5C;\n",
              "      box-shadow: 0px 1px 3px 1px rgba(0, 0, 0, 0.15);\n",
              "      filter: drop-shadow(0px 1px 2px rgba(0, 0, 0, 0.3));\n",
              "      fill: #FFFFFF;\n",
              "    }\n",
              "  </style>\n",
              "\n",
              "      <script>\n",
              "        const buttonEl =\n",
              "          document.querySelector('#df-a40bb8bd-2371-435c-9b42-dbb019007362 button.colab-df-convert');\n",
              "        buttonEl.style.display =\n",
              "          google.colab.kernel.accessAllowed ? 'block' : 'none';\n",
              "\n",
              "        async function convertToInteractive(key) {\n",
              "          const element = document.querySelector('#df-a40bb8bd-2371-435c-9b42-dbb019007362');\n",
              "          const dataTable =\n",
              "            await google.colab.kernel.invokeFunction('convertToInteractive',\n",
              "                                                     [key], {});\n",
              "          if (!dataTable) return;\n",
              "\n",
              "          const docLinkHtml = 'Like what you see? Visit the ' +\n",
              "            '<a target=\"_blank\" href=https://colab.research.google.com/notebooks/data_table.ipynb>data table notebook</a>'\n",
              "            + ' to learn more about interactive tables.';\n",
              "          element.innerHTML = '';\n",
              "          dataTable['output_type'] = 'display_data';\n",
              "          await google.colab.output.renderOutput(dataTable, element);\n",
              "          const docLink = document.createElement('div');\n",
              "          docLink.innerHTML = docLinkHtml;\n",
              "          element.appendChild(docLink);\n",
              "        }\n",
              "      </script>\n",
              "    </div>\n",
              "  </div>\n",
              "  "
            ]
          },
          "metadata": {},
          "execution_count": 15
        }
      ],
      "source": [
        "train_data[\"emotion\"] = train_data[\"emotion\"].astype('category')\n",
        "train_data[\"emotion_label\"] = train_data[\"emotion\"].cat.codes\n",
        "train_data.head()"
      ]
    },
    {
      "cell_type": "code",
      "execution_count": null,
      "metadata": {
        "id": "V330zNRC9XuO"
      },
      "outputs": [],
      "source": [
        "test_data[\"emotion\"] = test_data[\"emotion\"].astype('category')\n",
        "test_data[\"emotion_label\"] = test_data[\"emotion\"].cat.codes\n",
        "test_data.head()\n",
        "\n",
        "val_data[\"emotion\"] = val_data[\"emotion\"].astype('category')\n",
        "val_data[\"emotion_label\"] = val_data[\"emotion\"].cat.codes\n",
        "val_data.head()\n",
        "\n",
        "train_features, train_labels = train_data['text'], tf.one_hot(\n",
        "    train_data[\"emotion_label\"], 6)\n",
        "test_features, test_labels = test_data['text'], tf.one_hot(\n",
        "    test_data[\"emotion_label\"], 6)\n",
        "val_features, val_labels = val_data['text'], tf.one_hot(\n",
        "    val_data[\"emotion_label\"], 6)\n",
        "\n",
        "def get_labels_from_oh_code(oh_code):\n",
        "    \"\"\" Takes in one-hot encoded matrix\n",
        "    Returns a list of decoded categories\"\"\"\n",
        "    label_code = np.argmax(oh_code, axis=1)\n",
        "#     print(label_code)\n",
        "    label = test_data.emotion.cat.categories[label_code]\n",
        "#     print(list(label))\n",
        "    return list(label)"
      ]
    },
    {
      "cell_type": "code",
      "execution_count": null,
      "metadata": {
        "colab": {
          "base_uri": "https://localhost:8080/"
        },
        "id": "gVzmkyGr9XrX",
        "outputId": "aa9e907a-a776-4133-e269-baa24cd457af"
      },
      "outputs": [
        {
          "output_type": "execute_result",
          "data": {
            "text/plain": [
              "10375"
            ]
          },
          "metadata": {},
          "execution_count": 17
        }
      ],
      "source": [
        "total_data = ' '.join(list(train_data.text))\n",
        "len(set(word_tokenize(total_data))) # vocab size"
      ]
    },
    {
      "cell_type": "code",
      "execution_count": null,
      "metadata": {
        "id": "zH12zFV59Xod"
      },
      "outputs": [],
      "source": [
        "vocab_size = 10000\n",
        "vector_size = 300\n",
        "max_seq_len = 20\n",
        "\n",
        "tokenizer = Tokenizer(oov_token = \"<OOV>\", num_words=vocab_size, lower=True)\n",
        "tokenizer.fit_on_texts(train_data['text'])\n",
        "\n",
        "sequences_train = tokenizer.texts_to_sequences(train_data['text'])\n",
        "sequences_test = tokenizer.texts_to_sequences(test_data['text'])\n",
        "sequences_val = tokenizer.texts_to_sequences(val_data['text'])\n",
        "\n",
        "padded_train = pad_sequences(sequences_train, padding = 'post', maxlen=max_seq_len)\n",
        "padded_test = pad_sequences(sequences_test, padding = 'post', maxlen=max_seq_len)\n",
        "padded_val = pad_sequences(sequences_val, padding = 'post', maxlen=max_seq_len)"
      ]
    },
    {
      "cell_type": "code",
      "execution_count": null,
      "metadata": {
        "id": "T7RZe8gU-PZJ"
      },
      "outputs": [],
      "source": [
        "def model_builder(hp):\n",
        "    model = Sequential()\n",
        "    hp_vector_size = hp.Int('vector_size', min_value=100, max_value=500, step=100)\n",
        "    model.add(\n",
        "        Embedding(input_dim=vocab_size,\n",
        "                  output_dim=vector_size,\n",
        "                  input_length=max_seq_len))\n",
        "    hp_dropout_rate = hp.Float('dropout_rate', min_value=0.6, max_value=0.9, step=0.1)\n",
        "    model.add(Dropout(hp_dropout_rate))\n",
        "    hp_lstm_units1 = hp.Int('lstm_units1', min_value=32, max_value=512, step=32)\n",
        "    model.add(LSTM(hp_lstm_units1,return_sequences=True))\n",
        "    hp_lstm_units2 = hp.Int('lstm_units2', min_value=16, max_value=512, step=32)\n",
        "    model.add(LSTM(hp_lstm_units2))\n",
        "    model.add(Dense(6,activation='softmax'))\n",
        "    hp_learning_rate = hp.Choice('learning_rate', values=[1e-2, 1e-3, 1e-4])\n",
        "    model.compile(optimizer=keras.optimizers.Adam(learning_rate=hp_learning_rate),\n",
        "              loss='categorical_crossentropy',\n",
        "              metrics=[tf.keras.metrics.Recall(), tf.keras.metrics.Precision()])\n",
        "    return model"
      ]
    },
    {
      "cell_type": "code",
      "execution_count": null,
      "metadata": {
        "id": "a4tGq7dw-PWd"
      },
      "outputs": [],
      "source": [
        "tuner = kt.Hyperband(model_builder,\n",
        "                     objective=kt.Objective(\"val_precision\", direction=\"max\"),\n",
        "                     max_epochs=20,\n",
        "                     factor=3)"
      ]
    },
    {
      "cell_type": "code",
      "execution_count": null,
      "metadata": {
        "id": "l1Z5NTqf-PUI"
      },
      "outputs": [],
      "source": [
        "stop_early = tf.keras.callbacks.EarlyStopping(monitor='val_precision', patience=5)"
      ]
    },
    {
      "cell_type": "code",
      "execution_count": null,
      "metadata": {
        "id": "ZPu_gZRO-PRI",
        "colab": {
          "base_uri": "https://localhost:8080/"
        },
        "outputId": "188f4ed5-5acd-47fb-f89d-fd478ce5d4e4"
      },
      "outputs": [
        {
          "output_type": "stream",
          "name": "stdout",
          "text": [
            "Trial 30 Complete [00h 00m 41s]\n",
            "val_precision: 0.8796389102935791\n",
            "\n",
            "Best val_precision So Far: 0.9182839393615723\n",
            "Total elapsed time: 00h 17m 43s\n",
            "INFO:tensorflow:Oracle triggered exit\n"
          ]
        }
      ],
      "source": [
        "tuner.search(padded_train, train_labels, \n",
        "             epochs=20, \n",
        "             validation_data=(padded_val, val_labels), \n",
        "             callbacks=[stop_early],\n",
        "             directory='ModelTunerCheckPoints',\n",
        "             project_name='EmotionClassifierTuner'\n",
        "             )\n",
        "\n",
        "# Get the optimal hyperparameters\n",
        "best_hps=tuner.get_best_hyperparameters(num_trials=1)[0]"
      ]
    },
    {
      "cell_type": "code",
      "source": [
        "best_hps.get('vector_size')"
      ],
      "metadata": {
        "colab": {
          "base_uri": "https://localhost:8080/"
        },
        "id": "Q-EJtL8je9zK",
        "outputId": "a1fccdf4-ba8e-4b93-a3e9-9fedffe8ca05"
      },
      "execution_count": null,
      "outputs": [
        {
          "output_type": "execute_result",
          "data": {
            "text/plain": [
              "200"
            ]
          },
          "metadata": {},
          "execution_count": 26
        }
      ]
    },
    {
      "cell_type": "code",
      "source": [
        "best_hps.get('dropout_rate')"
      ],
      "metadata": {
        "colab": {
          "base_uri": "https://localhost:8080/"
        },
        "id": "2YTiOi4te9zK",
        "outputId": "5cf12c95-dd4d-45aa-f40a-23363c9d7d99"
      },
      "execution_count": null,
      "outputs": [
        {
          "output_type": "execute_result",
          "data": {
            "text/plain": [
              "0.7999999999999999"
            ]
          },
          "metadata": {},
          "execution_count": 27
        }
      ]
    },
    {
      "cell_type": "code",
      "source": [
        "best_hps.get('lstm_units1')"
      ],
      "metadata": {
        "colab": {
          "base_uri": "https://localhost:8080/"
        },
        "id": "LV5rVouGe9zK",
        "outputId": "2cf5ae91-59a8-4e0b-9916-2ccdc8da1938"
      },
      "execution_count": null,
      "outputs": [
        {
          "output_type": "execute_result",
          "data": {
            "text/plain": [
              "480"
            ]
          },
          "metadata": {},
          "execution_count": 28
        }
      ]
    },
    {
      "cell_type": "code",
      "source": [
        "best_hps.get('lstm_units2')"
      ],
      "metadata": {
        "colab": {
          "base_uri": "https://localhost:8080/"
        },
        "id": "M1suqREUe9zL",
        "outputId": "73adcb0f-f55f-4448-ae89-aa3e6d842010"
      },
      "execution_count": null,
      "outputs": [
        {
          "output_type": "execute_result",
          "data": {
            "text/plain": [
              "272"
            ]
          },
          "metadata": {},
          "execution_count": 29
        }
      ]
    },
    {
      "cell_type": "code",
      "source": [
        "best_hps.get('learning_rate')"
      ],
      "metadata": {
        "colab": {
          "base_uri": "https://localhost:8080/"
        },
        "id": "7FWEZZuze9zL",
        "outputId": "f56b0f6a-2aca-4f6f-eb4a-5bc21f681bad"
      },
      "execution_count": null,
      "outputs": [
        {
          "output_type": "execute_result",
          "data": {
            "text/plain": [
              "0.001"
            ]
          },
          "metadata": {},
          "execution_count": 30
        }
      ]
    },
    {
      "cell_type": "code",
      "source": [
        "# Build the model with the optimal hyperparameters and train it on the data for 50 epochs\n",
        "model_best_hp = tuner.hypermodel.build(best_hps)\n",
        "callbacks = [\n",
        "    keras.callbacks.EarlyStopping(monitor='val_loss',\n",
        "                                  mode='min',\n",
        "                                  patience=5,\n",
        "                                  verbose=1,\n",
        "                                  restore_best_weights=True)  \n",
        "]\n",
        "history = model_best_hp.fit(padded_train, \n",
        "                            train_labels, \n",
        "                            epochs=20,\n",
        "                            callbacks=callbacks,\n",
        "                            validation_data=(padded_val, val_labels))"
      ],
      "metadata": {
        "colab": {
          "base_uri": "https://localhost:8080/"
        },
        "id": "Gc1R3FwgfBZv",
        "outputId": "8746b624-6b49-4296-8aba-a6b00535fe88"
      },
      "execution_count": null,
      "outputs": [
        {
          "output_type": "stream",
          "name": "stdout",
          "text": [
            "Epoch 1/20\n",
            "500/500 [==============================] - 9s 13ms/step - loss: 1.3170 - recall_4: 0.2035 - precision_4: 0.6635 - val_loss: 0.7293 - val_recall_4: 0.6300 - val_precision_4: 0.8618\n",
            "Epoch 2/20\n",
            "500/500 [==============================] - 6s 11ms/step - loss: 0.5564 - recall_4: 0.7654 - precision_4: 0.8574 - val_loss: 0.3351 - val_recall_4: 0.8725 - val_precision_4: 0.9141\n",
            "Epoch 3/20\n",
            "500/500 [==============================] - 6s 11ms/step - loss: 0.3260 - recall_4: 0.8742 - precision_4: 0.9054 - val_loss: 0.2914 - val_recall_4: 0.8960 - val_precision_4: 0.9148\n",
            "Epoch 4/20\n",
            "500/500 [==============================] - 6s 11ms/step - loss: 0.2586 - recall_4: 0.8990 - precision_4: 0.9190 - val_loss: 0.2598 - val_recall_4: 0.8935 - val_precision_4: 0.9141\n",
            "Epoch 5/20\n",
            "500/500 [==============================] - 6s 11ms/step - loss: 0.2089 - recall_4: 0.9137 - precision_4: 0.9322 - val_loss: 0.2680 - val_recall_4: 0.8975 - val_precision_4: 0.9153\n",
            "Epoch 6/20\n",
            "500/500 [==============================] - 6s 11ms/step - loss: 0.1769 - recall_4: 0.9261 - precision_4: 0.9385 - val_loss: 0.2775 - val_recall_4: 0.9010 - val_precision_4: 0.9133\n",
            "Epoch 7/20\n",
            "500/500 [==============================] - 6s 12ms/step - loss: 0.1571 - recall_4: 0.9335 - precision_4: 0.9427 - val_loss: 0.2404 - val_recall_4: 0.9085 - val_precision_4: 0.9186\n",
            "Epoch 8/20\n",
            "500/500 [==============================] - 6s 11ms/step - loss: 0.1423 - recall_4: 0.9398 - precision_4: 0.9475 - val_loss: 0.2721 - val_recall_4: 0.9000 - val_precision_4: 0.9086\n",
            "Epoch 9/20\n",
            "500/500 [==============================] - 6s 11ms/step - loss: 0.1229 - recall_4: 0.9469 - precision_4: 0.9536 - val_loss: 0.2725 - val_recall_4: 0.9050 - val_precision_4: 0.9151\n",
            "Epoch 10/20\n",
            "500/500 [==============================] - 6s 11ms/step - loss: 0.1178 - recall_4: 0.9494 - precision_4: 0.9538 - val_loss: 0.2817 - val_recall_4: 0.9060 - val_precision_4: 0.9119\n",
            "Epoch 11/20\n",
            "500/500 [==============================] - 6s 11ms/step - loss: 0.1060 - recall_4: 0.9527 - precision_4: 0.9565 - val_loss: 0.2891 - val_recall_4: 0.9020 - val_precision_4: 0.9088\n",
            "Epoch 12/20\n",
            "498/500 [============================>.] - ETA: 0s - loss: 0.0969 - recall_4: 0.9582 - precision_4: 0.9615Restoring model weights from the end of the best epoch: 7.\n",
            "500/500 [==============================] - 6s 11ms/step - loss: 0.0972 - recall_4: 0.9581 - precision_4: 0.9614 - val_loss: 0.2657 - val_recall_4: 0.8980 - val_precision_4: 0.9075\n",
            "Epoch 12: early stopping\n"
          ]
        }
      ]
    },
    {
      "cell_type": "code",
      "source": [
        "# Model Evaluation on Train Data\n",
        "y_pred_one_hot_encoded = (model_best_hp.predict(padded_train)> 0.5).astype(\"int32\")\n",
        "y_pred = np.array(tf.argmax(y_pred_one_hot_encoded, axis=1))\n",
        "print(classification_report(train_data['emotion_label'], y_pred))"
      ],
      "metadata": {
        "colab": {
          "base_uri": "https://localhost:8080/"
        },
        "id": "FGsOeh8ZkBEJ",
        "outputId": "19791a04-c910-4fbb-9b0c-4ef82bff7faf"
      },
      "execution_count": null,
      "outputs": [
        {
          "output_type": "stream",
          "name": "stdout",
          "text": [
            "              precision    recall  f1-score   support\n",
            "\n",
            "           0       0.90      0.98      0.94      2159\n",
            "           1       0.95      0.90      0.92      1937\n",
            "           2       0.96      0.99      0.97      5362\n",
            "           3       0.98      0.84      0.90      1304\n",
            "           4       0.98      0.98      0.98      4666\n",
            "           5       0.92      0.80      0.86       572\n",
            "\n",
            "    accuracy                           0.96     16000\n",
            "   macro avg       0.95      0.92      0.93     16000\n",
            "weighted avg       0.96      0.96      0.96     16000\n",
            "\n"
          ]
        }
      ]
    },
    {
      "cell_type": "code",
      "source": [
        "# Model Evaaluation on Validation Data\n",
        "y_pred_one_hot_encoded = (model_best_hp.predict(padded_val)> 0.5).astype(\"int32\")\n",
        "y_pred = np.array(tf.argmax(y_pred_one_hot_encoded, axis=1))\n",
        "print(classification_report(val_data['emotion_label'], y_pred))"
      ],
      "metadata": {
        "colab": {
          "base_uri": "https://localhost:8080/"
        },
        "id": "HsEyRjovkA4b",
        "outputId": "9df9a97b-14c5-4224-9cf5-fc1d4ea97b18"
      },
      "execution_count": null,
      "outputs": [
        {
          "output_type": "stream",
          "name": "stdout",
          "text": [
            "              precision    recall  f1-score   support\n",
            "\n",
            "           0       0.85      0.96      0.90       275\n",
            "           1       0.90      0.81      0.85       212\n",
            "           2       0.92      0.94      0.93       704\n",
            "           3       0.88      0.73      0.80       178\n",
            "           4       0.94      0.96      0.95       550\n",
            "           5       0.89      0.80      0.84        81\n",
            "\n",
            "    accuracy                           0.91      2000\n",
            "   macro avg       0.90      0.87      0.88      2000\n",
            "weighted avg       0.91      0.91      0.91      2000\n",
            "\n"
          ]
        }
      ]
    },
    {
      "cell_type": "code",
      "source": [
        "# Model Evaaluation on Test Data\n",
        "y_pred_one_hot_encoded = (model_best_hp.predict(padded_test)> 0.5).astype(\"int32\")\n",
        "y_pred = np.array(tf.argmax(y_pred_one_hot_encoded, axis=1))\n",
        "print(classification_report(test_data['emotion_label'], y_pred))"
      ],
      "metadata": {
        "colab": {
          "base_uri": "https://localhost:8080/"
        },
        "id": "M2n29Gthjqhq",
        "outputId": "f2b92587-c3a3-4789-dc4e-0aaaca55d6b7"
      },
      "execution_count": null,
      "outputs": [
        {
          "output_type": "stream",
          "name": "stdout",
          "text": [
            "              precision    recall  f1-score   support\n",
            "\n",
            "           0       0.81      0.93      0.87       275\n",
            "           1       0.89      0.88      0.89       224\n",
            "           2       0.90      0.94      0.92       695\n",
            "           3       0.81      0.66      0.73       159\n",
            "           4       0.96      0.92      0.94       581\n",
            "           5       0.79      0.62      0.69        66\n",
            "\n",
            "    accuracy                           0.89      2000\n",
            "   macro avg       0.86      0.83      0.84      2000\n",
            "weighted avg       0.89      0.89      0.89      2000\n",
            "\n"
          ]
        }
      ]
    },
    {
      "cell_type": "code",
      "source": [
        ""
      ],
      "metadata": {
        "id": "oky6G1ZGmiRv"
      },
      "execution_count": null,
      "outputs": []
    }
  ],
  "metadata": {
    "accelerator": "GPU",
    "colab": {
      "name": "EmotionClassifier_KerasTuner.ipynb",
      "provenance": [],
      "collapsed_sections": [],
      "authorship_tag": "ABX9TyOqas0xR27EqPOc9ZIOQyoG",
      "include_colab_link": true
    },
    "kernelspec": {
      "display_name": "Python 3",
      "name": "python3"
    },
    "language_info": {
      "name": "python"
    }
  },
  "nbformat": 4,
  "nbformat_minor": 0
}