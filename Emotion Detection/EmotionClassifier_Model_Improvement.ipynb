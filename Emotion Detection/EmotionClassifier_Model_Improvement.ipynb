{
  "cells": [
    {
      "cell_type": "markdown",
      "metadata": {
        "id": "view-in-github",
        "colab_type": "text"
      },
      "source": [
        "<a href=\"https://colab.research.google.com/github/royn5618/Medium_Blog_Codes/blob/master/Emotion%20Detection/EmotionClassifier_Model_Improvement.ipynb\" target=\"_parent\"><img src=\"https://colab.research.google.com/assets/colab-badge.svg\" alt=\"Open In Colab\"/></a>"
      ]
    },
    {
      "cell_type": "markdown",
      "metadata": {
        "id": "LJSjJFMcWCMP"
      },
      "source": [
        "# SetUp\n",
        "\n",
        "I have used a publicly available dataset on Kaggle and on Hugging Face datasets. This dataset contains a list of documents with corresponding emotion labels. The work in this notebook is to optimize the model created in EmotionClassifier.ipynb.\n",
        "\n",
        "**Data Source on Kaggle:** https://www.kaggle.com/praveengovi/emotions-dataset-for-nlp\n",
        "\n",
        "**Data Source on HuggingFace:** https://huggingface.co/datasets/emotion\n",
        "\n",
        "**Dataset Citation:** Saravia, E., Liu, H. C. T., Huang, Y. H., Wu, J., & Chen, Y. S. (2018). Carer: Contextualized affect representations for emotion recognition. In Proceedings of the 2018 conference on empirical methods in natural language processing (pp. 3687–3697)\n",
        "\n",
        "**License on Kaggle:** CC BY-SA 4.0 | **License on HuggingFace:** Unknown"
      ]
    },
    {
      "cell_type": "markdown",
      "metadata": {
        "id": "6JeO3D23WCMb"
      },
      "source": [
        "## Imports"
      ]
    },
    {
      "cell_type": "code",
      "source": [
        "# !pip install chart_studio\n",
        "# !pip install tensorflow==2.4.1"
      ],
      "metadata": {
        "id": "FWmIzg3YWrsc"
      },
      "execution_count": 1,
      "outputs": []
    },
    {
      "cell_type": "code",
      "execution_count": 2,
      "metadata": {
        "ExecuteTime": {
          "end_time": "2022-05-28T20:04:24.592569Z",
          "start_time": "2022-05-28T20:04:04.292651Z"
        },
        "id": "gAtZirNyWCMb",
        "outputId": "3dbfda6d-8704-4b88-9ff9-a63b6773cec7",
        "colab": {
          "base_uri": "https://localhost:8080/"
        }
      },
      "outputs": [
        {
          "output_type": "stream",
          "name": "stderr",
          "text": [
            "[nltk_data] Downloading package punkt to /root/nltk_data...\n",
            "[nltk_data]   Package punkt is already up-to-date!\n"
          ]
        }
      ],
      "source": [
        "import numpy as np\n",
        "import pandas as pd\n",
        "\n",
        "# visualization\n",
        "import matplotlib.pyplot as plt\n",
        "import plotly.express as px\n",
        "from plotly.graph_objs import *\n",
        "import plotly.figure_factory as ff\n",
        "import chart_studio\n",
        "import chart_studio.plotly as py\n",
        "\n",
        "# to avoid warnings \n",
        "import warnings\n",
        "warnings.filterwarnings(\"ignore\")\n",
        "\n",
        "import nltk\n",
        "# nltk.download('stopwords')\n",
        "# nltk.download('punkt')\n",
        "from nltk.tokenize import word_tokenize\n",
        "from nltk.corpus import stopwords\n",
        "from nltk.stem import PorterStemmer\n",
        "\n",
        "# Keras imports\n",
        "import tensorflow as tf\n",
        "import tensorflow.keras as keras\n",
        "from tensorflow.keras.preprocessing.text import Tokenizer\n",
        "from tensorflow.keras.preprocessing.sequence import pad_sequences\n",
        "from tensorflow.keras import Sequential\n",
        "from tensorflow.keras.layers import Dense, Embedding, Dropout, LSTM\n",
        "\n",
        "# Scikit Learn imports\n",
        "from sklearn.model_selection import train_test_split\n",
        "from sklearn.metrics import classification_report, confusion_matrix\n",
        "\n",
        "import config"
      ]
    },
    {
      "cell_type": "markdown",
      "metadata": {
        "id": "_3mD3UUQWCMe"
      },
      "source": [
        "## Notebook Configs"
      ]
    },
    {
      "cell_type": "code",
      "execution_count": 3,
      "metadata": {
        "ExecuteTime": {
          "end_time": "2022-05-28T20:04:24.659747Z",
          "start_time": "2022-05-28T20:04:24.596516Z"
        },
        "id": "3x2c4quPWCMf"
      },
      "outputs": [],
      "source": [
        "username=config.user_name\n",
        "api_key=config.my_plotly_api_key\n",
        "chart_studio.tools.set_credentials_file(username=username, api_key=api_key)\n",
        "\n",
        "STOPWORDS = stopwords.words('english')\n",
        "PORTER_STEMMER = PorterStemmer()"
      ]
    },
    {
      "cell_type": "markdown",
      "metadata": {
        "id": "bUub-DaQWCMf"
      },
      "source": [
        "## Data Imports\n",
        "\n",
        "I will be splitting train data into training and validation sets and using the test data to evaluate the model"
      ]
    },
    {
      "cell_type": "code",
      "execution_count": 4,
      "metadata": {
        "ExecuteTime": {
          "end_time": "2022-05-28T20:04:24.767541Z",
          "start_time": "2022-05-28T20:04:24.664963Z"
        },
        "id": "o6jf1te_WCMg",
        "outputId": "d3eea447-17d0-4be5-83a2-76cc3080a060",
        "colab": {
          "base_uri": "https://localhost:8080/",
          "height": 206
        }
      },
      "outputs": [
        {
          "output_type": "execute_result",
          "data": {
            "text/plain": [
              "                                                text  emotion\n",
              "0                            i didnt feel humiliated  sadness\n",
              "1  i can go from feeling so hopeless to so damned...  sadness\n",
              "2   im grabbing a minute to post i feel greedy wrong    anger\n",
              "3  i am ever feeling nostalgic about the fireplac...     love\n",
              "4                               i am feeling grouchy    anger"
            ],
            "text/html": [
              "\n",
              "  <div id=\"df-c1ff5010-526e-4f5b-a801-b7b990249e50\">\n",
              "    <div class=\"colab-df-container\">\n",
              "      <div>\n",
              "<style scoped>\n",
              "    .dataframe tbody tr th:only-of-type {\n",
              "        vertical-align: middle;\n",
              "    }\n",
              "\n",
              "    .dataframe tbody tr th {\n",
              "        vertical-align: top;\n",
              "    }\n",
              "\n",
              "    .dataframe thead th {\n",
              "        text-align: right;\n",
              "    }\n",
              "</style>\n",
              "<table border=\"1\" class=\"dataframe\">\n",
              "  <thead>\n",
              "    <tr style=\"text-align: right;\">\n",
              "      <th></th>\n",
              "      <th>text</th>\n",
              "      <th>emotion</th>\n",
              "    </tr>\n",
              "  </thead>\n",
              "  <tbody>\n",
              "    <tr>\n",
              "      <th>0</th>\n",
              "      <td>i didnt feel humiliated</td>\n",
              "      <td>sadness</td>\n",
              "    </tr>\n",
              "    <tr>\n",
              "      <th>1</th>\n",
              "      <td>i can go from feeling so hopeless to so damned...</td>\n",
              "      <td>sadness</td>\n",
              "    </tr>\n",
              "    <tr>\n",
              "      <th>2</th>\n",
              "      <td>im grabbing a minute to post i feel greedy wrong</td>\n",
              "      <td>anger</td>\n",
              "    </tr>\n",
              "    <tr>\n",
              "      <th>3</th>\n",
              "      <td>i am ever feeling nostalgic about the fireplac...</td>\n",
              "      <td>love</td>\n",
              "    </tr>\n",
              "    <tr>\n",
              "      <th>4</th>\n",
              "      <td>i am feeling grouchy</td>\n",
              "      <td>anger</td>\n",
              "    </tr>\n",
              "  </tbody>\n",
              "</table>\n",
              "</div>\n",
              "      <button class=\"colab-df-convert\" onclick=\"convertToInteractive('df-c1ff5010-526e-4f5b-a801-b7b990249e50')\"\n",
              "              title=\"Convert this dataframe to an interactive table.\"\n",
              "              style=\"display:none;\">\n",
              "        \n",
              "  <svg xmlns=\"http://www.w3.org/2000/svg\" height=\"24px\"viewBox=\"0 0 24 24\"\n",
              "       width=\"24px\">\n",
              "    <path d=\"M0 0h24v24H0V0z\" fill=\"none\"/>\n",
              "    <path d=\"M18.56 5.44l.94 2.06.94-2.06 2.06-.94-2.06-.94-.94-2.06-.94 2.06-2.06.94zm-11 1L8.5 8.5l.94-2.06 2.06-.94-2.06-.94L8.5 2.5l-.94 2.06-2.06.94zm10 10l.94 2.06.94-2.06 2.06-.94-2.06-.94-.94-2.06-.94 2.06-2.06.94z\"/><path d=\"M17.41 7.96l-1.37-1.37c-.4-.4-.92-.59-1.43-.59-.52 0-1.04.2-1.43.59L10.3 9.45l-7.72 7.72c-.78.78-.78 2.05 0 2.83L4 21.41c.39.39.9.59 1.41.59.51 0 1.02-.2 1.41-.59l7.78-7.78 2.81-2.81c.8-.78.8-2.07 0-2.86zM5.41 20L4 18.59l7.72-7.72 1.47 1.35L5.41 20z\"/>\n",
              "  </svg>\n",
              "      </button>\n",
              "      \n",
              "  <style>\n",
              "    .colab-df-container {\n",
              "      display:flex;\n",
              "      flex-wrap:wrap;\n",
              "      gap: 12px;\n",
              "    }\n",
              "\n",
              "    .colab-df-convert {\n",
              "      background-color: #E8F0FE;\n",
              "      border: none;\n",
              "      border-radius: 50%;\n",
              "      cursor: pointer;\n",
              "      display: none;\n",
              "      fill: #1967D2;\n",
              "      height: 32px;\n",
              "      padding: 0 0 0 0;\n",
              "      width: 32px;\n",
              "    }\n",
              "\n",
              "    .colab-df-convert:hover {\n",
              "      background-color: #E2EBFA;\n",
              "      box-shadow: 0px 1px 2px rgba(60, 64, 67, 0.3), 0px 1px 3px 1px rgba(60, 64, 67, 0.15);\n",
              "      fill: #174EA6;\n",
              "    }\n",
              "\n",
              "    [theme=dark] .colab-df-convert {\n",
              "      background-color: #3B4455;\n",
              "      fill: #D2E3FC;\n",
              "    }\n",
              "\n",
              "    [theme=dark] .colab-df-convert:hover {\n",
              "      background-color: #434B5C;\n",
              "      box-shadow: 0px 1px 3px 1px rgba(0, 0, 0, 0.15);\n",
              "      filter: drop-shadow(0px 1px 2px rgba(0, 0, 0, 0.3));\n",
              "      fill: #FFFFFF;\n",
              "    }\n",
              "  </style>\n",
              "\n",
              "      <script>\n",
              "        const buttonEl =\n",
              "          document.querySelector('#df-c1ff5010-526e-4f5b-a801-b7b990249e50 button.colab-df-convert');\n",
              "        buttonEl.style.display =\n",
              "          google.colab.kernel.accessAllowed ? 'block' : 'none';\n",
              "\n",
              "        async function convertToInteractive(key) {\n",
              "          const element = document.querySelector('#df-c1ff5010-526e-4f5b-a801-b7b990249e50');\n",
              "          const dataTable =\n",
              "            await google.colab.kernel.invokeFunction('convertToInteractive',\n",
              "                                                     [key], {});\n",
              "          if (!dataTable) return;\n",
              "\n",
              "          const docLinkHtml = 'Like what you see? Visit the ' +\n",
              "            '<a target=\"_blank\" href=https://colab.research.google.com/notebooks/data_table.ipynb>data table notebook</a>'\n",
              "            + ' to learn more about interactive tables.';\n",
              "          element.innerHTML = '';\n",
              "          dataTable['output_type'] = 'display_data';\n",
              "          await google.colab.output.renderOutput(dataTable, element);\n",
              "          const docLink = document.createElement('div');\n",
              "          docLink.innerHTML = docLinkHtml;\n",
              "          element.appendChild(docLink);\n",
              "        }\n",
              "      </script>\n",
              "    </div>\n",
              "  </div>\n",
              "  "
            ]
          },
          "metadata": {},
          "execution_count": 4
        }
      ],
      "source": [
        "train_data = pd.read_csv('Data/train.txt', sep=';', names=['text', 'emotion'])\n",
        "train_data.head()"
      ]
    },
    {
      "cell_type": "code",
      "execution_count": 5,
      "metadata": {
        "ExecuteTime": {
          "end_time": "2022-05-28T20:04:24.825674Z",
          "start_time": "2022-05-28T20:04:24.772542Z"
        },
        "id": "pS7bOHw_WCMi",
        "outputId": "c487a868-3de0-4e75-e38c-a1ab138c7ece",
        "colab": {
          "base_uri": "https://localhost:8080/",
          "height": 206
        }
      },
      "outputs": [
        {
          "output_type": "execute_result",
          "data": {
            "text/plain": [
              "                                                text  emotion\n",
              "0  im feeling rather rotten so im not very ambiti...  sadness\n",
              "1          im updating my blog because i feel shitty  sadness\n",
              "2  i never make her separate from me because i do...  sadness\n",
              "3  i left with my bouquet of red and yellow tulip...      joy\n",
              "4    i was feeling a little vain when i did this one  sadness"
            ],
            "text/html": [
              "\n",
              "  <div id=\"df-25ab1927-a03d-40cc-95d2-7c4950f508d1\">\n",
              "    <div class=\"colab-df-container\">\n",
              "      <div>\n",
              "<style scoped>\n",
              "    .dataframe tbody tr th:only-of-type {\n",
              "        vertical-align: middle;\n",
              "    }\n",
              "\n",
              "    .dataframe tbody tr th {\n",
              "        vertical-align: top;\n",
              "    }\n",
              "\n",
              "    .dataframe thead th {\n",
              "        text-align: right;\n",
              "    }\n",
              "</style>\n",
              "<table border=\"1\" class=\"dataframe\">\n",
              "  <thead>\n",
              "    <tr style=\"text-align: right;\">\n",
              "      <th></th>\n",
              "      <th>text</th>\n",
              "      <th>emotion</th>\n",
              "    </tr>\n",
              "  </thead>\n",
              "  <tbody>\n",
              "    <tr>\n",
              "      <th>0</th>\n",
              "      <td>im feeling rather rotten so im not very ambiti...</td>\n",
              "      <td>sadness</td>\n",
              "    </tr>\n",
              "    <tr>\n",
              "      <th>1</th>\n",
              "      <td>im updating my blog because i feel shitty</td>\n",
              "      <td>sadness</td>\n",
              "    </tr>\n",
              "    <tr>\n",
              "      <th>2</th>\n",
              "      <td>i never make her separate from me because i do...</td>\n",
              "      <td>sadness</td>\n",
              "    </tr>\n",
              "    <tr>\n",
              "      <th>3</th>\n",
              "      <td>i left with my bouquet of red and yellow tulip...</td>\n",
              "      <td>joy</td>\n",
              "    </tr>\n",
              "    <tr>\n",
              "      <th>4</th>\n",
              "      <td>i was feeling a little vain when i did this one</td>\n",
              "      <td>sadness</td>\n",
              "    </tr>\n",
              "  </tbody>\n",
              "</table>\n",
              "</div>\n",
              "      <button class=\"colab-df-convert\" onclick=\"convertToInteractive('df-25ab1927-a03d-40cc-95d2-7c4950f508d1')\"\n",
              "              title=\"Convert this dataframe to an interactive table.\"\n",
              "              style=\"display:none;\">\n",
              "        \n",
              "  <svg xmlns=\"http://www.w3.org/2000/svg\" height=\"24px\"viewBox=\"0 0 24 24\"\n",
              "       width=\"24px\">\n",
              "    <path d=\"M0 0h24v24H0V0z\" fill=\"none\"/>\n",
              "    <path d=\"M18.56 5.44l.94 2.06.94-2.06 2.06-.94-2.06-.94-.94-2.06-.94 2.06-2.06.94zm-11 1L8.5 8.5l.94-2.06 2.06-.94-2.06-.94L8.5 2.5l-.94 2.06-2.06.94zm10 10l.94 2.06.94-2.06 2.06-.94-2.06-.94-.94-2.06-.94 2.06-2.06.94z\"/><path d=\"M17.41 7.96l-1.37-1.37c-.4-.4-.92-.59-1.43-.59-.52 0-1.04.2-1.43.59L10.3 9.45l-7.72 7.72c-.78.78-.78 2.05 0 2.83L4 21.41c.39.39.9.59 1.41.59.51 0 1.02-.2 1.41-.59l7.78-7.78 2.81-2.81c.8-.78.8-2.07 0-2.86zM5.41 20L4 18.59l7.72-7.72 1.47 1.35L5.41 20z\"/>\n",
              "  </svg>\n",
              "      </button>\n",
              "      \n",
              "  <style>\n",
              "    .colab-df-container {\n",
              "      display:flex;\n",
              "      flex-wrap:wrap;\n",
              "      gap: 12px;\n",
              "    }\n",
              "\n",
              "    .colab-df-convert {\n",
              "      background-color: #E8F0FE;\n",
              "      border: none;\n",
              "      border-radius: 50%;\n",
              "      cursor: pointer;\n",
              "      display: none;\n",
              "      fill: #1967D2;\n",
              "      height: 32px;\n",
              "      padding: 0 0 0 0;\n",
              "      width: 32px;\n",
              "    }\n",
              "\n",
              "    .colab-df-convert:hover {\n",
              "      background-color: #E2EBFA;\n",
              "      box-shadow: 0px 1px 2px rgba(60, 64, 67, 0.3), 0px 1px 3px 1px rgba(60, 64, 67, 0.15);\n",
              "      fill: #174EA6;\n",
              "    }\n",
              "\n",
              "    [theme=dark] .colab-df-convert {\n",
              "      background-color: #3B4455;\n",
              "      fill: #D2E3FC;\n",
              "    }\n",
              "\n",
              "    [theme=dark] .colab-df-convert:hover {\n",
              "      background-color: #434B5C;\n",
              "      box-shadow: 0px 1px 3px 1px rgba(0, 0, 0, 0.15);\n",
              "      filter: drop-shadow(0px 1px 2px rgba(0, 0, 0, 0.3));\n",
              "      fill: #FFFFFF;\n",
              "    }\n",
              "  </style>\n",
              "\n",
              "      <script>\n",
              "        const buttonEl =\n",
              "          document.querySelector('#df-25ab1927-a03d-40cc-95d2-7c4950f508d1 button.colab-df-convert');\n",
              "        buttonEl.style.display =\n",
              "          google.colab.kernel.accessAllowed ? 'block' : 'none';\n",
              "\n",
              "        async function convertToInteractive(key) {\n",
              "          const element = document.querySelector('#df-25ab1927-a03d-40cc-95d2-7c4950f508d1');\n",
              "          const dataTable =\n",
              "            await google.colab.kernel.invokeFunction('convertToInteractive',\n",
              "                                                     [key], {});\n",
              "          if (!dataTable) return;\n",
              "\n",
              "          const docLinkHtml = 'Like what you see? Visit the ' +\n",
              "            '<a target=\"_blank\" href=https://colab.research.google.com/notebooks/data_table.ipynb>data table notebook</a>'\n",
              "            + ' to learn more about interactive tables.';\n",
              "          element.innerHTML = '';\n",
              "          dataTable['output_type'] = 'display_data';\n",
              "          await google.colab.output.renderOutput(dataTable, element);\n",
              "          const docLink = document.createElement('div');\n",
              "          docLink.innerHTML = docLinkHtml;\n",
              "          element.appendChild(docLink);\n",
              "        }\n",
              "      </script>\n",
              "    </div>\n",
              "  </div>\n",
              "  "
            ]
          },
          "metadata": {},
          "execution_count": 5
        }
      ],
      "source": [
        "test_data = pd.read_csv('Data/test.txt', sep=';', names=['text', 'emotion'])\n",
        "test_data.head()"
      ]
    },
    {
      "cell_type": "code",
      "execution_count": 6,
      "metadata": {
        "ExecuteTime": {
          "end_time": "2022-05-28T20:04:24.887991Z",
          "start_time": "2022-05-28T20:04:24.829681Z"
        },
        "id": "duaF0UDhWCMj",
        "outputId": "7494ad19-9bae-487d-b80b-990ca428639e",
        "colab": {
          "base_uri": "https://localhost:8080/",
          "height": 206
        }
      },
      "outputs": [
        {
          "output_type": "execute_result",
          "data": {
            "text/plain": [
              "                                                text  emotion\n",
              "0  im feeling quite sad and sorry for myself but ...  sadness\n",
              "1  i feel like i am still looking at a blank canv...  sadness\n",
              "2                     i feel like a faithful servant     love\n",
              "3                  i am just feeling cranky and blue    anger\n",
              "4  i can have for a treat or if i am feeling festive      joy"
            ],
            "text/html": [
              "\n",
              "  <div id=\"df-ccf4b5c1-034e-4275-9eb3-8a63616e59b1\">\n",
              "    <div class=\"colab-df-container\">\n",
              "      <div>\n",
              "<style scoped>\n",
              "    .dataframe tbody tr th:only-of-type {\n",
              "        vertical-align: middle;\n",
              "    }\n",
              "\n",
              "    .dataframe tbody tr th {\n",
              "        vertical-align: top;\n",
              "    }\n",
              "\n",
              "    .dataframe thead th {\n",
              "        text-align: right;\n",
              "    }\n",
              "</style>\n",
              "<table border=\"1\" class=\"dataframe\">\n",
              "  <thead>\n",
              "    <tr style=\"text-align: right;\">\n",
              "      <th></th>\n",
              "      <th>text</th>\n",
              "      <th>emotion</th>\n",
              "    </tr>\n",
              "  </thead>\n",
              "  <tbody>\n",
              "    <tr>\n",
              "      <th>0</th>\n",
              "      <td>im feeling quite sad and sorry for myself but ...</td>\n",
              "      <td>sadness</td>\n",
              "    </tr>\n",
              "    <tr>\n",
              "      <th>1</th>\n",
              "      <td>i feel like i am still looking at a blank canv...</td>\n",
              "      <td>sadness</td>\n",
              "    </tr>\n",
              "    <tr>\n",
              "      <th>2</th>\n",
              "      <td>i feel like a faithful servant</td>\n",
              "      <td>love</td>\n",
              "    </tr>\n",
              "    <tr>\n",
              "      <th>3</th>\n",
              "      <td>i am just feeling cranky and blue</td>\n",
              "      <td>anger</td>\n",
              "    </tr>\n",
              "    <tr>\n",
              "      <th>4</th>\n",
              "      <td>i can have for a treat or if i am feeling festive</td>\n",
              "      <td>joy</td>\n",
              "    </tr>\n",
              "  </tbody>\n",
              "</table>\n",
              "</div>\n",
              "      <button class=\"colab-df-convert\" onclick=\"convertToInteractive('df-ccf4b5c1-034e-4275-9eb3-8a63616e59b1')\"\n",
              "              title=\"Convert this dataframe to an interactive table.\"\n",
              "              style=\"display:none;\">\n",
              "        \n",
              "  <svg xmlns=\"http://www.w3.org/2000/svg\" height=\"24px\"viewBox=\"0 0 24 24\"\n",
              "       width=\"24px\">\n",
              "    <path d=\"M0 0h24v24H0V0z\" fill=\"none\"/>\n",
              "    <path d=\"M18.56 5.44l.94 2.06.94-2.06 2.06-.94-2.06-.94-.94-2.06-.94 2.06-2.06.94zm-11 1L8.5 8.5l.94-2.06 2.06-.94-2.06-.94L8.5 2.5l-.94 2.06-2.06.94zm10 10l.94 2.06.94-2.06 2.06-.94-2.06-.94-.94-2.06-.94 2.06-2.06.94z\"/><path d=\"M17.41 7.96l-1.37-1.37c-.4-.4-.92-.59-1.43-.59-.52 0-1.04.2-1.43.59L10.3 9.45l-7.72 7.72c-.78.78-.78 2.05 0 2.83L4 21.41c.39.39.9.59 1.41.59.51 0 1.02-.2 1.41-.59l7.78-7.78 2.81-2.81c.8-.78.8-2.07 0-2.86zM5.41 20L4 18.59l7.72-7.72 1.47 1.35L5.41 20z\"/>\n",
              "  </svg>\n",
              "      </button>\n",
              "      \n",
              "  <style>\n",
              "    .colab-df-container {\n",
              "      display:flex;\n",
              "      flex-wrap:wrap;\n",
              "      gap: 12px;\n",
              "    }\n",
              "\n",
              "    .colab-df-convert {\n",
              "      background-color: #E8F0FE;\n",
              "      border: none;\n",
              "      border-radius: 50%;\n",
              "      cursor: pointer;\n",
              "      display: none;\n",
              "      fill: #1967D2;\n",
              "      height: 32px;\n",
              "      padding: 0 0 0 0;\n",
              "      width: 32px;\n",
              "    }\n",
              "\n",
              "    .colab-df-convert:hover {\n",
              "      background-color: #E2EBFA;\n",
              "      box-shadow: 0px 1px 2px rgba(60, 64, 67, 0.3), 0px 1px 3px 1px rgba(60, 64, 67, 0.15);\n",
              "      fill: #174EA6;\n",
              "    }\n",
              "\n",
              "    [theme=dark] .colab-df-convert {\n",
              "      background-color: #3B4455;\n",
              "      fill: #D2E3FC;\n",
              "    }\n",
              "\n",
              "    [theme=dark] .colab-df-convert:hover {\n",
              "      background-color: #434B5C;\n",
              "      box-shadow: 0px 1px 3px 1px rgba(0, 0, 0, 0.15);\n",
              "      filter: drop-shadow(0px 1px 2px rgba(0, 0, 0, 0.3));\n",
              "      fill: #FFFFFF;\n",
              "    }\n",
              "  </style>\n",
              "\n",
              "      <script>\n",
              "        const buttonEl =\n",
              "          document.querySelector('#df-ccf4b5c1-034e-4275-9eb3-8a63616e59b1 button.colab-df-convert');\n",
              "        buttonEl.style.display =\n",
              "          google.colab.kernel.accessAllowed ? 'block' : 'none';\n",
              "\n",
              "        async function convertToInteractive(key) {\n",
              "          const element = document.querySelector('#df-ccf4b5c1-034e-4275-9eb3-8a63616e59b1');\n",
              "          const dataTable =\n",
              "            await google.colab.kernel.invokeFunction('convertToInteractive',\n",
              "                                                     [key], {});\n",
              "          if (!dataTable) return;\n",
              "\n",
              "          const docLinkHtml = 'Like what you see? Visit the ' +\n",
              "            '<a target=\"_blank\" href=https://colab.research.google.com/notebooks/data_table.ipynb>data table notebook</a>'\n",
              "            + ' to learn more about interactive tables.';\n",
              "          element.innerHTML = '';\n",
              "          dataTable['output_type'] = 'display_data';\n",
              "          await google.colab.output.renderOutput(dataTable, element);\n",
              "          const docLink = document.createElement('div');\n",
              "          docLink.innerHTML = docLinkHtml;\n",
              "          element.appendChild(docLink);\n",
              "        }\n",
              "      </script>\n",
              "    </div>\n",
              "  </div>\n",
              "  "
            ]
          },
          "metadata": {},
          "execution_count": 6
        }
      ],
      "source": [
        "val_data = pd.read_csv('Data/val.txt', sep=';', names=['text', 'emotion'])\n",
        "val_data.head()"
      ]
    },
    {
      "cell_type": "markdown",
      "metadata": {
        "id": "kMUpt_VAWCMj"
      },
      "source": [
        "# Improvements\n",
        "\n",
        "1. Clean the text data and normalize it\n",
        "2. Using metrics recall and precision to compile the model\n",
        "3. Redesigning Data Strategy for training and validation\n",
        "4. Redesigning model - \n",
        "    - Increase dropout rate from 60% to 80%\n",
        "    - Use 64 units in first LSTM layer\n",
        "    - Use 16 units in second LSTM layer\n"
      ]
    },
    {
      "cell_type": "markdown",
      "metadata": {
        "id": "ph0s69caWCMk"
      },
      "source": [
        "## Data Preparation"
      ]
    },
    {
      "cell_type": "markdown",
      "metadata": {
        "ExecuteTime": {
          "end_time": "2022-04-15T19:26:11.827326Z",
          "start_time": "2022-04-15T19:26:11.820323Z"
        },
        "id": "UVZt1EkRWCMn"
      },
      "source": [
        "### Text Pre-processing"
      ]
    },
    {
      "cell_type": "code",
      "execution_count": 7,
      "metadata": {
        "ExecuteTime": {
          "end_time": "2022-05-28T20:04:24.903921Z",
          "start_time": "2022-05-28T20:04:24.892793Z"
        },
        "id": "2_hoXb5dWCMn"
      },
      "outputs": [],
      "source": [
        "def preprocess_text(text):\n",
        "    filtered_text = []\n",
        "    for each_word in word_tokenize(text):\n",
        "        if each_word not in STOPWORDS:\n",
        "            filtered_text.append(PORTER_STEMMER.stem(each_word))\n",
        "    return \" \".join(filtered_text)"
      ]
    },
    {
      "cell_type": "code",
      "execution_count": 8,
      "metadata": {
        "ExecuteTime": {
          "end_time": "2022-05-28T20:04:24.994198Z",
          "start_time": "2022-05-28T20:04:24.909680Z"
        },
        "id": "tu8XiJQJWCMp",
        "outputId": "a9d13556-7def-4559-f2a9-735d0a101558",
        "colab": {
          "base_uri": "https://localhost:8080/",
          "height": 35
        }
      },
      "outputs": [
        {
          "output_type": "execute_result",
          "data": {
            "text/plain": [
              "'i walk'"
            ],
            "application/vnd.google.colaboratory.intrinsic+json": {
              "type": "string"
            }
          },
          "metadata": {},
          "execution_count": 8
        }
      ],
      "source": [
        "''' TEST '''\n",
        "\n",
        "preprocess_text(\"I am walking about not\")"
      ]
    },
    {
      "cell_type": "code",
      "execution_count": 9,
      "metadata": {
        "ExecuteTime": {
          "end_time": "2022-05-28T20:04:38.060641Z",
          "start_time": "2022-05-28T20:04:25.004107Z"
        },
        "id": "wQK6_yZdWCMp"
      },
      "outputs": [],
      "source": [
        "train_data['text'] = train_data.text.apply(preprocess_text)\n",
        "test_data['text'] = test_data.text.apply(preprocess_text)\n",
        "val_data['text'] = val_data.text.apply(preprocess_text)"
      ]
    },
    {
      "cell_type": "markdown",
      "metadata": {
        "id": "e6XPvJ9HWCMq"
      },
      "source": [
        "### Label Encoding\n",
        "\n",
        "Convert each label into a crresponding integer."
      ]
    },
    {
      "cell_type": "code",
      "execution_count": 10,
      "metadata": {
        "ExecuteTime": {
          "end_time": "2022-05-28T20:04:38.108304Z",
          "start_time": "2022-05-28T20:04:38.064652Z"
        },
        "id": "Y64UbWk-WCMq",
        "outputId": "be49ecd6-53bf-40aa-fbd3-fb59a04d001f",
        "colab": {
          "base_uri": "https://localhost:8080/",
          "height": 206
        }
      },
      "outputs": [
        {
          "output_type": "execute_result",
          "data": {
            "text/plain": [
              "                                                text  emotion  emotion_label\n",
              "0                                  didnt feel humili  sadness              4\n",
              "1  go feel hopeless damn hope around someon care ...  sadness              4\n",
              "2               im grab minut post feel greedi wrong    anger              0\n",
              "3     ever feel nostalg fireplac know still properti     love              3\n",
              "4                                       feel grouchi    anger              0"
            ],
            "text/html": [
              "\n",
              "  <div id=\"df-7b4413a8-ffaa-4ec4-b6d0-8088bd541f1b\">\n",
              "    <div class=\"colab-df-container\">\n",
              "      <div>\n",
              "<style scoped>\n",
              "    .dataframe tbody tr th:only-of-type {\n",
              "        vertical-align: middle;\n",
              "    }\n",
              "\n",
              "    .dataframe tbody tr th {\n",
              "        vertical-align: top;\n",
              "    }\n",
              "\n",
              "    .dataframe thead th {\n",
              "        text-align: right;\n",
              "    }\n",
              "</style>\n",
              "<table border=\"1\" class=\"dataframe\">\n",
              "  <thead>\n",
              "    <tr style=\"text-align: right;\">\n",
              "      <th></th>\n",
              "      <th>text</th>\n",
              "      <th>emotion</th>\n",
              "      <th>emotion_label</th>\n",
              "    </tr>\n",
              "  </thead>\n",
              "  <tbody>\n",
              "    <tr>\n",
              "      <th>0</th>\n",
              "      <td>didnt feel humili</td>\n",
              "      <td>sadness</td>\n",
              "      <td>4</td>\n",
              "    </tr>\n",
              "    <tr>\n",
              "      <th>1</th>\n",
              "      <td>go feel hopeless damn hope around someon care ...</td>\n",
              "      <td>sadness</td>\n",
              "      <td>4</td>\n",
              "    </tr>\n",
              "    <tr>\n",
              "      <th>2</th>\n",
              "      <td>im grab minut post feel greedi wrong</td>\n",
              "      <td>anger</td>\n",
              "      <td>0</td>\n",
              "    </tr>\n",
              "    <tr>\n",
              "      <th>3</th>\n",
              "      <td>ever feel nostalg fireplac know still properti</td>\n",
              "      <td>love</td>\n",
              "      <td>3</td>\n",
              "    </tr>\n",
              "    <tr>\n",
              "      <th>4</th>\n",
              "      <td>feel grouchi</td>\n",
              "      <td>anger</td>\n",
              "      <td>0</td>\n",
              "    </tr>\n",
              "  </tbody>\n",
              "</table>\n",
              "</div>\n",
              "      <button class=\"colab-df-convert\" onclick=\"convertToInteractive('df-7b4413a8-ffaa-4ec4-b6d0-8088bd541f1b')\"\n",
              "              title=\"Convert this dataframe to an interactive table.\"\n",
              "              style=\"display:none;\">\n",
              "        \n",
              "  <svg xmlns=\"http://www.w3.org/2000/svg\" height=\"24px\"viewBox=\"0 0 24 24\"\n",
              "       width=\"24px\">\n",
              "    <path d=\"M0 0h24v24H0V0z\" fill=\"none\"/>\n",
              "    <path d=\"M18.56 5.44l.94 2.06.94-2.06 2.06-.94-2.06-.94-.94-2.06-.94 2.06-2.06.94zm-11 1L8.5 8.5l.94-2.06 2.06-.94-2.06-.94L8.5 2.5l-.94 2.06-2.06.94zm10 10l.94 2.06.94-2.06 2.06-.94-2.06-.94-.94-2.06-.94 2.06-2.06.94z\"/><path d=\"M17.41 7.96l-1.37-1.37c-.4-.4-.92-.59-1.43-.59-.52 0-1.04.2-1.43.59L10.3 9.45l-7.72 7.72c-.78.78-.78 2.05 0 2.83L4 21.41c.39.39.9.59 1.41.59.51 0 1.02-.2 1.41-.59l7.78-7.78 2.81-2.81c.8-.78.8-2.07 0-2.86zM5.41 20L4 18.59l7.72-7.72 1.47 1.35L5.41 20z\"/>\n",
              "  </svg>\n",
              "      </button>\n",
              "      \n",
              "  <style>\n",
              "    .colab-df-container {\n",
              "      display:flex;\n",
              "      flex-wrap:wrap;\n",
              "      gap: 12px;\n",
              "    }\n",
              "\n",
              "    .colab-df-convert {\n",
              "      background-color: #E8F0FE;\n",
              "      border: none;\n",
              "      border-radius: 50%;\n",
              "      cursor: pointer;\n",
              "      display: none;\n",
              "      fill: #1967D2;\n",
              "      height: 32px;\n",
              "      padding: 0 0 0 0;\n",
              "      width: 32px;\n",
              "    }\n",
              "\n",
              "    .colab-df-convert:hover {\n",
              "      background-color: #E2EBFA;\n",
              "      box-shadow: 0px 1px 2px rgba(60, 64, 67, 0.3), 0px 1px 3px 1px rgba(60, 64, 67, 0.15);\n",
              "      fill: #174EA6;\n",
              "    }\n",
              "\n",
              "    [theme=dark] .colab-df-convert {\n",
              "      background-color: #3B4455;\n",
              "      fill: #D2E3FC;\n",
              "    }\n",
              "\n",
              "    [theme=dark] .colab-df-convert:hover {\n",
              "      background-color: #434B5C;\n",
              "      box-shadow: 0px 1px 3px 1px rgba(0, 0, 0, 0.15);\n",
              "      filter: drop-shadow(0px 1px 2px rgba(0, 0, 0, 0.3));\n",
              "      fill: #FFFFFF;\n",
              "    }\n",
              "  </style>\n",
              "\n",
              "      <script>\n",
              "        const buttonEl =\n",
              "          document.querySelector('#df-7b4413a8-ffaa-4ec4-b6d0-8088bd541f1b button.colab-df-convert');\n",
              "        buttonEl.style.display =\n",
              "          google.colab.kernel.accessAllowed ? 'block' : 'none';\n",
              "\n",
              "        async function convertToInteractive(key) {\n",
              "          const element = document.querySelector('#df-7b4413a8-ffaa-4ec4-b6d0-8088bd541f1b');\n",
              "          const dataTable =\n",
              "            await google.colab.kernel.invokeFunction('convertToInteractive',\n",
              "                                                     [key], {});\n",
              "          if (!dataTable) return;\n",
              "\n",
              "          const docLinkHtml = 'Like what you see? Visit the ' +\n",
              "            '<a target=\"_blank\" href=https://colab.research.google.com/notebooks/data_table.ipynb>data table notebook</a>'\n",
              "            + ' to learn more about interactive tables.';\n",
              "          element.innerHTML = '';\n",
              "          dataTable['output_type'] = 'display_data';\n",
              "          await google.colab.output.renderOutput(dataTable, element);\n",
              "          const docLink = document.createElement('div');\n",
              "          docLink.innerHTML = docLinkHtml;\n",
              "          element.appendChild(docLink);\n",
              "        }\n",
              "      </script>\n",
              "    </div>\n",
              "  </div>\n",
              "  "
            ]
          },
          "metadata": {},
          "execution_count": 10
        }
      ],
      "source": [
        "train_data[\"emotion\"] = train_data[\"emotion\"].astype('category')\n",
        "train_data[\"emotion_label\"] = train_data[\"emotion\"].cat.codes\n",
        "train_data.head()"
      ]
    },
    {
      "cell_type": "code",
      "execution_count": 11,
      "metadata": {
        "ExecuteTime": {
          "end_time": "2022-05-28T20:04:38.146008Z",
          "start_time": "2022-05-28T20:04:38.111361Z"
        },
        "id": "OeLdiUASWCMr",
        "outputId": "8d86095a-ff6a-49d8-9337-99f2592dc0d3",
        "colab": {
          "base_uri": "https://localhost:8080/",
          "height": 206
        }
      },
      "outputs": [
        {
          "output_type": "execute_result",
          "data": {
            "text/plain": [
              "                                                text  emotion  emotion_label\n",
              "0              im feel rather rotten im ambiti right  sadness              4\n",
              "1                          im updat blog feel shitti  sadness              4\n",
              "2         never make separ ever want feel like asham  sadness              4\n",
              "3  left bouquet red yellow tulip arm feel slightl...      joy              2\n",
              "4                                feel littl vain one  sadness              4"
            ],
            "text/html": [
              "\n",
              "  <div id=\"df-9a7d86ef-6a62-4027-ae5c-df79ee39cbf7\">\n",
              "    <div class=\"colab-df-container\">\n",
              "      <div>\n",
              "<style scoped>\n",
              "    .dataframe tbody tr th:only-of-type {\n",
              "        vertical-align: middle;\n",
              "    }\n",
              "\n",
              "    .dataframe tbody tr th {\n",
              "        vertical-align: top;\n",
              "    }\n",
              "\n",
              "    .dataframe thead th {\n",
              "        text-align: right;\n",
              "    }\n",
              "</style>\n",
              "<table border=\"1\" class=\"dataframe\">\n",
              "  <thead>\n",
              "    <tr style=\"text-align: right;\">\n",
              "      <th></th>\n",
              "      <th>text</th>\n",
              "      <th>emotion</th>\n",
              "      <th>emotion_label</th>\n",
              "    </tr>\n",
              "  </thead>\n",
              "  <tbody>\n",
              "    <tr>\n",
              "      <th>0</th>\n",
              "      <td>im feel rather rotten im ambiti right</td>\n",
              "      <td>sadness</td>\n",
              "      <td>4</td>\n",
              "    </tr>\n",
              "    <tr>\n",
              "      <th>1</th>\n",
              "      <td>im updat blog feel shitti</td>\n",
              "      <td>sadness</td>\n",
              "      <td>4</td>\n",
              "    </tr>\n",
              "    <tr>\n",
              "      <th>2</th>\n",
              "      <td>never make separ ever want feel like asham</td>\n",
              "      <td>sadness</td>\n",
              "      <td>4</td>\n",
              "    </tr>\n",
              "    <tr>\n",
              "      <th>3</th>\n",
              "      <td>left bouquet red yellow tulip arm feel slightl...</td>\n",
              "      <td>joy</td>\n",
              "      <td>2</td>\n",
              "    </tr>\n",
              "    <tr>\n",
              "      <th>4</th>\n",
              "      <td>feel littl vain one</td>\n",
              "      <td>sadness</td>\n",
              "      <td>4</td>\n",
              "    </tr>\n",
              "  </tbody>\n",
              "</table>\n",
              "</div>\n",
              "      <button class=\"colab-df-convert\" onclick=\"convertToInteractive('df-9a7d86ef-6a62-4027-ae5c-df79ee39cbf7')\"\n",
              "              title=\"Convert this dataframe to an interactive table.\"\n",
              "              style=\"display:none;\">\n",
              "        \n",
              "  <svg xmlns=\"http://www.w3.org/2000/svg\" height=\"24px\"viewBox=\"0 0 24 24\"\n",
              "       width=\"24px\">\n",
              "    <path d=\"M0 0h24v24H0V0z\" fill=\"none\"/>\n",
              "    <path d=\"M18.56 5.44l.94 2.06.94-2.06 2.06-.94-2.06-.94-.94-2.06-.94 2.06-2.06.94zm-11 1L8.5 8.5l.94-2.06 2.06-.94-2.06-.94L8.5 2.5l-.94 2.06-2.06.94zm10 10l.94 2.06.94-2.06 2.06-.94-2.06-.94-.94-2.06-.94 2.06-2.06.94z\"/><path d=\"M17.41 7.96l-1.37-1.37c-.4-.4-.92-.59-1.43-.59-.52 0-1.04.2-1.43.59L10.3 9.45l-7.72 7.72c-.78.78-.78 2.05 0 2.83L4 21.41c.39.39.9.59 1.41.59.51 0 1.02-.2 1.41-.59l7.78-7.78 2.81-2.81c.8-.78.8-2.07 0-2.86zM5.41 20L4 18.59l7.72-7.72 1.47 1.35L5.41 20z\"/>\n",
              "  </svg>\n",
              "      </button>\n",
              "      \n",
              "  <style>\n",
              "    .colab-df-container {\n",
              "      display:flex;\n",
              "      flex-wrap:wrap;\n",
              "      gap: 12px;\n",
              "    }\n",
              "\n",
              "    .colab-df-convert {\n",
              "      background-color: #E8F0FE;\n",
              "      border: none;\n",
              "      border-radius: 50%;\n",
              "      cursor: pointer;\n",
              "      display: none;\n",
              "      fill: #1967D2;\n",
              "      height: 32px;\n",
              "      padding: 0 0 0 0;\n",
              "      width: 32px;\n",
              "    }\n",
              "\n",
              "    .colab-df-convert:hover {\n",
              "      background-color: #E2EBFA;\n",
              "      box-shadow: 0px 1px 2px rgba(60, 64, 67, 0.3), 0px 1px 3px 1px rgba(60, 64, 67, 0.15);\n",
              "      fill: #174EA6;\n",
              "    }\n",
              "\n",
              "    [theme=dark] .colab-df-convert {\n",
              "      background-color: #3B4455;\n",
              "      fill: #D2E3FC;\n",
              "    }\n",
              "\n",
              "    [theme=dark] .colab-df-convert:hover {\n",
              "      background-color: #434B5C;\n",
              "      box-shadow: 0px 1px 3px 1px rgba(0, 0, 0, 0.15);\n",
              "      filter: drop-shadow(0px 1px 2px rgba(0, 0, 0, 0.3));\n",
              "      fill: #FFFFFF;\n",
              "    }\n",
              "  </style>\n",
              "\n",
              "      <script>\n",
              "        const buttonEl =\n",
              "          document.querySelector('#df-9a7d86ef-6a62-4027-ae5c-df79ee39cbf7 button.colab-df-convert');\n",
              "        buttonEl.style.display =\n",
              "          google.colab.kernel.accessAllowed ? 'block' : 'none';\n",
              "\n",
              "        async function convertToInteractive(key) {\n",
              "          const element = document.querySelector('#df-9a7d86ef-6a62-4027-ae5c-df79ee39cbf7');\n",
              "          const dataTable =\n",
              "            await google.colab.kernel.invokeFunction('convertToInteractive',\n",
              "                                                     [key], {});\n",
              "          if (!dataTable) return;\n",
              "\n",
              "          const docLinkHtml = 'Like what you see? Visit the ' +\n",
              "            '<a target=\"_blank\" href=https://colab.research.google.com/notebooks/data_table.ipynb>data table notebook</a>'\n",
              "            + ' to learn more about interactive tables.';\n",
              "          element.innerHTML = '';\n",
              "          dataTable['output_type'] = 'display_data';\n",
              "          await google.colab.output.renderOutput(dataTable, element);\n",
              "          const docLink = document.createElement('div');\n",
              "          docLink.innerHTML = docLinkHtml;\n",
              "          element.appendChild(docLink);\n",
              "        }\n",
              "      </script>\n",
              "    </div>\n",
              "  </div>\n",
              "  "
            ]
          },
          "metadata": {},
          "execution_count": 11
        }
      ],
      "source": [
        "test_data[\"emotion\"] = test_data[\"emotion\"].astype('category')\n",
        "test_data[\"emotion_label\"] = test_data[\"emotion\"].cat.codes\n",
        "test_data.head()"
      ]
    },
    {
      "cell_type": "code",
      "execution_count": 12,
      "metadata": {
        "ExecuteTime": {
          "end_time": "2022-05-28T20:04:38.177249Z",
          "start_time": "2022-05-28T20:04:38.150010Z"
        },
        "id": "rZkqQvtyWCMr",
        "outputId": "62fedf75-aba7-4dea-dacc-05835d3c540f",
        "colab": {
          "base_uri": "https://localhost:8080/",
          "height": 206
        }
      },
      "outputs": [
        {
          "output_type": "execute_result",
          "data": {
            "text/plain": [
              "                                                text  emotion  emotion_label\n",
              "0               im feel quit sad sorri ill snap soon  sadness              4\n",
              "1  feel like still look blank canva blank piec paper  sadness              4\n",
              "2                            feel like faith servant     love              3\n",
              "3                                   feel cranki blue    anger              0\n",
              "4                                  treat feel festiv      joy              2"
            ],
            "text/html": [
              "\n",
              "  <div id=\"df-b9a54f24-2dd7-4499-ac7e-47da8883430e\">\n",
              "    <div class=\"colab-df-container\">\n",
              "      <div>\n",
              "<style scoped>\n",
              "    .dataframe tbody tr th:only-of-type {\n",
              "        vertical-align: middle;\n",
              "    }\n",
              "\n",
              "    .dataframe tbody tr th {\n",
              "        vertical-align: top;\n",
              "    }\n",
              "\n",
              "    .dataframe thead th {\n",
              "        text-align: right;\n",
              "    }\n",
              "</style>\n",
              "<table border=\"1\" class=\"dataframe\">\n",
              "  <thead>\n",
              "    <tr style=\"text-align: right;\">\n",
              "      <th></th>\n",
              "      <th>text</th>\n",
              "      <th>emotion</th>\n",
              "      <th>emotion_label</th>\n",
              "    </tr>\n",
              "  </thead>\n",
              "  <tbody>\n",
              "    <tr>\n",
              "      <th>0</th>\n",
              "      <td>im feel quit sad sorri ill snap soon</td>\n",
              "      <td>sadness</td>\n",
              "      <td>4</td>\n",
              "    </tr>\n",
              "    <tr>\n",
              "      <th>1</th>\n",
              "      <td>feel like still look blank canva blank piec paper</td>\n",
              "      <td>sadness</td>\n",
              "      <td>4</td>\n",
              "    </tr>\n",
              "    <tr>\n",
              "      <th>2</th>\n",
              "      <td>feel like faith servant</td>\n",
              "      <td>love</td>\n",
              "      <td>3</td>\n",
              "    </tr>\n",
              "    <tr>\n",
              "      <th>3</th>\n",
              "      <td>feel cranki blue</td>\n",
              "      <td>anger</td>\n",
              "      <td>0</td>\n",
              "    </tr>\n",
              "    <tr>\n",
              "      <th>4</th>\n",
              "      <td>treat feel festiv</td>\n",
              "      <td>joy</td>\n",
              "      <td>2</td>\n",
              "    </tr>\n",
              "  </tbody>\n",
              "</table>\n",
              "</div>\n",
              "      <button class=\"colab-df-convert\" onclick=\"convertToInteractive('df-b9a54f24-2dd7-4499-ac7e-47da8883430e')\"\n",
              "              title=\"Convert this dataframe to an interactive table.\"\n",
              "              style=\"display:none;\">\n",
              "        \n",
              "  <svg xmlns=\"http://www.w3.org/2000/svg\" height=\"24px\"viewBox=\"0 0 24 24\"\n",
              "       width=\"24px\">\n",
              "    <path d=\"M0 0h24v24H0V0z\" fill=\"none\"/>\n",
              "    <path d=\"M18.56 5.44l.94 2.06.94-2.06 2.06-.94-2.06-.94-.94-2.06-.94 2.06-2.06.94zm-11 1L8.5 8.5l.94-2.06 2.06-.94-2.06-.94L8.5 2.5l-.94 2.06-2.06.94zm10 10l.94 2.06.94-2.06 2.06-.94-2.06-.94-.94-2.06-.94 2.06-2.06.94z\"/><path d=\"M17.41 7.96l-1.37-1.37c-.4-.4-.92-.59-1.43-.59-.52 0-1.04.2-1.43.59L10.3 9.45l-7.72 7.72c-.78.78-.78 2.05 0 2.83L4 21.41c.39.39.9.59 1.41.59.51 0 1.02-.2 1.41-.59l7.78-7.78 2.81-2.81c.8-.78.8-2.07 0-2.86zM5.41 20L4 18.59l7.72-7.72 1.47 1.35L5.41 20z\"/>\n",
              "  </svg>\n",
              "      </button>\n",
              "      \n",
              "  <style>\n",
              "    .colab-df-container {\n",
              "      display:flex;\n",
              "      flex-wrap:wrap;\n",
              "      gap: 12px;\n",
              "    }\n",
              "\n",
              "    .colab-df-convert {\n",
              "      background-color: #E8F0FE;\n",
              "      border: none;\n",
              "      border-radius: 50%;\n",
              "      cursor: pointer;\n",
              "      display: none;\n",
              "      fill: #1967D2;\n",
              "      height: 32px;\n",
              "      padding: 0 0 0 0;\n",
              "      width: 32px;\n",
              "    }\n",
              "\n",
              "    .colab-df-convert:hover {\n",
              "      background-color: #E2EBFA;\n",
              "      box-shadow: 0px 1px 2px rgba(60, 64, 67, 0.3), 0px 1px 3px 1px rgba(60, 64, 67, 0.15);\n",
              "      fill: #174EA6;\n",
              "    }\n",
              "\n",
              "    [theme=dark] .colab-df-convert {\n",
              "      background-color: #3B4455;\n",
              "      fill: #D2E3FC;\n",
              "    }\n",
              "\n",
              "    [theme=dark] .colab-df-convert:hover {\n",
              "      background-color: #434B5C;\n",
              "      box-shadow: 0px 1px 3px 1px rgba(0, 0, 0, 0.15);\n",
              "      filter: drop-shadow(0px 1px 2px rgba(0, 0, 0, 0.3));\n",
              "      fill: #FFFFFF;\n",
              "    }\n",
              "  </style>\n",
              "\n",
              "      <script>\n",
              "        const buttonEl =\n",
              "          document.querySelector('#df-b9a54f24-2dd7-4499-ac7e-47da8883430e button.colab-df-convert');\n",
              "        buttonEl.style.display =\n",
              "          google.colab.kernel.accessAllowed ? 'block' : 'none';\n",
              "\n",
              "        async function convertToInteractive(key) {\n",
              "          const element = document.querySelector('#df-b9a54f24-2dd7-4499-ac7e-47da8883430e');\n",
              "          const dataTable =\n",
              "            await google.colab.kernel.invokeFunction('convertToInteractive',\n",
              "                                                     [key], {});\n",
              "          if (!dataTable) return;\n",
              "\n",
              "          const docLinkHtml = 'Like what you see? Visit the ' +\n",
              "            '<a target=\"_blank\" href=https://colab.research.google.com/notebooks/data_table.ipynb>data table notebook</a>'\n",
              "            + ' to learn more about interactive tables.';\n",
              "          element.innerHTML = '';\n",
              "          dataTable['output_type'] = 'display_data';\n",
              "          await google.colab.output.renderOutput(dataTable, element);\n",
              "          const docLink = document.createElement('div');\n",
              "          docLink.innerHTML = docLinkHtml;\n",
              "          element.appendChild(docLink);\n",
              "        }\n",
              "      </script>\n",
              "    </div>\n",
              "  </div>\n",
              "  "
            ]
          },
          "metadata": {},
          "execution_count": 12
        }
      ],
      "source": [
        "val_data[\"emotion\"] = val_data[\"emotion\"].astype('category')\n",
        "val_data[\"emotion_label\"] = val_data[\"emotion\"].cat.codes\n",
        "val_data.head()"
      ]
    },
    {
      "cell_type": "markdown",
      "metadata": {
        "id": "INmV8F7fWCMs"
      },
      "source": [
        "### One Hot Encoding and Train Test Data Prep\n",
        "\n",
        "Convert the label to one-hot encoded form and organize text column as training feature and the one-hot encoded label as training labels."
      ]
    },
    {
      "cell_type": "code",
      "execution_count": 13,
      "metadata": {
        "ExecuteTime": {
          "end_time": "2022-05-28T20:04:38.244333Z",
          "start_time": "2022-05-28T20:04:38.181245Z"
        },
        "id": "A6-cmcLrWCMs"
      },
      "outputs": [],
      "source": [
        "train_features, train_labels = train_data['text'], tf.one_hot(\n",
        "    train_data[\"emotion_label\"], 6)\n",
        "test_features, test_labels = test_data['text'], tf.one_hot(\n",
        "    test_data[\"emotion_label\"], 6)\n",
        "val_features, val_labels = val_data['text'], tf.one_hot(\n",
        "    val_data[\"emotion_label\"], 6)"
      ]
    },
    {
      "cell_type": "markdown",
      "metadata": {
        "id": "e0LIEXiwWCMt"
      },
      "source": [
        "### Decoder\n",
        "\n",
        "I will be using this to decode the one-hot encoded prediction(s) to the text labels."
      ]
    },
    {
      "cell_type": "code",
      "execution_count": 14,
      "metadata": {
        "ExecuteTime": {
          "end_time": "2022-05-28T20:04:38.260051Z",
          "start_time": "2022-05-28T20:04:38.247865Z"
        },
        "id": "Up_wXfuQWCMt"
      },
      "outputs": [],
      "source": [
        "def get_labels_from_oh_code(oh_code):\n",
        "    \"\"\" Takes in one-hot encoded matrix\n",
        "    Returns a list of decoded categories\"\"\"\n",
        "    label_code = np.argmax(oh_code, axis=1)\n",
        "#     print(label_code)\n",
        "    label = test_data.emotion.cat.categories[label_code]\n",
        "#     print(list(label))\n",
        "    return list(label)"
      ]
    },
    {
      "cell_type": "code",
      "execution_count": 15,
      "metadata": {
        "ExecuteTime": {
          "end_time": "2022-05-28T20:04:38.290617Z",
          "start_time": "2022-05-28T20:04:38.264313Z"
        },
        "id": "sIgSNPm6WCMu",
        "outputId": "9f6dc92b-bc93-4ef0-fb5c-74716a814689",
        "colab": {
          "base_uri": "https://localhost:8080/"
        }
      },
      "outputs": [
        {
          "output_type": "execute_result",
          "data": {
            "text/plain": [
              "['sadness', 'sadness', 'anger', 'love', 'anger']"
            ]
          },
          "metadata": {},
          "execution_count": 15
        }
      ],
      "source": [
        "\"Test Method\"\n",
        "test= np.array(train_labels[:5])\n",
        "get_labels_from_oh_code(test)"
      ]
    },
    {
      "cell_type": "markdown",
      "metadata": {
        "ExecuteTime": {
          "end_time": "2022-03-28T22:12:11.093788Z",
          "start_time": "2022-03-28T22:12:11.076610Z"
        },
        "id": "ZhwBko5pWCMu"
      },
      "source": [
        "## Model Training"
      ]
    },
    {
      "cell_type": "markdown",
      "metadata": {
        "id": "YTowJBmcWCMu"
      },
      "source": [
        "### Text Pre-processing\n",
        "\n",
        "I have used Keras tokenizer to convert tokens into integers, using ```<OOV>``` to represent Out of Vocabulary (OoV) terms.\n",
        "It is a flexible way of handling unseen vocabulary in test data.\n",
        "\n",
        "Using pad_sequences, again I have padded/truncated sequences to make their lengths uniform."
      ]
    },
    {
      "cell_type": "code",
      "execution_count": 16,
      "metadata": {
        "ExecuteTime": {
          "end_time": "2022-05-28T20:04:39.144785Z",
          "start_time": "2022-05-28T20:04:38.290617Z"
        },
        "id": "gxYd6qAeWCMv",
        "outputId": "6742726b-bb6f-4efb-f7fa-5f72429ba822",
        "colab": {
          "base_uri": "https://localhost:8080/"
        }
      },
      "outputs": [
        {
          "output_type": "execute_result",
          "data": {
            "text/plain": [
              "10375"
            ]
          },
          "metadata": {},
          "execution_count": 16
        }
      ],
      "source": [
        "# Vocab Size\n",
        "\n",
        "total_data = ' '.join(list(train_data.text))\n",
        "len(set(word_tokenize(total_data))) # vocab size"
      ]
    },
    {
      "cell_type": "code",
      "execution_count": 17,
      "metadata": {
        "ExecuteTime": {
          "end_time": "2022-05-28T20:04:41.794566Z",
          "start_time": "2022-05-28T20:04:39.147986Z"
        },
        "id": "FLIO7X3uWCMv"
      },
      "outputs": [],
      "source": [
        "# Max Seq Length\n",
        "\n",
        "list_seq_lengths = [len(word_tokenize(each_text)) for each_text in list(train_data.text)]"
      ]
    },
    {
      "cell_type": "code",
      "execution_count": 18,
      "metadata": {
        "ExecuteTime": {
          "end_time": "2022-05-28T20:04:44.288309Z",
          "start_time": "2022-05-28T20:04:41.797716Z"
        },
        "id": "dTiikyl5WCMv",
        "outputId": "27fccd6d-204c-4e98-df94-010c59c169c1",
        "colab": {
          "base_uri": "https://localhost:8080/",
          "height": 542
        }
      },
      "outputs": [
        {
          "output_type": "display_data",
          "data": {
            "text/html": [
              "<html>\n",
              "<head><meta charset=\"utf-8\" /></head>\n",
              "<body>\n",
              "    <div>            <script src=\"https://cdnjs.cloudflare.com/ajax/libs/mathjax/2.7.5/MathJax.js?config=TeX-AMS-MML_SVG\"></script><script type=\"text/javascript\">if (window.MathJax) {MathJax.Hub.Config({SVG: {font: \"STIX-Web\"}});}</script>                <script type=\"text/javascript\">window.PlotlyConfig = {MathJaxConfig: 'local'};</script>\n",
              "        <script src=\"https://cdn.plot.ly/plotly-2.8.3.min.js\"></script>                <div id=\"dd67b892-4f04-4331-8a0f-0b49eeb329f0\" class=\"plotly-graph-div\" style=\"height:525px; width:100%;\"></div>            <script type=\"text/javascript\">                                    window.PLOTLYENV=window.PLOTLYENV || {};                                    if (document.getElementById(\"dd67b892-4f04-4331-8a0f-0b49eeb329f0\")) {                    Plotly.newPlot(                        \"dd67b892-4f04-4331-8a0f-0b49eeb329f0\",                        [{\"alignmentgroup\":\"True\",\"hovertemplate\":\"x=%{x}<extra></extra>\",\"legendgroup\":\"\",\"marker\":{\"color\":\"#636efa\"},\"name\":\"\",\"notched\":false,\"offsetgroup\":\"\",\"orientation\":\"h\",\"showlegend\":false,\"x\":[3,9,7,7,2,7,15,8,9,2,7,8,6,4,22,4,4,4,11,8,8,19,3,11,9,21,11,4,13,6,8,5,10,18,22,6,3,12,14,11,14,12,12,9,15,7,24,9,3,6,6,5,3,11,22,8,19,9,13,10,9,13,12,12,6,17,8,8,13,5,7,13,12,6,10,13,15,6,11,3,5,12,10,5,7,14,9,8,6,7,9,9,15,7,12,8,10,9,9,23,13,5,7,11,23,12,22,15,3,16,16,2,10,27,7,3,5,12,9,7,10,6,12,10,19,7,8,6,14,10,11,18,3,14,16,17,5,8,15,10,6,10,9,4,11,7,9,7,5,16,10,10,7,23,18,6,18,8,12,18,8,19,27,13,3,8,6,7,7,10,14,4,8,9,10,17,7,13,13,9,7,11,4,3,7,12,12,4,14,5,2,7,8,14,10,8,8,10,12,14,8,4,13,3,11,18,10,11,6,9,5,25,13,7,7,5,14,3,10,10,5,12,4,9,15,7,4,10,5,23,13,3,7,12,12,6,14,3,18,14,3,6,11,14,8,3,5,9,6,10,8,13,13,3,6,17,8,6,8,11,27,19,28,10,11,6,8,3,7,11,13,22,6,8,9,12,6,9,4,6,21,14,12,13,7,11,7,24,4,20,5,20,16,27,10,11,13,3,11,7,8,3,3,2,3,8,5,8,3,4,6,5,13,3,8,10,8,8,5,20,9,16,4,6,4,12,11,3,5,14,8,11,5,13,18,14,10,11,8,10,7,10,6,7,8,13,12,4,11,5,3,14,5,2,9,11,18,3,6,9,4,8,15,13,5,18,22,3,9,3,6,3,12,5,9,9,8,8,5,11,4,4,11,15,6,8,13,5,8,16,21,15,8,5,7,4,6,9,9,4,14,15,18,5,5,11,8,4,4,7,8,18,9,10,9,12,5,11,2,14,8,13,5,3,16,9,17,8,4,21,16,9,7,23,7,19,7,20,12,14,8,14,15,11,13,11,3,11,3,19,12,11,4,23,6,13,5,5,17,9,9,7,5,3,6,15,4,20,23,11,6,17,14,13,12,9,11,17,7,10,8,10,9,9,4,3,9,11,11,12,6,4,4,8,9,11,11,10,12,7,9,10,5,4,14,12,3,5,11,5,11,9,17,10,8,13,8,3,11,29,27,16,10,15,10,8,16,11,7,7,3,9,6,2,3,19,6,18,8,6,6,10,15,10,4,2,5,12,14,5,6,7,13,18,9,13,5,19,8,10,19,18,15,10,12,13,4,7,7,12,6,9,4,5,14,5,17,16,18,11,4,10,13,3,4,3,8,5,4,4,9,20,10,4,3,3,7,15,5,6,8,6,21,8,7,7,13,14,10,9,3,9,3,18,23,10,8,22,11,10,12,11,7,5,11,12,4,22,7,7,13,9,3,6,7,5,5,9,4,5,3,17,4,8,19,15,5,6,9,3,14,6,13,11,14,5,12,8,7,10,7,9,10,5,9,9,3,7,8,22,7,8,12,7,7,19,17,4,5,10,6,2,8,4,14,15,12,6,3,6,22,4,11,6,11,14,5,4,8,15,17,4,13,9,13,6,3,3,4,7,12,11,20,8,5,6,7,8,8,7,27,7,25,10,18,4,27,5,7,6,13,3,9,5,9,9,19,10,4,13,3,3,4,9,4,7,18,14,3,14,12,21,18,12,25,6,7,13,13,12,7,6,3,12,5,3,16,17,15,14,13,12,17,5,4,10,15,6,11,6,11,8,3,14,20,5,8,15,7,8,11,6,22,11,5,7,9,4,5,24,5,16,15,6,7,16,3,7,11,5,12,8,5,10,14,12,8,7,10,6,13,4,14,6,11,12,8,11,16,14,8,7,5,11,3,15,7,3,9,4,12,10,12,11,12,2,6,15,6,2,11,12,10,16,12,4,6,6,11,14,4,5,10,4,10,7,26,10,6,14,11,3,8,8,9,21,18,6,5,10,6,7,15,6,18,5,22,4,2,7,14,3,11,7,7,14,22,30,7,7,7,14,6,3,3,13,12,9,4,2,6,2,6,11,5,3,8,14,7,19,5,6,8,3,8,5,7,3,6,6,8,20,4,4,10,6,5,4,18,9,8,5,4,18,10,15,24,11,9,6,13,3,6,13,4,10,4,12,5,13,16,5,5,2,5,10,10,4,16,7,4,13,12,3,10,18,4,4,8,15,13,4,9,5,4,8,9,6,13,15,14,16,3,18,15,4,11,7,4,13,10,12,3,14,5,19,19,9,8,17,3,12,11,6,5,7,11,6,6,16,8,9,7,17,19,17,4,5,12,6,21,6,5,10,11,2,23,6,3,7,24,11,18,9,14,6,12,12,7,4,20,11,16,9,6,16,15,20,16,4,11,16,7,13,6,12,4,7,12,8,8,5,11,13,11,9,20,22,4,10,5,12,11,4,9,7,7,22,14,6,5,3,5,15,2,6,12,3,6,6,4,13,11,7,12,3,17,6,20,7,8,11,14,7,7,13,9,3,10,6,9,17,4,12,8,5,9,17,25,15,19,5,13,14,5,17,24,4,9,21,8,8,20,8,4,11,9,5,13,5,5,11,4,6,5,11,21,5,17,6,17,9,20,10,4,10,12,15,23,5,3,8,6,19,11,6,8,5,15,13,8,6,15,17,8,4,7,9,4,4,12,10,3,3,7,7,10,5,11,7,7,6,9,14,5,20,13,18,7,2,5,12,11,12,6,28,7,7,10,15,15,12,4,4,8,13,8,5,11,4,9,17,5,4,7,3,15,16,10,13,25,5,12,5,23,6,4,13,7,2,4,10,14,2,5,5,18,8,14,8,5,4,14,6,14,11,4,7,2,3,5,9,12,15,7,22,12,4,8,12,8,21,4,3,7,16,8,5,12,11,3,8,14,8,8,5,13,21,7,5,18,5,7,6,10,10,15,7,12,5,3,6,6,6,14,7,2,5,4,12,7,3,16,15,5,11,8,3,10,2,9,3,5,2,6,28,14,4,13,8,12,15,8,18,4,9,12,6,8,15,29,8,8,4,8,9,16,2,12,12,5,8,3,13,19,11,4,20,16,16,10,16,9,17,6,2,7,13,5,11,6,14,19,7,6,5,6,5,6,3,20,17,9,5,8,11,19,13,16,14,20,12,7,11,5,5,9,11,4,10,15,19,10,6,5,9,12,8,3,12,4,13,6,8,21,5,14,9,4,7,5,8,8,5,25,4,12,7,19,14,5,6,14,9,8,4,4,7,13,10,30,6,9,10,14,11,6,13,15,12,14,6,11,4,12,16,10,9,4,2,3,3,5,10,10,9,9,6,9,18,9,23,18,14,19,3,9,13,3,11,3,11,13,7,4,10,7,7,11,10,12,12,13,8,7,9,12,9,9,11,22,10,18,5,13,3,8,17,5,22,5,3,6,13,3,7,2,16,11,8,4,9,7,7,13,6,19,3,7,3,13,9,31,8,12,14,7,3,8,7,12,26,5,2,11,7,15,11,13,13,15,8,12,8,5,15,12,11,15,9,8,9,2,7,3,5,5,8,10,20,8,6,11,8,3,5,5,5,14,7,7,9,9,6,22,9,5,5,6,3,12,4,11,4,12,5,6,2,16,6,9,19,14,7,5,14,20,6,5,22,11,19,5,9,6,17,3,4,3,3,17,19,18,7,5,14,8,7,10,6,4,11,14,5,11,13,7,5,17,7,4,8,11,8,7,7,6,6,2,7,3,16,3,19,13,2,14,9,10,4,12,5,9,16,15,3,6,8,20,4,5,9,6,12,8,3,11,12,11,4,9,6,7,3,18,5,10,5,15,11,9,9,13,7,6,9,8,16,25,3,9,9,22,7,6,5,16,10,17,3,6,2,6,8,6,2,25,10,7,12,14,21,7,4,10,20,7,4,7,14,12,9,10,9,16,5,8,26,7,5,5,3,8,19,4,10,9,20,11,5,14,6,3,3,10,13,7,8,10,2,10,6,5,20,8,6,6,5,4,26,6,5,7,8,10,14,8,11,15,29,4,10,7,3,19,15,10,2,4,24,3,2,4,23,6,10,12,4,18,6,6,6,7,3,7,11,3,14,6,6,19,20,5,12,12,13,3,7,5,6,9,11,10,17,3,8,7,7,16,8,20,7,7,7,7,15,8,6,13,6,14,5,6,12,5,4,15,10,4,7,5,6,15,15,13,16,8,3,7,28,13,7,5,6,9,12,4,4,4,13,15,4,3,8,9,5,8,10,3,14,5,6,12,5,13,3,18,15,13,9,8,10,8,11,11,7,7,14,14,11,7,4,10,5,8,6,6,14,12,3,9,10,7,10,14,7,10,5,15,8,12,7,10,5,9,3,12,8,9,5,12,10,5,4,13,17,9,12,11,9,9,4,8,15,14,24,3,9,14,8,12,10,15,5,10,8,3,11,6,7,4,17,13,4,2,2,15,8,3,12,11,10,6,14,17,6,4,9,14,4,12,3,13,6,17,6,7,5,11,12,11,4,11,14,10,7,4,13,4,5,16,14,25,10,3,12,8,5,8,6,12,4,8,4,14,10,14,7,16,14,5,18,7,11,10,20,7,4,4,34,8,19,3,8,7,7,14,7,9,7,6,9,10,6,11,11,11,3,4,2,14,14,3,17,7,8,5,3,23,5,5,2,11,10,4,18,12,7,11,3,4,10,4,13,8,4,5,3,9,4,11,5,13,6,7,11,3,9,11,5,13,17,12,4,18,10,3,7,2,13,4,16,6,14,8,8,7,5,10,25,8,13,14,3,11,4,4,8,3,6,6,5,21,9,11,6,6,4,5,10,11,11,7,4,6,9,6,4,9,8,10,8,12,4,15,14,7,8,15,4,7,5,15,12,5,4,9,12,11,6,9,5,3,4,9,7,7,3,7,7,3,8,3,12,6,6,7,7,5,4,5,12,8,9,6,9,18,15,20,6,14,6,11,9,18,4,6,7,23,12,8,5,12,12,6,7,16,6,8,10,8,13,10,6,7,8,3,6,3,3,7,3,7,5,11,6,9,9,13,11,9,13,7,8,3,12,6,21,6,8,12,11,5,8,11,13,7,7,20,4,14,9,14,13,9,4,13,6,4,10,12,11,3,8,9,15,17,6,19,16,22,23,3,4,8,7,12,14,4,23,6,4,15,9,11,10,5,4,10,9,4,5,6,24,17,13,10,26,5,5,11,9,20,9,5,8,8,3,9,5,5,10,6,16,11,8,16,8,5,3,5,11,6,5,5,4,9,6,2,7,9,10,3,3,8,7,3,19,3,4,6,3,9,17,6,3,3,17,18,8,11,9,4,4,10,6,9,4,9,5,14,5,8,3,7,3,6,6,5,5,13,10,3,12,8,7,4,4,10,7,4,9,8,9,15,5,3,11,5,14,11,16,18,12,10,20,5,8,11,10,19,8,7,5,8,3,6,6,10,20,7,4,14,11,3,11,9,7,5,12,19,7,11,5,7,11,5,10,5,8,9,4,14,10,8,7,9,5,7,10,14,4,7,8,4,7,9,16,14,6,3,8,20,3,11,15,29,31,8,6,5,18,4,8,11,12,6,3,11,8,8,11,5,6,7,9,24,10,17,10,9,6,8,11,10,7,6,14,8,9,7,4,7,8,5,7,3,8,12,13,10,3,10,4,12,4,6,6,4,3,8,4,3,17,11,13,6,4,14,3,3,13,6,6,13,6,17,17,16,8,3,15,5,12,2,10,8,5,11,15,3,6,10,23,14,9,11,5,8,7,11,13,7,11,3,8,3,12,3,17,10,4,12,13,16,22,8,6,4,7,8,10,16,8,16,9,4,14,6,18,21,5,11,5,7,10,3,14,6,5,10,4,7,10,14,11,17,18,6,33,22,8,6,4,8,20,12,2,4,11,17,4,6,8,6,8,6,9,7,20,8,16,16,6,14,27,18,16,5,8,15,10,4,21,12,5,2,3,14,5,11,5,4,11,15,9,6,13,6,22,9,25,9,4,25,4,3,16,8,4,10,10,17,10,18,2,8,2,10,5,13,8,6,9,8,15,12,9,10,6,3,3,11,13,23,12,13,4,9,4,4,7,4,17,5,10,14,4,13,9,14,11,10,3,5,17,25,7,7,9,9,12,7,3,8,4,14,5,7,8,9,3,9,11,10,7,12,14,13,12,4,5,6,13,11,23,11,8,9,10,8,5,7,12,6,4,10,3,6,14,4,3,23,12,12,8,15,19,8,8,5,6,7,9,9,11,5,23,3,18,8,18,15,8,8,9,10,10,4,5,7,4,17,20,4,2,6,7,11,3,5,14,11,6,4,16,10,4,4,8,9,8,14,15,33,8,6,7,17,23,10,15,15,8,8,6,13,14,12,8,10,27,6,13,17,3,4,10,8,6,3,8,5,21,8,14,10,9,5,11,14,3,11,4,6,19,7,3,8,9,11,16,3,5,11,3,4,8,9,3,4,10,4,10,11,7,15,8,12,5,11,25,3,14,3,4,12,15,13,7,4,8,21,6,4,14,11,18,4,9,10,4,8,4,7,11,18,9,7,6,8,5,12,14,11,12,9,8,6,14,13,5,21,2,15,10,5,7,10,27,3,6,9,4,4,10,3,5,19,5,19,13,7,5,6,4,7,15,5,14,6,18,6,4,8,4,5,14,13,5,24,6,3,15,6,8,3,24,18,8,17,2,3,20,14,9,6,6,8,16,2,2,13,5,6,4,6,4,8,4,15,7,6,13,10,15,5,5,10,3,5,9,6,7,8,12,3,26,4,17,8,11,5,3,20,7,9,8,8,3,14,9,12,8,6,23,2,7,13,5,4,13,10,5,4,21,7,12,9,12,13,5,20,6,8,12,6,4,17,9,21,16,10,5,7,4,13,15,12,4,13,5,19,8,3,3,8,8,6,12,17,6,12,9,6,25,18,5,4,17,6,12,10,3,14,22,8,9,15,25,3,2,5,3,18,6,9,3,5,12,13,7,6,16,5,22,29,19,11,16,9,1,6,5,9,17,9,9,13,8,5,4,24,19,6,4,11,19,4,8,9,10,5,17,6,4,3,8,3,3,19,5,13,12,16,6,6,13,4,2,5,12,6,9,6,19,11,10,4,5,7,10,16,3,5,9,2,13,21,7,11,6,12,3,5,2,8,7,5,6,4,9,6,20,8,4,5,18,6,6,5,11,7,6,16,7,11,4,18,5,14,7,9,3,7,6,5,17,5,4,9,15,15,13,4,12,16,7,4,10,12,8,4,6,8,12,10,10,11,11,11,12,11,12,12,6,4,13,9,6,2,5,11,6,17,33,6,14,6,12,12,15,2,8,9,4,7,10,25,11,9,11,11,16,10,9,9,8,7,5,7,7,5,9,8,11,5,18,4,8,6,3,10,7,13,10,6,5,4,8,5,10,14,6,14,9,10,9,9,8,5,9,6,8,10,4,14,7,21,9,8,9,3,23,8,11,14,4,5,11,4,5,5,29,5,6,6,13,5,10,7,2,13,2,19,20,6,7,6,16,13,2,17,3,9,13,20,8,10,7,11,5,21,16,7,10,10,3,5,6,11,14,13,29,13,3,15,15,7,17,13,13,14,14,7,8,12,12,8,4,11,5,6,3,7,11,16,17,26,6,8,5,8,5,4,2,4,6,21,19,12,7,5,9,6,4,17,7,10,2,5,7,6,13,4,4,6,8,10,6,5,4,13,6,7,5,15,6,7,8,2,12,9,9,5,8,11,15,5,4,6,7,14,7,5,8,2,7,9,5,4,15,5,4,13,14,7,7,17,13,5,11,8,4,8,7,3,12,16,12,4,22,5,8,18,11,6,10,7,17,7,5,14,23,3,5,8,4,19,2,20,14,8,9,4,6,10,10,8,3,11,3,13,8,16,7,4,7,5,15,9,6,5,7,8,2,27,15,11,21,15,11,10,2,7,8,10,15,19,6,23,11,8,4,7,18,20,9,2,10,10,7,10,21,6,8,13,6,5,7,7,3,16,10,16,12,32,6,25,8,10,11,8,12,3,7,10,10,6,5,11,7,6,4,5,11,7,4,7,13,10,8,18,13,5,13,8,6,3,4,2,9,9,11,8,9,19,6,4,5,7,9,17,22,11,6,5,17,5,7,15,23,4,4,13,4,15,11,20,10,13,3,3,12,10,8,9,8,5,18,9,9,3,6,5,12,6,9,2,11,8,23,7,4,16,3,6,8,17,12,3,8,5,11,18,15,4,11,4,11,9,11,13,10,4,17,8,14,2,16,4,3,6,8,8,11,13,11,17,8,6,6,9,7,17,10,10,6,13,16,14,9,14,7,13,3,4,9,11,11,9,6,10,11,18,8,14,5,10,11,3,3,22,6,13,15,9,15,11,14,5,26,16,10,12,12,8,13,8,8,6,5,3,18,9,4,6,17,11,20,17,13,6,16,18,7,8,9,13,14,12,22,5,7,4,10,3,11,12,13,19,13,9,12,6,5,12,6,6,9,14,24,5,10,3,6,6,11,18,14,10,12,5,8,9,2,8,20,8,2,13,11,3,10,8,7,4,2,7,10,6,3,5,15,3,6,12,7,23,3,19,6,9,14,13,4,6,2,10,20,10,12,12,7,6,8,10,10,6,7,6,3,8,11,5,15,4,10,5,7,5,8,7,26,14,17,14,5,4,15,11,5,15,5,11,4,2,14,7,19,8,7,8,5,11,4,4,3,3,5,14,12,18,3,9,9,8,11,11,7,10,10,9,3,4,7,18,5,8,3,8,16,13,12,10,4,3,7,5,19,13,4,8,16,7,11,2,13,9,6,14,4,8,6,9,3,10,6,8,24,6,15,2,20,4,15,11,7,29,18,10,16,13,3,9,5,19,3,4,6,3,24,5,5,12,15,14,5,5,24,4,6,6,23,11,5,14,3,9,3,3,10,22,10,6,14,4,11,8,6,3,8,11,14,17,6,14,4,6,6,16,7,13,16,8,14,3,18,7,6,9,9,8,3,22,17,15,17,10,3,11,3,3,19,9,10,9,3,4,7,5,17,7,14,18,10,4,4,11,24,13,17,8,15,5,8,4,8,2,2,14,5,11,8,14,7,11,6,12,15,16,14,6,6,4,3,6,20,6,6,4,20,5,18,6,15,7,6,10,7,12,19,12,7,10,4,4,11,10,4,12,6,11,22,2,6,7,21,2,5,8,7,5,2,12,5,5,6,26,7,9,3,13,17,12,25,12,9,12,11,11,5,6,4,18,4,6,19,10,12,11,5,3,7,9,16,17,4,12,6,7,12,8,11,3,4,12,14,4,16,12,11,6,4,12,7,16,8,9,3,10,12,13,13,5,24,7,3,6,9,2,14,8,3,12,11,13,16,7,9,4,9,12,7,7,9,3,9,17,6,13,10,6,13,9,11,8,3,7,3,5,15,9,7,24,3,7,4,3,13,16,6,3,21,6,3,4,8,11,8,7,5,3,4,8,11,4,11,14,4,7,10,15,7,24,3,12,7,5,4,19,7,6,7,8,29,8,6,19,7,16,11,12,2,4,11,9,3,5,6,9,5,13,20,18,3,8,6,22,3,12,8,8,8,12,10,19,5,7,6,9,6,11,3,9,10,8,14,10,7,8,5,7,22,2,13,9,13,10,5,11,6,3,16,15,9,7,21,6,5,11,10,4,4,10,6,6,8,13,10,9,7,10,5,9,5,5,16,7,4,13,12,8,4,5,9,4,8,6,5,14,4,3,2,9,7,8,7,16,18,4,9,10,3,9,4,6,3,17,15,12,6,5,4,9,11,3,9,4,10,3,11,8,8,2,7,8,10,16,8,13,9,3,13,3,9,3,8,6,17,10,22,4,4,16,5,10,9,3,3,8,5,3,8,5,11,5,3,9,3,3,22,4,7,22,9,8,7,7,7,9,6,6,3,7,12,9,9,8,10,24,7,15,4,21,14,3,4,12,5,16,7,14,7,15,16,5,12,4,19,6,4,19,12,6,4,8,4,10,3,11,8,18,10,7,5,7,14,15,13,7,7,21,10,4,16,22,15,10,8,22,18,3,17,2,10,4,9,21,7,15,14,8,8,9,6,5,8,8,2,20,12,5,13,10,11,11,5,4,9,7,13,10,12,5,11,7,13,5,10,18,11,5,16,2,4,13,11,12,4,11,15,16,4,28,12,4,22,9,8,17,7,7,4,8,5,3,8,9,10,3,3,4,5,6,9,15,13,4,9,10,6,15,18,15,7,4,9,2,8,10,4,15,20,5,7,5,11,7,4,11,15,14,5,9,5,9,7,9,18,13,9,4,4,13,4,10,9,13,22,13,6,7,8,12,15,3,5,4,4,11,11,5,14,7,9,7,16,3,20,4,6,7,14,15,7,6,20,12,15,3,8,3,6,5,4,9,4,3,4,5,5,4,26,17,5,12,7,12,21,23,20,12,11,10,8,12,8,9,7,5,5,12,3,10,10,19,5,10,10,6,9,5,4,4,8,5,9,3,7,3,11,7,5,4,5,14,5,14,3,7,4,18,6,7,4,4,16,5,4,10,4,24,8,4,7,11,4,8,4,8,5,14,14,10,7,20,12,11,4,3,4,5,16,9,5,9,4,12,10,20,5,17,6,13,6,4,14,9,9,3,13,7,17,7,10,15,12,4,11,12,16,5,11,7,2,10,5,4,5,6,9,9,5,6,12,5,11,6,8,10,14,4,5,13,6,6,3,15,11,5,13,6,9,6,5,10,14,13,6,5,11,2,6,13,6,12,9,10,18,13,9,14,8,7,7,14,11,8,7,24,23,6,12,9,9,12,3,9,3,4,17,3,12,7,10,9,11,12,11,8,3,14,11,11,14,13,6,5,20,9,11,5,12,9,4,2,5,4,3,8,9,8,7,5,4,9,5,9,11,3,18,13,14,5,7,8,4,8,19,3,8,4,5,24,12,9,4,13,5,7,3,18,8,16,22,5,4,10,7,9,4,9,11,11,3,6,11,14,6,13,9,8,3,33,6,5,6,6,9,18,4,9,5,10,8,5,3,20,13,13,12,13,7,18,9,7,3,6,5,6,9,15,3,7,7,11,3,8,9,15,11,13,7,13,12,7,4,6,8,4,9,4,7,9,20,11,22,19,7,5,5,7,19,13,6,19,7,3,13,9,17,2,5,9,11,8,17,2,13,7,7,9,11,5,7,18,6,17,13,13,14,21,5,8,9,4,11,10,5,5,10,14,3,6,5,9,3,5,10,23,4,20,7,16,14,8,1,11,4,7,7,14,13,18,9,22,21,11,8,7,6,15,9,8,2,14,5,2,10,19,18,6,9,10,13,5,11,8,13,20,6,12,11,15,10,2,8,6,9,12,6,7,4,7,18,8,13,13,3,8,12,2,13,11,3,5,4,12,6,8,8,11,13,19,13,15,12,21,12,9,23,6,6,4,7,10,9,6,11,7,9,4,3,7,7,9,10,4,5,11,9,3,10,4,14,5,10,5,6,7,8,2,4,12,10,13,6,9,20,13,7,16,4,8,12,13,10,13,8,21,24,11,10,4,5,21,9,7,10,7,7,4,6,9,12,6,7,5,8,10,6,7,6,11,12,4,32,13,6,4,13,11,17,7,6,13,7,14,10,9,11,4,21,13,22,18,5,9,3,5,12,10,11,15,3,4,7,7,12,10,7,9,10,8,9,5,12,11,6,9,9,14,12,9,10,8,15,4,9,16,14,6,3,6,6,5,6,2,4,5,7,26,9,13,16,7,18,7,4,8,3,11,4,7,9,3,11,5,5,13,11,17,7,12,7,6,6,27,5,20,16,5,12,10,3,17,13,6,10,10,13,5,9,9,11,17,10,4,8,5,9,5,5,18,8,18,12,9,7,8,14,12,10,7,12,8,5,13,10,2,4,6,10,3,3,8,5,11,14,2,3,3,3,3,4,3,5,7,15,17,13,7,10,18,16,15,11,17,19,14,3,4,3,17,4,14,6,5,23,4,11,5,5,8,11,16,4,8,10,15,8,4,3,22,4,16,6,13,4,28,5,4,5,9,20,22,10,5,9,6,12,9,6,13,10,7,9,7,13,11,13,10,10,19,4,6,20,7,10,21,4,11,24,9,8,13,4,8,7,4,7,3,5,9,12,5,3,14,11,2,2,7,6,11,11,10,7,8,22,4,8,10,12,3,8,6,8,17,11,12,23,5,12,4,5,9,11,8,9,4,15,11,3,7,7,6,9,12,4,5,5,14,8,11,7,14,4,5,6,10,6,7,11,3,10,6,10,3,18,9,9,4,17,11,5,10,3,18,2,10,10,6,7,8,5,2,18,8,7,16,17,24,9,21,5,10,19,5,10,10,2,4,20,9,9,8,11,13,14,9,9,19,7,7,9,5,9,4,7,4,20,4,8,19,10,22,12,9,12,6,19,7,13,5,5,13,13,5,9,8,17,11,8,3,20,8,10,6,19,14,20,8,9,12,17,16,7,12,8,6,3,5,8,11,7,7,16,6,14,17,2,12,14,27,8,3,3,10,9,4,9,5,12,4,8,17,5,3,9,11,4,24,12,6,7,12,7,9,14,16,3,5,10,6,6,5,7,8,5,4,4,18,6,14,16,21,15,4,9,15,3,11,9,16,11,11,8,12,6,11,15,16,10,10,12,5,4,3,13,3,15,7,5,10,9,3,9,18,4,19,6,7,8,7,4,10,20,4,9,6,16,18,14,7,4,2,7,3,10,10,17,2,10,7,6,9,8,10,9,12,12,16,3,7,8,5,9,14,14,5,9,12,25,3,18,2,7,15,12,7,4,7,5,8,3,20,17,10,9,10,7,6,10,18,17,4,7,8,5,24,17,12,27,11,8,5,9,11,9,6,12,12,12,9,2,5,9,7,7,9,11,4,8,5,10,11,2,5,6,7,4,4,10,3,11,4,6,7,2,5,9,4,5,11,15,7,3,8,5,10,7,5,14,12,10,4,10,11,4,17,7,16,15,25,8,9,9,13,6,8,3,3,6,4,5,4,3,4,9,10,14,15,14,14,10,11,5,3,22,3,12,14,9,7,10,10,9,5,11,16,18,3,14,9,12,25,6,9,7,11,11,16,11,10,13,6,17,16,3,6,11,4,12,8,18,11,10,9,3,8,14,6,11,12,9,14,14,21,7,8,4,13,6,17,12,10,7,14,11,11,9,6,8,13,6,8,10,4,23,5,10,8,13,16,10,7,5,3,5,16,7,5,9,5,19,11,15,8,6,8,16,3,16,5,7,7,11,8,13,7,9,3,15,10,7,6,8,12,18,5,26,12,10,11,15,15,13,8,8,11,9,12,20,16,5,4,12,20,21,7,20,16,4,10,8,6,8,14,4,6,3,11,28,10,2,8,14,4,8,10,10,8,13,3,2,5,7,13,15,9,11,11,6,5,4,11,18,12,6,17,4,6,4,8,6,13,9,14,7,9,13,4,13,4,5,5,4,4,7,6,12,7,16,3,14,16,8,11,7,3,6,3,13,6,15,9,14,2,5,19,8,10,4,9,6,5,5,10,4,7,12,5,8,13,15,10,24,4,21,3,5,20,10,3,6,18,5,5,24,7,2,4,7,20,10,10,12,11,13,9,3,9,4,9,19,6,8,11,15,3,12,3,8,11,12,7,10,7,9,13,12,6,3,6,3,13,9,7,7,8,6,11,19,11,4,14,10,6,15,4,22,5,7,8,6,7,23,6,3,5,12,16,8,7,6,4,17,4,7,15,12,11,12,12,3,10,10,18,6,4,11,11,5,15,18,23,3,4,4,16,12,5,7,12,15,4,5,6,18,9,11,13,5,10,11,4,9,5,3,9,2,7,11,4,10,25,5,10,5,3,12,22,15,5,10,13,9,6,9,7,6,10,6,9,3,19,14,10,10,4,6,5,5,6,14,9,13,7,2,12,7,7,3,3,5,11,12,3,9,8,8,8,20,10,3,11,10,22,15,6,5,4,8,6,9,13,14,9,2,21,4,4,9,4,9,4,7,9,12,16,7,8,8,5,7,6,14,9,5,12,13,10,8,6,5,9,5,9,7,9,3,11,12,10,10,17,11,13,8,6,8,5,8,4,12,13,10,12,10,5,19,22,5,12,11,16,9,15,6,11,8,10,8,20,8,3,3,11,10,11,3,11,12,17,11,7,12,9,6,8,3,5,12,8,11,9,4,13,4,3,9,8,12,26,4,6,7,5,8,15,10,3,9,9,6,4,13,3,4,11,14,31,8,8,13,22,6,16,4,12,7,9,5,7,4,11,13,23,9,5,12,7,3,17,8,9,15,14,12,14,11,12,14,3,11,10,7,8,21,7,3,9,24,4,11,9,5,7,11,12,9,5,14,16,8,4,5,8,6,12,6,6,14,8,20,11,3,9,6,3,9,17,5,4,4,6,8,7,3,6,3,7,9,9,7,15,8,6,2,6,12,12,8,19,8,3,12,16,7,17,6,11,12,10,3,9,19,12,7,6,18,8,5,7,4,10,9,15,8,6,14,14,3,14,3,5,16,6,9,5,21,9,6,5,14,7,11,15,8,7,13,4,14,4,23,7,17,3,15,15,14,4,5,11,10,7,8,10,3,3,14,6,4,12,17,16,8,5,13,9,4,12,8,5,5,8,6,12,5,4,25,4,14,5,3,9,29,11,3,4,3,11,11,24,3,11,16,3,10,15,5,10,3,15,7,17,16,19,7,10,14,2,10,6,15,9,13,5,3,7,17,9,11,8,15,7,4,7,9,2,15,4,6,13,7,4,3,12,9,13,9,7,5,7,6,11,10,4,22,21,7,16,4,8,25,3,12,9,3,5,12,15,8,7,12,20,10,10,10,4,10,6,6,17,13,19,17,7,8,23,15,4,7,7,16,10,20,11,12,6,5,12,3,14,11,15,10,12,25,22,13,13,13,11,6,16,6,6,12,5,22,4,9,17,9,4,4,7,8,13,8,5,8,3,9,8,7,11,8,9,6,9,10,5,10,17,6,11,3,7,8,14,3,15,6,3,5,3,5,14,14,9,3,7,13,4,17,6,11,15,5,12,7,8,17,4,8,6,9,14,6,17,11,14,7,14,25,3,16,3,4,5,8,17,9,10,4,3,4,4,14,5,4,4,11,6,8,12,3,12,4,12,7,5,6,8,8,5,8,9,11,5,10,10,4,9,14,8,17,10,5,9,8,6,16,11,4,11,11,4,10,3,6,10,8,7,16,7,5,12,15,14,4,11,9,17,16,11,12,10,4,7,7,5,13,9,16,6,6,17,3,7,7,6,3,5,4,8,4,10,8,6,11,5,10,19,10,3,9,5,6,3,3,9,13,8,2,13,14,24,2,10,7,8,9,8,3,12,4,24,9,4,9,5,16,8,5,4,4,9,13,9,8,3,12,11,11,11,21,4,4,14,9,4,6,4,23,12,21,6,5,10,4,4,11,6,13,11,5,18,13,3,7,9,5,3,9,8,5,6,13,10,8,8,15,10,3,6,6,6,4,9,3,13,6,6,9,3,2,3,13,9,4,4,11,3,4,10,4,16,12,16,2,33,20,3,18,16,9,3,17,9,3,14,7,4,8,15,14,15,4,6,3,20,3,16,17,8,14,15,4,10,4,15,8,7,7,10,9,5,13,12,6,11,10,8,8,3,33,10,3,12,13,14,10,5,3,10,13,9,10,15,6,7,3,7,20,13,6,11,11,14,9,4,5,14,7,6,13,9,8,5,2,8,9,4,5,9,14,4,4,9,15,13,27,6,4,16,4,9,13,9,12,13,7,9,18,7,8,10,3,10,2,14,6,5,6,3,9,5,5,15,11,7,9,7,14,15,7,3,13,5,9,20,10,8,4,10,10,7,3,2,5,11,4,14,10,10,6,4,6,26,7,4,14,20,5,4,14,9,3,20,3,16,20,3,12,12,5,20,15,8,7,6,10,10,11,12,4,5,13,14,12,15,18,4,12,15,9,3,10,8,6,10,10,5,5,5,12,13,6,4,7,6,3,6,9,12,5,11,7,12,11,14,27,16,10,6,3,2,7,9,5,3,13,11,5,12,6,7,9,4,4,11,15,3,10,6,17,11,14,8,11,4,9,3,8,13,13,8,2,11,3,11,14,21,2,8,12,19,7,6,22,11,7,7,6,13,6,15,12,11,10,4,4,8,9,8,5,4,4,8,8,6,11,15,6,17,9,8,3,12,3,3,8,7,5,11,2,8,12,17,5,11,13,12,8,11,9,14,7,5,8,5,5,5,8,4,6,16,16,26,12,13,11,7,22,16,12,10,7,3,3,4,2,6,5,5,4,17,12,7,8,10,9,5,16,6,12,5,11,17,15,5,6,8,8,6,3,6,14,6,17,16,4,24,3,6,6,7,13,17,3,6,7,8,6,14,6,19,16,6,7,7,23,18,7,3,10,5,2,8,10,6,14,16,12,9,5,12,14,3,5,15,9,21,4,2,8,4,6,8,13,3,9,8,9,4,9,9,5,20,9,9,7,13,8,12,11,8,14,3,14,7,6,7,10,9,9,13,12,10,12,21,10,16,23,6,13,13,11,9,7,7,11,16,17,2,22,10,10,3,6,7,6,3,8,7,12,11,15,12,8,7,10,5,8,13,11,8,5,11,12,6,4,5,3,11,10,18,8,10,19,5,3,8,7,4,16,12,3,11,11,12,18,16,8,3,10,7,3,11,3,11,8,14,7,4,27,22,10,6,15,13,12,7,8,4,14,13,5,8,15,12,12,13,18,6,5,13,3,7,16,5,6,15,14,3,15,2,10,27,18,4,12,22,3,11,5,16,3,8,9,6,4,16,6,11,11,8,13,16,9,15,10,6,3,6,10,7,9,20,15,7,5,3,10,6,10,13,9,15,7,21,10,9,13,22,19,8,21,9,4,21,9,2,7,11,8,12,10,9,4,8,3,2,7,12,6,11,3,4,8,6,15,6,7,9,6,4,6,3,20,6,11,4,6,4,6,9,16,3,18,6,5,8,3,9,22,8,11,9,6,8,9,16,7,6,14,9,5,11,9,22,8,11,7,7,14,5,14,8,10,10,4,5,3,8,7,16,2,9,7,2,7,12,8,26,7,10,20,12,8,9,6,18,18,7,9,5,6,11,16,3,6,17,3,6,16,2,6,2,15,7,12,6,12,13,6,7,11,4,17,13,6,11,12,19,5,14,21,9,3,13,10,21,18,24,11,7,3,3,16,23,11,10,4,8,23,4,4,13,4,12,13,4,7,30,20,6,4,13,11,19,8,6,3,7,2,3,9,13,2,23,9,9,6,4,10,10,19,6,8,3,7,26,11,10,6,13,4,5,24,6,6,9,6,6,3,8,12,9,21,12,5,8,7,16,10,21,6,3,2,11,4,4,12,9,12,12,7,10,2,14,25,6,16,17,4,23,10,3,22,4,4,3,2,14,4,13,4,6,14,11,5,14,9,11,10,2,17,12,5,3,9,9,3,7,21,10,5,4,7,7,9,8,5,9,3,6,5,4,12,11,4,4,7,7,5,3,11,10,8,8,4,7,7,6,3,17,6,7,6,22,9,17,7,3,4,6,10,10,11,10,9,5,3,4,4,11,9,4,7,11,4,7,5,4,20,19,3,3,15,7,7,28,9,4,24,5,6,6,10,5,4,13,13,18,7,15,4,6,14,18,7,13,9,21,8,7,16,16,5,2,7,24,12,3,13,5,3,6,17,10,14,18,5,5,14,12,16,14,6,7,3,9,14,5,3,9,9,11,9,8,14,3,5,5,9,9,5,8,2,3,3,6,16,9,9,9,9,13,7,12,17,5,8,11,3,14,8,3,6,16,5,4,4,13,6,12,11,8,12,13,8,4,3,9,11,3,12,17,9,12,2,10,7,21,11,5,6,15,3,5,3,8,19,9,13,16,6,6,6,7,9,9,3,18,11,9,8,7,17,9,7,13,3,4,7,8,8,4,23,10,9,11,7,19,4,15,3,4,4,12,5,4,16,15,19,7,13,11,16,7,3,5,5,22,30,11,9,13,4,23,17,11,5,8,24,11,10,9,6,6,13,9,6,5,6,17,6,17,7,5,6,8,3,10,2,20,5,8,15,8,4,3,6,5,7,13,3,7,10,8,7,5,12,6,8,6,12,28,9,8,20,9,8,6,11,17,4,3,12,19,11,3,16,9,8,9,7,18,21,5,11,11,11,15,5,13,11,11,3,22,10,13,8,6,10,20,10,10,6,4,24,14,13,5,5,3,9,6,6,3,16,6,6,9,14,6,7,8,5,8,6,5,6,12,17,10,12,7,12,9,4,21,9,13,10,12,18,9,9,18,4,11,8,7,8,4,5,5,15,4,23,14,9,6,15,14,15,6,15,4,13,5,8,6,16,3,19,6,8,19,4,13,4,6,9,6,6,25,13,5,19,4,5,15,4,6,6,5,3,4,10,7,4,19,7,13,3,3,20,5,14,12,2,13,19,7,4,9,9,10,19,12,4,8,4,15,2,8,3,5,8,9,6,11,4,3,6,14,10,9,8,22,14,2,6,16,10,15,8,2,3,6,12,5,11,11,6,6,4,13,6,5,7,4,23,5,4,6,3,15,17,4,13,7,3,11,8,8,19,5,3,12,17,9,13,15,6,15,9,14,8,22,12,9,13,4,28,6,6,14,7,7,6,7,23,5,16,2,12,21,13,10,11,5,5,10,14,16,5,7,14,11,23,14,10,10,5,26,10,3,5,20,10,7,7,2,5,12,4,10,18,10,7,4,7,8,3,8,18,11,13,7,15,5,11,7,12,12,12,8,6,12,11,10,20,11,15,4,11,14,7,7,4,21,21,2,8,6,5,10,5,13,9,6,17,5,9,3,6,8,4,8,16,5,5,23,11,14,3,14,8,6,6,5,2,16,3,9,16,8,2,6,13,3,7,16,10,10,12,3,9,8,15,7,10,7,5,10,9,17,19,9,5,8,9,6,6,6,6,9,13,4,14,3,4,25,9,8,5,7,8,5,14,7,14,7,5,8,7,16,13,12,5,8,18,13,7,20,9,11,5,6,20,16,15,13,14,10,10,6,5,13,2,10,6,14,7,10,5,14,7,8,7,10,14,4,6,10,15,11,9,8,7,8,8,14,4,3,12,4,18,11,7,3,5,8,3,11,20,12,19,4,8,19,10,14,14,8,7,10,3,3,21,20,6,14,6,4,7,10,5,9,5,18,9,4,8,13,22,17,11,4,5,6,5,3,2,14,11,3,13,22,12,10,4,9,2,8,5,8,6,12,3,10,21,5,12,5,14,9,3,27,7,9,4,4,13,11,4,6,6,5,4,27,5,3,17,5,13,7,2,15,9,10,6,9,5,4,6,6,8,14,8,17,10,17,8,8,4,5,10,13,7,7,12,26,3,4,7,16,12,14,11,10,4,5,9,19,8,17,8,7,7,10,13,4,9,10,6,7,7,6,5,9,5,5,11,5,6,4,12,6,10,9,8,12,4,7,11,18,5,11,6,13,8,6,5,3,5,17,8,6,11,5,8,7,16,7,9,5,14,8,10,10,11,12,7,11,10,8,15,18,5,4,23,15,26,4,3,7,16,18,5,6,17,22,12,6,7,6,8,7,4,8,22,4,2,11,8,17,22,3,8,5,14,6,10,10,11,18,16,10,5,8,2,15,9,4,8,8,24,11,16,5,10,7,9,16,8,11,14,13,6,8,4,18,5,19,21,9,22,5,13,7,19,8,13,7,11,5,4,7,5,5,4,22,6,4,5,14,12,6,5,7,4,8,10,11,10,10,18,14,7,17,5,5,7,6,6,14,8,8,6,10,8,6,4,5,10,11,10,14,20,10,7,6,12,8,13,11,2,12,10,6,16,13,10,10,4,1,6,5,4,8,4,6,8,13,23,7,6,14,9,8,18,7,4,3,3,20,5,7,6,11,8,3,12,4,3,2,8,12,14,8,13,6,10,11,8,17,8,4,5,8,5,12,4,5,8,8,4,8,13,4,10,20,19,7,12,14,4,7,5,8,9,28,12,6,26,14,5,5,7,24,3,6,7,6,5,4,4,7,10,5,6,6,9,4,18,11,6,7,8,3,9,12,7,16,5,7,9,12,3,4,6,10,4,19,3,5,4,6,4,3,2,7,14,15,28,11,8,2,8,11,18,7,4,3,13,6,7,15,4,15,11,4,15,18,22,4,16,13,10,4,7,8,8,16,8,3,4,8,16,7,8,14,12,13,11,9,11,7,6,6,10,17,9,12,5,6,7,5,7,20,6,4,3,8,3,6,6,14,15,10,6,15,12,16,11,13,3,5,8,10,4,9,6,16,9,10,3,6,10,5,8,3,9,4,3,13,4,20,15,7,11,16,18,9,6,17,17,10,20,20,5,11,10,11,7,5,4,9,9,7,16,11,7,11,22,11,15,10,6,4,9,6,4,6,8,6,11,8,4,17,14,12,8,8,16,5,5,4,13,4,11,5,13,9,10,8,9,5,3,8,8,22,5,6,16,6,6,7,11,8,7,3,14,10,11,19,16,12,5,12,12,4,5,16,7,6,7,6,7,5,9,11,10,11,10,13,13,2,13,5,7,6,5,12,15,4,14,11,13,12,12,14,18,9,17,9,3,15,5,12,15,12,10,11,20,12,9,2,16,5,6,8,7,7,11,5,5,3,4,7,10,6,3,6,12,3,5,13,19,8,12,11,6,6,9,16,12,4,17,3,20,11,5,8,12,20,6,7,4,3,9,11,9,7,12,3,8,17,11,3,3,5,8,15,6,5,12,7,24,8,4,7,4,9,12,13,8,17,15,7,6,7,9,4,10,10,11,4,11,2,11,10,19,9,4,18,7,8,8,5,12,9,11,5,9,4,22,15,19,13,9,13,13,9,10,8,11,8,4,2,5,7,5,14,9,9,4,5,10,13,6,4,11,4,9,7,11,4,20,11,4,16,6,8,8,5,5,7,13,4,14,8,11,14,12,20,11,12,2,3,7,13,2,6,7,4,16,7,4,10,6,3,6,12,18,15,5,10,12,4,6,14,16,18,3,23,21,5,9,3,15,20,4,5,4,14,1,20,7,8,8,8,10,7,9,7,7,10,8,12,14,11,18,20,13,19,15,5,11,4,15,5,5,10,4,7,19,8,6,8,6,6,9,6,3,12,4,16,15,8,23,16,6,7,14,4,17,28,11,3,8,3,2,5,7,5,5,9,20,10,6,9,11,10,4,7,14,5,14,8,11,18,6,3,12,13,6,9,7,13,8,7,15,8,7,6,9,7,11,4,4,15,9,13,6,8,8,10,12,20,2,7,6,8,3,24,12,25,9,5,9,8,17,4,10,3,16,12,7,8,7,16,4,6,14,2,7,11,9,8,15,5,15,7,12,15,4,9,17,16,14,9,14,6,11,3,4,4,2,4,20,12,13,25,9,7,12,4,10,9,3,13,7,9,17,4,9,5,14,8,3,5,7,5,8,7,18,7,8,8,10,6,9,8,5,6,7,11,10,20,14,13,7,3,8,14,19,4,22,8,4,3,2,12,9,7,3,13,3,5,7,8,19,6,8,4,9,4,15,12,18,8,9,11,12,9,17,15,12,3,15,9,10,7,10,2,9,9,13,14,24,14,16,15,9,6,5,3,10,4,6,3,22,4,11,4,7,8,5,26,14,16,22,4,20,7,8,35,10,11,4,4,8,10,15,6,5,3,9,14,7,19,7,6,13,19,15,4,9,8,15,11,18,4,8,3,20,10,7,18,10,3,15,8,10,9,8,13,3,8,6,5,9,8,3,9,6,7,7,4,5,6,5,8,12,20,11,6,12,12,4,4,4,4,28,7,6,19,14,5,20,12,4,6,8,9,10,9,12,12,12,7,5,11,14,13,3,11,16,3,9,4,4,11,5,10,4,8,10,8,15,11,10,19,5,6,4,3,12,6,13,4,14,7,8,10,7,16,6,6,11,7,13,11,34,9,4,7,5,16,24,21,16,2,17,2,9,5,6,9,7,6,8,10,11,19,3,5,9,5,9,5,9,10,18,13,7,4,14,13,12,7,4,10,6,6,10,28,9,11,5,20,4,17,16,4,7,10,15,12,9,4,7,5,7,14,4,14,10,5,14,13,22,9,5,5,6,5,8,7,19,4,6,15,3,6,7,3,12,11,3,9,17,14,14,10,5,10,9,4,13,22,13,10,7,11,9,11,12,7,6,6,9,4,7,8,10,16,3,10,13,10,6,24,12,12,13,10,11,15,3,10,20,8,12,6,14,6,7,17,6,9,7,3,13,11,9,9,12,4,6,4,10,8,5,9,3,7,8,9,16,6,10,5,13,11,6,10,16,6,14,4,7,5,25,5,4,4,11,16,12,15,12,15,10,9,11,13,8,17,7,18,6,16,18,10,9,17,5,4,12,5,10,10,7,10,7,5,5,4,20,14,14,7,5,3,3,15,3,15,4,18,3,6,14,3,8,14,7,9,2,18,2,7,9,6,10,8,9,3,17,3,27,7,6,3,22,6,23,6,5,17,8,10,10,13,11,12,5,15,5,24,18,5,8,22,7,15,10,5,3,6,12,20,15,7,10,2,4,7,10,8,12,11,5,5,5,13,8,4,23,4,8,13,6,11,5,14,4,4,6,11,5,12,6,6,10,12,11,2,10,3,2,6,4,13,15,6,3,4,10,17,9,7,10,3,5,5,13,9,4,4,25,2,3,9,3,13,19,8,9,3,11,13,14,8,12,12,6,3,10,12,5,3,10,10,9,10,12,5,5,10,5,7,9,15,11,3,10,12,9,6,8,12,7,10,12,19,22,3,11,13,18,6,7,4,16,9,8,5,10,18,9,9,10,5,11,6,18,4,4,8,17,5,12,10,6,8,6,3,5,15,7,8,4,6,4,6,5,11,9,5,7,9,7,7,8,10,9,9,3,8,11,10,6,8,15,4,18,3,8,7,5,9,14,3,5,7,6,11,13,6,11,4,12,18,6,8,13,21,13,2,6,3,12,13,3,7,6,9,6,5,7,8,5,2,5,7,13,13,12,2,15,6,15,3,4,7,13,5,7,6,10,15,6,14,13,3,8,10,10,6,13,3,24,4,3,9,6,4,5,8,5,5,10,5,12,9,10,3,28,5,4,8,7,15,6,4,2,4,18,4,12,10,7,9,9,9,9,8,5,3,6,12,5,5,9,15,19,5,10,8,24,6,12,14,14,4,14,2,21,6,8,6,19,7,7,9,4,6,8,7,2,3,7,8,8,7,9,12,5,14,12,10,4,13,19,13,9,10,5,10,9,23,9,8,6,12,9,7,8,22,19,11,17,14,7,20,10,17,16,12,13,12,29,12,4,4,4,13,3,6,20,10,9,24,5,13,9,11,20,24,26,6,7,3,14,9,7,4,7,25,5,9,14,7,5,16,12,9,4,5,6,3,15,9,5,15,8,9,6,10,2,9,3,6,9,6,10,14,6,11,9,3,11,7,10,3,5,16,13,3,5,17,11,3,13,6,2,11,7,7,7,15,7,16,21,16,19,20,10,9,5,3,5,11,3,6,11,13,14,5,6,10,11,20,11,10,8,9,4,5,8,11,4,4,4,25,12,16,9,14,15,4,3,5,4,14,12,6,7,10,3,16,30,10,11,4,8,4,30,4,8,14,10,4,12,5,10,11,6,7,7,6,3,4,10,10,9,16,6,5,6,6,6,5,15,9,9,5,10,5,28,12,7,15,12,15,6,11,5,7,15,9,11,9,5,8,3,23,17,14,12,9,13,10,6,8,10,7,4,3,6,10,7,3,2,6,4,8,11,5,3,7,6,9,12,13,10,9,14,4,2,8,3,17,11,3,6,12,5,4,5,6,12,8,5,8,5,2,10,6,12,9,8,7,3,13,3,5,11,2,15,14,5,3,11,15,3,10,20,14,9,4,8,3,5,8,5,10,6,13,3,5,12,18,12,10,5,10,7,7,4,9,14,11,4,13,20,4,4,15,11,9,4,2,22,13,16,4,7,11,3,8,7,6,12,5,3,5,6,4,15,3,34,12,4,18,11,5,3,8,24,9,2,7,13,5,11,9,3,8,6,12,11,7,9,9,3,9,12,10,8,2,5,6,7,7,12,28,17,4,4,8,6,4,4,4,6,7,21,4,6,11,9,9,6,3,16,7,9,11,12,9,10,25,4,5,6,14,12,4,7,3,6,9,8,7,9,18,4,7,13,8,12,4,7,10,24,14,7,2,16,12,10,12,20,8,9,15,10,7,13,6,11,4,21,15,21,3,18,5,6,5,11,3,2,6,6,3,5,6,8,3,8,6,15,11,10,4,16,4,10,6,9,2,11,7,7,4,22,11,10,8,10,11,5,5,11,4,10,15,7,9,4,5,7,6,5,3,21,4,10,19,3,6,3,9,16,8,7,3,10,8,8,4,16,3,7,6,5,10,10,9,13,13,14,8,7,3,17,8,3,5,15,7,13,7,22,3,16,14,5,12,16,7,6,10,12,4,7,9,7,17,8,7,8,3,6,10,2,21,20,9,11,9,3,26,5,12,6,5,19,6,5,8,11,12,10,9,10,7,5,12,8,4,6,6,6,12,3,9,6,16,6,9,9,11,13,11,6,8,4,5,14,7,10,9,9,4,8,3,8,10,20,5,9,10,5,7,26,15,15,13,6,17,16,13,3,3,4,4,12,8,3,6,8,8,7,6,10,4,13,7,10,7,7,6,7,5,6,8,9,7,3,16,24,5,11,7,9,17,5,12,15,4,3,9,14,13,8,3,9,3,5,10,8,13,6,11,4,4,13,4,11,11,7,9,16,3,5,12,4,4,5,8,12,17,11,7,11,3,3,14,5,8,25,18,5,8,5,8,4,10,11,4,8,7,11,3,20,21,11,6,6,8,11,8,9,5,20,25,8,11,12,24,4,9,8,6,7,7,4,5,13,7,4,17,9,6,11,9,5,24,9,8,13,16,15,7,9,6,23,11,19,6,16,16,9,9,9,10,2,7,9,2,8,11,4,11,9,4,4,8,5,14,10,21,8,19,13,4,8,6,11,9,14,14,15,10,11,5,10,7,9,4,27,8,7,3,7,6,7,12,3,3,6,13,7,5,8,18,17,22,2,12,10,22,6,9,2,20,8,19,6,4,11,11,12,12,8,5,11,6,6,12,8,6,7,6,5,10,6,3,3,23,17,3,2,5,4,6,13,10,6,14,11,6,12,2,14,7,11,7,7,3,10,14,4,9,9,13,6,22,5,7,10,13,23,3,9,22,6,15,5,2,9,22,9,14,17,4,18,20,7,19,3,10,20,13,8,14,10,13,4,9,13,26,18,11,7,2,7,16,8,6,6,8,20,13,3,2,11,5,5,5,4,17,8,6,6,9,10,10,9,6,13,5,10,6,6,9,12,7,8,7,19,6,6,22,11,9,4,4,18,10,6,8,8,7,7,12,8,3,2,4,6,13,12,13,9,7,15,9,5,3,5,6,8,7,15,9,10,6,14,19,7,14,12,4,8,9,20,10,4,8,8,4,15,13,5,8,2,7,27,10,8,9,15,13,23,9,4,10,27,12,4,7,22,9,12,3,23,5,14,3,2,6,17,8,14,6,8,8,5,4,3,5,13,7,5,8,17,6,7,11,12,14,10,8,9,6,7,7,9,7,3,11,22,15,9,35,17,8,17,4,7,5,22,9,6,13,24,9,2,9,4,14,24,6,5,5,4,5,5,10,13,9,6,12,6,5,6,12,9,3,6,7,8,3,8,11,5,15,4,5,3,12,10,5,3,19,4,14,4,5,9,13,7,9,15,8,3,3,13,3,16,11,6,11,8,18,4,10,4,10,14,2,11,5,19,4,3,4,5,7,8,10,21,10,8,7,8,5,7,6,13,11,8,5,18,20,12,8,6,8,6,6,8,12,5,9,7,3,6,10,9,11,8,8,6,24,14,3,4,11,8,13,17,8,6,4,14,7,19,8,6,9,5,17,18,7,7,10,5,11,12,8,7,14,10,28,8,4,19,3,10,9,11,5,12,3,13,2,4,12,16,4,28,7,10,24,7,18,13,8,9,16,8,3,20,9,15,4,11,10,6,11,3,11,12,6,10,17,18,17,3,9,14,9,7,11,3,8,8,13,4,6,3,11,7,5,14,10,4,8,7,24,3,16,15,4,11,20,3,9,11,7,8,4,12,12,4,6,8,19,15,4,8,4,8,6,5,18,24,3,7,8,15,16,17,7,19,8,3,3,5,3,5,10,7,9,11,12,7,8,6,12,15,9,4,7,9,24,7,8,3,14,5,4,8,3,8,16,4,9,4,2,9,6,21,16,9,15,7,4,4,13,2,6,14,14,12,15,6,4,4,6,15,3,20,3,18,9,15,6,30,11,4,11,13,13,22,10,15,15,4,12,22,6,9,2,4,11,10,4,14,10,17,6,5,8,7,6,6,5,6,3,7,11,7,11,3,13,12,6,15,5,15,7,3,8,4,17,14,4,11,4,8,10,5,22,11,3,18,7,2,6,7,6,7,4,3,4,6,6,12,14,14,3,9,9,3,6,14,21,7,8,12,2,6,14,7,5,7,9,22,4,6,22,8,20,15,16,11,5,4,12,4,20,9,6,3,21,4,16,10,6,9,14,13,7,18,12,5,12,4,13,11,9,4,5,2,6,5,7,12,12,10,10,16,14,4,5,5,14,4,18,3,8,7,5,13,20,9,16,7,8,4,16,4,7,3,8,7,6,3,11,8,5,6,6,10,11,7,15,13,8,13,21,10,7,14,4,8,4,9,11,9,4,17,14,8,11,17,19,3,4,15,16,3,11,3,10,5,10,7,8,8,7,5,4,12,12,8,8,13,3,10,10,11,10,3,8,18,13,8,5,5,19,7,14,3,9,9,15,11,4,8,5,12,6,4,29,9,22,7,12,20,12,8,11,10,4,9,23,12,11,4,12,7,10,17,3,6,6,8,15,8,3,8,3,4,8,20,8,14,3,14,5,4,5,3,13,14,17,14,6,7,22,14,9,6,11,5,4,4,14,11,7,6,9,15,8,15,10,17,2,7,4,6,8,19,2,9,7,13,3,7,8,10,13,7,12,11,8,6,3,13,22,7,13,5,17,3,11,3,10,9,15,11,5,5,6,7,9,9,25,7,18,3,5,7,12,5,7,4,9,4,4,12,10,5,11,8,3,11,15,7,24,9,5,5,12,6,8,7,6,22,2,3,8,9,12,11,24,10,20,3,4,6,3,13,4,29,13,10,5,10,4,7,7,11,9,6,7,9,8,11,16,9,8,11,11,10,8,4,5,5,4,3,6,5,7,9,11,5,12,7,22,7,13,9,13,16,6,7,5,22,20,4,5,14,4,5,6,12,4,15,7,2,9,4,21,10,3,4,9,5,14,4,5,12,7,14,11,15,14,13,4,3,18,10,11,12,9,7,9,6,7,7,12,17,5,15,6,10,7,8,9,6,3,10,12,11,2,4,4,9,5,6,15,5,19,12,5,13,11,8,4,5,16,5,6,11,6,4,9,4,10,13,5,9,15,10,20,9,5,4,7,4,16,4,10,6,17,10,6,8,6,25,13,11,4,5,5,6,12,10,12,3,4,16,7,2,4,14,7,6,6,16,9,5,19,9,16,7,5,3,7,6,3,10,7,3,17,13,13,8,9,12,19,6,16,2,8,4,4,3,6,3,5,9,9,2,5,14,9,13,12,6,12,3,6,25,7,21,6,4,9,7,4,10,5,12,7,8,8,5,8,9,4,7,4,9,3,7,9,5,11,19,6,9,18,4,6,2,5,13,10,13,5,16,7,14,9,21,23,11,9,14,14,10,2,8,7,6,10,7,7,10,7,13,3,3,12,5,11,5,20,7,10,18,6,3,4,14,14,6,13,4,6,5,5,4,8,8,7,17,4,20,8,6,6,6,10,18,18,4,13,11,7,9,9,10,3,14,8,7,8,7,8,11,2,15,12,6,4,5,10,3,20,6,10,8,10,3,10,5,14,8,8,4,17,16,19,9,6,8,9,4,6,19,2,3,5,9,7,10,10,9,12,3,10,6,7,6,7,3,3,4,8,13,4,4,3,6,5,12,15,11,4,5,7,5,3,5,3,5,10,14,9,4,7,6,6,3,17,8,9,5,5,5,4,4,8,5,3,9,13,9,5,10,9,7,3,5,8,7,9,4,10,9,17,14,10,10,11,19,5,3,6,9,9,7,6,4,11,7,16,13,12,3,5,25,9,11,1,16,21,17,25,14,4,11,12,6,7,8,9,10,8,15,2,15,9,9,12,14,24,8,13,7,13,19,20,15,3,4,10,10,12,6,7,11,7,4,10,11,13,16,13,14,20,13,5,6,10,12,8,4,9,4,13,14,6,10,8,6,14,9,5,17,6,7,8,7,7,6,6,6,12,8,5,8,9,16,7,4,12,6,5,13,9,9,10,16,6,17,13,12,14,17,10,3,10,13,15,13,3,4,5,5,15,15,5,6,7,7,2,12,8,6,18,10,8,6,8,6,6,8,4,4,15,4,14,6,7,8,20,14,3,8,12,9,12,8,5,8,10,5,11,15,22,4,3,8,6,9,6,7,6,6,11,13,6,12,8,5,3,14,7,12,7,10,26,6,23,3,7,13,2,10,11,18,19,10,5,4,7,9,25,15,5,3,10,12,11,12,4,4,6,13,10,5,18,4,9,7,18,8,14,5,5,3,20,22,7,8,9,3,6,5,10,11,15,6,12,19,17,4,5,9,5,11,12,14,12,10,13,5,4,6,15,4,12,3,6,9,10,6,11,3,6,13,22,9,4,10,16,13,2,2,8,8,4,5,11,25,7,8,5,10,9,12,15,22,5,7,4,6,16,7,5,7,21,6,10,3,4,8,4,4,5,28,9,12,4,10,10,15,13,20,8,21,11,8,13,5,14,11,20,3,10,20,3,4,12,12,6,28,5,5,8,11,23,2,9,13,2,8,9,9,4,10,10,8,5,15,14,10,7,5,6,9,3,9,3,7,9,8,9,7,11,13,12,9,20,7,8,3,4,25,5,12,7,10,6,9,5,11,15,12,3,2,12,12,3,12,8,11,11,23,7,10,14,6,25,9,3,9,4,5,24,13,8,11,11,3,4,14,12,17,12,2,8,2,4,5,8,4,6,7,5,18,4,3,9,4,9,8,6,10,6,16,5,4,4,5,4,3,4,4,10,7,18,6,6,19,8,12,5,6,9,3,18,3,7,4,5,16,15,15,14,4,14,15,10,12,14,8,9,4,7,11,16,3,11,13,6,10,4,16,19,8,5,25,6,6,16,3,8,12,12,13,20,5,4,10,16,9,6,22,13,8,8,9,20,9,13,2,4,10,8,2,16,10,3,10,7,10,13,10,5,6,7,10,8,7,3,5,11,5,7,8,6,10,20,11,10,8,7,21,17,4,6,16,6,4,18,18,11,6,3,10,12,11,7,3,10,10,12,5,8,6,10,11,13,7,7,14,4,17,7,4,7,8,11,10,3,4,12,10,18,25,7,8,11,7,6,16,14,11,7,8,15,10,8,12,10,4,6,3,3,8,5,6,4,6,27,6,5,8,16,7,5,22,11,15,24,3,4,3,6,4,13,23,6,11,13,7,5,5,10,10,3,12,15,9,5,3,14,5,4,6,13,8,11,9,5,4,7,7,5,9,11,12,11,9,8,11,9,9,13,14,9,3,7,22,22,12,3,16,6,6,8,20,19,8,15,5,9,15,15,5,6,13,10,7,3,8,8,28,9,12,7,4,6,15,11,6,6,4,4,4,5,17,5,8,8,7,6,14,19,13,9,8,11,7,15,7,6,6,4,15,12,8,7,14,2,12,7,14,8,7,7,17,19,5,4,8,3,12,6,17,6,16,12,12,12,14,9,7,9,4,9,3,3,6,21,9,9,19,3,18,9,9,8,16,10,7,10,3,4,8,11,19,5,6,20,7,5,4,12,22,9,3,1,5,10,4,19,3,5,15,8,6,9,4,11,14,14,9,7,12,2,3,10,16,3,6,6,2,5,3,1,3,12,14,24,8,8,11,13,10,23,16,12,4,10,12,6,9,3,6,6,18,2,12,6,4,3,7,23,10,8,12,4,3,10,16,19,6,4,15,5,7,6,7,6,7,10,2,9,2,16,26,5,6,6,6,12,8,16,15,18,9,6,16,6,14,7,13,18,12,7,4,6,12,7,5,11,10,12,9,4,13,20,8,9,3,13,5,4,15,11,19,6,18,3,11,8,8,3,11,5,9,10,8,12,25,11,16,12,9,6,5,11,14,19,9,6,4,14,12,14,16,10,3,13,6,9,3,3,32,8,9,8,4,16,4,8,9,6,24,6,7,12,3,6,13,14,14,4,9,5,8,12,2,6,7,3,3,12,13,7,11,6,2,10,13,6,9,5,4,4,5,7,15,7,9,8,11,7,5,8,6,11,7,17,6,18,16,13,6,3,11,5,8,8,16,14,3,16,11,7,4,13,15,5,13,7,9,10,14,7,3,10,8,4,4,15,10,13,5,4,7,16,5,10,13,4,3,10,4,5,8,6,7,9,9,5,23,5,4,8,15,2,5,8,4,5,6,4,8,9,7,3,7,3,4,11,17,15,5,8,19,22,27,4,7,10,14,7,21,4,10,9,3,7,5,4,5,5,4,33,8,8,6,10,7,12,9,16,5,3,6,5,9,12,14,16,10,4,12,8,6,5,8,9,10,11,11,5,6,10,4,21,8,7,7,9,5,3,10,17,7,4,5,7,13,19,16,3,7,8,9,6,8,7,7,8,3,21,18,17,7,7,9,11,9,13,8,14,3,16,14,15,3,18,15,9,8,7,10,7,7,24,8,12,6,10,23,8,4,6,20,8,9,18,27,8,8,6,8,10,13,3,13,4,6,7,17,18,11,8,8,23,5,6,6,15,7,6,4,23,13,11,23,7,13,10,3,7,19,9,5,22,10,15,5,4,3,10,5,16,9,10,3,8,5,3,12,7,9,10,17,3,7,5,10,6,11,8,3,9,14,8,4,17,6,11,13,10,10,3,7,7,5,4,5,17,5,14,8,4,7,6,4,11,3,7,6,11,3,4,20,10,9,11,11,3,6,5,8,12,8,7,16,3,16,5,4,4,9,6,3,10,9,8,6,12,13,12,6,20,5,9,5,9,1,12,4,3,11,3,4,11,4,10,5,11,5,10,13,7,11,10,14,14,19,4,6,12,12,13,8,9,19,9,13,14,19,8,13,4,12,15,5,7,14,4,5,6,4,12,12,6,5,6,15,3,5,8,19,6,3,3,8,5,15,16,21,18,6,14,6,14,4,5,11,9,2,8,4,5,14,10,4,4,7,11,6,5,4,8,3,24,3,9,18,5,6,7,6,10,14,10,3,25,9,9,7,7,22,14,5,7,12,7,15,8,9,4,10,8,9,9,5,5,4,4,16,9,11,3,8,19,15,5,7,12,14,6,11,25,18,5,13,14,8,10,6,4,4,11,9,5,8,7,17,3,5,16,15,16,12,8,6,13,20,10,15,3,2,6,7,7,26,24,6,9,5,5,6,12,9,24,23,3,6,5,6,20,10,5,7,14,16,23,2,9,11,13,11,4,5,6,11,11,15,14,10,12,12,3,8,8,9,3,8,4,3,6,3,12,8,17,11,13,7,10,16,11,9,8,8,9,6,11,3,8,4,6,3,10,10,6,4,7,10,5,11,7,3,16,3,4,6,11,3,17,12,11,19,6,8,6,3,11,5,6,12,9,5,5,10,11,3,4,2,21,7,12,5,8,9,10,5,4,9,10,9,9,14,10,12,7,9,13,7,13,5,11,7,9,17,11,5,12,6,3,13,12,6,4,7,8,5,9,17,15,8,8,7,3,18,15,4,16,8,11,8,14,7,9,3,5,31,5,10,7,20,9,6,11,8,7,11,8,11,10,10,18,10,7,9,13,8,4,8,8,3,5,7,6,9,8,12,7,18,11,4,7,6,3,3,5,5,16,6,5,9,18,6,7,5,8,4,12,14,7,8,6,15,14,9,5,13,10,13,3,15,10,7,10,4,9,5,6,6,15,4,8,14,22,7,4,11,11,7,11,8,7,6,5,6,4,15,8,5,8,9,4,7,11,8,27,11,6,6,10,22,3,12,9,17,16,24,2,11,13,8,9,13,4,11,8,11,14,19,4,3,9,4,9,3,8,5,13,4,25,11,4,7,6,13,12,15,4,2,4,6,14,8,9,3,12,7,10,5,5,6,9,4,4,11,10,5,4,14,7,10,3,13,8,17,4,6,9,10,10,4,4,10,15,7,6,14,6,7,8,12,4,9,6,11,3,5,3,7,11,4,22,6,18,3,10,4,12,10,6,4,10,3,12,23,21,29,13,14,14,9,10,14,8,11,3,12,7,18,20,6,12,5,3,8,5,20,6,7,5,7,11,27,6,5,18,6,5,18,4,13,9,9,4,8,8,12,8,12,7,9,10,7,3,8,6,6,5,25,15,9,3,6,3,5,6,4,11,6,5,20,17,5,5,5,4,5,7,28,9,14,15,5,7,15,3,15,10,11,7,8,6,8,19,3,5,8,21,3,9,8,5,4,7,10,13,5,3,6,14,4,5,8,7,4,4,5,7,8,12,9,7,6,5,9,11,12,7,9,5,4,18,2,11,13,8,7,14,4,3,15,3,11,9,8,4,9,6,17,6,8,13,4,17,7,20,5,9,2,10,7,4,4,7,10,10,6,6,3,8,9,5,9,6,9,9,28,10,14,5,9,9,5,6,9,10,3,17,13,3,9,11,5,10,10,3,5,6,11,6,8,3,11,8,18,4,6,9,3,2,7,10,9,9,6,5,11,8,9,19,2,17,8,8,11,13,11,7,15,5,3,5,8,5,3,8,2,27,14,3,2,3,4,12,12,5,11,6,5,3,7,11,3,15,4,5,4,15,14,11,10,5,17,15,17,10,8,18,5,3,2,5,7,4,9,8,10,9,5,7,4,14,6,21,9,4,8,8,5,2,18,6,5,10,15,3,10,12,6,3,4,4,7,3,5,4,9,20,9,5,2,8,8,18,18,4,8,8,5,4,18,9,2,11,10,2,9,27,23,13,8,20,4,6,18,8,9,3,8,13,11,3,28,6,7,2,5,5,7,4,9,13,4,9,15,5,5,4,11,3,5,11,8,11,15,12,9,24,4,5,12,7,16,4,14,3,7,3,5,6,19,3,11,9,8,10,13,5,10,13,7,10,15,12,18,7,25,5,2,11,6,9,3,8,7,13,29,8,13,8,8,15,13,5,3,6,18,15,6,12,5,14,12,17,13,14,8,14,5,6,11,11,6,7,14,7,16,2,9,13,4,15,10,7,8,5,6,8,5,3,15,7,4,9,11,3,7,4,8,15,9,27,4,8,11,12,9,22,10,9,15,8,6,7,14,13,26,9,11,7,5,13,9,21,10,4,9,6,7,8,3,3,3,23,21,16,7,7,4,4,7,14,12,4,5,11,13,3,7,15,6,12,3,7,14,5,14,5,3,20,5,6,19,8,13,9,13,4,9,8,7,10,3,17,11,5,13,5,4,2,3,5,7,8,3,15,3,4,5,5,4,10,16,4,3,7,13,7,16,8,12,18,6,7,8,4,14,4,7,7,5,7,3,12,5,12,7,21,11,10,4,6,3,9,5,3,5,3,4,3,13,6,17,4,12,15,8,16,8,11,2,10,3,11,13,18,7,4,2,19,5,13,9,15,3,9,10,8,5,14,9,9,12,11,9,8,5,9,4,4,6,4,27,14,9,4,12,14,7,14,13,3,2,9,6,8,5,17,11,5,5,16,6,10,13,18,3,6,6,7,14,14,10,27,5,13,17,4,2,6,15,16,4,11,8,11,7,15,8,20,7,18,4,2,20,7,18,16,3,7,8,5,5,10,8,7,10,5,7,13,9,11,15,6,8,4,17,9,5,8,3,4,5,12,9,15,13,6,10,6,11,10,10,5,11,8,16,22,7,7,14,3,6,7,21,4,10,19,5,7,10,7,6,20,8,19,13,15,19,14,12,8,15,8,11,12,7,22,4,3,14,4,6,12,5,12,7,14,5,4,5,6,13,17,5,8,8,5,15,6,8,6,5,18,11,5,23,18,18,6,4,12,12,9,26,3,7,8,9,4,3,6,10,13,5,6,7,3,12,16,15,10,9,9,11,6,16,15,4,14,22,4,4,7,11,9,7,4,10,4,6,13,5,11,9,19,19,9,15,5,3,8,10,4,4,5,8,9,3,4,17,2,6,20,8,14,13,20,11,3,7,17,6,5,2,7,3,6,27,11,21,19,4,6,2,6,13,9,13,12,10,6,11,7,10,9,7,5,8,8,6,3,4,13,8,3,7,9,15,25,6,6,15,7,5,9,5,15,9,9,19,17,7,24,14,7,7,10,3,8,6,10,7,3,12,5,3,3,4,15,8,7,9,8,8,24,13,3,13,6,14,18,6,8,4,9,9,11,14,16,15,27,12,9,10,12,13,5,7,15,6,15,14,6,9,10,19,15,6,6,5,9,4,15,9,4,8,12,7,6,11,8,10,6,3,10,5,11,7,4,17,4,13,5,15,8,14,3,2,5,8,7,8,14,19,2,12,14,7,8,11,14,11,19,9,4,5,23,8,11,18,12,6,3,14,15,14,10,3,10,5,8,3,9,14,20,16,3,6,5,11,5,15,3,10,4,7,17,6,8,7,3,9,13,16,17,11,12,2,8,17,4,5,3,15,8,4,16,13,10,8,19,12,11,13,7,6,9,11,8,7,8,8,10,9,8,8,6,3,4,2,14,11,12,10,27,11,8,3,12,3,8,9,10,3,5,10,14,5,6,9,10,6,6,7,6,16,12,6,11,10,15,17,8,4,8,5,17,4,14,9,7,17,6,6,4,12,7,13,8,21,7,8,10,13,13,4,5,14,19,12,12,9,4,7,17,9,4,6,6,5,10,22,11,6,7,3,5,6,4,13,9,7,9,4,11,12,7,4,12,4,4,14,7,9,7,7,8,5,6,5,11,5,10,12,10,5,9,9,5,8,5,2,9,7,11,8,11,10,6,9,4,18,10,26,3,16,15,2,6,11,12,22,14,10,4,11,8,6,9,4,4,4,4,12,7,26,7,24,2,4,18,5,5,4,21,8,8,11,6,4,7,5,6,8,13,17,10,20,8,7,6,8,13,5,6,7,18,5,12,16,3,5,8,8,6,7,5,12,11,3,6,9,7,10,8,4,5,8,11,14,4,5,4,10,4,5,6,13,6,19,8,11,23,7,5,15,5,3,5,4,20,8,3,16,5,8,9,15,5,12,14,7,23,5,3,4,7,19,5,11,14,9,5,14,10,8,9,3,9,8,10,5,11,14,8,4,14,9,10,25,10,7,5,6,14,6,10,4,21,4,21,5,7,7,12,11,5,7,5,7,12,16,13,3,16,15,12,10,9,16,4,14,16,4,32,11,11,4,18,15,14,3,24,13,16,4,4,12,13,9,2,3,13,11,15,8,11,5,8,31,5,5,5,6,7,10,15,20,11,5,8,21,14,14,9,15,14,8,19,16,3,15,9,14,13,6,2,4,4,2,3,12,19,14,9,23,7,13,12,17,19,5,4,4,6,4,19,16,3,3,4,4,8,13,3,12,8,15,10,8,6,23,7,4,4,9,4,7,9,8,13,10,10,3,8,5,8,8,10,8,10,7,13,11,9,17,6,12,22,14,14,9,15,2,10,22,8,16,7,6,9,13,13,10,11,16,11,11,13,5,17,3,13,6,5,7,9,6,14,7,14,17,8,11,4,8,3,5,11,9,12,8,8,5,8,9,13,3,5,16,20,17,3,4,6,4,6,8,12,18,12,6,11,12,11,8,5,5,7,8,4,7,10,4,5,11,8,12,16,12,5,15,12,10,4,4,7,3,5,9,8,3,20,7,3,17,11,20,7,15,13,8,5,3,19,6,5,24,10,12,11,8,4,8,9,4,6,5],\"x0\":\" \",\"xaxis\":\"x\",\"y0\":\" \",\"yaxis\":\"y\",\"type\":\"box\"}],                        {\"template\":{\"data\":{\"barpolar\":[{\"marker\":{\"line\":{\"color\":\"white\",\"width\":0.5},\"pattern\":{\"fillmode\":\"overlay\",\"size\":10,\"solidity\":0.2}},\"type\":\"barpolar\"}],\"bar\":[{\"error_x\":{\"color\":\"#2a3f5f\"},\"error_y\":{\"color\":\"#2a3f5f\"},\"marker\":{\"line\":{\"color\":\"white\",\"width\":0.5},\"pattern\":{\"fillmode\":\"overlay\",\"size\":10,\"solidity\":0.2}},\"type\":\"bar\"}],\"carpet\":[{\"aaxis\":{\"endlinecolor\":\"#2a3f5f\",\"gridcolor\":\"#C8D4E3\",\"linecolor\":\"#C8D4E3\",\"minorgridcolor\":\"#C8D4E3\",\"startlinecolor\":\"#2a3f5f\"},\"baxis\":{\"endlinecolor\":\"#2a3f5f\",\"gridcolor\":\"#C8D4E3\",\"linecolor\":\"#C8D4E3\",\"minorgridcolor\":\"#C8D4E3\",\"startlinecolor\":\"#2a3f5f\"},\"type\":\"carpet\"}],\"choropleth\":[{\"colorbar\":{\"outlinewidth\":0,\"ticks\":\"\"},\"type\":\"choropleth\"}],\"contourcarpet\":[{\"colorbar\":{\"outlinewidth\":0,\"ticks\":\"\"},\"type\":\"contourcarpet\"}],\"contour\":[{\"colorbar\":{\"outlinewidth\":0,\"ticks\":\"\"},\"colorscale\":[[0.0,\"#0d0887\"],[0.1111111111111111,\"#46039f\"],[0.2222222222222222,\"#7201a8\"],[0.3333333333333333,\"#9c179e\"],[0.4444444444444444,\"#bd3786\"],[0.5555555555555556,\"#d8576b\"],[0.6666666666666666,\"#ed7953\"],[0.7777777777777778,\"#fb9f3a\"],[0.8888888888888888,\"#fdca26\"],[1.0,\"#f0f921\"]],\"type\":\"contour\"}],\"heatmapgl\":[{\"colorbar\":{\"outlinewidth\":0,\"ticks\":\"\"},\"colorscale\":[[0.0,\"#0d0887\"],[0.1111111111111111,\"#46039f\"],[0.2222222222222222,\"#7201a8\"],[0.3333333333333333,\"#9c179e\"],[0.4444444444444444,\"#bd3786\"],[0.5555555555555556,\"#d8576b\"],[0.6666666666666666,\"#ed7953\"],[0.7777777777777778,\"#fb9f3a\"],[0.8888888888888888,\"#fdca26\"],[1.0,\"#f0f921\"]],\"type\":\"heatmapgl\"}],\"heatmap\":[{\"colorbar\":{\"outlinewidth\":0,\"ticks\":\"\"},\"colorscale\":[[0.0,\"#0d0887\"],[0.1111111111111111,\"#46039f\"],[0.2222222222222222,\"#7201a8\"],[0.3333333333333333,\"#9c179e\"],[0.4444444444444444,\"#bd3786\"],[0.5555555555555556,\"#d8576b\"],[0.6666666666666666,\"#ed7953\"],[0.7777777777777778,\"#fb9f3a\"],[0.8888888888888888,\"#fdca26\"],[1.0,\"#f0f921\"]],\"type\":\"heatmap\"}],\"histogram2dcontour\":[{\"colorbar\":{\"outlinewidth\":0,\"ticks\":\"\"},\"colorscale\":[[0.0,\"#0d0887\"],[0.1111111111111111,\"#46039f\"],[0.2222222222222222,\"#7201a8\"],[0.3333333333333333,\"#9c179e\"],[0.4444444444444444,\"#bd3786\"],[0.5555555555555556,\"#d8576b\"],[0.6666666666666666,\"#ed7953\"],[0.7777777777777778,\"#fb9f3a\"],[0.8888888888888888,\"#fdca26\"],[1.0,\"#f0f921\"]],\"type\":\"histogram2dcontour\"}],\"histogram2d\":[{\"colorbar\":{\"outlinewidth\":0,\"ticks\":\"\"},\"colorscale\":[[0.0,\"#0d0887\"],[0.1111111111111111,\"#46039f\"],[0.2222222222222222,\"#7201a8\"],[0.3333333333333333,\"#9c179e\"],[0.4444444444444444,\"#bd3786\"],[0.5555555555555556,\"#d8576b\"],[0.6666666666666666,\"#ed7953\"],[0.7777777777777778,\"#fb9f3a\"],[0.8888888888888888,\"#fdca26\"],[1.0,\"#f0f921\"]],\"type\":\"histogram2d\"}],\"histogram\":[{\"marker\":{\"pattern\":{\"fillmode\":\"overlay\",\"size\":10,\"solidity\":0.2}},\"type\":\"histogram\"}],\"mesh3d\":[{\"colorbar\":{\"outlinewidth\":0,\"ticks\":\"\"},\"type\":\"mesh3d\"}],\"parcoords\":[{\"line\":{\"colorbar\":{\"outlinewidth\":0,\"ticks\":\"\"}},\"type\":\"parcoords\"}],\"pie\":[{\"automargin\":true,\"type\":\"pie\"}],\"scatter3d\":[{\"line\":{\"colorbar\":{\"outlinewidth\":0,\"ticks\":\"\"}},\"marker\":{\"colorbar\":{\"outlinewidth\":0,\"ticks\":\"\"}},\"type\":\"scatter3d\"}],\"scattercarpet\":[{\"marker\":{\"colorbar\":{\"outlinewidth\":0,\"ticks\":\"\"}},\"type\":\"scattercarpet\"}],\"scattergeo\":[{\"marker\":{\"colorbar\":{\"outlinewidth\":0,\"ticks\":\"\"}},\"type\":\"scattergeo\"}],\"scattergl\":[{\"marker\":{\"colorbar\":{\"outlinewidth\":0,\"ticks\":\"\"}},\"type\":\"scattergl\"}],\"scattermapbox\":[{\"marker\":{\"colorbar\":{\"outlinewidth\":0,\"ticks\":\"\"}},\"type\":\"scattermapbox\"}],\"scatterpolargl\":[{\"marker\":{\"colorbar\":{\"outlinewidth\":0,\"ticks\":\"\"}},\"type\":\"scatterpolargl\"}],\"scatterpolar\":[{\"marker\":{\"colorbar\":{\"outlinewidth\":0,\"ticks\":\"\"}},\"type\":\"scatterpolar\"}],\"scatter\":[{\"marker\":{\"colorbar\":{\"outlinewidth\":0,\"ticks\":\"\"}},\"type\":\"scatter\"}],\"scatterternary\":[{\"marker\":{\"colorbar\":{\"outlinewidth\":0,\"ticks\":\"\"}},\"type\":\"scatterternary\"}],\"surface\":[{\"colorbar\":{\"outlinewidth\":0,\"ticks\":\"\"},\"colorscale\":[[0.0,\"#0d0887\"],[0.1111111111111111,\"#46039f\"],[0.2222222222222222,\"#7201a8\"],[0.3333333333333333,\"#9c179e\"],[0.4444444444444444,\"#bd3786\"],[0.5555555555555556,\"#d8576b\"],[0.6666666666666666,\"#ed7953\"],[0.7777777777777778,\"#fb9f3a\"],[0.8888888888888888,\"#fdca26\"],[1.0,\"#f0f921\"]],\"type\":\"surface\"}],\"table\":[{\"cells\":{\"fill\":{\"color\":\"#EBF0F8\"},\"line\":{\"color\":\"white\"}},\"header\":{\"fill\":{\"color\":\"#C8D4E3\"},\"line\":{\"color\":\"white\"}},\"type\":\"table\"}]},\"layout\":{\"annotationdefaults\":{\"arrowcolor\":\"#2a3f5f\",\"arrowhead\":0,\"arrowwidth\":1},\"autotypenumbers\":\"strict\",\"coloraxis\":{\"colorbar\":{\"outlinewidth\":0,\"ticks\":\"\"}},\"colorscale\":{\"diverging\":[[0,\"#8e0152\"],[0.1,\"#c51b7d\"],[0.2,\"#de77ae\"],[0.3,\"#f1b6da\"],[0.4,\"#fde0ef\"],[0.5,\"#f7f7f7\"],[0.6,\"#e6f5d0\"],[0.7,\"#b8e186\"],[0.8,\"#7fbc41\"],[0.9,\"#4d9221\"],[1,\"#276419\"]],\"sequential\":[[0.0,\"#0d0887\"],[0.1111111111111111,\"#46039f\"],[0.2222222222222222,\"#7201a8\"],[0.3333333333333333,\"#9c179e\"],[0.4444444444444444,\"#bd3786\"],[0.5555555555555556,\"#d8576b\"],[0.6666666666666666,\"#ed7953\"],[0.7777777777777778,\"#fb9f3a\"],[0.8888888888888888,\"#fdca26\"],[1.0,\"#f0f921\"]],\"sequentialminus\":[[0.0,\"#0d0887\"],[0.1111111111111111,\"#46039f\"],[0.2222222222222222,\"#7201a8\"],[0.3333333333333333,\"#9c179e\"],[0.4444444444444444,\"#bd3786\"],[0.5555555555555556,\"#d8576b\"],[0.6666666666666666,\"#ed7953\"],[0.7777777777777778,\"#fb9f3a\"],[0.8888888888888888,\"#fdca26\"],[1.0,\"#f0f921\"]]},\"colorway\":[\"#636efa\",\"#EF553B\",\"#00cc96\",\"#ab63fa\",\"#FFA15A\",\"#19d3f3\",\"#FF6692\",\"#B6E880\",\"#FF97FF\",\"#FECB52\"],\"font\":{\"color\":\"#2a3f5f\"},\"geo\":{\"bgcolor\":\"white\",\"lakecolor\":\"white\",\"landcolor\":\"white\",\"showlakes\":true,\"showland\":true,\"subunitcolor\":\"#C8D4E3\"},\"hoverlabel\":{\"align\":\"left\"},\"hovermode\":\"closest\",\"mapbox\":{\"style\":\"light\"},\"paper_bgcolor\":\"white\",\"plot_bgcolor\":\"white\",\"polar\":{\"angularaxis\":{\"gridcolor\":\"#EBF0F8\",\"linecolor\":\"#EBF0F8\",\"ticks\":\"\"},\"bgcolor\":\"white\",\"radialaxis\":{\"gridcolor\":\"#EBF0F8\",\"linecolor\":\"#EBF0F8\",\"ticks\":\"\"}},\"scene\":{\"xaxis\":{\"backgroundcolor\":\"white\",\"gridcolor\":\"#DFE8F3\",\"gridwidth\":2,\"linecolor\":\"#EBF0F8\",\"showbackground\":true,\"ticks\":\"\",\"zerolinecolor\":\"#EBF0F8\"},\"yaxis\":{\"backgroundcolor\":\"white\",\"gridcolor\":\"#DFE8F3\",\"gridwidth\":2,\"linecolor\":\"#EBF0F8\",\"showbackground\":true,\"ticks\":\"\",\"zerolinecolor\":\"#EBF0F8\"},\"zaxis\":{\"backgroundcolor\":\"white\",\"gridcolor\":\"#DFE8F3\",\"gridwidth\":2,\"linecolor\":\"#EBF0F8\",\"showbackground\":true,\"ticks\":\"\",\"zerolinecolor\":\"#EBF0F8\"}},\"shapedefaults\":{\"line\":{\"color\":\"#2a3f5f\"}},\"ternary\":{\"aaxis\":{\"gridcolor\":\"#DFE8F3\",\"linecolor\":\"#A2B1C6\",\"ticks\":\"\"},\"baxis\":{\"gridcolor\":\"#DFE8F3\",\"linecolor\":\"#A2B1C6\",\"ticks\":\"\"},\"bgcolor\":\"white\",\"caxis\":{\"gridcolor\":\"#DFE8F3\",\"linecolor\":\"#A2B1C6\",\"ticks\":\"\"}},\"title\":{\"x\":0.05},\"xaxis\":{\"automargin\":true,\"gridcolor\":\"#EBF0F8\",\"linecolor\":\"#EBF0F8\",\"ticks\":\"\",\"title\":{\"standoff\":15},\"zerolinecolor\":\"#EBF0F8\",\"zerolinewidth\":2},\"yaxis\":{\"automargin\":true,\"gridcolor\":\"#EBF0F8\",\"linecolor\":\"#EBF0F8\",\"ticks\":\"\",\"title\":{\"standoff\":15},\"zerolinecolor\":\"#EBF0F8\",\"zerolinewidth\":2}}},\"xaxis\":{\"anchor\":\"y\",\"domain\":[0.0,1.0],\"title\":{\"text\":\"Number of Words\"}},\"yaxis\":{\"anchor\":\"x\",\"domain\":[0.0,1.0],\"title\":{\"text\":\"Frequency\"}},\"legend\":{\"tracegroupgap\":0},\"margin\":{\"t\":60},\"boxmode\":\"group\",\"title\":{\"text\":\"Boxplot of Number of Words per Sample | Emotion Prediction\",\"x\":0.4,\"xanchor\":\"center\"},\"showlegend\":false,\"hovermode\":\"x\"},                        {\"responsive\": true}                    ).then(function(){\n",
              "                            \n",
              "var gd = document.getElementById('dd67b892-4f04-4331-8a0f-0b49eeb329f0');\n",
              "var x = new MutationObserver(function (mutations, observer) {{\n",
              "        var display = window.getComputedStyle(gd).display;\n",
              "        if (!display || display === 'none') {{\n",
              "            console.log([gd, 'removed!']);\n",
              "            Plotly.purge(gd);\n",
              "            observer.disconnect();\n",
              "        }}\n",
              "}});\n",
              "\n",
              "// Listen for the removal of the full notebook cells\n",
              "var notebookContainer = gd.closest('#notebook-container');\n",
              "if (notebookContainer) {{\n",
              "    x.observe(notebookContainer, {childList: true});\n",
              "}}\n",
              "\n",
              "// Listen for the clearing of the current output cell\n",
              "var outputEl = gd.closest('.output');\n",
              "if (outputEl) {{\n",
              "    x.observe(outputEl, {childList: true});\n",
              "}}\n",
              "\n",
              "                        })                };                            </script>        </div>\n",
              "</body>\n",
              "</html>"
            ]
          },
          "metadata": {}
        }
      ],
      "source": [
        "fig = px.box(\n",
        "    x=list_seq_lengths,\n",
        "    template='plotly_white'\n",
        ")\n",
        "fig.update_layout(\n",
        "    title={\n",
        "        'text': \"Boxplot of Number of Words per Sample | Emotion Prediction\",\n",
        "        'x': 0.4,\n",
        "        'xanchor': 'center'\n",
        "    })\n",
        "fig.update_yaxes(title='Frequency').update_xaxes(\n",
        "    title='Number of Words')\n",
        "fig.update_layout(showlegend=False)\n",
        "fig.update_layout(hovermode='x')\n",
        "fig.show()"
      ]
    },
    {
      "cell_type": "code",
      "execution_count": 19,
      "metadata": {
        "ExecuteTime": {
          "end_time": "2022-05-28T20:04:48.827188Z",
          "start_time": "2022-05-28T20:04:44.293013Z"
        },
        "id": "DofzUeKDWCMw",
        "outputId": "39eee379-336d-41d5-a357-343802fa7ad7",
        "colab": {
          "base_uri": "https://localhost:8080/",
          "height": 35
        }
      },
      "outputs": [
        {
          "output_type": "execute_result",
          "data": {
            "text/plain": [
              "'https://plotly.com/~royn5618/116/'"
            ],
            "application/vnd.google.colaboratory.intrinsic+json": {
              "type": "string"
            }
          },
          "metadata": {},
          "execution_count": 19
        }
      ],
      "source": [
        "py.plot(fig, filename=\"Boxplot of Number of Words Per Sample | Emotion Prediction\", auto_open = True)"
      ]
    },
    {
      "cell_type": "code",
      "execution_count": 20,
      "metadata": {
        "ExecuteTime": {
          "end_time": "2022-05-28T20:04:53.117120Z",
          "start_time": "2022-05-28T20:04:48.836657Z"
        },
        "id": "9jzVDMt5WCMw"
      },
      "outputs": [],
      "source": [
        "vocab_size = 10000\n",
        "vector_size = 300\n",
        "max_seq_len = 20\n",
        "\n",
        "tokenizer = Tokenizer(oov_token = \"<OOV>\", num_words=vocab_size, lower=True)\n",
        "tokenizer.fit_on_texts(train_data['text'])\n",
        "\n",
        "sequences_train = tokenizer.texts_to_sequences(train_data['text'])\n",
        "sequences_test = tokenizer.texts_to_sequences(test_data['text'])\n",
        "sequences_val = tokenizer.texts_to_sequences(val_data['text'])\n",
        "\n",
        "padded_train = pad_sequences(sequences_train, padding = 'post', maxlen=max_seq_len)\n",
        "padded_test = pad_sequences(sequences_test, padding = 'post', maxlen=max_seq_len)\n",
        "padded_val = pad_sequences(sequences_val, padding = 'post', maxlen=max_seq_len)"
      ]
    },
    {
      "cell_type": "markdown",
      "metadata": {
        "id": "DKRL8E4bWCMw"
      },
      "source": [
        "### Model Training"
      ]
    },
    {
      "cell_type": "code",
      "execution_count": 21,
      "metadata": {
        "ExecuteTime": {
          "end_time": "2022-05-28T20:04:53.147899Z",
          "start_time": "2022-05-28T20:04:53.128597Z"
        },
        "id": "eO0L_4MEWCMw"
      },
      "outputs": [],
      "source": [
        "EPOCHS = 20\n",
        "PATIENCE = 5\n",
        "FILEPATH='models/emotion_classifier_improved.h5'"
      ]
    },
    {
      "cell_type": "code",
      "execution_count": 22,
      "metadata": {
        "ExecuteTime": {
          "end_time": "2022-05-28T20:04:53.179377Z",
          "start_time": "2022-05-28T20:04:53.159021Z"
        },
        "id": "mvA-bipzWCMx"
      },
      "outputs": [],
      "source": [
        "def get_model():\n",
        "    model = Sequential()\n",
        "    model.add(\n",
        "        Embedding(input_dim=vocab_size,\n",
        "                  output_dim=vector_size,\n",
        "                  input_length=max_seq_len))\n",
        "    model.add(Dropout(0.8))\n",
        "    model.add(LSTM(64,return_sequences=True))\n",
        "    model.add(LSTM(16))\n",
        "    model.add(Dense(6,activation='softmax'))\n",
        "    return model"
      ]
    },
    {
      "cell_type": "code",
      "execution_count": 23,
      "metadata": {
        "ExecuteTime": {
          "end_time": "2022-05-28T20:04:53.209683Z",
          "start_time": "2022-05-28T20:04:53.193330Z"
        },
        "id": "piBOX-pvWCMx"
      },
      "outputs": [],
      "source": [
        "callbacks = [\n",
        "    keras.callbacks.EarlyStopping(monitor='val_loss',\n",
        "                                  mode='min',\n",
        "                                  patience=PATIENCE,\n",
        "                                  verbose=1,\n",
        "                                  restore_best_weights=True),\n",
        "    keras.callbacks.ModelCheckpoint(filepath=FILEPATH,\n",
        "                                    verbose=1,\n",
        "                                    save_best_only=True)\n",
        "]"
      ]
    },
    {
      "cell_type": "code",
      "execution_count": 24,
      "metadata": {
        "ExecuteTime": {
          "end_time": "2022-05-28T20:04:56.098937Z",
          "start_time": "2022-05-28T20:04:53.238494Z"
        },
        "id": "c4o5MUb6WCMx",
        "outputId": "b670781d-2749-4f95-9ffc-523b71c602ce",
        "colab": {
          "base_uri": "https://localhost:8080/"
        }
      },
      "outputs": [
        {
          "output_type": "stream",
          "name": "stdout",
          "text": [
            "Model: \"sequential\"\n",
            "_________________________________________________________________\n",
            "Layer (type)                 Output Shape              Param #   \n",
            "=================================================================\n",
            "embedding (Embedding)        (None, 20, 300)           3000000   \n",
            "_________________________________________________________________\n",
            "dropout (Dropout)            (None, 20, 300)           0         \n",
            "_________________________________________________________________\n",
            "lstm (LSTM)                  (None, 20, 64)            93440     \n",
            "_________________________________________________________________\n",
            "lstm_1 (LSTM)                (None, 16)                5184      \n",
            "_________________________________________________________________\n",
            "dense (Dense)                (None, 6)                 102       \n",
            "=================================================================\n",
            "Total params: 3,098,726\n",
            "Trainable params: 3,098,726\n",
            "Non-trainable params: 0\n",
            "_________________________________________________________________\n"
          ]
        }
      ],
      "source": [
        "model = get_model()\n",
        "model.summary()"
      ]
    },
    {
      "cell_type": "code",
      "execution_count": 25,
      "metadata": {
        "ExecuteTime": {
          "end_time": "2022-05-28T20:04:56.177299Z",
          "start_time": "2022-05-28T20:04:56.105931Z"
        },
        "id": "Hnne6MqjWCMx"
      },
      "outputs": [],
      "source": [
        "model.compile(optimizer='adam',\n",
        "              loss='categorical_crossentropy',\n",
        "              metrics=[tf.keras.metrics.Recall(), tf.keras.metrics.Precision()])"
      ]
    },
    {
      "cell_type": "code",
      "execution_count": 26,
      "metadata": {
        "ExecuteTime": {
          "end_time": "2022-05-28T20:56:42.339665Z",
          "start_time": "2022-05-28T20:04:56.182253Z"
        },
        "id": "P_MC2G0sWCMy",
        "outputId": "7e54f509-eb8d-4dce-e5ea-f5f3603cec28",
        "colab": {
          "base_uri": "https://localhost:8080/"
        }
      },
      "outputs": [
        {
          "output_type": "stream",
          "name": "stdout",
          "text": [
            "Epoch 1/20\n",
            "500/500 [==============================] - 50s 81ms/step - loss: 1.5612 - recall: 0.0352 - precision: 0.3114 - val_loss: 1.0449 - val_recall: 0.4790 - val_precision: 0.7181\n",
            "\n",
            "Epoch 00001: val_loss improved from inf to 1.04490, saving model to models/emotion_classifier_improved.h5\n",
            "Epoch 2/20\n",
            "500/500 [==============================] - 42s 83ms/step - loss: 0.9159 - recall: 0.5641 - precision: 0.7534 - val_loss: 0.4691 - val_recall: 0.8130 - val_precision: 0.8978\n",
            "\n",
            "Epoch 00002: val_loss improved from 1.04490 to 0.46911, saving model to models/emotion_classifier_improved.h5\n",
            "Epoch 3/20\n",
            "500/500 [==============================] - 40s 79ms/step - loss: 0.4509 - recall: 0.8209 - precision: 0.8833 - val_loss: 0.3349 - val_recall: 0.8715 - val_precision: 0.9031\n",
            "\n",
            "Epoch 00003: val_loss improved from 0.46911 to 0.33492, saving model to models/emotion_classifier_improved.h5\n",
            "Epoch 4/20\n",
            "500/500 [==============================] - 41s 82ms/step - loss: 0.3039 - recall: 0.8861 - precision: 0.9178 - val_loss: 0.3149 - val_recall: 0.8800 - val_precision: 0.9016\n",
            "\n",
            "Epoch 00004: val_loss improved from 0.33492 to 0.31489, saving model to models/emotion_classifier_improved.h5\n",
            "Epoch 5/20\n",
            "500/500 [==============================] - 40s 79ms/step - loss: 0.2460 - recall: 0.9027 - precision: 0.9258 - val_loss: 0.2865 - val_recall: 0.8870 - val_precision: 0.9042\n",
            "\n",
            "Epoch 00005: val_loss improved from 0.31489 to 0.28647, saving model to models/emotion_classifier_improved.h5\n",
            "Epoch 6/20\n",
            "500/500 [==============================] - 39s 78ms/step - loss: 0.1987 - recall: 0.9234 - precision: 0.9373 - val_loss: 0.2682 - val_recall: 0.8900 - val_precision: 0.9054\n",
            "\n",
            "Epoch 00006: val_loss improved from 0.28647 to 0.26816, saving model to models/emotion_classifier_improved.h5\n",
            "Epoch 7/20\n",
            "500/500 [==============================] - 39s 78ms/step - loss: 0.1833 - recall: 0.9279 - precision: 0.9386 - val_loss: 0.2777 - val_recall: 0.8970 - val_precision: 0.9111\n",
            "\n",
            "Epoch 00007: val_loss did not improve from 0.26816\n",
            "Epoch 8/20\n",
            "500/500 [==============================] - 39s 79ms/step - loss: 0.1416 - recall: 0.9408 - precision: 0.9489 - val_loss: 0.2855 - val_recall: 0.8980 - val_precision: 0.9108\n",
            "\n",
            "Epoch 00008: val_loss did not improve from 0.26816\n",
            "Epoch 9/20\n",
            "500/500 [==============================] - 39s 78ms/step - loss: 0.1256 - recall: 0.9516 - precision: 0.9594 - val_loss: 0.2771 - val_recall: 0.9000 - val_precision: 0.9114\n",
            "\n",
            "Epoch 00009: val_loss did not improve from 0.26816\n",
            "Epoch 10/20\n",
            "500/500 [==============================] - 39s 78ms/step - loss: 0.1166 - recall: 0.9517 - precision: 0.9576 - val_loss: 0.3006 - val_recall: 0.8970 - val_precision: 0.9038\n",
            "\n",
            "Epoch 00010: val_loss did not improve from 0.26816\n",
            "Epoch 11/20\n",
            "500/500 [==============================] - 39s 78ms/step - loss: 0.1026 - recall: 0.9617 - precision: 0.9658 - val_loss: 0.2983 - val_recall: 0.8950 - val_precision: 0.9040\n",
            "Restoring model weights from the end of the best epoch.\n",
            "\n",
            "Epoch 00011: val_loss did not improve from 0.26816\n",
            "Epoch 00011: early stopping\n"
          ]
        }
      ],
      "source": [
        "tf.config.run_functions_eagerly(True)\n",
        "history = model.fit(padded_train,\n",
        "                    train_labels,\n",
        "                    validation_data=(padded_val, val_labels),\n",
        "                    callbacks=callbacks,\n",
        "                    epochs=EPOCHS)"
      ]
    },
    {
      "cell_type": "code",
      "execution_count": 27,
      "metadata": {
        "ExecuteTime": {
          "end_time": "2022-05-28T20:56:42.350649Z",
          "start_time": "2022-05-28T20:56:42.340188Z"
        },
        "id": "ASp2FFW9WCMy",
        "outputId": "986828f7-9cc3-44e7-e909-506478ce6db0",
        "colab": {
          "base_uri": "https://localhost:8080/"
        }
      },
      "outputs": [
        {
          "output_type": "execute_result",
          "data": {
            "text/plain": [
              "dict_keys(['loss', 'recall', 'precision', 'val_loss', 'val_recall', 'val_precision'])"
            ]
          },
          "metadata": {},
          "execution_count": 27
        }
      ],
      "source": [
        "history.history.keys()"
      ]
    },
    {
      "cell_type": "markdown",
      "metadata": {
        "id": "o7JMDD0UWCMz"
      },
      "source": [
        "### Training - Validation Loss"
      ]
    },
    {
      "cell_type": "code",
      "execution_count": 28,
      "metadata": {
        "ExecuteTime": {
          "end_time": "2022-05-28T20:56:42.443656Z",
          "start_time": "2022-05-28T20:56:42.354728Z"
        },
        "id": "FH0hpMwJWCMz",
        "outputId": "312c880c-2ae7-4963-d409-afa94d31c1d7",
        "colab": {
          "base_uri": "https://localhost:8080/",
          "height": 542
        }
      },
      "outputs": [
        {
          "output_type": "display_data",
          "data": {
            "text/html": [
              "<html>\n",
              "<head><meta charset=\"utf-8\" /></head>\n",
              "<body>\n",
              "    <div>            <script src=\"https://cdnjs.cloudflare.com/ajax/libs/mathjax/2.7.5/MathJax.js?config=TeX-AMS-MML_SVG\"></script><script type=\"text/javascript\">if (window.MathJax) {MathJax.Hub.Config({SVG: {font: \"STIX-Web\"}});}</script>                <script type=\"text/javascript\">window.PlotlyConfig = {MathJaxConfig: 'local'};</script>\n",
              "        <script src=\"https://cdn.plot.ly/plotly-2.8.3.min.js\"></script>                <div id=\"39de9143-1c0d-432c-bd77-cdd843cdfdf0\" class=\"plotly-graph-div\" style=\"height:525px; width:100%;\"></div>            <script type=\"text/javascript\">                                    window.PLOTLYENV=window.PLOTLYENV || {};                                    if (document.getElementById(\"39de9143-1c0d-432c-bd77-cdd843cdfdf0\")) {                    Plotly.newPlot(                        \"39de9143-1c0d-432c-bd77-cdd843cdfdf0\",                        [{\"mode\":\"lines+markers\",\"name\":\"Training Loss\",\"x\":[1,2,3,4,5,6,7,8,9,10,11],\"y\":[1.4248530864715576,0.7929826378822327,0.42276114225387573,0.3010671138763428,0.23927880823612213,0.2010030448436737,0.1739063709974289,0.149211123585701,0.1304224133491516,0.11869925260543823,0.10958631336688995],\"type\":\"scatter\"},{\"mode\":\"lines+markers\",\"name\":\"Validation Loss\",\"x\":[1,2,3,4,5,6,7,8,9,10,11],\"y\":[1.0448976755142212,0.4691055119037628,0.3349219262599945,0.31488895416259766,0.28647029399871826,0.26816269755363464,0.27769213914871216,0.28551509976387024,0.2770653963088989,0.30058878660202026,0.2983494997024536],\"type\":\"scatter\"}],                        {\"title\":{\"text\":\"Training - Validation Loss | Emotion Prediction\"},\"xaxis\":{\"title\":{\"text\":\"Number of epochs\",\"font\":{\"color\":\"#7f7f7f\",\"size\":18}}},\"yaxis\":{\"title\":{\"text\":\"Loss\",\"font\":{\"color\":\"#7f7f7f\",\"size\":18}}},\"template\":{\"data\":{\"bar\":[{\"error_x\":{\"color\":\"#2a3f5f\"},\"error_y\":{\"color\":\"#2a3f5f\"},\"marker\":{\"line\":{\"color\":\"#E5ECF6\",\"width\":0.5},\"pattern\":{\"fillmode\":\"overlay\",\"size\":10,\"solidity\":0.2}},\"type\":\"bar\"}],\"barpolar\":[{\"marker\":{\"line\":{\"color\":\"#E5ECF6\",\"width\":0.5},\"pattern\":{\"fillmode\":\"overlay\",\"size\":10,\"solidity\":0.2}},\"type\":\"barpolar\"}],\"carpet\":[{\"aaxis\":{\"endlinecolor\":\"#2a3f5f\",\"gridcolor\":\"white\",\"linecolor\":\"white\",\"minorgridcolor\":\"white\",\"startlinecolor\":\"#2a3f5f\"},\"baxis\":{\"endlinecolor\":\"#2a3f5f\",\"gridcolor\":\"white\",\"linecolor\":\"white\",\"minorgridcolor\":\"white\",\"startlinecolor\":\"#2a3f5f\"},\"type\":\"carpet\"}],\"choropleth\":[{\"colorbar\":{\"outlinewidth\":0,\"ticks\":\"\"},\"type\":\"choropleth\"}],\"contour\":[{\"colorbar\":{\"outlinewidth\":0,\"ticks\":\"\"},\"colorscale\":[[0.0,\"#0d0887\"],[0.1111111111111111,\"#46039f\"],[0.2222222222222222,\"#7201a8\"],[0.3333333333333333,\"#9c179e\"],[0.4444444444444444,\"#bd3786\"],[0.5555555555555556,\"#d8576b\"],[0.6666666666666666,\"#ed7953\"],[0.7777777777777778,\"#fb9f3a\"],[0.8888888888888888,\"#fdca26\"],[1.0,\"#f0f921\"]],\"type\":\"contour\"}],\"contourcarpet\":[{\"colorbar\":{\"outlinewidth\":0,\"ticks\":\"\"},\"type\":\"contourcarpet\"}],\"heatmap\":[{\"colorbar\":{\"outlinewidth\":0,\"ticks\":\"\"},\"colorscale\":[[0.0,\"#0d0887\"],[0.1111111111111111,\"#46039f\"],[0.2222222222222222,\"#7201a8\"],[0.3333333333333333,\"#9c179e\"],[0.4444444444444444,\"#bd3786\"],[0.5555555555555556,\"#d8576b\"],[0.6666666666666666,\"#ed7953\"],[0.7777777777777778,\"#fb9f3a\"],[0.8888888888888888,\"#fdca26\"],[1.0,\"#f0f921\"]],\"type\":\"heatmap\"}],\"heatmapgl\":[{\"colorbar\":{\"outlinewidth\":0,\"ticks\":\"\"},\"colorscale\":[[0.0,\"#0d0887\"],[0.1111111111111111,\"#46039f\"],[0.2222222222222222,\"#7201a8\"],[0.3333333333333333,\"#9c179e\"],[0.4444444444444444,\"#bd3786\"],[0.5555555555555556,\"#d8576b\"],[0.6666666666666666,\"#ed7953\"],[0.7777777777777778,\"#fb9f3a\"],[0.8888888888888888,\"#fdca26\"],[1.0,\"#f0f921\"]],\"type\":\"heatmapgl\"}],\"histogram\":[{\"marker\":{\"pattern\":{\"fillmode\":\"overlay\",\"size\":10,\"solidity\":0.2}},\"type\":\"histogram\"}],\"histogram2d\":[{\"colorbar\":{\"outlinewidth\":0,\"ticks\":\"\"},\"colorscale\":[[0.0,\"#0d0887\"],[0.1111111111111111,\"#46039f\"],[0.2222222222222222,\"#7201a8\"],[0.3333333333333333,\"#9c179e\"],[0.4444444444444444,\"#bd3786\"],[0.5555555555555556,\"#d8576b\"],[0.6666666666666666,\"#ed7953\"],[0.7777777777777778,\"#fb9f3a\"],[0.8888888888888888,\"#fdca26\"],[1.0,\"#f0f921\"]],\"type\":\"histogram2d\"}],\"histogram2dcontour\":[{\"colorbar\":{\"outlinewidth\":0,\"ticks\":\"\"},\"colorscale\":[[0.0,\"#0d0887\"],[0.1111111111111111,\"#46039f\"],[0.2222222222222222,\"#7201a8\"],[0.3333333333333333,\"#9c179e\"],[0.4444444444444444,\"#bd3786\"],[0.5555555555555556,\"#d8576b\"],[0.6666666666666666,\"#ed7953\"],[0.7777777777777778,\"#fb9f3a\"],[0.8888888888888888,\"#fdca26\"],[1.0,\"#f0f921\"]],\"type\":\"histogram2dcontour\"}],\"mesh3d\":[{\"colorbar\":{\"outlinewidth\":0,\"ticks\":\"\"},\"type\":\"mesh3d\"}],\"parcoords\":[{\"line\":{\"colorbar\":{\"outlinewidth\":0,\"ticks\":\"\"}},\"type\":\"parcoords\"}],\"pie\":[{\"automargin\":true,\"type\":\"pie\"}],\"scatter\":[{\"marker\":{\"colorbar\":{\"outlinewidth\":0,\"ticks\":\"\"}},\"type\":\"scatter\"}],\"scatter3d\":[{\"line\":{\"colorbar\":{\"outlinewidth\":0,\"ticks\":\"\"}},\"marker\":{\"colorbar\":{\"outlinewidth\":0,\"ticks\":\"\"}},\"type\":\"scatter3d\"}],\"scattercarpet\":[{\"marker\":{\"colorbar\":{\"outlinewidth\":0,\"ticks\":\"\"}},\"type\":\"scattercarpet\"}],\"scattergeo\":[{\"marker\":{\"colorbar\":{\"outlinewidth\":0,\"ticks\":\"\"}},\"type\":\"scattergeo\"}],\"scattergl\":[{\"marker\":{\"colorbar\":{\"outlinewidth\":0,\"ticks\":\"\"}},\"type\":\"scattergl\"}],\"scattermapbox\":[{\"marker\":{\"colorbar\":{\"outlinewidth\":0,\"ticks\":\"\"}},\"type\":\"scattermapbox\"}],\"scatterpolar\":[{\"marker\":{\"colorbar\":{\"outlinewidth\":0,\"ticks\":\"\"}},\"type\":\"scatterpolar\"}],\"scatterpolargl\":[{\"marker\":{\"colorbar\":{\"outlinewidth\":0,\"ticks\":\"\"}},\"type\":\"scatterpolargl\"}],\"scatterternary\":[{\"marker\":{\"colorbar\":{\"outlinewidth\":0,\"ticks\":\"\"}},\"type\":\"scatterternary\"}],\"surface\":[{\"colorbar\":{\"outlinewidth\":0,\"ticks\":\"\"},\"colorscale\":[[0.0,\"#0d0887\"],[0.1111111111111111,\"#46039f\"],[0.2222222222222222,\"#7201a8\"],[0.3333333333333333,\"#9c179e\"],[0.4444444444444444,\"#bd3786\"],[0.5555555555555556,\"#d8576b\"],[0.6666666666666666,\"#ed7953\"],[0.7777777777777778,\"#fb9f3a\"],[0.8888888888888888,\"#fdca26\"],[1.0,\"#f0f921\"]],\"type\":\"surface\"}],\"table\":[{\"cells\":{\"fill\":{\"color\":\"#EBF0F8\"},\"line\":{\"color\":\"white\"}},\"header\":{\"fill\":{\"color\":\"#C8D4E3\"},\"line\":{\"color\":\"white\"}},\"type\":\"table\"}]},\"layout\":{\"annotationdefaults\":{\"arrowcolor\":\"#2a3f5f\",\"arrowhead\":0,\"arrowwidth\":1},\"autotypenumbers\":\"strict\",\"coloraxis\":{\"colorbar\":{\"outlinewidth\":0,\"ticks\":\"\"}},\"colorscale\":{\"diverging\":[[0,\"#8e0152\"],[0.1,\"#c51b7d\"],[0.2,\"#de77ae\"],[0.3,\"#f1b6da\"],[0.4,\"#fde0ef\"],[0.5,\"#f7f7f7\"],[0.6,\"#e6f5d0\"],[0.7,\"#b8e186\"],[0.8,\"#7fbc41\"],[0.9,\"#4d9221\"],[1,\"#276419\"]],\"sequential\":[[0.0,\"#0d0887\"],[0.1111111111111111,\"#46039f\"],[0.2222222222222222,\"#7201a8\"],[0.3333333333333333,\"#9c179e\"],[0.4444444444444444,\"#bd3786\"],[0.5555555555555556,\"#d8576b\"],[0.6666666666666666,\"#ed7953\"],[0.7777777777777778,\"#fb9f3a\"],[0.8888888888888888,\"#fdca26\"],[1.0,\"#f0f921\"]],\"sequentialminus\":[[0.0,\"#0d0887\"],[0.1111111111111111,\"#46039f\"],[0.2222222222222222,\"#7201a8\"],[0.3333333333333333,\"#9c179e\"],[0.4444444444444444,\"#bd3786\"],[0.5555555555555556,\"#d8576b\"],[0.6666666666666666,\"#ed7953\"],[0.7777777777777778,\"#fb9f3a\"],[0.8888888888888888,\"#fdca26\"],[1.0,\"#f0f921\"]]},\"colorway\":[\"#636efa\",\"#EF553B\",\"#00cc96\",\"#ab63fa\",\"#FFA15A\",\"#19d3f3\",\"#FF6692\",\"#B6E880\",\"#FF97FF\",\"#FECB52\"],\"font\":{\"color\":\"#2a3f5f\"},\"geo\":{\"bgcolor\":\"white\",\"lakecolor\":\"white\",\"landcolor\":\"#E5ECF6\",\"showlakes\":true,\"showland\":true,\"subunitcolor\":\"white\"},\"hoverlabel\":{\"align\":\"left\"},\"hovermode\":\"closest\",\"mapbox\":{\"style\":\"light\"},\"paper_bgcolor\":\"white\",\"plot_bgcolor\":\"#E5ECF6\",\"polar\":{\"angularaxis\":{\"gridcolor\":\"white\",\"linecolor\":\"white\",\"ticks\":\"\"},\"bgcolor\":\"#E5ECF6\",\"radialaxis\":{\"gridcolor\":\"white\",\"linecolor\":\"white\",\"ticks\":\"\"}},\"scene\":{\"xaxis\":{\"backgroundcolor\":\"#E5ECF6\",\"gridcolor\":\"white\",\"gridwidth\":2,\"linecolor\":\"white\",\"showbackground\":true,\"ticks\":\"\",\"zerolinecolor\":\"white\"},\"yaxis\":{\"backgroundcolor\":\"#E5ECF6\",\"gridcolor\":\"white\",\"gridwidth\":2,\"linecolor\":\"white\",\"showbackground\":true,\"ticks\":\"\",\"zerolinecolor\":\"white\"},\"zaxis\":{\"backgroundcolor\":\"#E5ECF6\",\"gridcolor\":\"white\",\"gridwidth\":2,\"linecolor\":\"white\",\"showbackground\":true,\"ticks\":\"\",\"zerolinecolor\":\"white\"}},\"shapedefaults\":{\"line\":{\"color\":\"#2a3f5f\"}},\"ternary\":{\"aaxis\":{\"gridcolor\":\"white\",\"linecolor\":\"white\",\"ticks\":\"\"},\"baxis\":{\"gridcolor\":\"white\",\"linecolor\":\"white\",\"ticks\":\"\"},\"bgcolor\":\"#E5ECF6\",\"caxis\":{\"gridcolor\":\"white\",\"linecolor\":\"white\",\"ticks\":\"\"}},\"title\":{\"x\":0.05},\"xaxis\":{\"automargin\":true,\"gridcolor\":\"white\",\"linecolor\":\"white\",\"ticks\":\"\",\"title\":{\"standoff\":15},\"zerolinecolor\":\"white\",\"zerolinewidth\":2},\"yaxis\":{\"automargin\":true,\"gridcolor\":\"white\",\"linecolor\":\"white\",\"ticks\":\"\",\"title\":{\"standoff\":15},\"zerolinecolor\":\"white\",\"zerolinewidth\":2}}},\"hovermode\":\"x unified\"},                        {\"responsive\": true}                    ).then(function(){\n",
              "                            \n",
              "var gd = document.getElementById('39de9143-1c0d-432c-bd77-cdd843cdfdf0');\n",
              "var x = new MutationObserver(function (mutations, observer) {{\n",
              "        var display = window.getComputedStyle(gd).display;\n",
              "        if (!display || display === 'none') {{\n",
              "            console.log([gd, 'removed!']);\n",
              "            Plotly.purge(gd);\n",
              "            observer.disconnect();\n",
              "        }}\n",
              "}});\n",
              "\n",
              "// Listen for the removal of the full notebook cells\n",
              "var notebookContainer = gd.closest('#notebook-container');\n",
              "if (notebookContainer) {{\n",
              "    x.observe(notebookContainer, {childList: true});\n",
              "}}\n",
              "\n",
              "// Listen for the clearing of the current output cell\n",
              "var outputEl = gd.closest('.output');\n",
              "if (outputEl) {{\n",
              "    x.observe(outputEl, {childList: true});\n",
              "}}\n",
              "\n",
              "                        })                };                            </script>        </div>\n",
              "</body>\n",
              "</html>"
            ]
          },
          "metadata": {}
        }
      ],
      "source": [
        "metric_to_plot = \"loss\"\n",
        "epochs = list(range(1, max(history.epoch) + 2))\n",
        "training_loss = history.history[metric_to_plot]\n",
        "validation_loss = history.history[\"val_\" + metric_to_plot]\n",
        "\n",
        "trace1 = {\n",
        "    \"mode\": \"lines+markers\",\n",
        "    \"name\": \"Training Loss\",\n",
        "    \"type\": \"scatter\",\n",
        "    \"x\": epochs,\n",
        "    \"y\": training_loss\n",
        "}\n",
        "\n",
        "trace2 = {\n",
        "    \"mode\": \"lines+markers\",\n",
        "    \"name\": \"Validation Loss\",\n",
        "    \"type\": \"scatter\",\n",
        "    \"x\": epochs,\n",
        "    \"y\": validation_loss\n",
        "}\n",
        "\n",
        "data = Data([trace1, trace2])\n",
        "layout = {\n",
        "    \"title\": \"Training - Validation Loss | Emotion Prediction\",\n",
        "    \"xaxis\": {\n",
        "        \"title\": \"Number of epochs\",\n",
        "        \"titlefont\": {\n",
        "            \"size\": 18,\n",
        "            \"color\": \"#7f7f7f\"\n",
        "        }\n",
        "    },\n",
        "    \"yaxis\": {\n",
        "        \"title\": \"Loss\",\n",
        "        \"titlefont\": {\n",
        "            \"size\": 18,\n",
        "            \"color\": \"#7f7f7f\"\n",
        "        }\n",
        "    }\n",
        "}\n",
        "fig = Figure(data=data, layout=layout)\n",
        "fig.update_layout(hovermode=\"x unified\")\n",
        "fig.show()"
      ]
    },
    {
      "cell_type": "code",
      "execution_count": 29,
      "metadata": {
        "ExecuteTime": {
          "end_time": "2022-05-28T20:56:46.625620Z",
          "start_time": "2022-05-28T20:56:42.443656Z"
        },
        "id": "-J7ttQuHWCMz",
        "outputId": "8b77925d-c522-40e5-9a68-83b6e24a914b",
        "colab": {
          "base_uri": "https://localhost:8080/",
          "height": 35
        }
      },
      "outputs": [
        {
          "output_type": "execute_result",
          "data": {
            "text/plain": [
              "'https://plotly.com/~royn5618/108/'"
            ],
            "application/vnd.google.colaboratory.intrinsic+json": {
              "type": "string"
            }
          },
          "metadata": {},
          "execution_count": 29
        }
      ],
      "source": [
        "py.plot(fig, filename=\"Train-Val Loss | Emotion Prediction\", auto_open = True)"
      ]
    },
    {
      "cell_type": "markdown",
      "metadata": {
        "id": "ZxfWtWh2WCM0"
      },
      "source": [
        "### Training - Validation Classification Metrics"
      ]
    },
    {
      "cell_type": "code",
      "execution_count": 30,
      "metadata": {
        "ExecuteTime": {
          "end_time": "2022-05-28T20:56:46.673620Z",
          "start_time": "2022-05-28T20:56:46.625620Z"
        },
        "id": "yYC9AXOQWCM0",
        "outputId": "e020f6bd-366e-4062-8829-22db40f187cd",
        "colab": {
          "base_uri": "https://localhost:8080/",
          "height": 542
        }
      },
      "outputs": [
        {
          "output_type": "display_data",
          "data": {
            "text/html": [
              "<html>\n",
              "<head><meta charset=\"utf-8\" /></head>\n",
              "<body>\n",
              "    <div>            <script src=\"https://cdnjs.cloudflare.com/ajax/libs/mathjax/2.7.5/MathJax.js?config=TeX-AMS-MML_SVG\"></script><script type=\"text/javascript\">if (window.MathJax) {MathJax.Hub.Config({SVG: {font: \"STIX-Web\"}});}</script>                <script type=\"text/javascript\">window.PlotlyConfig = {MathJaxConfig: 'local'};</script>\n",
              "        <script src=\"https://cdn.plot.ly/plotly-2.8.3.min.js\"></script>                <div id=\"bf6079bb-a7c4-4cfe-9ea2-afdcce1d0494\" class=\"plotly-graph-div\" style=\"height:525px; width:100%;\"></div>            <script type=\"text/javascript\">                                    window.PLOTLYENV=window.PLOTLYENV || {};                                    if (document.getElementById(\"bf6079bb-a7c4-4cfe-9ea2-afdcce1d0494\")) {                    Plotly.newPlot(                        \"bf6079bb-a7c4-4cfe-9ea2-afdcce1d0494\",                        [{\"mode\":\"lines+markers\",\"name\":\"Training Recall\",\"x\":[1,2,3,4,5,6,7,8,9,10,11],\"y\":[0.15549999475479126,0.640999972820282,0.8315625190734863,0.8848124742507935,0.9081875085830688,0.922124981880188,0.9315624833106995,0.9392499923706055,0.9494374990463257,0.9521874785423279,0.9583749771118164],\"type\":\"scatter\"},{\"mode\":\"lines+markers\",\"name\":\"Validation Recall\",\"x\":[1,2,3,4,5,6,7,8,9,10,11],\"y\":[0.4790000021457672,0.8130000233650208,0.8715000152587891,0.8799999952316284,0.8870000243186951,0.8899999856948853,0.8970000147819519,0.8980000019073486,0.8999999761581421,0.8970000147819519,0.8949999809265137],\"type\":\"scatter\"}],                        {\"title\":{\"text\":\"Training - Validation Recall | Emotion Prediction\"},\"xaxis\":{\"title\":{\"text\":\"Number of epochs\",\"font\":{\"color\":\"#7f7f7f\",\"size\":18}}},\"yaxis\":{\"title\":{\"text\":\"Recall\",\"font\":{\"color\":\"#7f7f7f\",\"size\":18}}},\"template\":{\"data\":{\"bar\":[{\"error_x\":{\"color\":\"#2a3f5f\"},\"error_y\":{\"color\":\"#2a3f5f\"},\"marker\":{\"line\":{\"color\":\"#E5ECF6\",\"width\":0.5},\"pattern\":{\"fillmode\":\"overlay\",\"size\":10,\"solidity\":0.2}},\"type\":\"bar\"}],\"barpolar\":[{\"marker\":{\"line\":{\"color\":\"#E5ECF6\",\"width\":0.5},\"pattern\":{\"fillmode\":\"overlay\",\"size\":10,\"solidity\":0.2}},\"type\":\"barpolar\"}],\"carpet\":[{\"aaxis\":{\"endlinecolor\":\"#2a3f5f\",\"gridcolor\":\"white\",\"linecolor\":\"white\",\"minorgridcolor\":\"white\",\"startlinecolor\":\"#2a3f5f\"},\"baxis\":{\"endlinecolor\":\"#2a3f5f\",\"gridcolor\":\"white\",\"linecolor\":\"white\",\"minorgridcolor\":\"white\",\"startlinecolor\":\"#2a3f5f\"},\"type\":\"carpet\"}],\"choropleth\":[{\"colorbar\":{\"outlinewidth\":0,\"ticks\":\"\"},\"type\":\"choropleth\"}],\"contour\":[{\"colorbar\":{\"outlinewidth\":0,\"ticks\":\"\"},\"colorscale\":[[0.0,\"#0d0887\"],[0.1111111111111111,\"#46039f\"],[0.2222222222222222,\"#7201a8\"],[0.3333333333333333,\"#9c179e\"],[0.4444444444444444,\"#bd3786\"],[0.5555555555555556,\"#d8576b\"],[0.6666666666666666,\"#ed7953\"],[0.7777777777777778,\"#fb9f3a\"],[0.8888888888888888,\"#fdca26\"],[1.0,\"#f0f921\"]],\"type\":\"contour\"}],\"contourcarpet\":[{\"colorbar\":{\"outlinewidth\":0,\"ticks\":\"\"},\"type\":\"contourcarpet\"}],\"heatmap\":[{\"colorbar\":{\"outlinewidth\":0,\"ticks\":\"\"},\"colorscale\":[[0.0,\"#0d0887\"],[0.1111111111111111,\"#46039f\"],[0.2222222222222222,\"#7201a8\"],[0.3333333333333333,\"#9c179e\"],[0.4444444444444444,\"#bd3786\"],[0.5555555555555556,\"#d8576b\"],[0.6666666666666666,\"#ed7953\"],[0.7777777777777778,\"#fb9f3a\"],[0.8888888888888888,\"#fdca26\"],[1.0,\"#f0f921\"]],\"type\":\"heatmap\"}],\"heatmapgl\":[{\"colorbar\":{\"outlinewidth\":0,\"ticks\":\"\"},\"colorscale\":[[0.0,\"#0d0887\"],[0.1111111111111111,\"#46039f\"],[0.2222222222222222,\"#7201a8\"],[0.3333333333333333,\"#9c179e\"],[0.4444444444444444,\"#bd3786\"],[0.5555555555555556,\"#d8576b\"],[0.6666666666666666,\"#ed7953\"],[0.7777777777777778,\"#fb9f3a\"],[0.8888888888888888,\"#fdca26\"],[1.0,\"#f0f921\"]],\"type\":\"heatmapgl\"}],\"histogram\":[{\"marker\":{\"pattern\":{\"fillmode\":\"overlay\",\"size\":10,\"solidity\":0.2}},\"type\":\"histogram\"}],\"histogram2d\":[{\"colorbar\":{\"outlinewidth\":0,\"ticks\":\"\"},\"colorscale\":[[0.0,\"#0d0887\"],[0.1111111111111111,\"#46039f\"],[0.2222222222222222,\"#7201a8\"],[0.3333333333333333,\"#9c179e\"],[0.4444444444444444,\"#bd3786\"],[0.5555555555555556,\"#d8576b\"],[0.6666666666666666,\"#ed7953\"],[0.7777777777777778,\"#fb9f3a\"],[0.8888888888888888,\"#fdca26\"],[1.0,\"#f0f921\"]],\"type\":\"histogram2d\"}],\"histogram2dcontour\":[{\"colorbar\":{\"outlinewidth\":0,\"ticks\":\"\"},\"colorscale\":[[0.0,\"#0d0887\"],[0.1111111111111111,\"#46039f\"],[0.2222222222222222,\"#7201a8\"],[0.3333333333333333,\"#9c179e\"],[0.4444444444444444,\"#bd3786\"],[0.5555555555555556,\"#d8576b\"],[0.6666666666666666,\"#ed7953\"],[0.7777777777777778,\"#fb9f3a\"],[0.8888888888888888,\"#fdca26\"],[1.0,\"#f0f921\"]],\"type\":\"histogram2dcontour\"}],\"mesh3d\":[{\"colorbar\":{\"outlinewidth\":0,\"ticks\":\"\"},\"type\":\"mesh3d\"}],\"parcoords\":[{\"line\":{\"colorbar\":{\"outlinewidth\":0,\"ticks\":\"\"}},\"type\":\"parcoords\"}],\"pie\":[{\"automargin\":true,\"type\":\"pie\"}],\"scatter\":[{\"marker\":{\"colorbar\":{\"outlinewidth\":0,\"ticks\":\"\"}},\"type\":\"scatter\"}],\"scatter3d\":[{\"line\":{\"colorbar\":{\"outlinewidth\":0,\"ticks\":\"\"}},\"marker\":{\"colorbar\":{\"outlinewidth\":0,\"ticks\":\"\"}},\"type\":\"scatter3d\"}],\"scattercarpet\":[{\"marker\":{\"colorbar\":{\"outlinewidth\":0,\"ticks\":\"\"}},\"type\":\"scattercarpet\"}],\"scattergeo\":[{\"marker\":{\"colorbar\":{\"outlinewidth\":0,\"ticks\":\"\"}},\"type\":\"scattergeo\"}],\"scattergl\":[{\"marker\":{\"colorbar\":{\"outlinewidth\":0,\"ticks\":\"\"}},\"type\":\"scattergl\"}],\"scattermapbox\":[{\"marker\":{\"colorbar\":{\"outlinewidth\":0,\"ticks\":\"\"}},\"type\":\"scattermapbox\"}],\"scatterpolar\":[{\"marker\":{\"colorbar\":{\"outlinewidth\":0,\"ticks\":\"\"}},\"type\":\"scatterpolar\"}],\"scatterpolargl\":[{\"marker\":{\"colorbar\":{\"outlinewidth\":0,\"ticks\":\"\"}},\"type\":\"scatterpolargl\"}],\"scatterternary\":[{\"marker\":{\"colorbar\":{\"outlinewidth\":0,\"ticks\":\"\"}},\"type\":\"scatterternary\"}],\"surface\":[{\"colorbar\":{\"outlinewidth\":0,\"ticks\":\"\"},\"colorscale\":[[0.0,\"#0d0887\"],[0.1111111111111111,\"#46039f\"],[0.2222222222222222,\"#7201a8\"],[0.3333333333333333,\"#9c179e\"],[0.4444444444444444,\"#bd3786\"],[0.5555555555555556,\"#d8576b\"],[0.6666666666666666,\"#ed7953\"],[0.7777777777777778,\"#fb9f3a\"],[0.8888888888888888,\"#fdca26\"],[1.0,\"#f0f921\"]],\"type\":\"surface\"}],\"table\":[{\"cells\":{\"fill\":{\"color\":\"#EBF0F8\"},\"line\":{\"color\":\"white\"}},\"header\":{\"fill\":{\"color\":\"#C8D4E3\"},\"line\":{\"color\":\"white\"}},\"type\":\"table\"}]},\"layout\":{\"annotationdefaults\":{\"arrowcolor\":\"#2a3f5f\",\"arrowhead\":0,\"arrowwidth\":1},\"autotypenumbers\":\"strict\",\"coloraxis\":{\"colorbar\":{\"outlinewidth\":0,\"ticks\":\"\"}},\"colorscale\":{\"diverging\":[[0,\"#8e0152\"],[0.1,\"#c51b7d\"],[0.2,\"#de77ae\"],[0.3,\"#f1b6da\"],[0.4,\"#fde0ef\"],[0.5,\"#f7f7f7\"],[0.6,\"#e6f5d0\"],[0.7,\"#b8e186\"],[0.8,\"#7fbc41\"],[0.9,\"#4d9221\"],[1,\"#276419\"]],\"sequential\":[[0.0,\"#0d0887\"],[0.1111111111111111,\"#46039f\"],[0.2222222222222222,\"#7201a8\"],[0.3333333333333333,\"#9c179e\"],[0.4444444444444444,\"#bd3786\"],[0.5555555555555556,\"#d8576b\"],[0.6666666666666666,\"#ed7953\"],[0.7777777777777778,\"#fb9f3a\"],[0.8888888888888888,\"#fdca26\"],[1.0,\"#f0f921\"]],\"sequentialminus\":[[0.0,\"#0d0887\"],[0.1111111111111111,\"#46039f\"],[0.2222222222222222,\"#7201a8\"],[0.3333333333333333,\"#9c179e\"],[0.4444444444444444,\"#bd3786\"],[0.5555555555555556,\"#d8576b\"],[0.6666666666666666,\"#ed7953\"],[0.7777777777777778,\"#fb9f3a\"],[0.8888888888888888,\"#fdca26\"],[1.0,\"#f0f921\"]]},\"colorway\":[\"#636efa\",\"#EF553B\",\"#00cc96\",\"#ab63fa\",\"#FFA15A\",\"#19d3f3\",\"#FF6692\",\"#B6E880\",\"#FF97FF\",\"#FECB52\"],\"font\":{\"color\":\"#2a3f5f\"},\"geo\":{\"bgcolor\":\"white\",\"lakecolor\":\"white\",\"landcolor\":\"#E5ECF6\",\"showlakes\":true,\"showland\":true,\"subunitcolor\":\"white\"},\"hoverlabel\":{\"align\":\"left\"},\"hovermode\":\"closest\",\"mapbox\":{\"style\":\"light\"},\"paper_bgcolor\":\"white\",\"plot_bgcolor\":\"#E5ECF6\",\"polar\":{\"angularaxis\":{\"gridcolor\":\"white\",\"linecolor\":\"white\",\"ticks\":\"\"},\"bgcolor\":\"#E5ECF6\",\"radialaxis\":{\"gridcolor\":\"white\",\"linecolor\":\"white\",\"ticks\":\"\"}},\"scene\":{\"xaxis\":{\"backgroundcolor\":\"#E5ECF6\",\"gridcolor\":\"white\",\"gridwidth\":2,\"linecolor\":\"white\",\"showbackground\":true,\"ticks\":\"\",\"zerolinecolor\":\"white\"},\"yaxis\":{\"backgroundcolor\":\"#E5ECF6\",\"gridcolor\":\"white\",\"gridwidth\":2,\"linecolor\":\"white\",\"showbackground\":true,\"ticks\":\"\",\"zerolinecolor\":\"white\"},\"zaxis\":{\"backgroundcolor\":\"#E5ECF6\",\"gridcolor\":\"white\",\"gridwidth\":2,\"linecolor\":\"white\",\"showbackground\":true,\"ticks\":\"\",\"zerolinecolor\":\"white\"}},\"shapedefaults\":{\"line\":{\"color\":\"#2a3f5f\"}},\"ternary\":{\"aaxis\":{\"gridcolor\":\"white\",\"linecolor\":\"white\",\"ticks\":\"\"},\"baxis\":{\"gridcolor\":\"white\",\"linecolor\":\"white\",\"ticks\":\"\"},\"bgcolor\":\"#E5ECF6\",\"caxis\":{\"gridcolor\":\"white\",\"linecolor\":\"white\",\"ticks\":\"\"}},\"title\":{\"x\":0.05},\"xaxis\":{\"automargin\":true,\"gridcolor\":\"white\",\"linecolor\":\"white\",\"ticks\":\"\",\"title\":{\"standoff\":15},\"zerolinecolor\":\"white\",\"zerolinewidth\":2},\"yaxis\":{\"automargin\":true,\"gridcolor\":\"white\",\"linecolor\":\"white\",\"ticks\":\"\",\"title\":{\"standoff\":15},\"zerolinecolor\":\"white\",\"zerolinewidth\":2}}},\"hovermode\":\"x unified\"},                        {\"responsive\": true}                    ).then(function(){\n",
              "                            \n",
              "var gd = document.getElementById('bf6079bb-a7c4-4cfe-9ea2-afdcce1d0494');\n",
              "var x = new MutationObserver(function (mutations, observer) {{\n",
              "        var display = window.getComputedStyle(gd).display;\n",
              "        if (!display || display === 'none') {{\n",
              "            console.log([gd, 'removed!']);\n",
              "            Plotly.purge(gd);\n",
              "            observer.disconnect();\n",
              "        }}\n",
              "}});\n",
              "\n",
              "// Listen for the removal of the full notebook cells\n",
              "var notebookContainer = gd.closest('#notebook-container');\n",
              "if (notebookContainer) {{\n",
              "    x.observe(notebookContainer, {childList: true});\n",
              "}}\n",
              "\n",
              "// Listen for the clearing of the current output cell\n",
              "var outputEl = gd.closest('.output');\n",
              "if (outputEl) {{\n",
              "    x.observe(outputEl, {childList: true});\n",
              "}}\n",
              "\n",
              "                        })                };                            </script>        </div>\n",
              "</body>\n",
              "</html>"
            ]
          },
          "metadata": {}
        }
      ],
      "source": [
        "metric_to_plot = \"recall\"\n",
        "epochs = list(range(1, max(history.epoch) + 2))\n",
        "training_loss = history.history[metric_to_plot]\n",
        "validation_loss = history.history[\"val_\" + metric_to_plot]\n",
        "\n",
        "trace1 = {\n",
        "    \"mode\": \"lines+markers\",\n",
        "    \"name\": \"Training Recall\",\n",
        "    \"type\": \"scatter\",\n",
        "    \"x\": epochs,\n",
        "    \"y\": training_loss\n",
        "}\n",
        "\n",
        "trace2 = {\n",
        "    \"mode\": \"lines+markers\",\n",
        "    \"name\": \"Validation Recall\",\n",
        "    \"type\": \"scatter\",\n",
        "    \"x\": epochs,\n",
        "    \"y\": validation_loss\n",
        "}\n",
        "\n",
        "data = Data([trace1, trace2])\n",
        "layout = {\n",
        "    \"title\": \"Training - Validation Recall | Emotion Prediction\",\n",
        "    \"xaxis\": {\n",
        "        \"title\": \"Number of epochs\",\n",
        "        \"titlefont\": {\n",
        "            \"size\": 18,\n",
        "            \"color\": \"#7f7f7f\"\n",
        "        }\n",
        "    },\n",
        "    \"yaxis\": {\n",
        "        \"title\": \"Recall\",\n",
        "        \"titlefont\": {\n",
        "            \"size\": 18,\n",
        "            \"color\": \"#7f7f7f\"\n",
        "        }\n",
        "    }\n",
        "}\n",
        "fig = Figure(data=data, layout=layout)\n",
        "fig.update_layout(hovermode=\"x unified\")\n",
        "fig.show()"
      ]
    },
    {
      "cell_type": "code",
      "execution_count": 31,
      "metadata": {
        "ExecuteTime": {
          "end_time": "2022-05-28T20:56:50.286818Z",
          "start_time": "2022-05-28T20:56:46.673620Z"
        },
        "id": "nIjHvznAWCM1",
        "outputId": "a5db873d-df64-4fea-9b7c-13022180dca8",
        "colab": {
          "base_uri": "https://localhost:8080/",
          "height": 35
        }
      },
      "outputs": [
        {
          "output_type": "execute_result",
          "data": {
            "text/plain": [
              "'https://plotly.com/~royn5618/110/'"
            ],
            "application/vnd.google.colaboratory.intrinsic+json": {
              "type": "string"
            }
          },
          "metadata": {},
          "execution_count": 31
        }
      ],
      "source": [
        "py.plot(fig, filename=\"Train-Val Recall | Emotion Prediction\", auto_open = True)"
      ]
    },
    {
      "cell_type": "code",
      "execution_count": 32,
      "metadata": {
        "ExecuteTime": {
          "end_time": "2022-05-28T20:56:50.349394Z",
          "start_time": "2022-05-28T20:56:50.286818Z"
        },
        "id": "6QZ0HWCiWCM1",
        "outputId": "ad5116fb-f298-459f-e95a-f77a76da20bb",
        "colab": {
          "base_uri": "https://localhost:8080/",
          "height": 542
        }
      },
      "outputs": [
        {
          "output_type": "display_data",
          "data": {
            "text/html": [
              "<html>\n",
              "<head><meta charset=\"utf-8\" /></head>\n",
              "<body>\n",
              "    <div>            <script src=\"https://cdnjs.cloudflare.com/ajax/libs/mathjax/2.7.5/MathJax.js?config=TeX-AMS-MML_SVG\"></script><script type=\"text/javascript\">if (window.MathJax) {MathJax.Hub.Config({SVG: {font: \"STIX-Web\"}});}</script>                <script type=\"text/javascript\">window.PlotlyConfig = {MathJaxConfig: 'local'};</script>\n",
              "        <script src=\"https://cdn.plot.ly/plotly-2.8.3.min.js\"></script>                <div id=\"9886a6e3-13a7-4e34-bb43-1b212b1049ef\" class=\"plotly-graph-div\" style=\"height:525px; width:100%;\"></div>            <script type=\"text/javascript\">                                    window.PLOTLYENV=window.PLOTLYENV || {};                                    if (document.getElementById(\"9886a6e3-13a7-4e34-bb43-1b212b1049ef\")) {                    Plotly.newPlot(                        \"9886a6e3-13a7-4e34-bb43-1b212b1049ef\",                        [{\"mode\":\"lines+markers\",\"name\":\"Training Precision\",\"x\":[1,2,3,4,5,6,7,8,9,10,11],\"y\":[0.6657747030258179,0.7934395670890808,0.888243556022644,0.9151852130889893,0.9289732575416565,0.936880886554718,0.9423404932022095,0.947899580001831,0.9564916491508484,0.9582363963127136,0.9630094766616821],\"type\":\"scatter\"},{\"mode\":\"lines+markers\",\"name\":\"Validation Precision\",\"x\":[1,2,3,4,5,6,7,8,9,10,11],\"y\":[0.7181409001350403,0.897846519947052,0.9031088352203369,0.9016393423080444,0.9041793942451477,0.9053916335105896,0.9111223816871643,0.9107505083084106,0.9113923907279968,0.9037783145904541,0.9040403962135315],\"type\":\"scatter\"}],                        {\"title\":{\"text\":\"Training - Validation Precision | Emotion Prediction\"},\"xaxis\":{\"title\":{\"text\":\"Number of epochs\",\"font\":{\"color\":\"#7f7f7f\",\"size\":18}}},\"yaxis\":{\"title\":{\"text\":\"Precision\",\"font\":{\"color\":\"#7f7f7f\",\"size\":18}}},\"template\":{\"data\":{\"bar\":[{\"error_x\":{\"color\":\"#2a3f5f\"},\"error_y\":{\"color\":\"#2a3f5f\"},\"marker\":{\"line\":{\"color\":\"#E5ECF6\",\"width\":0.5},\"pattern\":{\"fillmode\":\"overlay\",\"size\":10,\"solidity\":0.2}},\"type\":\"bar\"}],\"barpolar\":[{\"marker\":{\"line\":{\"color\":\"#E5ECF6\",\"width\":0.5},\"pattern\":{\"fillmode\":\"overlay\",\"size\":10,\"solidity\":0.2}},\"type\":\"barpolar\"}],\"carpet\":[{\"aaxis\":{\"endlinecolor\":\"#2a3f5f\",\"gridcolor\":\"white\",\"linecolor\":\"white\",\"minorgridcolor\":\"white\",\"startlinecolor\":\"#2a3f5f\"},\"baxis\":{\"endlinecolor\":\"#2a3f5f\",\"gridcolor\":\"white\",\"linecolor\":\"white\",\"minorgridcolor\":\"white\",\"startlinecolor\":\"#2a3f5f\"},\"type\":\"carpet\"}],\"choropleth\":[{\"colorbar\":{\"outlinewidth\":0,\"ticks\":\"\"},\"type\":\"choropleth\"}],\"contour\":[{\"colorbar\":{\"outlinewidth\":0,\"ticks\":\"\"},\"colorscale\":[[0.0,\"#0d0887\"],[0.1111111111111111,\"#46039f\"],[0.2222222222222222,\"#7201a8\"],[0.3333333333333333,\"#9c179e\"],[0.4444444444444444,\"#bd3786\"],[0.5555555555555556,\"#d8576b\"],[0.6666666666666666,\"#ed7953\"],[0.7777777777777778,\"#fb9f3a\"],[0.8888888888888888,\"#fdca26\"],[1.0,\"#f0f921\"]],\"type\":\"contour\"}],\"contourcarpet\":[{\"colorbar\":{\"outlinewidth\":0,\"ticks\":\"\"},\"type\":\"contourcarpet\"}],\"heatmap\":[{\"colorbar\":{\"outlinewidth\":0,\"ticks\":\"\"},\"colorscale\":[[0.0,\"#0d0887\"],[0.1111111111111111,\"#46039f\"],[0.2222222222222222,\"#7201a8\"],[0.3333333333333333,\"#9c179e\"],[0.4444444444444444,\"#bd3786\"],[0.5555555555555556,\"#d8576b\"],[0.6666666666666666,\"#ed7953\"],[0.7777777777777778,\"#fb9f3a\"],[0.8888888888888888,\"#fdca26\"],[1.0,\"#f0f921\"]],\"type\":\"heatmap\"}],\"heatmapgl\":[{\"colorbar\":{\"outlinewidth\":0,\"ticks\":\"\"},\"colorscale\":[[0.0,\"#0d0887\"],[0.1111111111111111,\"#46039f\"],[0.2222222222222222,\"#7201a8\"],[0.3333333333333333,\"#9c179e\"],[0.4444444444444444,\"#bd3786\"],[0.5555555555555556,\"#d8576b\"],[0.6666666666666666,\"#ed7953\"],[0.7777777777777778,\"#fb9f3a\"],[0.8888888888888888,\"#fdca26\"],[1.0,\"#f0f921\"]],\"type\":\"heatmapgl\"}],\"histogram\":[{\"marker\":{\"pattern\":{\"fillmode\":\"overlay\",\"size\":10,\"solidity\":0.2}},\"type\":\"histogram\"}],\"histogram2d\":[{\"colorbar\":{\"outlinewidth\":0,\"ticks\":\"\"},\"colorscale\":[[0.0,\"#0d0887\"],[0.1111111111111111,\"#46039f\"],[0.2222222222222222,\"#7201a8\"],[0.3333333333333333,\"#9c179e\"],[0.4444444444444444,\"#bd3786\"],[0.5555555555555556,\"#d8576b\"],[0.6666666666666666,\"#ed7953\"],[0.7777777777777778,\"#fb9f3a\"],[0.8888888888888888,\"#fdca26\"],[1.0,\"#f0f921\"]],\"type\":\"histogram2d\"}],\"histogram2dcontour\":[{\"colorbar\":{\"outlinewidth\":0,\"ticks\":\"\"},\"colorscale\":[[0.0,\"#0d0887\"],[0.1111111111111111,\"#46039f\"],[0.2222222222222222,\"#7201a8\"],[0.3333333333333333,\"#9c179e\"],[0.4444444444444444,\"#bd3786\"],[0.5555555555555556,\"#d8576b\"],[0.6666666666666666,\"#ed7953\"],[0.7777777777777778,\"#fb9f3a\"],[0.8888888888888888,\"#fdca26\"],[1.0,\"#f0f921\"]],\"type\":\"histogram2dcontour\"}],\"mesh3d\":[{\"colorbar\":{\"outlinewidth\":0,\"ticks\":\"\"},\"type\":\"mesh3d\"}],\"parcoords\":[{\"line\":{\"colorbar\":{\"outlinewidth\":0,\"ticks\":\"\"}},\"type\":\"parcoords\"}],\"pie\":[{\"automargin\":true,\"type\":\"pie\"}],\"scatter\":[{\"marker\":{\"colorbar\":{\"outlinewidth\":0,\"ticks\":\"\"}},\"type\":\"scatter\"}],\"scatter3d\":[{\"line\":{\"colorbar\":{\"outlinewidth\":0,\"ticks\":\"\"}},\"marker\":{\"colorbar\":{\"outlinewidth\":0,\"ticks\":\"\"}},\"type\":\"scatter3d\"}],\"scattercarpet\":[{\"marker\":{\"colorbar\":{\"outlinewidth\":0,\"ticks\":\"\"}},\"type\":\"scattercarpet\"}],\"scattergeo\":[{\"marker\":{\"colorbar\":{\"outlinewidth\":0,\"ticks\":\"\"}},\"type\":\"scattergeo\"}],\"scattergl\":[{\"marker\":{\"colorbar\":{\"outlinewidth\":0,\"ticks\":\"\"}},\"type\":\"scattergl\"}],\"scattermapbox\":[{\"marker\":{\"colorbar\":{\"outlinewidth\":0,\"ticks\":\"\"}},\"type\":\"scattermapbox\"}],\"scatterpolar\":[{\"marker\":{\"colorbar\":{\"outlinewidth\":0,\"ticks\":\"\"}},\"type\":\"scatterpolar\"}],\"scatterpolargl\":[{\"marker\":{\"colorbar\":{\"outlinewidth\":0,\"ticks\":\"\"}},\"type\":\"scatterpolargl\"}],\"scatterternary\":[{\"marker\":{\"colorbar\":{\"outlinewidth\":0,\"ticks\":\"\"}},\"type\":\"scatterternary\"}],\"surface\":[{\"colorbar\":{\"outlinewidth\":0,\"ticks\":\"\"},\"colorscale\":[[0.0,\"#0d0887\"],[0.1111111111111111,\"#46039f\"],[0.2222222222222222,\"#7201a8\"],[0.3333333333333333,\"#9c179e\"],[0.4444444444444444,\"#bd3786\"],[0.5555555555555556,\"#d8576b\"],[0.6666666666666666,\"#ed7953\"],[0.7777777777777778,\"#fb9f3a\"],[0.8888888888888888,\"#fdca26\"],[1.0,\"#f0f921\"]],\"type\":\"surface\"}],\"table\":[{\"cells\":{\"fill\":{\"color\":\"#EBF0F8\"},\"line\":{\"color\":\"white\"}},\"header\":{\"fill\":{\"color\":\"#C8D4E3\"},\"line\":{\"color\":\"white\"}},\"type\":\"table\"}]},\"layout\":{\"annotationdefaults\":{\"arrowcolor\":\"#2a3f5f\",\"arrowhead\":0,\"arrowwidth\":1},\"autotypenumbers\":\"strict\",\"coloraxis\":{\"colorbar\":{\"outlinewidth\":0,\"ticks\":\"\"}},\"colorscale\":{\"diverging\":[[0,\"#8e0152\"],[0.1,\"#c51b7d\"],[0.2,\"#de77ae\"],[0.3,\"#f1b6da\"],[0.4,\"#fde0ef\"],[0.5,\"#f7f7f7\"],[0.6,\"#e6f5d0\"],[0.7,\"#b8e186\"],[0.8,\"#7fbc41\"],[0.9,\"#4d9221\"],[1,\"#276419\"]],\"sequential\":[[0.0,\"#0d0887\"],[0.1111111111111111,\"#46039f\"],[0.2222222222222222,\"#7201a8\"],[0.3333333333333333,\"#9c179e\"],[0.4444444444444444,\"#bd3786\"],[0.5555555555555556,\"#d8576b\"],[0.6666666666666666,\"#ed7953\"],[0.7777777777777778,\"#fb9f3a\"],[0.8888888888888888,\"#fdca26\"],[1.0,\"#f0f921\"]],\"sequentialminus\":[[0.0,\"#0d0887\"],[0.1111111111111111,\"#46039f\"],[0.2222222222222222,\"#7201a8\"],[0.3333333333333333,\"#9c179e\"],[0.4444444444444444,\"#bd3786\"],[0.5555555555555556,\"#d8576b\"],[0.6666666666666666,\"#ed7953\"],[0.7777777777777778,\"#fb9f3a\"],[0.8888888888888888,\"#fdca26\"],[1.0,\"#f0f921\"]]},\"colorway\":[\"#636efa\",\"#EF553B\",\"#00cc96\",\"#ab63fa\",\"#FFA15A\",\"#19d3f3\",\"#FF6692\",\"#B6E880\",\"#FF97FF\",\"#FECB52\"],\"font\":{\"color\":\"#2a3f5f\"},\"geo\":{\"bgcolor\":\"white\",\"lakecolor\":\"white\",\"landcolor\":\"#E5ECF6\",\"showlakes\":true,\"showland\":true,\"subunitcolor\":\"white\"},\"hoverlabel\":{\"align\":\"left\"},\"hovermode\":\"closest\",\"mapbox\":{\"style\":\"light\"},\"paper_bgcolor\":\"white\",\"plot_bgcolor\":\"#E5ECF6\",\"polar\":{\"angularaxis\":{\"gridcolor\":\"white\",\"linecolor\":\"white\",\"ticks\":\"\"},\"bgcolor\":\"#E5ECF6\",\"radialaxis\":{\"gridcolor\":\"white\",\"linecolor\":\"white\",\"ticks\":\"\"}},\"scene\":{\"xaxis\":{\"backgroundcolor\":\"#E5ECF6\",\"gridcolor\":\"white\",\"gridwidth\":2,\"linecolor\":\"white\",\"showbackground\":true,\"ticks\":\"\",\"zerolinecolor\":\"white\"},\"yaxis\":{\"backgroundcolor\":\"#E5ECF6\",\"gridcolor\":\"white\",\"gridwidth\":2,\"linecolor\":\"white\",\"showbackground\":true,\"ticks\":\"\",\"zerolinecolor\":\"white\"},\"zaxis\":{\"backgroundcolor\":\"#E5ECF6\",\"gridcolor\":\"white\",\"gridwidth\":2,\"linecolor\":\"white\",\"showbackground\":true,\"ticks\":\"\",\"zerolinecolor\":\"white\"}},\"shapedefaults\":{\"line\":{\"color\":\"#2a3f5f\"}},\"ternary\":{\"aaxis\":{\"gridcolor\":\"white\",\"linecolor\":\"white\",\"ticks\":\"\"},\"baxis\":{\"gridcolor\":\"white\",\"linecolor\":\"white\",\"ticks\":\"\"},\"bgcolor\":\"#E5ECF6\",\"caxis\":{\"gridcolor\":\"white\",\"linecolor\":\"white\",\"ticks\":\"\"}},\"title\":{\"x\":0.05},\"xaxis\":{\"automargin\":true,\"gridcolor\":\"white\",\"linecolor\":\"white\",\"ticks\":\"\",\"title\":{\"standoff\":15},\"zerolinecolor\":\"white\",\"zerolinewidth\":2},\"yaxis\":{\"automargin\":true,\"gridcolor\":\"white\",\"linecolor\":\"white\",\"ticks\":\"\",\"title\":{\"standoff\":15},\"zerolinecolor\":\"white\",\"zerolinewidth\":2}}},\"hovermode\":\"x unified\"},                        {\"responsive\": true}                    ).then(function(){\n",
              "                            \n",
              "var gd = document.getElementById('9886a6e3-13a7-4e34-bb43-1b212b1049ef');\n",
              "var x = new MutationObserver(function (mutations, observer) {{\n",
              "        var display = window.getComputedStyle(gd).display;\n",
              "        if (!display || display === 'none') {{\n",
              "            console.log([gd, 'removed!']);\n",
              "            Plotly.purge(gd);\n",
              "            observer.disconnect();\n",
              "        }}\n",
              "}});\n",
              "\n",
              "// Listen for the removal of the full notebook cells\n",
              "var notebookContainer = gd.closest('#notebook-container');\n",
              "if (notebookContainer) {{\n",
              "    x.observe(notebookContainer, {childList: true});\n",
              "}}\n",
              "\n",
              "// Listen for the clearing of the current output cell\n",
              "var outputEl = gd.closest('.output');\n",
              "if (outputEl) {{\n",
              "    x.observe(outputEl, {childList: true});\n",
              "}}\n",
              "\n",
              "                        })                };                            </script>        </div>\n",
              "</body>\n",
              "</html>"
            ]
          },
          "metadata": {}
        }
      ],
      "source": [
        "metric_to_plot = \"precision\"\n",
        "epochs = list(range(1, max(history.epoch) + 2))\n",
        "training_loss = history.history[metric_to_plot]\n",
        "validation_loss = history.history[\"val_\" + metric_to_plot]\n",
        "\n",
        "trace1 = {\n",
        "    \"mode\": \"lines+markers\",\n",
        "    \"name\": \"Training Precision\",\n",
        "    \"type\": \"scatter\",\n",
        "    \"x\": epochs,\n",
        "    \"y\": training_loss\n",
        "}\n",
        "\n",
        "trace2 = {\n",
        "    \"mode\": \"lines+markers\",\n",
        "    \"name\": \"Validation Precision\",\n",
        "    \"type\": \"scatter\",\n",
        "    \"x\": epochs,\n",
        "    \"y\": validation_loss\n",
        "}\n",
        "\n",
        "data = Data([trace1, trace2])\n",
        "layout = {\n",
        "    \"title\": \"Training - Validation Precision | Emotion Prediction\",\n",
        "    \"xaxis\": {\n",
        "        \"title\": \"Number of epochs\",\n",
        "        \"titlefont\": {\n",
        "            \"size\": 18,\n",
        "            \"color\": \"#7f7f7f\"\n",
        "        }\n",
        "    },\n",
        "    \"yaxis\": {\n",
        "        \"title\": \"Precision\",\n",
        "        \"titlefont\": {\n",
        "            \"size\": 18,\n",
        "            \"color\": \"#7f7f7f\"\n",
        "        }\n",
        "    }\n",
        "}\n",
        "fig = Figure(data=data, layout=layout)\n",
        "fig.update_layout(hovermode=\"x unified\")\n",
        "fig.show()"
      ]
    },
    {
      "cell_type": "code",
      "execution_count": 33,
      "metadata": {
        "ExecuteTime": {
          "end_time": "2022-05-28T20:56:54.200647Z",
          "start_time": "2022-05-28T20:56:50.355676Z"
        },
        "id": "7rLhujh_WCM1",
        "outputId": "53b0b889-1ce4-414f-f069-4561263fba21",
        "colab": {
          "base_uri": "https://localhost:8080/",
          "height": 35
        }
      },
      "outputs": [
        {
          "output_type": "execute_result",
          "data": {
            "text/plain": [
              "'https://plotly.com/~royn5618/112/'"
            ],
            "application/vnd.google.colaboratory.intrinsic+json": {
              "type": "string"
            }
          },
          "metadata": {},
          "execution_count": 33
        }
      ],
      "source": [
        "py.plot(fig, filename=\"Train-Val Precision | Emotion Prediction\", auto_open = True)"
      ]
    },
    {
      "cell_type": "markdown",
      "metadata": {
        "id": "WHrB59xMWCM2"
      },
      "source": [
        "### Classification Report"
      ]
    },
    {
      "cell_type": "code",
      "execution_count": 34,
      "metadata": {
        "ExecuteTime": {
          "end_time": "2022-05-28T20:56:54.223992Z",
          "start_time": "2022-05-28T20:56:54.200647Z"
        },
        "id": "An7XnXUZWCM2"
      },
      "outputs": [],
      "source": [
        "# model = keras.models.load_model(FILEPATH)"
      ]
    },
    {
      "cell_type": "code",
      "execution_count": 35,
      "metadata": {
        "ExecuteTime": {
          "end_time": "2022-05-28T20:57:19.544497Z",
          "start_time": "2022-05-28T20:56:54.228549Z"
        },
        "id": "DhWmbOsMWCM2",
        "outputId": "866e380b-3cb2-4ac8-e056-6e24b9d078ce",
        "colab": {
          "base_uri": "https://localhost:8080/"
        }
      },
      "outputs": [
        {
          "output_type": "execute_result",
          "data": {
            "text/plain": [
              "array([[0, 0, 0, 0, 1, 0],\n",
              "       [0, 0, 0, 0, 1, 0],\n",
              "       [1, 0, 0, 0, 0, 0],\n",
              "       ...,\n",
              "       [0, 0, 1, 0, 0, 0],\n",
              "       [1, 0, 0, 0, 0, 0],\n",
              "       [0, 0, 0, 0, 1, 0]], dtype=int32)"
            ]
          },
          "metadata": {},
          "execution_count": 35
        }
      ],
      "source": [
        "# Model Evaluation on Train Data\n",
        "\n",
        "y_pred_one_hot_encoded = (model.predict(padded_train)> 0.5).astype(\"int32\")\n",
        "y_pred_one_hot_encoded"
      ]
    },
    {
      "cell_type": "code",
      "execution_count": 36,
      "metadata": {
        "ExecuteTime": {
          "end_time": "2022-05-28T20:57:19.604045Z",
          "start_time": "2022-05-28T20:57:19.544497Z"
        },
        "id": "X3yHL_BvWCM3",
        "outputId": "dade8d51-78c7-4cd8-a866-bb29aebb4331",
        "colab": {
          "base_uri": "https://localhost:8080/"
        }
      },
      "outputs": [
        {
          "output_type": "stream",
          "name": "stdout",
          "text": [
            "              precision    recall  f1-score   support\n",
            "\n",
            "           0       0.93      0.96      0.95      2159\n",
            "           1       0.96      0.94      0.95      1937\n",
            "           2       0.99      0.95      0.97      5362\n",
            "           3       0.87      0.96      0.91      1304\n",
            "           4       0.98      0.98      0.98      4666\n",
            "           5       0.90      0.92      0.91       572\n",
            "\n",
            "    accuracy                           0.96     16000\n",
            "   macro avg       0.94      0.95      0.94     16000\n",
            "weighted avg       0.96      0.96      0.96     16000\n",
            "\n"
          ]
        }
      ],
      "source": [
        "y_pred = np.array(tf.argmax(y_pred_one_hot_encoded, axis=1))\n",
        "print(classification_report(train_data['emotion_label'], y_pred))"
      ]
    },
    {
      "cell_type": "code",
      "execution_count": 37,
      "metadata": {
        "ExecuteTime": {
          "end_time": "2022-05-28T20:57:25.530585Z",
          "start_time": "2022-05-28T20:57:19.605103Z"
        },
        "id": "qEZO8WEPWCM4",
        "outputId": "c7c368a9-94f5-4832-9263-19d567e7e43e",
        "colab": {
          "base_uri": "https://localhost:8080/"
        }
      },
      "outputs": [
        {
          "output_type": "stream",
          "name": "stdout",
          "text": [
            "              precision    recall  f1-score   support\n",
            "\n",
            "           0       0.83      0.92      0.87       275\n",
            "           1       0.84      0.83      0.83       212\n",
            "           2       0.94      0.90      0.92       704\n",
            "           3       0.78      0.82      0.80       178\n",
            "           4       0.94      0.93      0.94       550\n",
            "           5       0.81      0.83      0.82        81\n",
            "\n",
            "    accuracy                           0.89      2000\n",
            "   macro avg       0.86      0.87      0.86      2000\n",
            "weighted avg       0.90      0.89      0.89      2000\n",
            "\n"
          ]
        }
      ],
      "source": [
        "# Model Evaaluation on Validation Data\n",
        "\n",
        "y_pred_one_hot_encoded = (model.predict(padded_val)> 0.5).astype(\"int32\")\n",
        "y_pred = np.array(tf.argmax(y_pred_one_hot_encoded, axis=1))\n",
        "print(classification_report(val_data['emotion_label'], y_pred))"
      ]
    },
    {
      "cell_type": "code",
      "execution_count": 38,
      "metadata": {
        "ExecuteTime": {
          "end_time": "2022-05-28T20:57:29.813544Z",
          "start_time": "2022-05-28T20:57:25.533229Z"
        },
        "id": "i7hEGBjHWCM4",
        "outputId": "40bb1a32-5590-4795-f82d-8a798d52194c",
        "colab": {
          "base_uri": "https://localhost:8080/"
        }
      },
      "outputs": [
        {
          "output_type": "stream",
          "name": "stdout",
          "text": [
            "              precision    recall  f1-score   support\n",
            "\n",
            "           0       0.82      0.90      0.86       275\n",
            "           1       0.86      0.88      0.87       224\n",
            "           2       0.93      0.90      0.91       695\n",
            "           3       0.73      0.85      0.78       159\n",
            "           4       0.96      0.92      0.94       581\n",
            "           5       0.75      0.68      0.71        66\n",
            "\n",
            "    accuracy                           0.89      2000\n",
            "   macro avg       0.84      0.85      0.85      2000\n",
            "weighted avg       0.90      0.89      0.89      2000\n",
            "\n"
          ]
        }
      ],
      "source": [
        "# Model Evaaluation on Test Data\n",
        "\n",
        "y_pred_one_hot_encoded = (model.predict(padded_test)> 0.5).astype(\"int32\")\n",
        "y_pred = np.array(tf.argmax(y_pred_one_hot_encoded, axis=1))\n",
        "print(classification_report(test_data['emotion_label'], y_pred))"
      ]
    },
    {
      "cell_type": "markdown",
      "metadata": {
        "id": "eLWVq0WfWCM5"
      },
      "source": [
        "### Confusion Matrix"
      ]
    },
    {
      "cell_type": "code",
      "execution_count": 39,
      "metadata": {
        "ExecuteTime": {
          "end_time": "2022-05-28T20:57:29.856398Z",
          "start_time": "2022-05-28T20:57:29.819971Z"
        },
        "id": "KMVdtiYHWCM6",
        "outputId": "2ac9fea9-b42e-4d73-a410-d98576a68b21",
        "colab": {
          "base_uri": "https://localhost:8080/"
        }
      },
      "outputs": [
        {
          "output_type": "execute_result",
          "data": {
            "text/plain": [
              "array([[248,   9,   8,   0,  10,   0],\n",
              "       [ 11, 197,   1,   0,   5,  10],\n",
              "       [ 14,   2, 623,  48,   3,   5],\n",
              "       [  6,   0,  17, 135,   1,   0],\n",
              "       [ 20,  10,  14,   3, 534,   0],\n",
              "       [  5,  10,   4,   0,   2,  45]])"
            ]
          },
          "metadata": {},
          "execution_count": 39
        }
      ],
      "source": [
        "z = confusion_matrix(test_data['emotion_label'], y_pred)\n",
        "z"
      ]
    },
    {
      "cell_type": "code",
      "execution_count": 40,
      "metadata": {
        "ExecuteTime": {
          "end_time": "2022-05-28T20:57:29.877499Z",
          "start_time": "2022-05-28T20:57:29.856398Z"
        },
        "id": "n1Gmnu7CWCM6",
        "outputId": "c78c1e77-6db8-4429-b1d7-e4732db51518",
        "colab": {
          "base_uri": "https://localhost:8080/"
        }
      },
      "outputs": [
        {
          "output_type": "execute_result",
          "data": {
            "text/plain": [
              "array([[  5,  10,   4,   0,   2,  45],\n",
              "       [ 20,  10,  14,   3, 534,   0],\n",
              "       [  6,   0,  17, 135,   1,   0],\n",
              "       [ 14,   2, 623,  48,   3,   5],\n",
              "       [ 11, 197,   1,   0,   5,  10],\n",
              "       [248,   9,   8,   0,  10,   0]])"
            ]
          },
          "metadata": {},
          "execution_count": 40
        }
      ],
      "source": [
        "z = z[::-1]\n",
        "z"
      ]
    },
    {
      "cell_type": "code",
      "execution_count": 41,
      "metadata": {
        "ExecuteTime": {
          "end_time": "2022-05-28T20:57:29.909624Z",
          "start_time": "2022-05-28T20:57:29.885814Z"
        },
        "id": "3OTFD0AhWCM7"
      },
      "outputs": [],
      "source": [
        "x = list(train_data.emotion.cat.categories)\n",
        "z_text = [[str(y) for y in x] for x in z]"
      ]
    },
    {
      "cell_type": "code",
      "execution_count": 42,
      "metadata": {
        "ExecuteTime": {
          "end_time": "2022-05-28T20:57:30.027651Z",
          "start_time": "2022-05-28T20:57:29.913726Z"
        },
        "id": "6Yx8pftvWCM7",
        "outputId": "c060dbf4-42f4-4ce6-c438-ee3b23849590",
        "colab": {
          "base_uri": "https://localhost:8080/",
          "height": 542
        }
      },
      "outputs": [
        {
          "output_type": "display_data",
          "data": {
            "text/html": [
              "<html>\n",
              "<head><meta charset=\"utf-8\" /></head>\n",
              "<body>\n",
              "    <div>            <script src=\"https://cdnjs.cloudflare.com/ajax/libs/mathjax/2.7.5/MathJax.js?config=TeX-AMS-MML_SVG\"></script><script type=\"text/javascript\">if (window.MathJax) {MathJax.Hub.Config({SVG: {font: \"STIX-Web\"}});}</script>                <script type=\"text/javascript\">window.PlotlyConfig = {MathJaxConfig: 'local'};</script>\n",
              "        <script src=\"https://cdn.plot.ly/plotly-2.8.3.min.js\"></script>                <div id=\"e870fd75-94d5-4adc-bd5c-657480f5aee2\" class=\"plotly-graph-div\" style=\"height:525px; width:100%;\"></div>            <script type=\"text/javascript\">                                    window.PLOTLYENV=window.PLOTLYENV || {};                                    if (document.getElementById(\"e870fd75-94d5-4adc-bd5c-657480f5aee2\")) {                    Plotly.newPlot(                        \"e870fd75-94d5-4adc-bd5c-657480f5aee2\",                        [{\"colorscale\":[[0.0,\"rgb(252, 222, 156)\"],[0.16666666666666666,\"rgb(250, 164, 118)\"],[0.3333333333333333,\"rgb(240, 116, 110)\"],[0.5,\"rgb(227, 79, 111)\"],[0.6666666666666666,\"rgb(220, 57, 119)\"],[0.8333333333333334,\"rgb(185, 37, 122)\"],[1.0,\"rgb(124, 29, 111)\"]],\"reversescale\":false,\"showscale\":true,\"x\":[\"anger\",\"fear\",\"joy\",\"love\",\"sadness\",\"surprise\"],\"y\":[\"surprise\",\"sadness\",\"love\",\"joy\",\"fear\",\"anger\"],\"z\":[[5,10,4,0,2,45],[20,10,14,3,534,0],[6,0,17,135,1,0],[14,2,623,48,3,5],[11,197,1,0,5,10],[248,9,8,0,10,0]],\"type\":\"heatmap\"}],                        {\"annotations\":[{\"font\":{\"color\":\"#000000\"},\"showarrow\":false,\"text\":\"5\",\"x\":\"anger\",\"xref\":\"x\",\"y\":\"surprise\",\"yref\":\"y\"},{\"font\":{\"color\":\"#000000\"},\"showarrow\":false,\"text\":\"10\",\"x\":\"fear\",\"xref\":\"x\",\"y\":\"surprise\",\"yref\":\"y\"},{\"font\":{\"color\":\"#000000\"},\"showarrow\":false,\"text\":\"4\",\"x\":\"joy\",\"xref\":\"x\",\"y\":\"surprise\",\"yref\":\"y\"},{\"font\":{\"color\":\"#000000\"},\"showarrow\":false,\"text\":\"0\",\"x\":\"love\",\"xref\":\"x\",\"y\":\"surprise\",\"yref\":\"y\"},{\"font\":{\"color\":\"#000000\"},\"showarrow\":false,\"text\":\"2\",\"x\":\"sadness\",\"xref\":\"x\",\"y\":\"surprise\",\"yref\":\"y\"},{\"font\":{\"color\":\"#000000\"},\"showarrow\":false,\"text\":\"45\",\"x\":\"surprise\",\"xref\":\"x\",\"y\":\"surprise\",\"yref\":\"y\"},{\"font\":{\"color\":\"#000000\"},\"showarrow\":false,\"text\":\"20\",\"x\":\"anger\",\"xref\":\"x\",\"y\":\"sadness\",\"yref\":\"y\"},{\"font\":{\"color\":\"#000000\"},\"showarrow\":false,\"text\":\"10\",\"x\":\"fear\",\"xref\":\"x\",\"y\":\"sadness\",\"yref\":\"y\"},{\"font\":{\"color\":\"#000000\"},\"showarrow\":false,\"text\":\"14\",\"x\":\"joy\",\"xref\":\"x\",\"y\":\"sadness\",\"yref\":\"y\"},{\"font\":{\"color\":\"#000000\"},\"showarrow\":false,\"text\":\"3\",\"x\":\"love\",\"xref\":\"x\",\"y\":\"sadness\",\"yref\":\"y\"},{\"font\":{\"color\":\"#FFFFFF\"},\"showarrow\":false,\"text\":\"534\",\"x\":\"sadness\",\"xref\":\"x\",\"y\":\"sadness\",\"yref\":\"y\"},{\"font\":{\"color\":\"#000000\"},\"showarrow\":false,\"text\":\"0\",\"x\":\"surprise\",\"xref\":\"x\",\"y\":\"sadness\",\"yref\":\"y\"},{\"font\":{\"color\":\"#000000\"},\"showarrow\":false,\"text\":\"6\",\"x\":\"anger\",\"xref\":\"x\",\"y\":\"love\",\"yref\":\"y\"},{\"font\":{\"color\":\"#000000\"},\"showarrow\":false,\"text\":\"0\",\"x\":\"fear\",\"xref\":\"x\",\"y\":\"love\",\"yref\":\"y\"},{\"font\":{\"color\":\"#000000\"},\"showarrow\":false,\"text\":\"17\",\"x\":\"joy\",\"xref\":\"x\",\"y\":\"love\",\"yref\":\"y\"},{\"font\":{\"color\":\"#000000\"},\"showarrow\":false,\"text\":\"135\",\"x\":\"love\",\"xref\":\"x\",\"y\":\"love\",\"yref\":\"y\"},{\"font\":{\"color\":\"#000000\"},\"showarrow\":false,\"text\":\"1\",\"x\":\"sadness\",\"xref\":\"x\",\"y\":\"love\",\"yref\":\"y\"},{\"font\":{\"color\":\"#000000\"},\"showarrow\":false,\"text\":\"0\",\"x\":\"surprise\",\"xref\":\"x\",\"y\":\"love\",\"yref\":\"y\"},{\"font\":{\"color\":\"#000000\"},\"showarrow\":false,\"text\":\"14\",\"x\":\"anger\",\"xref\":\"x\",\"y\":\"joy\",\"yref\":\"y\"},{\"font\":{\"color\":\"#000000\"},\"showarrow\":false,\"text\":\"2\",\"x\":\"fear\",\"xref\":\"x\",\"y\":\"joy\",\"yref\":\"y\"},{\"font\":{\"color\":\"#FFFFFF\"},\"showarrow\":false,\"text\":\"623\",\"x\":\"joy\",\"xref\":\"x\",\"y\":\"joy\",\"yref\":\"y\"},{\"font\":{\"color\":\"#000000\"},\"showarrow\":false,\"text\":\"48\",\"x\":\"love\",\"xref\":\"x\",\"y\":\"joy\",\"yref\":\"y\"},{\"font\":{\"color\":\"#000000\"},\"showarrow\":false,\"text\":\"3\",\"x\":\"sadness\",\"xref\":\"x\",\"y\":\"joy\",\"yref\":\"y\"},{\"font\":{\"color\":\"#000000\"},\"showarrow\":false,\"text\":\"5\",\"x\":\"surprise\",\"xref\":\"x\",\"y\":\"joy\",\"yref\":\"y\"},{\"font\":{\"color\":\"#000000\"},\"showarrow\":false,\"text\":\"11\",\"x\":\"anger\",\"xref\":\"x\",\"y\":\"fear\",\"yref\":\"y\"},{\"font\":{\"color\":\"#000000\"},\"showarrow\":false,\"text\":\"197\",\"x\":\"fear\",\"xref\":\"x\",\"y\":\"fear\",\"yref\":\"y\"},{\"font\":{\"color\":\"#000000\"},\"showarrow\":false,\"text\":\"1\",\"x\":\"joy\",\"xref\":\"x\",\"y\":\"fear\",\"yref\":\"y\"},{\"font\":{\"color\":\"#000000\"},\"showarrow\":false,\"text\":\"0\",\"x\":\"love\",\"xref\":\"x\",\"y\":\"fear\",\"yref\":\"y\"},{\"font\":{\"color\":\"#000000\"},\"showarrow\":false,\"text\":\"5\",\"x\":\"sadness\",\"xref\":\"x\",\"y\":\"fear\",\"yref\":\"y\"},{\"font\":{\"color\":\"#000000\"},\"showarrow\":false,\"text\":\"10\",\"x\":\"surprise\",\"xref\":\"x\",\"y\":\"fear\",\"yref\":\"y\"},{\"font\":{\"color\":\"#000000\"},\"showarrow\":false,\"text\":\"248\",\"x\":\"anger\",\"xref\":\"x\",\"y\":\"anger\",\"yref\":\"y\"},{\"font\":{\"color\":\"#000000\"},\"showarrow\":false,\"text\":\"9\",\"x\":\"fear\",\"xref\":\"x\",\"y\":\"anger\",\"yref\":\"y\"},{\"font\":{\"color\":\"#000000\"},\"showarrow\":false,\"text\":\"8\",\"x\":\"joy\",\"xref\":\"x\",\"y\":\"anger\",\"yref\":\"y\"},{\"font\":{\"color\":\"#000000\"},\"showarrow\":false,\"text\":\"0\",\"x\":\"love\",\"xref\":\"x\",\"y\":\"anger\",\"yref\":\"y\"},{\"font\":{\"color\":\"#000000\"},\"showarrow\":false,\"text\":\"10\",\"x\":\"sadness\",\"xref\":\"x\",\"y\":\"anger\",\"yref\":\"y\"},{\"font\":{\"color\":\"#000000\"},\"showarrow\":false,\"text\":\"0\",\"x\":\"surprise\",\"xref\":\"x\",\"y\":\"anger\",\"yref\":\"y\"}],\"xaxis\":{\"dtick\":1,\"gridcolor\":\"rgb(0, 0, 0)\",\"side\":\"top\",\"ticks\":\"\"},\"yaxis\":{\"dtick\":1,\"ticks\":\"\",\"ticksuffix\":\"  \"},\"template\":{\"data\":{\"bar\":[{\"error_x\":{\"color\":\"#2a3f5f\"},\"error_y\":{\"color\":\"#2a3f5f\"},\"marker\":{\"line\":{\"color\":\"#E5ECF6\",\"width\":0.5},\"pattern\":{\"fillmode\":\"overlay\",\"size\":10,\"solidity\":0.2}},\"type\":\"bar\"}],\"barpolar\":[{\"marker\":{\"line\":{\"color\":\"#E5ECF6\",\"width\":0.5},\"pattern\":{\"fillmode\":\"overlay\",\"size\":10,\"solidity\":0.2}},\"type\":\"barpolar\"}],\"carpet\":[{\"aaxis\":{\"endlinecolor\":\"#2a3f5f\",\"gridcolor\":\"white\",\"linecolor\":\"white\",\"minorgridcolor\":\"white\",\"startlinecolor\":\"#2a3f5f\"},\"baxis\":{\"endlinecolor\":\"#2a3f5f\",\"gridcolor\":\"white\",\"linecolor\":\"white\",\"minorgridcolor\":\"white\",\"startlinecolor\":\"#2a3f5f\"},\"type\":\"carpet\"}],\"choropleth\":[{\"colorbar\":{\"outlinewidth\":0,\"ticks\":\"\"},\"type\":\"choropleth\"}],\"contour\":[{\"colorbar\":{\"outlinewidth\":0,\"ticks\":\"\"},\"colorscale\":[[0.0,\"#0d0887\"],[0.1111111111111111,\"#46039f\"],[0.2222222222222222,\"#7201a8\"],[0.3333333333333333,\"#9c179e\"],[0.4444444444444444,\"#bd3786\"],[0.5555555555555556,\"#d8576b\"],[0.6666666666666666,\"#ed7953\"],[0.7777777777777778,\"#fb9f3a\"],[0.8888888888888888,\"#fdca26\"],[1.0,\"#f0f921\"]],\"type\":\"contour\"}],\"contourcarpet\":[{\"colorbar\":{\"outlinewidth\":0,\"ticks\":\"\"},\"type\":\"contourcarpet\"}],\"heatmap\":[{\"colorbar\":{\"outlinewidth\":0,\"ticks\":\"\"},\"colorscale\":[[0.0,\"#0d0887\"],[0.1111111111111111,\"#46039f\"],[0.2222222222222222,\"#7201a8\"],[0.3333333333333333,\"#9c179e\"],[0.4444444444444444,\"#bd3786\"],[0.5555555555555556,\"#d8576b\"],[0.6666666666666666,\"#ed7953\"],[0.7777777777777778,\"#fb9f3a\"],[0.8888888888888888,\"#fdca26\"],[1.0,\"#f0f921\"]],\"type\":\"heatmap\"}],\"heatmapgl\":[{\"colorbar\":{\"outlinewidth\":0,\"ticks\":\"\"},\"colorscale\":[[0.0,\"#0d0887\"],[0.1111111111111111,\"#46039f\"],[0.2222222222222222,\"#7201a8\"],[0.3333333333333333,\"#9c179e\"],[0.4444444444444444,\"#bd3786\"],[0.5555555555555556,\"#d8576b\"],[0.6666666666666666,\"#ed7953\"],[0.7777777777777778,\"#fb9f3a\"],[0.8888888888888888,\"#fdca26\"],[1.0,\"#f0f921\"]],\"type\":\"heatmapgl\"}],\"histogram\":[{\"marker\":{\"pattern\":{\"fillmode\":\"overlay\",\"size\":10,\"solidity\":0.2}},\"type\":\"histogram\"}],\"histogram2d\":[{\"colorbar\":{\"outlinewidth\":0,\"ticks\":\"\"},\"colorscale\":[[0.0,\"#0d0887\"],[0.1111111111111111,\"#46039f\"],[0.2222222222222222,\"#7201a8\"],[0.3333333333333333,\"#9c179e\"],[0.4444444444444444,\"#bd3786\"],[0.5555555555555556,\"#d8576b\"],[0.6666666666666666,\"#ed7953\"],[0.7777777777777778,\"#fb9f3a\"],[0.8888888888888888,\"#fdca26\"],[1.0,\"#f0f921\"]],\"type\":\"histogram2d\"}],\"histogram2dcontour\":[{\"colorbar\":{\"outlinewidth\":0,\"ticks\":\"\"},\"colorscale\":[[0.0,\"#0d0887\"],[0.1111111111111111,\"#46039f\"],[0.2222222222222222,\"#7201a8\"],[0.3333333333333333,\"#9c179e\"],[0.4444444444444444,\"#bd3786\"],[0.5555555555555556,\"#d8576b\"],[0.6666666666666666,\"#ed7953\"],[0.7777777777777778,\"#fb9f3a\"],[0.8888888888888888,\"#fdca26\"],[1.0,\"#f0f921\"]],\"type\":\"histogram2dcontour\"}],\"mesh3d\":[{\"colorbar\":{\"outlinewidth\":0,\"ticks\":\"\"},\"type\":\"mesh3d\"}],\"parcoords\":[{\"line\":{\"colorbar\":{\"outlinewidth\":0,\"ticks\":\"\"}},\"type\":\"parcoords\"}],\"pie\":[{\"automargin\":true,\"type\":\"pie\"}],\"scatter\":[{\"marker\":{\"colorbar\":{\"outlinewidth\":0,\"ticks\":\"\"}},\"type\":\"scatter\"}],\"scatter3d\":[{\"line\":{\"colorbar\":{\"outlinewidth\":0,\"ticks\":\"\"}},\"marker\":{\"colorbar\":{\"outlinewidth\":0,\"ticks\":\"\"}},\"type\":\"scatter3d\"}],\"scattercarpet\":[{\"marker\":{\"colorbar\":{\"outlinewidth\":0,\"ticks\":\"\"}},\"type\":\"scattercarpet\"}],\"scattergeo\":[{\"marker\":{\"colorbar\":{\"outlinewidth\":0,\"ticks\":\"\"}},\"type\":\"scattergeo\"}],\"scattergl\":[{\"marker\":{\"colorbar\":{\"outlinewidth\":0,\"ticks\":\"\"}},\"type\":\"scattergl\"}],\"scattermapbox\":[{\"marker\":{\"colorbar\":{\"outlinewidth\":0,\"ticks\":\"\"}},\"type\":\"scattermapbox\"}],\"scatterpolar\":[{\"marker\":{\"colorbar\":{\"outlinewidth\":0,\"ticks\":\"\"}},\"type\":\"scatterpolar\"}],\"scatterpolargl\":[{\"marker\":{\"colorbar\":{\"outlinewidth\":0,\"ticks\":\"\"}},\"type\":\"scatterpolargl\"}],\"scatterternary\":[{\"marker\":{\"colorbar\":{\"outlinewidth\":0,\"ticks\":\"\"}},\"type\":\"scatterternary\"}],\"surface\":[{\"colorbar\":{\"outlinewidth\":0,\"ticks\":\"\"},\"colorscale\":[[0.0,\"#0d0887\"],[0.1111111111111111,\"#46039f\"],[0.2222222222222222,\"#7201a8\"],[0.3333333333333333,\"#9c179e\"],[0.4444444444444444,\"#bd3786\"],[0.5555555555555556,\"#d8576b\"],[0.6666666666666666,\"#ed7953\"],[0.7777777777777778,\"#fb9f3a\"],[0.8888888888888888,\"#fdca26\"],[1.0,\"#f0f921\"]],\"type\":\"surface\"}],\"table\":[{\"cells\":{\"fill\":{\"color\":\"#EBF0F8\"},\"line\":{\"color\":\"white\"}},\"header\":{\"fill\":{\"color\":\"#C8D4E3\"},\"line\":{\"color\":\"white\"}},\"type\":\"table\"}]},\"layout\":{\"annotationdefaults\":{\"arrowcolor\":\"#2a3f5f\",\"arrowhead\":0,\"arrowwidth\":1},\"autotypenumbers\":\"strict\",\"coloraxis\":{\"colorbar\":{\"outlinewidth\":0,\"ticks\":\"\"}},\"colorscale\":{\"diverging\":[[0,\"#8e0152\"],[0.1,\"#c51b7d\"],[0.2,\"#de77ae\"],[0.3,\"#f1b6da\"],[0.4,\"#fde0ef\"],[0.5,\"#f7f7f7\"],[0.6,\"#e6f5d0\"],[0.7,\"#b8e186\"],[0.8,\"#7fbc41\"],[0.9,\"#4d9221\"],[1,\"#276419\"]],\"sequential\":[[0.0,\"#0d0887\"],[0.1111111111111111,\"#46039f\"],[0.2222222222222222,\"#7201a8\"],[0.3333333333333333,\"#9c179e\"],[0.4444444444444444,\"#bd3786\"],[0.5555555555555556,\"#d8576b\"],[0.6666666666666666,\"#ed7953\"],[0.7777777777777778,\"#fb9f3a\"],[0.8888888888888888,\"#fdca26\"],[1.0,\"#f0f921\"]],\"sequentialminus\":[[0.0,\"#0d0887\"],[0.1111111111111111,\"#46039f\"],[0.2222222222222222,\"#7201a8\"],[0.3333333333333333,\"#9c179e\"],[0.4444444444444444,\"#bd3786\"],[0.5555555555555556,\"#d8576b\"],[0.6666666666666666,\"#ed7953\"],[0.7777777777777778,\"#fb9f3a\"],[0.8888888888888888,\"#fdca26\"],[1.0,\"#f0f921\"]]},\"colorway\":[\"#636efa\",\"#EF553B\",\"#00cc96\",\"#ab63fa\",\"#FFA15A\",\"#19d3f3\",\"#FF6692\",\"#B6E880\",\"#FF97FF\",\"#FECB52\"],\"font\":{\"color\":\"#2a3f5f\"},\"geo\":{\"bgcolor\":\"white\",\"lakecolor\":\"white\",\"landcolor\":\"#E5ECF6\",\"showlakes\":true,\"showland\":true,\"subunitcolor\":\"white\"},\"hoverlabel\":{\"align\":\"left\"},\"hovermode\":\"closest\",\"mapbox\":{\"style\":\"light\"},\"paper_bgcolor\":\"white\",\"plot_bgcolor\":\"#E5ECF6\",\"polar\":{\"angularaxis\":{\"gridcolor\":\"white\",\"linecolor\":\"white\",\"ticks\":\"\"},\"bgcolor\":\"#E5ECF6\",\"radialaxis\":{\"gridcolor\":\"white\",\"linecolor\":\"white\",\"ticks\":\"\"}},\"scene\":{\"xaxis\":{\"backgroundcolor\":\"#E5ECF6\",\"gridcolor\":\"white\",\"gridwidth\":2,\"linecolor\":\"white\",\"showbackground\":true,\"ticks\":\"\",\"zerolinecolor\":\"white\"},\"yaxis\":{\"backgroundcolor\":\"#E5ECF6\",\"gridcolor\":\"white\",\"gridwidth\":2,\"linecolor\":\"white\",\"showbackground\":true,\"ticks\":\"\",\"zerolinecolor\":\"white\"},\"zaxis\":{\"backgroundcolor\":\"#E5ECF6\",\"gridcolor\":\"white\",\"gridwidth\":2,\"linecolor\":\"white\",\"showbackground\":true,\"ticks\":\"\",\"zerolinecolor\":\"white\"}},\"shapedefaults\":{\"line\":{\"color\":\"#2a3f5f\"}},\"ternary\":{\"aaxis\":{\"gridcolor\":\"white\",\"linecolor\":\"white\",\"ticks\":\"\"},\"baxis\":{\"gridcolor\":\"white\",\"linecolor\":\"white\",\"ticks\":\"\"},\"bgcolor\":\"#E5ECF6\",\"caxis\":{\"gridcolor\":\"white\",\"linecolor\":\"white\",\"ticks\":\"\"}},\"title\":{\"x\":0.05},\"xaxis\":{\"automargin\":true,\"gridcolor\":\"white\",\"linecolor\":\"white\",\"ticks\":\"\",\"title\":{\"standoff\":15},\"zerolinecolor\":\"white\",\"zerolinewidth\":2},\"yaxis\":{\"automargin\":true,\"gridcolor\":\"white\",\"linecolor\":\"white\",\"ticks\":\"\",\"title\":{\"standoff\":15},\"zerolinecolor\":\"white\",\"zerolinewidth\":2}}},\"title\":{\"text\":\"Confusion Matrix (Test Data) | Emotion Prediction\"}},                        {\"responsive\": true}                    ).then(function(){\n",
              "                            \n",
              "var gd = document.getElementById('e870fd75-94d5-4adc-bd5c-657480f5aee2');\n",
              "var x = new MutationObserver(function (mutations, observer) {{\n",
              "        var display = window.getComputedStyle(gd).display;\n",
              "        if (!display || display === 'none') {{\n",
              "            console.log([gd, 'removed!']);\n",
              "            Plotly.purge(gd);\n",
              "            observer.disconnect();\n",
              "        }}\n",
              "}});\n",
              "\n",
              "// Listen for the removal of the full notebook cells\n",
              "var notebookContainer = gd.closest('#notebook-container');\n",
              "if (notebookContainer) {{\n",
              "    x.observe(notebookContainer, {childList: true});\n",
              "}}\n",
              "\n",
              "// Listen for the clearing of the current output cell\n",
              "var outputEl = gd.closest('.output');\n",
              "if (outputEl) {{\n",
              "    x.observe(outputEl, {childList: true});\n",
              "}}\n",
              "\n",
              "                        })                };                            </script>        </div>\n",
              "</body>\n",
              "</html>"
            ]
          },
          "metadata": {}
        }
      ],
      "source": [
        "fig = ff.create_annotated_heatmap(z, \n",
        "                                  x = x,\n",
        "                                  y = x[::-1], # same labels\n",
        "                                  annotation_text=z_text, \n",
        "                                  colorscale='sunsetdark',\n",
        "                                  showscale = True\n",
        "                                 )\n",
        "\n",
        "fig.update_layout(title_text = \"Confusion Matrix (Test Data) | Emotion Prediction\")\n",
        "fig.show()"
      ]
    },
    {
      "cell_type": "code",
      "execution_count": 43,
      "metadata": {
        "ExecuteTime": {
          "end_time": "2022-05-28T20:57:33.626842Z",
          "start_time": "2022-05-28T20:57:30.030042Z"
        },
        "id": "HbQpqTnzWCM8",
        "outputId": "ae5788e7-4760-4f88-cdb7-0983ad161c7f",
        "colab": {
          "base_uri": "https://localhost:8080/",
          "height": 35
        }
      },
      "outputs": [
        {
          "output_type": "execute_result",
          "data": {
            "text/plain": [
              "'https://plotly.com/~royn5618/121/'"
            ],
            "application/vnd.google.colaboratory.intrinsic+json": {
              "type": "string"
            }
          },
          "metadata": {},
          "execution_count": 43
        }
      ],
      "source": [
        "py.plot(fig, filename=\"Confusion Matrix (Test Data) | Emotion Prediction\", auto_open = True)"
      ]
    }
  ],
  "metadata": {
    "kernelspec": {
      "display_name": "Python 3",
      "language": "python",
      "name": "python3"
    },
    "language_info": {
      "codemirror_mode": {
        "name": "ipython",
        "version": 3
      },
      "file_extension": ".py",
      "mimetype": "text/x-python",
      "name": "python",
      "nbconvert_exporter": "python",
      "pygments_lexer": "ipython3",
      "version": "3.8.5"
    },
    "toc": {
      "base_numbering": 1,
      "nav_menu": {},
      "number_sections": true,
      "sideBar": true,
      "skip_h1_title": false,
      "title_cell": "Table of Contents",
      "title_sidebar": "Contents",
      "toc_cell": false,
      "toc_position": {
        "height": "680px",
        "left": "1245px",
        "top": "111.125px",
        "width": "272px"
      },
      "toc_section_display": true,
      "toc_window_display": true
    },
    "varInspector": {
      "cols": {
        "lenName": 16,
        "lenType": 16,
        "lenVar": 40
      },
      "kernels_config": {
        "python": {
          "delete_cmd_postfix": "",
          "delete_cmd_prefix": "del ",
          "library": "var_list.py",
          "varRefreshCmd": "print(var_dic_list())"
        },
        "r": {
          "delete_cmd_postfix": ") ",
          "delete_cmd_prefix": "rm(",
          "library": "var_list.r",
          "varRefreshCmd": "cat(var_dic_list()) "
        }
      },
      "position": {
        "height": "507.844px",
        "left": "744px",
        "right": "20px",
        "top": "142px",
        "width": "536px"
      },
      "types_to_exclude": [
        "module",
        "function",
        "builtin_function_or_method",
        "instance",
        "_Feature"
      ],
      "window_display": false
    },
    "colab": {
      "provenance": [],
      "toc_visible": true,
      "include_colab_link": true
    },
    "accelerator": "GPU",
    "gpuClass": "standard"
  },
  "nbformat": 4,
  "nbformat_minor": 0
}