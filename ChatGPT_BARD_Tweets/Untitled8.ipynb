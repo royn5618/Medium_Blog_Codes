{
  "nbformat": 4,
  "nbformat_minor": 0,
  "metadata": {
    "colab": {
      "provenance": [],
      "authorship_tag": "ABX9TyPSVzwEFrzN413yDz4aDy3N",
      "include_colab_link": true
    },
    "kernelspec": {
      "name": "python3",
      "display_name": "Python 3"
    },
    "language_info": {
      "name": "python"
    }
  },
  "cells": [
    {
      "cell_type": "markdown",
      "metadata": {
        "id": "view-in-github",
        "colab_type": "text"
      },
      "source": [
        "<a href=\"https://colab.research.google.com/github/royn5618/Medium_Blog_Codes/blob/master/ChatGPT_BARD_Tweets/Untitled8.ipynb\" target=\"_parent\"><img src=\"https://colab.research.google.com/assets/colab-badge.svg\" alt=\"Open In Colab\"/></a>"
      ]
    },
    {
      "cell_type": "code",
      "execution_count": null,
      "metadata": {
        "colab": {
          "base_uri": "https://localhost:8080/"
        },
        "id": "RMst14ka0Zqd",
        "outputId": "767eff0e-999a-4323-a50b-9f28b9d1fa72"
      },
      "outputs": [
        {
          "output_type": "stream",
          "name": "stdout",
          "text": [
            "Looking in indexes: https://pypi.org/simple, https://us-python.pkg.dev/colab-wheels/public/simple/\n",
            "Collecting snscrape\n",
            "  Downloading snscrape-0.5.0.20230113-py3-none-any.whl (69 kB)\n",
            "\u001b[2K     \u001b[90m━━━━━━━━━━━━━━━━━━━━━━━━━━━━━━━━━━━━━━━━\u001b[0m \u001b[32m69.2/69.2 KB\u001b[0m \u001b[31m2.4 MB/s\u001b[0m eta \u001b[36m0:00:00\u001b[0m\n",
            "\u001b[?25hRequirement already satisfied: lxml in /usr/local/lib/python3.8/dist-packages (from snscrape) (4.9.2)\n",
            "Requirement already satisfied: filelock in /usr/local/lib/python3.8/dist-packages (from snscrape) (3.9.0)\n",
            "Requirement already satisfied: beautifulsoup4 in /usr/local/lib/python3.8/dist-packages (from snscrape) (4.6.3)\n",
            "Requirement already satisfied: pytz in /usr/local/lib/python3.8/dist-packages (from snscrape) (2022.7.1)\n",
            "Requirement already satisfied: requests[socks] in /usr/local/lib/python3.8/dist-packages (from snscrape) (2.25.1)\n",
            "Requirement already satisfied: idna<3,>=2.5 in /usr/local/lib/python3.8/dist-packages (from requests[socks]->snscrape) (2.10)\n",
            "Requirement already satisfied: chardet<5,>=3.0.2 in /usr/local/lib/python3.8/dist-packages (from requests[socks]->snscrape) (4.0.0)\n",
            "Requirement already satisfied: urllib3<1.27,>=1.21.1 in /usr/local/lib/python3.8/dist-packages (from requests[socks]->snscrape) (1.24.3)\n",
            "Requirement already satisfied: certifi>=2017.4.17 in /usr/local/lib/python3.8/dist-packages (from requests[socks]->snscrape) (2022.12.7)\n",
            "Requirement already satisfied: PySocks!=1.5.7,>=1.5.6 in /usr/local/lib/python3.8/dist-packages (from requests[socks]->snscrape) (1.7.1)\n",
            "Installing collected packages: snscrape\n",
            "Successfully installed snscrape-0.5.0.20230113\n"
          ]
        }
      ],
      "source": [
        "# !pip3 install snscrape"
      ]
    },
    {
      "cell_type": "code",
      "source": [
        "import pandas as pd\n",
        "import tqdm.notebook as tqdm\n",
        "import snscrape.modules.twitter as sntwitter"
      ],
      "metadata": {
        "id": "309_2Wwr0l3K"
      },
      "execution_count": null,
      "outputs": []
    },
    {
      "cell_type": "code",
      "source": [
        "scraper = sntwitter.TwitterSearchScraper('#chatgpt OR #bard since:2022-11-29 until:2023-02-09 lang:en')\n",
        "\n",
        "tweets = []\n",
        "\n",
        "num_iterations = 1000000\n",
        "\n",
        "for i, tweet in tqdm(enumerate(scraper.get_items()), total=num_iterations):\n",
        "  data = [tweet.date,\n",
        "          tweet.id,\n",
        "          tweet.content,\n",
        "          tweet.viewCount,\n",
        "          tweet.likeCount,\n",
        "          tweet.retweetCount,\n",
        "          tweet.coordinates\n",
        "          ]\n",
        "  tweets.append(data)\n",
        "  if i % 100:\n",
        "    \n"
      ],
      "metadata": {
        "colab": {
          "base_uri": "https://localhost:8080/"
        },
        "id": "qPnRpJ1l0zwK",
        "outputId": "bce5def1-efe3-48d7-eee4-594589af999a"
      },
      "execution_count": null,
      "outputs": [
        {
          "output_type": "stream",
          "name": "stderr",
          "text": [
            "<ipython-input-17-93015088beb7>:8: FutureWarning: content is deprecated, use rawContent instead\n",
            "  tweet.content,\n"
          ]
        }
      ]
    },
    {
      "cell_type": "code",
      "source": [
        "len(tweets)"
      ],
      "metadata": {
        "colab": {
          "base_uri": "https://localhost:8080/"
        },
        "id": "8N_BKCGg04eJ",
        "outputId": "8509638f-5ab3-479b-ae82-4a9eb1d278a9"
      },
      "execution_count": null,
      "outputs": [
        {
          "output_type": "execute_result",
          "data": {
            "text/plain": [
              "102"
            ]
          },
          "metadata": {},
          "execution_count": 18
        }
      ]
    },
    {
      "cell_type": "code",
      "source": [
        "pd.DataFrame(tweets, columns=['date', 'id', 'content', 'view_count', 'like_count', 'retweet_count', 'coordinates'])"
      ],
      "metadata": {
        "colab": {
          "base_uri": "https://localhost:8080/",
          "height": 641
        },
        "id": "5uxP8Ta_5SXn",
        "outputId": "37e91b1f-d54f-499b-dd61-fe6d45c4781d"
      },
      "execution_count": null,
      "outputs": [
        {
          "output_type": "execute_result",
          "data": {
            "text/plain": [
              "                         date                   id  \\\n",
              "0   2023-02-09 11:20:33+00:00  1623643005776265216   \n",
              "1   2023-02-09 11:20:18+00:00  1623642944547741696   \n",
              "2   2023-02-09 11:20:15+00:00  1623642931914735617   \n",
              "3   2023-02-09 11:20:05+00:00  1623642889216753665   \n",
              "4   2023-02-09 11:20:02+00:00  1623642878407737348   \n",
              "..                        ...                  ...   \n",
              "97  2023-02-09 11:08:21+00:00  1623639936053428230   \n",
              "98  2023-02-09 11:08:15+00:00  1623639913236414465   \n",
              "99  2023-02-09 11:08:06+00:00  1623639874401083400   \n",
              "100 2023-02-09 11:08:05+00:00  1623639872018817025   \n",
              "101 2023-02-09 11:07:59+00:00  1623639844525047808   \n",
              "\n",
              "                                               content  view_count  \\\n",
              "0    Short guide on how to use #ChatGPT to elaborat...         NaN   \n",
              "1    Create your own unique voice or wait for #AI t...         NaN   \n",
              "2    微软笑的合不拢嘴：内置 #ChatGPT 后必应下载排名首次超过谷歌。实时数据显示仅仅1天后...         NaN   \n",
              "3    面白いウェビナー参加中。\\n知らなかったキホン的なchatAIの知識を分かりやすくとっつきや...         4.0   \n",
              "4    Impressionnée par le succès de #ChatGPT, l'Eur...         1.0   \n",
              "..                                                 ...         ...   \n",
              "97   Mira Murti says AI can be misused:\\nShe has In...        10.0   \n",
              "98   最近周りで話題の「何でも答えてくれるヤツ」ことChatGPTって何やねん？と興味津々で申し込...        41.0   \n",
              "99                     #ChatGPT vs #Bard vs New Bing 🔥        12.0   \n",
              "100  Zelfs ChatGPT roept de klimaatnoodtoestand uit...        25.0   \n",
              "101  Chat GPT ujawnił  datę krachu finansowego. Szt...       145.0   \n",
              "\n",
              "     like_count  retweet_count coordinates  \n",
              "0             0              0        None  \n",
              "1             0              1        None  \n",
              "2             0              0        None  \n",
              "3             0              0        None  \n",
              "4             0              0        None  \n",
              "..          ...            ...         ...  \n",
              "97            0              0        None  \n",
              "98            2              0        None  \n",
              "99            0              0        None  \n",
              "100           2              1        None  \n",
              "101           1              3        None  \n",
              "\n",
              "[102 rows x 7 columns]"
            ],
            "text/html": [
              "\n",
              "  <div id=\"df-3ed3c78d-5a30-40e1-8a31-3af27e138ad4\">\n",
              "    <div class=\"colab-df-container\">\n",
              "      <div>\n",
              "<style scoped>\n",
              "    .dataframe tbody tr th:only-of-type {\n",
              "        vertical-align: middle;\n",
              "    }\n",
              "\n",
              "    .dataframe tbody tr th {\n",
              "        vertical-align: top;\n",
              "    }\n",
              "\n",
              "    .dataframe thead th {\n",
              "        text-align: right;\n",
              "    }\n",
              "</style>\n",
              "<table border=\"1\" class=\"dataframe\">\n",
              "  <thead>\n",
              "    <tr style=\"text-align: right;\">\n",
              "      <th></th>\n",
              "      <th>date</th>\n",
              "      <th>id</th>\n",
              "      <th>content</th>\n",
              "      <th>view_count</th>\n",
              "      <th>like_count</th>\n",
              "      <th>retweet_count</th>\n",
              "      <th>coordinates</th>\n",
              "    </tr>\n",
              "  </thead>\n",
              "  <tbody>\n",
              "    <tr>\n",
              "      <th>0</th>\n",
              "      <td>2023-02-09 11:20:33+00:00</td>\n",
              "      <td>1623643005776265216</td>\n",
              "      <td>Short guide on how to use #ChatGPT to elaborat...</td>\n",
              "      <td>NaN</td>\n",
              "      <td>0</td>\n",
              "      <td>0</td>\n",
              "      <td>None</td>\n",
              "    </tr>\n",
              "    <tr>\n",
              "      <th>1</th>\n",
              "      <td>2023-02-09 11:20:18+00:00</td>\n",
              "      <td>1623642944547741696</td>\n",
              "      <td>Create your own unique voice or wait for #AI t...</td>\n",
              "      <td>NaN</td>\n",
              "      <td>0</td>\n",
              "      <td>1</td>\n",
              "      <td>None</td>\n",
              "    </tr>\n",
              "    <tr>\n",
              "      <th>2</th>\n",
              "      <td>2023-02-09 11:20:15+00:00</td>\n",
              "      <td>1623642931914735617</td>\n",
              "      <td>微软笑的合不拢嘴：内置 #ChatGPT 后必应下载排名首次超过谷歌。实时数据显示仅仅1天后...</td>\n",
              "      <td>NaN</td>\n",
              "      <td>0</td>\n",
              "      <td>0</td>\n",
              "      <td>None</td>\n",
              "    </tr>\n",
              "    <tr>\n",
              "      <th>3</th>\n",
              "      <td>2023-02-09 11:20:05+00:00</td>\n",
              "      <td>1623642889216753665</td>\n",
              "      <td>面白いウェビナー参加中。\\n知らなかったキホン的なchatAIの知識を分かりやすくとっつきや...</td>\n",
              "      <td>4.0</td>\n",
              "      <td>0</td>\n",
              "      <td>0</td>\n",
              "      <td>None</td>\n",
              "    </tr>\n",
              "    <tr>\n",
              "      <th>4</th>\n",
              "      <td>2023-02-09 11:20:02+00:00</td>\n",
              "      <td>1623642878407737348</td>\n",
              "      <td>Impressionnée par le succès de #ChatGPT, l'Eur...</td>\n",
              "      <td>1.0</td>\n",
              "      <td>0</td>\n",
              "      <td>0</td>\n",
              "      <td>None</td>\n",
              "    </tr>\n",
              "    <tr>\n",
              "      <th>...</th>\n",
              "      <td>...</td>\n",
              "      <td>...</td>\n",
              "      <td>...</td>\n",
              "      <td>...</td>\n",
              "      <td>...</td>\n",
              "      <td>...</td>\n",
              "      <td>...</td>\n",
              "    </tr>\n",
              "    <tr>\n",
              "      <th>97</th>\n",
              "      <td>2023-02-09 11:08:21+00:00</td>\n",
              "      <td>1623639936053428230</td>\n",
              "      <td>Mira Murti says AI can be misused:\\nShe has In...</td>\n",
              "      <td>10.0</td>\n",
              "      <td>0</td>\n",
              "      <td>0</td>\n",
              "      <td>None</td>\n",
              "    </tr>\n",
              "    <tr>\n",
              "      <th>98</th>\n",
              "      <td>2023-02-09 11:08:15+00:00</td>\n",
              "      <td>1623639913236414465</td>\n",
              "      <td>最近周りで話題の「何でも答えてくれるヤツ」ことChatGPTって何やねん？と興味津々で申し込...</td>\n",
              "      <td>41.0</td>\n",
              "      <td>2</td>\n",
              "      <td>0</td>\n",
              "      <td>None</td>\n",
              "    </tr>\n",
              "    <tr>\n",
              "      <th>99</th>\n",
              "      <td>2023-02-09 11:08:06+00:00</td>\n",
              "      <td>1623639874401083400</td>\n",
              "      <td>#ChatGPT vs #Bard vs New Bing 🔥</td>\n",
              "      <td>12.0</td>\n",
              "      <td>0</td>\n",
              "      <td>0</td>\n",
              "      <td>None</td>\n",
              "    </tr>\n",
              "    <tr>\n",
              "      <th>100</th>\n",
              "      <td>2023-02-09 11:08:05+00:00</td>\n",
              "      <td>1623639872018817025</td>\n",
              "      <td>Zelfs ChatGPT roept de klimaatnoodtoestand uit...</td>\n",
              "      <td>25.0</td>\n",
              "      <td>2</td>\n",
              "      <td>1</td>\n",
              "      <td>None</td>\n",
              "    </tr>\n",
              "    <tr>\n",
              "      <th>101</th>\n",
              "      <td>2023-02-09 11:07:59+00:00</td>\n",
              "      <td>1623639844525047808</td>\n",
              "      <td>Chat GPT ujawnił  datę krachu finansowego. Szt...</td>\n",
              "      <td>145.0</td>\n",
              "      <td>1</td>\n",
              "      <td>3</td>\n",
              "      <td>None</td>\n",
              "    </tr>\n",
              "  </tbody>\n",
              "</table>\n",
              "<p>102 rows × 7 columns</p>\n",
              "</div>\n",
              "      <button class=\"colab-df-convert\" onclick=\"convertToInteractive('df-3ed3c78d-5a30-40e1-8a31-3af27e138ad4')\"\n",
              "              title=\"Convert this dataframe to an interactive table.\"\n",
              "              style=\"display:none;\">\n",
              "        \n",
              "  <svg xmlns=\"http://www.w3.org/2000/svg\" height=\"24px\"viewBox=\"0 0 24 24\"\n",
              "       width=\"24px\">\n",
              "    <path d=\"M0 0h24v24H0V0z\" fill=\"none\"/>\n",
              "    <path d=\"M18.56 5.44l.94 2.06.94-2.06 2.06-.94-2.06-.94-.94-2.06-.94 2.06-2.06.94zm-11 1L8.5 8.5l.94-2.06 2.06-.94-2.06-.94L8.5 2.5l-.94 2.06-2.06.94zm10 10l.94 2.06.94-2.06 2.06-.94-2.06-.94-.94-2.06-.94 2.06-2.06.94z\"/><path d=\"M17.41 7.96l-1.37-1.37c-.4-.4-.92-.59-1.43-.59-.52 0-1.04.2-1.43.59L10.3 9.45l-7.72 7.72c-.78.78-.78 2.05 0 2.83L4 21.41c.39.39.9.59 1.41.59.51 0 1.02-.2 1.41-.59l7.78-7.78 2.81-2.81c.8-.78.8-2.07 0-2.86zM5.41 20L4 18.59l7.72-7.72 1.47 1.35L5.41 20z\"/>\n",
              "  </svg>\n",
              "      </button>\n",
              "      \n",
              "  <style>\n",
              "    .colab-df-container {\n",
              "      display:flex;\n",
              "      flex-wrap:wrap;\n",
              "      gap: 12px;\n",
              "    }\n",
              "\n",
              "    .colab-df-convert {\n",
              "      background-color: #E8F0FE;\n",
              "      border: none;\n",
              "      border-radius: 50%;\n",
              "      cursor: pointer;\n",
              "      display: none;\n",
              "      fill: #1967D2;\n",
              "      height: 32px;\n",
              "      padding: 0 0 0 0;\n",
              "      width: 32px;\n",
              "    }\n",
              "\n",
              "    .colab-df-convert:hover {\n",
              "      background-color: #E2EBFA;\n",
              "      box-shadow: 0px 1px 2px rgba(60, 64, 67, 0.3), 0px 1px 3px 1px rgba(60, 64, 67, 0.15);\n",
              "      fill: #174EA6;\n",
              "    }\n",
              "\n",
              "    [theme=dark] .colab-df-convert {\n",
              "      background-color: #3B4455;\n",
              "      fill: #D2E3FC;\n",
              "    }\n",
              "\n",
              "    [theme=dark] .colab-df-convert:hover {\n",
              "      background-color: #434B5C;\n",
              "      box-shadow: 0px 1px 3px 1px rgba(0, 0, 0, 0.15);\n",
              "      filter: drop-shadow(0px 1px 2px rgba(0, 0, 0, 0.3));\n",
              "      fill: #FFFFFF;\n",
              "    }\n",
              "  </style>\n",
              "\n",
              "      <script>\n",
              "        const buttonEl =\n",
              "          document.querySelector('#df-3ed3c78d-5a30-40e1-8a31-3af27e138ad4 button.colab-df-convert');\n",
              "        buttonEl.style.display =\n",
              "          google.colab.kernel.accessAllowed ? 'block' : 'none';\n",
              "\n",
              "        async function convertToInteractive(key) {\n",
              "          const element = document.querySelector('#df-3ed3c78d-5a30-40e1-8a31-3af27e138ad4');\n",
              "          const dataTable =\n",
              "            await google.colab.kernel.invokeFunction('convertToInteractive',\n",
              "                                                     [key], {});\n",
              "          if (!dataTable) return;\n",
              "\n",
              "          const docLinkHtml = 'Like what you see? Visit the ' +\n",
              "            '<a target=\"_blank\" href=https://colab.research.google.com/notebooks/data_table.ipynb>data table notebook</a>'\n",
              "            + ' to learn more about interactive tables.';\n",
              "          element.innerHTML = '';\n",
              "          dataTable['output_type'] = 'display_data';\n",
              "          await google.colab.output.renderOutput(dataTable, element);\n",
              "          const docLink = document.createElement('div');\n",
              "          docLink.innerHTML = docLinkHtml;\n",
              "          element.appendChild(docLink);\n",
              "        }\n",
              "      </script>\n",
              "    </div>\n",
              "  </div>\n",
              "  "
            ]
          },
          "metadata": {},
          "execution_count": 19
        }
      ]
    },
    {
      "cell_type": "code",
      "source": [],
      "metadata": {
        "id": "fi0JVBlt5NUD"
      },
      "execution_count": null,
      "outputs": []
    },
    {
      "cell_type": "code",
      "source": [],
      "metadata": {
        "id": "1HJiPbqv17PE"
      },
      "execution_count": null,
      "outputs": []
    },
    {
      "cell_type": "code",
      "source": [],
      "metadata": {
        "id": "CGAroviW13ty"
      },
      "execution_count": null,
      "outputs": []
    },
    {
      "cell_type": "code",
      "source": [
        "tweet."
      ],
      "metadata": {
        "id": "o_tKpbLh1GeN"
      },
      "execution_count": null,
      "outputs": []
    },
    {
      "cell_type": "code",
      "source": [
        "for tweet in sntwitter.TwitterSearchScraper('#chatgpt OR #bard').get_items():\n",
        "  break\n",
        "tweet.rawContent"
      ],
      "metadata": {
        "colab": {
          "base_uri": "https://localhost:8080/",
          "height": 35
        },
        "id": "dxfaOUXP1DNT",
        "outputId": "f0691552-a901-41ee-d1fc-439d9d02d282"
      },
      "execution_count": null,
      "outputs": [
        {
          "output_type": "execute_result",
          "data": {
            "text/plain": [
              "'Google confirms AI-generated content isn’t against Search guidelines https://t.co/Nr3mFhajOb\\n#google #search #AI #chatGPT'"
            ],
            "application/vnd.google.colaboratory.intrinsic+json": {
              "type": "string"
            }
          },
          "metadata": {},
          "execution_count": 35
        }
      ]
    },
    {
      "cell_type": "code",
      "source": [],
      "metadata": {
        "id": "g-atl9TeLQLg"
      },
      "execution_count": null,
      "outputs": []
    },
    {
      "cell_type": "code",
      "source": [],
      "metadata": {
        "id": "4RTpXHH-7hFj"
      },
      "execution_count": null,
      "outputs": []
    },
    {
      "cell_type": "code",
      "source": [],
      "metadata": {
        "id": "9PuzH5yB7SVq"
      },
      "execution_count": null,
      "outputs": []
    },
    {
      "cell_type": "code",
      "source": [],
      "metadata": {
        "id": "wgZQwRzf7H8S"
      },
      "execution_count": null,
      "outputs": []
    },
    {
      "cell_type": "code",
      "source": [],
      "metadata": {
        "id": "2U-W8dVE0z19"
      },
      "execution_count": null,
      "outputs": []
    }
  ]
}