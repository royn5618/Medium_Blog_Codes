{
 "cells": [
  {
   "cell_type": "markdown",
   "metadata": {
    "colab_type": "text",
    "id": "view-in-github"
   },
   "source": [
    "<a href=\"https://colab.research.google.com/github/royn5618/Medium_Blog_Codes/blob/master/ChatGPT_BARD_Tweets/Untitled8.ipynb\" target=\"_parent\"><img src=\"https://colab.research.google.com/assets/colab-badge.svg\" alt=\"Open In Colab\"/></a>"
   ]
  },
  {
   "cell_type": "code",
   "execution_count": 1,
   "metadata": {
    "ExecuteTime": {
     "end_time": "2023-02-09T15:50:44.208730Z",
     "start_time": "2023-02-09T15:50:44.201709Z"
    },
    "colab": {
     "base_uri": "https://localhost:8080/"
    },
    "id": "RMst14ka0Zqd",
    "outputId": "767eff0e-999a-4323-a50b-9f28b9d1fa72"
   },
   "outputs": [],
   "source": [
    "# !pip3 install snscrape"
   ]
  },
  {
   "cell_type": "code",
   "execution_count": 2,
   "metadata": {
    "ExecuteTime": {
     "end_time": "2023-02-09T15:50:45.122436Z",
     "start_time": "2023-02-09T15:50:44.211268Z"
    },
    "id": "309_2Wwr0l3K"
   },
   "outputs": [],
   "source": [
    "import pandas as pd\n",
    "import tqdm.notebook as tqdm\n",
    "import snscrape.modules.twitter as sntwitter\n",
    "import datetime"
   ]
  },
  {
   "cell_type": "code",
   "execution_count": 3,
   "metadata": {
    "ExecuteTime": {
     "end_time": "2023-02-09T15:50:45.143124Z",
     "start_time": "2023-02-09T15:50:45.122436Z"
    }
   },
   "outputs": [],
   "source": [
    "list_dates = pd.date_range(end=\"2023-02-09\",start=\"2022-11-01\").strftime('%Y-%m-%d').tolist()"
   ]
  },
  {
   "cell_type": "code",
   "execution_count": 4,
   "metadata": {
    "ExecuteTime": {
     "end_time": "2023-02-09T19:34:25.123468Z",
     "start_time": "2023-02-09T15:50:45.144742Z"
    },
    "scrolled": false
   },
   "outputs": [
    {
     "name": "stdout",
     "output_type": "stream",
     "text": [
      "#chatgpt OR #bard since:2022-11-01 until:2022-11-02 lang:en\n",
      "Dumping Tweets @  Data/chatgpt_bard_2022-11-01_2022-11-02.csv\n",
      "Tweets dumped @  Data/chatgpt_bard_2022-11-01_2022-11-02.csv\n",
      "#chatgpt OR #bard since:2022-11-02 until:2022-11-03 lang:en\n",
      "Dumping Tweets @  Data/chatgpt_bard_2022-11-02_2022-11-03.csv\n",
      "Tweets dumped @  Data/chatgpt_bard_2022-11-02_2022-11-03.csv\n",
      "#chatgpt OR #bard since:2022-11-03 until:2022-11-04 lang:en\n",
      "Dumping Tweets @  Data/chatgpt_bard_2022-11-03_2022-11-04.csv\n",
      "Tweets dumped @  Data/chatgpt_bard_2022-11-03_2022-11-04.csv\n",
      "#chatgpt OR #bard since:2022-11-04 until:2022-11-05 lang:en\n",
      "Dumping Tweets @  Data/chatgpt_bard_2022-11-04_2022-11-05.csv\n",
      "Tweets dumped @  Data/chatgpt_bard_2022-11-04_2022-11-05.csv\n",
      "#chatgpt OR #bard since:2022-11-05 until:2022-11-06 lang:en\n",
      "Dumping Tweets @  Data/chatgpt_bard_2022-11-05_2022-11-06.csv\n",
      "Tweets dumped @  Data/chatgpt_bard_2022-11-05_2022-11-06.csv\n",
      "#chatgpt OR #bard since:2022-11-06 until:2022-11-07 lang:en\n",
      "Dumping Tweets @  Data/chatgpt_bard_2022-11-06_2022-11-07.csv\n",
      "Tweets dumped @  Data/chatgpt_bard_2022-11-06_2022-11-07.csv\n",
      "#chatgpt OR #bard since:2022-11-07 until:2022-11-08 lang:en\n",
      "Dumping Tweets @  Data/chatgpt_bard_2022-11-07_2022-11-08.csv\n",
      "Tweets dumped @  Data/chatgpt_bard_2022-11-07_2022-11-08.csv\n",
      "#chatgpt OR #bard since:2022-11-08 until:2022-11-09 lang:en\n",
      "Dumping Tweets @  Data/chatgpt_bard_2022-11-08_2022-11-09.csv\n",
      "Tweets dumped @  Data/chatgpt_bard_2022-11-08_2022-11-09.csv\n",
      "#chatgpt OR #bard since:2022-11-09 until:2022-11-10 lang:en\n",
      "Dumping Tweets @  Data/chatgpt_bard_2022-11-09_2022-11-10.csv\n",
      "Tweets dumped @  Data/chatgpt_bard_2022-11-09_2022-11-10.csv\n",
      "#chatgpt OR #bard since:2022-11-10 until:2022-11-11 lang:en\n",
      "Dumping Tweets @  Data/chatgpt_bard_2022-11-10_2022-11-11.csv\n",
      "Tweets dumped @  Data/chatgpt_bard_2022-11-10_2022-11-11.csv\n",
      "#chatgpt OR #bard since:2022-11-11 until:2022-11-12 lang:en\n",
      "Dumping Tweets @  Data/chatgpt_bard_2022-11-11_2022-11-12.csv\n",
      "Tweets dumped @  Data/chatgpt_bard_2022-11-11_2022-11-12.csv\n",
      "#chatgpt OR #bard since:2022-11-12 until:2022-11-13 lang:en\n",
      "Dumping Tweets @  Data/chatgpt_bard_2022-11-12_2022-11-13.csv\n",
      "Tweets dumped @  Data/chatgpt_bard_2022-11-12_2022-11-13.csv\n",
      "#chatgpt OR #bard since:2022-11-13 until:2022-11-14 lang:en\n",
      "Dumping Tweets @  Data/chatgpt_bard_2022-11-13_2022-11-14.csv\n",
      "Tweets dumped @  Data/chatgpt_bard_2022-11-13_2022-11-14.csv\n",
      "#chatgpt OR #bard since:2022-11-14 until:2022-11-15 lang:en\n",
      "Dumping Tweets @  Data/chatgpt_bard_2022-11-14_2022-11-15.csv\n",
      "Tweets dumped @  Data/chatgpt_bard_2022-11-14_2022-11-15.csv\n",
      "#chatgpt OR #bard since:2022-11-15 until:2022-11-16 lang:en\n",
      "Dumping Tweets @  Data/chatgpt_bard_2022-11-15_2022-11-16.csv\n",
      "Tweets dumped @  Data/chatgpt_bard_2022-11-15_2022-11-16.csv\n",
      "#chatgpt OR #bard since:2022-11-16 until:2022-11-17 lang:en\n",
      "Dumping Tweets @  Data/chatgpt_bard_2022-11-16_2022-11-17.csv\n",
      "Tweets dumped @  Data/chatgpt_bard_2022-11-16_2022-11-17.csv\n",
      "#chatgpt OR #bard since:2022-11-17 until:2022-11-18 lang:en\n",
      "Dumping Tweets @  Data/chatgpt_bard_2022-11-17_2022-11-18.csv\n",
      "Tweets dumped @  Data/chatgpt_bard_2022-11-17_2022-11-18.csv\n",
      "#chatgpt OR #bard since:2022-11-18 until:2022-11-19 lang:en\n",
      "Dumping Tweets @  Data/chatgpt_bard_2022-11-18_2022-11-19.csv\n",
      "Tweets dumped @  Data/chatgpt_bard_2022-11-18_2022-11-19.csv\n",
      "#chatgpt OR #bard since:2022-11-19 until:2022-11-20 lang:en\n",
      "Dumping Tweets @  Data/chatgpt_bard_2022-11-19_2022-11-20.csv\n",
      "Tweets dumped @  Data/chatgpt_bard_2022-11-19_2022-11-20.csv\n",
      "#chatgpt OR #bard since:2022-11-20 until:2022-11-21 lang:en\n",
      "Dumping Tweets @  Data/chatgpt_bard_2022-11-20_2022-11-21.csv\n",
      "Tweets dumped @  Data/chatgpt_bard_2022-11-20_2022-11-21.csv\n",
      "#chatgpt OR #bard since:2022-11-21 until:2022-11-22 lang:en\n",
      "Dumping Tweets @  Data/chatgpt_bard_2022-11-21_2022-11-22.csv\n",
      "Tweets dumped @  Data/chatgpt_bard_2022-11-21_2022-11-22.csv\n",
      "#chatgpt OR #bard since:2022-11-22 until:2022-11-23 lang:en\n",
      "Dumping Tweets @  Data/chatgpt_bard_2022-11-22_2022-11-23.csv\n",
      "Tweets dumped @  Data/chatgpt_bard_2022-11-22_2022-11-23.csv\n",
      "#chatgpt OR #bard since:2022-11-23 until:2022-11-24 lang:en\n",
      "Dumping Tweets @  Data/chatgpt_bard_2022-11-23_2022-11-24.csv\n",
      "Tweets dumped @  Data/chatgpt_bard_2022-11-23_2022-11-24.csv\n",
      "#chatgpt OR #bard since:2022-11-24 until:2022-11-25 lang:en\n",
      "Dumping Tweets @  Data/chatgpt_bard_2022-11-24_2022-11-25.csv\n",
      "Tweets dumped @  Data/chatgpt_bard_2022-11-24_2022-11-25.csv\n",
      "#chatgpt OR #bard since:2022-11-25 until:2022-11-26 lang:en\n",
      "Dumping Tweets @  Data/chatgpt_bard_2022-11-25_2022-11-26.csv\n",
      "Tweets dumped @  Data/chatgpt_bard_2022-11-25_2022-11-26.csv\n",
      "#chatgpt OR #bard since:2022-11-26 until:2022-11-27 lang:en\n",
      "Dumping Tweets @  Data/chatgpt_bard_2022-11-26_2022-11-27.csv\n",
      "Tweets dumped @  Data/chatgpt_bard_2022-11-26_2022-11-27.csv\n",
      "#chatgpt OR #bard since:2022-11-27 until:2022-11-28 lang:en\n",
      "Dumping Tweets @  Data/chatgpt_bard_2022-11-27_2022-11-28.csv\n",
      "Tweets dumped @  Data/chatgpt_bard_2022-11-27_2022-11-28.csv\n",
      "#chatgpt OR #bard since:2022-11-28 until:2022-11-29 lang:en\n",
      "Dumping Tweets @  Data/chatgpt_bard_2022-11-28_2022-11-29.csv\n",
      "Tweets dumped @  Data/chatgpt_bard_2022-11-28_2022-11-29.csv\n",
      "#chatgpt OR #bard since:2022-11-29 until:2022-11-30 lang:en\n",
      "Dumping Tweets @  Data/chatgpt_bard_2022-11-29_2022-11-30.csv\n",
      "Tweets dumped @  Data/chatgpt_bard_2022-11-29_2022-11-30.csv\n",
      "#chatgpt OR #bard since:2022-11-30 until:2022-12-01 lang:en\n",
      "Dumping Tweets @  Data/chatgpt_bard_2022-11-30_2022-12-01.csv\n",
      "Tweets dumped @  Data/chatgpt_bard_2022-11-30_2022-12-01.csv\n",
      "#chatgpt OR #bard since:2022-12-01 until:2022-12-02 lang:en\n",
      "Dumping Tweets @  Data/chatgpt_bard_2022-12-01_2022-12-02.csv\n",
      "Tweets dumped @  Data/chatgpt_bard_2022-12-01_2022-12-02.csv\n",
      "#chatgpt OR #bard since:2022-12-02 until:2022-12-03 lang:en\n",
      "Dumping Tweets @  Data/chatgpt_bard_2022-12-02_2022-12-03.csv\n",
      "Tweets dumped @  Data/chatgpt_bard_2022-12-02_2022-12-03.csv\n",
      "#chatgpt OR #bard since:2022-12-03 until:2022-12-04 lang:en\n",
      "Dumping Tweets @  Data/chatgpt_bard_2022-12-03_2022-12-04.csv\n",
      "Tweets dumped @  Data/chatgpt_bard_2022-12-03_2022-12-04.csv\n",
      "#chatgpt OR #bard since:2022-12-04 until:2022-12-05 lang:en\n",
      "Dumping Tweets @  Data/chatgpt_bard_2022-12-04_2022-12-05.csv\n",
      "Tweets dumped @  Data/chatgpt_bard_2022-12-04_2022-12-05.csv\n",
      "#chatgpt OR #bard since:2022-12-05 until:2022-12-06 lang:en\n",
      "Dumping Tweets @  Data/chatgpt_bard_2022-12-05_2022-12-06.csv\n",
      "Tweets dumped @  Data/chatgpt_bard_2022-12-05_2022-12-06.csv\n",
      "#chatgpt OR #bard since:2022-12-06 until:2022-12-07 lang:en\n",
      "Dumping Tweets @  Data/chatgpt_bard_2022-12-06_2022-12-07.csv\n",
      "Tweets dumped @  Data/chatgpt_bard_2022-12-06_2022-12-07.csv\n",
      "#chatgpt OR #bard since:2022-12-07 until:2022-12-08 lang:en\n",
      "Dumping Tweets @  Data/chatgpt_bard_2022-12-07_2022-12-08.csv\n",
      "Tweets dumped @  Data/chatgpt_bard_2022-12-07_2022-12-08.csv\n",
      "#chatgpt OR #bard since:2022-12-08 until:2022-12-09 lang:en\n",
      "Dumping Tweets @  Data/chatgpt_bard_2022-12-08_2022-12-09.csv\n",
      "Tweets dumped @  Data/chatgpt_bard_2022-12-08_2022-12-09.csv\n",
      "#chatgpt OR #bard since:2022-12-09 until:2022-12-10 lang:en\n",
      "Dumping Tweets @  Data/chatgpt_bard_2022-12-09_2022-12-10.csv\n",
      "Tweets dumped @  Data/chatgpt_bard_2022-12-09_2022-12-10.csv\n",
      "#chatgpt OR #bard since:2022-12-10 until:2022-12-11 lang:en\n",
      "Dumping Tweets @  Data/chatgpt_bard_2022-12-10_2022-12-11.csv\n",
      "Tweets dumped @  Data/chatgpt_bard_2022-12-10_2022-12-11.csv\n",
      "#chatgpt OR #bard since:2022-12-11 until:2022-12-12 lang:en\n",
      "Dumping Tweets @  Data/chatgpt_bard_2022-12-11_2022-12-12.csv\n",
      "Tweets dumped @  Data/chatgpt_bard_2022-12-11_2022-12-12.csv\n",
      "#chatgpt OR #bard since:2022-12-12 until:2022-12-13 lang:en\n",
      "Dumping Tweets @  Data/chatgpt_bard_2022-12-12_2022-12-13.csv\n",
      "Tweets dumped @  Data/chatgpt_bard_2022-12-12_2022-12-13.csv\n",
      "#chatgpt OR #bard since:2022-12-13 until:2022-12-14 lang:en\n",
      "Dumping Tweets @  Data/chatgpt_bard_2022-12-13_2022-12-14.csv\n",
      "Tweets dumped @  Data/chatgpt_bard_2022-12-13_2022-12-14.csv\n",
      "#chatgpt OR #bard since:2022-12-14 until:2022-12-15 lang:en\n",
      "Dumping Tweets @  Data/chatgpt_bard_2022-12-14_2022-12-15.csv\n",
      "Tweets dumped @  Data/chatgpt_bard_2022-12-14_2022-12-15.csv\n",
      "#chatgpt OR #bard since:2022-12-15 until:2022-12-16 lang:en\n",
      "Dumping Tweets @  Data/chatgpt_bard_2022-12-15_2022-12-16.csv\n",
      "Tweets dumped @  Data/chatgpt_bard_2022-12-15_2022-12-16.csv\n",
      "#chatgpt OR #bard since:2022-12-16 until:2022-12-17 lang:en\n"
     ]
    },
    {
     "name": "stdout",
     "output_type": "stream",
     "text": [
      "Dumping Tweets @  Data/chatgpt_bard_2022-12-16_2022-12-17.csv\n",
      "Tweets dumped @  Data/chatgpt_bard_2022-12-16_2022-12-17.csv\n",
      "#chatgpt OR #bard since:2022-12-17 until:2022-12-18 lang:en\n",
      "Dumping Tweets @  Data/chatgpt_bard_2022-12-17_2022-12-18.csv\n",
      "Tweets dumped @  Data/chatgpt_bard_2022-12-17_2022-12-18.csv\n",
      "#chatgpt OR #bard since:2022-12-18 until:2022-12-19 lang:en\n",
      "Dumping Tweets @  Data/chatgpt_bard_2022-12-18_2022-12-19.csv\n",
      "Tweets dumped @  Data/chatgpt_bard_2022-12-18_2022-12-19.csv\n",
      "#chatgpt OR #bard since:2022-12-19 until:2022-12-20 lang:en\n",
      "Dumping Tweets @  Data/chatgpt_bard_2022-12-19_2022-12-20.csv\n",
      "Tweets dumped @  Data/chatgpt_bard_2022-12-19_2022-12-20.csv\n",
      "#chatgpt OR #bard since:2022-12-20 until:2022-12-21 lang:en\n",
      "Dumping Tweets @  Data/chatgpt_bard_2022-12-20_2022-12-21.csv\n",
      "Tweets dumped @  Data/chatgpt_bard_2022-12-20_2022-12-21.csv\n",
      "#chatgpt OR #bard since:2022-12-21 until:2022-12-22 lang:en\n",
      "Dumping Tweets @  Data/chatgpt_bard_2022-12-21_2022-12-22.csv\n",
      "Tweets dumped @  Data/chatgpt_bard_2022-12-21_2022-12-22.csv\n",
      "#chatgpt OR #bard since:2022-12-22 until:2022-12-23 lang:en\n",
      "Dumping Tweets @  Data/chatgpt_bard_2022-12-22_2022-12-23.csv\n",
      "Tweets dumped @  Data/chatgpt_bard_2022-12-22_2022-12-23.csv\n",
      "#chatgpt OR #bard since:2022-12-23 until:2022-12-24 lang:en\n",
      "Dumping Tweets @  Data/chatgpt_bard_2022-12-23_2022-12-24.csv\n",
      "Tweets dumped @  Data/chatgpt_bard_2022-12-23_2022-12-24.csv\n",
      "#chatgpt OR #bard since:2022-12-24 until:2022-12-25 lang:en\n",
      "Dumping Tweets @  Data/chatgpt_bard_2022-12-24_2022-12-25.csv\n",
      "Tweets dumped @  Data/chatgpt_bard_2022-12-24_2022-12-25.csv\n",
      "#chatgpt OR #bard since:2022-12-25 until:2022-12-26 lang:en\n",
      "Dumping Tweets @  Data/chatgpt_bard_2022-12-25_2022-12-26.csv\n",
      "Tweets dumped @  Data/chatgpt_bard_2022-12-25_2022-12-26.csv\n",
      "#chatgpt OR #bard since:2022-12-26 until:2022-12-27 lang:en\n",
      "Dumping Tweets @  Data/chatgpt_bard_2022-12-26_2022-12-27.csv\n",
      "Tweets dumped @  Data/chatgpt_bard_2022-12-26_2022-12-27.csv\n",
      "#chatgpt OR #bard since:2022-12-27 until:2022-12-28 lang:en\n",
      "Dumping Tweets @  Data/chatgpt_bard_2022-12-27_2022-12-28.csv\n",
      "Tweets dumped @  Data/chatgpt_bard_2022-12-27_2022-12-28.csv\n",
      "#chatgpt OR #bard since:2022-12-28 until:2022-12-29 lang:en\n",
      "Dumping Tweets @  Data/chatgpt_bard_2022-12-28_2022-12-29.csv\n",
      "Tweets dumped @  Data/chatgpt_bard_2022-12-28_2022-12-29.csv\n",
      "#chatgpt OR #bard since:2022-12-29 until:2022-12-30 lang:en\n",
      "Dumping Tweets @  Data/chatgpt_bard_2022-12-29_2022-12-30.csv\n",
      "Tweets dumped @  Data/chatgpt_bard_2022-12-29_2022-12-30.csv\n",
      "#chatgpt OR #bard since:2022-12-30 until:2022-12-31 lang:en\n",
      "Dumping Tweets @  Data/chatgpt_bard_2022-12-30_2022-12-31.csv\n",
      "Tweets dumped @  Data/chatgpt_bard_2022-12-30_2022-12-31.csv\n",
      "#chatgpt OR #bard since:2022-12-31 until:2023-01-01 lang:en\n",
      "Dumping Tweets @  Data/chatgpt_bard_2022-12-31_2023-01-01.csv\n",
      "Tweets dumped @  Data/chatgpt_bard_2022-12-31_2023-01-01.csv\n",
      "#chatgpt OR #bard since:2023-01-01 until:2023-01-02 lang:en\n",
      "Dumping Tweets @  Data/chatgpt_bard_2023-01-01_2023-01-02.csv\n",
      "Tweets dumped @  Data/chatgpt_bard_2023-01-01_2023-01-02.csv\n",
      "#chatgpt OR #bard since:2023-01-02 until:2023-01-03 lang:en\n",
      "Dumping Tweets @  Data/chatgpt_bard_2023-01-02_2023-01-03.csv\n",
      "Tweets dumped @  Data/chatgpt_bard_2023-01-02_2023-01-03.csv\n",
      "#chatgpt OR #bard since:2023-01-03 until:2023-01-04 lang:en\n",
      "Dumping Tweets @  Data/chatgpt_bard_2023-01-03_2023-01-04.csv\n",
      "Tweets dumped @  Data/chatgpt_bard_2023-01-03_2023-01-04.csv\n",
      "#chatgpt OR #bard since:2023-01-04 until:2023-01-05 lang:en\n",
      "Dumping Tweets @  Data/chatgpt_bard_2023-01-04_2023-01-05.csv\n",
      "Tweets dumped @  Data/chatgpt_bard_2023-01-04_2023-01-05.csv\n",
      "#chatgpt OR #bard since:2023-01-05 until:2023-01-06 lang:en\n",
      "Dumping Tweets @  Data/chatgpt_bard_2023-01-05_2023-01-06.csv\n",
      "Tweets dumped @  Data/chatgpt_bard_2023-01-05_2023-01-06.csv\n",
      "#chatgpt OR #bard since:2023-01-06 until:2023-01-07 lang:en\n",
      "Dumping Tweets @  Data/chatgpt_bard_2023-01-06_2023-01-07.csv\n",
      "Tweets dumped @  Data/chatgpt_bard_2023-01-06_2023-01-07.csv\n",
      "#chatgpt OR #bard since:2023-01-07 until:2023-01-08 lang:en\n",
      "Dumping Tweets @  Data/chatgpt_bard_2023-01-07_2023-01-08.csv\n",
      "Tweets dumped @  Data/chatgpt_bard_2023-01-07_2023-01-08.csv\n",
      "#chatgpt OR #bard since:2023-01-08 until:2023-01-09 lang:en\n",
      "Dumping Tweets @  Data/chatgpt_bard_2023-01-08_2023-01-09.csv\n",
      "Tweets dumped @  Data/chatgpt_bard_2023-01-08_2023-01-09.csv\n",
      "#chatgpt OR #bard since:2023-01-09 until:2023-01-10 lang:en\n",
      "Dumping Tweets @  Data/chatgpt_bard_2023-01-09_2023-01-10.csv\n",
      "Tweets dumped @  Data/chatgpt_bard_2023-01-09_2023-01-10.csv\n",
      "#chatgpt OR #bard since:2023-01-10 until:2023-01-11 lang:en\n",
      "Dumping Tweets @  Data/chatgpt_bard_2023-01-10_2023-01-11.csv\n",
      "Tweets dumped @  Data/chatgpt_bard_2023-01-10_2023-01-11.csv\n",
      "#chatgpt OR #bard since:2023-01-11 until:2023-01-12 lang:en\n",
      "Dumping Tweets @  Data/chatgpt_bard_2023-01-11_2023-01-12.csv\n",
      "Tweets dumped @  Data/chatgpt_bard_2023-01-11_2023-01-12.csv\n",
      "#chatgpt OR #bard since:2023-01-12 until:2023-01-13 lang:en\n",
      "Dumping Tweets @  Data/chatgpt_bard_2023-01-12_2023-01-13.csv\n",
      "Tweets dumped @  Data/chatgpt_bard_2023-01-12_2023-01-13.csv\n",
      "#chatgpt OR #bard since:2023-01-13 until:2023-01-14 lang:en\n",
      "Dumping Tweets @  Data/chatgpt_bard_2023-01-13_2023-01-14.csv\n",
      "Tweets dumped @  Data/chatgpt_bard_2023-01-13_2023-01-14.csv\n",
      "#chatgpt OR #bard since:2023-01-14 until:2023-01-15 lang:en\n",
      "Dumping Tweets @  Data/chatgpt_bard_2023-01-14_2023-01-15.csv\n",
      "Tweets dumped @  Data/chatgpt_bard_2023-01-14_2023-01-15.csv\n",
      "#chatgpt OR #bard since:2023-01-15 until:2023-01-16 lang:en\n",
      "Dumping Tweets @  Data/chatgpt_bard_2023-01-15_2023-01-16.csv\n",
      "Tweets dumped @  Data/chatgpt_bard_2023-01-15_2023-01-16.csv\n",
      "#chatgpt OR #bard since:2023-01-16 until:2023-01-17 lang:en\n",
      "Dumping Tweets @  Data/chatgpt_bard_2023-01-16_2023-01-17.csv\n",
      "Tweets dumped @  Data/chatgpt_bard_2023-01-16_2023-01-17.csv\n",
      "#chatgpt OR #bard since:2023-01-17 until:2023-01-18 lang:en\n",
      "Dumping Tweets @  Data/chatgpt_bard_2023-01-17_2023-01-18.csv\n",
      "Tweets dumped @  Data/chatgpt_bard_2023-01-17_2023-01-18.csv\n",
      "#chatgpt OR #bard since:2023-01-18 until:2023-01-19 lang:en\n",
      "Dumping Tweets @  Data/chatgpt_bard_2023-01-18_2023-01-19.csv\n",
      "Tweets dumped @  Data/chatgpt_bard_2023-01-18_2023-01-19.csv\n",
      "#chatgpt OR #bard since:2023-01-19 until:2023-01-20 lang:en\n",
      "Dumping Tweets @  Data/chatgpt_bard_2023-01-19_2023-01-20.csv\n",
      "Tweets dumped @  Data/chatgpt_bard_2023-01-19_2023-01-20.csv\n",
      "#chatgpt OR #bard since:2023-01-20 until:2023-01-21 lang:en\n",
      "Dumping Tweets @  Data/chatgpt_bard_2023-01-20_2023-01-21.csv\n",
      "Tweets dumped @  Data/chatgpt_bard_2023-01-20_2023-01-21.csv\n",
      "#chatgpt OR #bard since:2023-01-21 until:2023-01-22 lang:en\n",
      "Dumping Tweets @  Data/chatgpt_bard_2023-01-21_2023-01-22.csv\n",
      "Tweets dumped @  Data/chatgpt_bard_2023-01-21_2023-01-22.csv\n",
      "#chatgpt OR #bard since:2023-01-22 until:2023-01-23 lang:en\n",
      "Dumping Tweets @  Data/chatgpt_bard_2023-01-22_2023-01-23.csv\n",
      "Tweets dumped @  Data/chatgpt_bard_2023-01-22_2023-01-23.csv\n",
      "#chatgpt OR #bard since:2023-01-23 until:2023-01-24 lang:en\n",
      "Dumping Tweets @  Data/chatgpt_bard_2023-01-23_2023-01-24.csv\n",
      "Tweets dumped @  Data/chatgpt_bard_2023-01-23_2023-01-24.csv\n",
      "#chatgpt OR #bard since:2023-01-24 until:2023-01-25 lang:en\n",
      "Dumping Tweets @  Data/chatgpt_bard_2023-01-24_2023-01-25.csv\n",
      "Tweets dumped @  Data/chatgpt_bard_2023-01-24_2023-01-25.csv\n",
      "#chatgpt OR #bard since:2023-01-25 until:2023-01-26 lang:en\n",
      "Dumping Tweets @  Data/chatgpt_bard_2023-01-25_2023-01-26.csv\n",
      "Tweets dumped @  Data/chatgpt_bard_2023-01-25_2023-01-26.csv\n",
      "#chatgpt OR #bard since:2023-01-26 until:2023-01-27 lang:en\n",
      "Dumping Tweets @  Data/chatgpt_bard_2023-01-26_2023-01-27.csv\n",
      "Tweets dumped @  Data/chatgpt_bard_2023-01-26_2023-01-27.csv\n",
      "#chatgpt OR #bard since:2023-01-27 until:2023-01-28 lang:en\n",
      "Dumping Tweets @  Data/chatgpt_bard_2023-01-27_2023-01-28.csv\n",
      "Tweets dumped @  Data/chatgpt_bard_2023-01-27_2023-01-28.csv\n",
      "#chatgpt OR #bard since:2023-01-28 until:2023-01-29 lang:en\n",
      "Dumping Tweets @  Data/chatgpt_bard_2023-01-28_2023-01-29.csv\n",
      "Tweets dumped @  Data/chatgpt_bard_2023-01-28_2023-01-29.csv\n",
      "#chatgpt OR #bard since:2023-01-29 until:2023-01-30 lang:en\n",
      "Dumping Tweets @  Data/chatgpt_bard_2023-01-29_2023-01-30.csv\n",
      "Tweets dumped @  Data/chatgpt_bard_2023-01-29_2023-01-30.csv\n",
      "#chatgpt OR #bard since:2023-01-30 until:2023-01-31 lang:en\n"
     ]
    },
    {
     "name": "stdout",
     "output_type": "stream",
     "text": [
      "Dumping Tweets @  Data/chatgpt_bard_2023-01-30_2023-01-31.csv\n",
      "Tweets dumped @  Data/chatgpt_bard_2023-01-30_2023-01-31.csv\n",
      "#chatgpt OR #bard since:2023-01-31 until:2023-02-01 lang:en\n",
      "Dumping Tweets @  Data/chatgpt_bard_2023-01-31_2023-02-01.csv\n",
      "Tweets dumped @  Data/chatgpt_bard_2023-01-31_2023-02-01.csv\n",
      "#chatgpt OR #bard since:2023-02-01 until:2023-02-02 lang:en\n",
      "Dumping Tweets @  Data/chatgpt_bard_2023-02-01_2023-02-02.csv\n",
      "Tweets dumped @  Data/chatgpt_bard_2023-02-01_2023-02-02.csv\n",
      "#chatgpt OR #bard since:2023-02-02 until:2023-02-03 lang:en\n",
      "Dumping Tweets @  Data/chatgpt_bard_2023-02-02_2023-02-03.csv\n",
      "Tweets dumped @  Data/chatgpt_bard_2023-02-02_2023-02-03.csv\n",
      "#chatgpt OR #bard since:2023-02-03 until:2023-02-04 lang:en\n",
      "Dumping Tweets @  Data/chatgpt_bard_2023-02-03_2023-02-04.csv\n",
      "Tweets dumped @  Data/chatgpt_bard_2023-02-03_2023-02-04.csv\n",
      "#chatgpt OR #bard since:2023-02-04 until:2023-02-05 lang:en\n",
      "Dumping Tweets @  Data/chatgpt_bard_2023-02-04_2023-02-05.csv\n",
      "Tweets dumped @  Data/chatgpt_bard_2023-02-04_2023-02-05.csv\n",
      "#chatgpt OR #bard since:2023-02-05 until:2023-02-06 lang:en\n",
      "Dumping Tweets @  Data/chatgpt_bard_2023-02-05_2023-02-06.csv\n",
      "Tweets dumped @  Data/chatgpt_bard_2023-02-05_2023-02-06.csv\n",
      "#chatgpt OR #bard since:2023-02-06 until:2023-02-07 lang:en\n",
      "Dumping Tweets @  Data/chatgpt_bard_2023-02-06_2023-02-07.csv\n",
      "Tweets dumped @  Data/chatgpt_bard_2023-02-06_2023-02-07.csv\n",
      "#chatgpt OR #bard since:2023-02-07 until:2023-02-08 lang:en\n",
      "Dumping Tweets @  Data/chatgpt_bard_2023-02-07_2023-02-08.csv\n",
      "Tweets dumped @  Data/chatgpt_bard_2023-02-07_2023-02-08.csv\n",
      "#chatgpt OR #bard since:2023-02-08 until:2023-02-09 lang:en\n",
      "Dumping Tweets @  Data/chatgpt_bard_2023-02-08_2023-02-09.csv\n",
      "Tweets dumped @  Data/chatgpt_bard_2023-02-08_2023-02-09.csv\n"
     ]
    }
   ],
   "source": [
    "dict_num_tweets = {}\n",
    "for i, date in enumerate(list_dates):\n",
    "    if date != list_dates[-1]: \n",
    "        since = date\n",
    "        until = list_dates[i+1]\n",
    "        query = \"#chatgpt OR #bard since:{} until:{} lang:en\".format(since, until)\n",
    "        print(query)\n",
    "        scraper = sntwitter.TwitterSearchScraper(query)\n",
    "        tweets = []\n",
    "        for i, tweet in enumerate(scraper.get_items()):\n",
    "            data = [\n",
    "                tweet.date, tweet.id, tweet.rawContent, tweet.viewCount, tweet.likeCount,\n",
    "                tweet.retweetCount, tweet.coordinates\n",
    "            ]\n",
    "            tweets.append(data)\n",
    "        df = pd.DataFrame(tweets, columns=['date', 'id', 'content', 'view_count', 'like_count', 'retweet_count', 'coordinates'])\n",
    "        file_name = \"Data/chatgpt_bard_{}_{}.csv\".format(since, until)\n",
    "        print(\"Dumping Tweets @ \", file_name)\n",
    "        df.to_csv(file_name, index=False)\n",
    "        print(\"Tweets dumped @ \", file_name)\n",
    "        dict_num_tweets[since] = len(df)"
   ]
  },
  {
   "cell_type": "code",
   "execution_count": 22,
   "metadata": {
    "ExecuteTime": {
     "end_time": "2023-02-09T19:54:07.210641Z",
     "start_time": "2023-02-09T19:54:07.065157Z"
    }
   },
   "outputs": [
    {
     "data": {
      "application/vnd.plotly.v1+json": {
       "config": {
        "plotlyServerURL": "https://plotly.com"
       },
       "data": [
        {
         "hovertemplate": "Date=%{x}<br>Number of Tweets=%{y}<extra></extra>",
         "legendgroup": "",
         "line": {
          "color": "#636efa",
          "dash": "solid"
         },
         "mode": "lines",
         "name": "",
         "orientation": "v",
         "showlegend": false,
         "type": "scatter",
         "x": [
          "2022-11-01",
          "2022-11-02",
          "2022-11-03",
          "2022-11-04",
          "2022-11-05",
          "2022-11-06",
          "2022-11-07",
          "2022-11-08",
          "2022-11-09",
          "2022-11-10",
          "2022-11-11",
          "2022-11-12",
          "2022-11-13",
          "2022-11-14",
          "2022-11-15",
          "2022-11-16",
          "2022-11-17",
          "2022-11-18",
          "2022-11-19",
          "2022-11-20",
          "2022-11-21",
          "2022-11-22",
          "2022-11-23",
          "2022-11-24",
          "2022-11-25",
          "2022-11-26",
          "2022-11-27",
          "2022-11-28",
          "2022-11-29",
          "2022-11-30",
          "2022-12-01",
          "2022-12-02",
          "2022-12-03",
          "2022-12-04",
          "2022-12-05",
          "2022-12-06",
          "2022-12-07",
          "2022-12-08",
          "2022-12-09",
          "2022-12-10",
          "2022-12-11",
          "2022-12-12",
          "2022-12-13",
          "2022-12-14",
          "2022-12-15",
          "2022-12-16",
          "2022-12-17",
          "2022-12-18",
          "2022-12-19",
          "2022-12-20",
          "2022-12-21",
          "2022-12-22",
          "2022-12-23",
          "2022-12-24",
          "2022-12-25",
          "2022-12-26",
          "2022-12-27",
          "2022-12-28",
          "2022-12-29",
          "2022-12-30",
          "2022-12-31",
          "2023-01-01",
          "2023-01-02",
          "2023-01-03",
          "2023-01-04",
          "2023-01-05",
          "2023-01-06",
          "2023-01-07",
          "2023-01-08",
          "2023-01-09",
          "2023-01-10",
          "2023-01-11",
          "2023-01-12",
          "2023-01-13",
          "2023-01-14",
          "2023-01-15",
          "2023-01-16",
          "2023-01-17",
          "2023-01-18",
          "2023-01-19",
          "2023-01-20",
          "2023-01-21",
          "2023-01-22",
          "2023-01-23",
          "2023-01-24",
          "2023-01-25",
          "2023-01-26",
          "2023-01-27",
          "2023-01-28",
          "2023-01-29",
          "2023-01-30",
          "2023-01-31",
          "2023-02-01",
          "2023-02-02",
          "2023-02-03",
          "2023-02-04",
          "2023-02-05",
          "2023-02-06",
          "2023-02-07",
          "2023-02-08"
         ],
         "xaxis": "x",
         "y": [
          8,
          14,
          18,
          19,
          11,
          14,
          10,
          17,
          12,
          8,
          6,
          12,
          5,
          11,
          10,
          14,
          15,
          12,
          19,
          13,
          10,
          16,
          11,
          13,
          17,
          20,
          13,
          16,
          20,
          95,
          1553,
          3563,
          3059,
          4087,
          5810,
          6311,
          4769,
          4947,
          4620,
          3309,
          2887,
          2895,
          2783,
          2691,
          2514,
          2452,
          1737,
          1459,
          1835,
          1880,
          2061,
          1944,
          1852,
          1477,
          1124,
          1436,
          1728,
          1708,
          1683,
          1647,
          1297,
          1197,
          1548,
          2113,
          2745,
          3251,
          3153,
          2686,
          2597,
          3124,
          4294,
          4591,
          4096,
          3869,
          2899,
          2668,
          3583,
          4420,
          4223,
          3955,
          3796,
          3202,
          2901,
          4429,
          4560,
          4511,
          4332,
          4490,
          3205,
          2924,
          3502,
          3508,
          5214,
          5491,
          5210,
          3567,
          3269,
          5782,
          9383,
          7724
         ],
         "yaxis": "y"
        }
       ],
       "layout": {
        "legend": {
         "tracegroupgap": 0
        },
        "template": {
         "data": {
          "bar": [
           {
            "error_x": {
             "color": "#2a3f5f"
            },
            "error_y": {
             "color": "#2a3f5f"
            },
            "marker": {
             "line": {
              "color": "#E5ECF6",
              "width": 0.5
             },
             "pattern": {
              "fillmode": "overlay",
              "size": 10,
              "solidity": 0.2
             }
            },
            "type": "bar"
           }
          ],
          "barpolar": [
           {
            "marker": {
             "line": {
              "color": "#E5ECF6",
              "width": 0.5
             },
             "pattern": {
              "fillmode": "overlay",
              "size": 10,
              "solidity": 0.2
             }
            },
            "type": "barpolar"
           }
          ],
          "carpet": [
           {
            "aaxis": {
             "endlinecolor": "#2a3f5f",
             "gridcolor": "white",
             "linecolor": "white",
             "minorgridcolor": "white",
             "startlinecolor": "#2a3f5f"
            },
            "baxis": {
             "endlinecolor": "#2a3f5f",
             "gridcolor": "white",
             "linecolor": "white",
             "minorgridcolor": "white",
             "startlinecolor": "#2a3f5f"
            },
            "type": "carpet"
           }
          ],
          "choropleth": [
           {
            "colorbar": {
             "outlinewidth": 0,
             "ticks": ""
            },
            "type": "choropleth"
           }
          ],
          "contour": [
           {
            "colorbar": {
             "outlinewidth": 0,
             "ticks": ""
            },
            "colorscale": [
             [
              0,
              "#0d0887"
             ],
             [
              0.1111111111111111,
              "#46039f"
             ],
             [
              0.2222222222222222,
              "#7201a8"
             ],
             [
              0.3333333333333333,
              "#9c179e"
             ],
             [
              0.4444444444444444,
              "#bd3786"
             ],
             [
              0.5555555555555556,
              "#d8576b"
             ],
             [
              0.6666666666666666,
              "#ed7953"
             ],
             [
              0.7777777777777778,
              "#fb9f3a"
             ],
             [
              0.8888888888888888,
              "#fdca26"
             ],
             [
              1,
              "#f0f921"
             ]
            ],
            "type": "contour"
           }
          ],
          "contourcarpet": [
           {
            "colorbar": {
             "outlinewidth": 0,
             "ticks": ""
            },
            "type": "contourcarpet"
           }
          ],
          "heatmap": [
           {
            "colorbar": {
             "outlinewidth": 0,
             "ticks": ""
            },
            "colorscale": [
             [
              0,
              "#0d0887"
             ],
             [
              0.1111111111111111,
              "#46039f"
             ],
             [
              0.2222222222222222,
              "#7201a8"
             ],
             [
              0.3333333333333333,
              "#9c179e"
             ],
             [
              0.4444444444444444,
              "#bd3786"
             ],
             [
              0.5555555555555556,
              "#d8576b"
             ],
             [
              0.6666666666666666,
              "#ed7953"
             ],
             [
              0.7777777777777778,
              "#fb9f3a"
             ],
             [
              0.8888888888888888,
              "#fdca26"
             ],
             [
              1,
              "#f0f921"
             ]
            ],
            "type": "heatmap"
           }
          ],
          "heatmapgl": [
           {
            "colorbar": {
             "outlinewidth": 0,
             "ticks": ""
            },
            "colorscale": [
             [
              0,
              "#0d0887"
             ],
             [
              0.1111111111111111,
              "#46039f"
             ],
             [
              0.2222222222222222,
              "#7201a8"
             ],
             [
              0.3333333333333333,
              "#9c179e"
             ],
             [
              0.4444444444444444,
              "#bd3786"
             ],
             [
              0.5555555555555556,
              "#d8576b"
             ],
             [
              0.6666666666666666,
              "#ed7953"
             ],
             [
              0.7777777777777778,
              "#fb9f3a"
             ],
             [
              0.8888888888888888,
              "#fdca26"
             ],
             [
              1,
              "#f0f921"
             ]
            ],
            "type": "heatmapgl"
           }
          ],
          "histogram": [
           {
            "marker": {
             "pattern": {
              "fillmode": "overlay",
              "size": 10,
              "solidity": 0.2
             }
            },
            "type": "histogram"
           }
          ],
          "histogram2d": [
           {
            "colorbar": {
             "outlinewidth": 0,
             "ticks": ""
            },
            "colorscale": [
             [
              0,
              "#0d0887"
             ],
             [
              0.1111111111111111,
              "#46039f"
             ],
             [
              0.2222222222222222,
              "#7201a8"
             ],
             [
              0.3333333333333333,
              "#9c179e"
             ],
             [
              0.4444444444444444,
              "#bd3786"
             ],
             [
              0.5555555555555556,
              "#d8576b"
             ],
             [
              0.6666666666666666,
              "#ed7953"
             ],
             [
              0.7777777777777778,
              "#fb9f3a"
             ],
             [
              0.8888888888888888,
              "#fdca26"
             ],
             [
              1,
              "#f0f921"
             ]
            ],
            "type": "histogram2d"
           }
          ],
          "histogram2dcontour": [
           {
            "colorbar": {
             "outlinewidth": 0,
             "ticks": ""
            },
            "colorscale": [
             [
              0,
              "#0d0887"
             ],
             [
              0.1111111111111111,
              "#46039f"
             ],
             [
              0.2222222222222222,
              "#7201a8"
             ],
             [
              0.3333333333333333,
              "#9c179e"
             ],
             [
              0.4444444444444444,
              "#bd3786"
             ],
             [
              0.5555555555555556,
              "#d8576b"
             ],
             [
              0.6666666666666666,
              "#ed7953"
             ],
             [
              0.7777777777777778,
              "#fb9f3a"
             ],
             [
              0.8888888888888888,
              "#fdca26"
             ],
             [
              1,
              "#f0f921"
             ]
            ],
            "type": "histogram2dcontour"
           }
          ],
          "mesh3d": [
           {
            "colorbar": {
             "outlinewidth": 0,
             "ticks": ""
            },
            "type": "mesh3d"
           }
          ],
          "parcoords": [
           {
            "line": {
             "colorbar": {
              "outlinewidth": 0,
              "ticks": ""
             }
            },
            "type": "parcoords"
           }
          ],
          "pie": [
           {
            "automargin": true,
            "type": "pie"
           }
          ],
          "scatter": [
           {
            "marker": {
             "colorbar": {
              "outlinewidth": 0,
              "ticks": ""
             }
            },
            "type": "scatter"
           }
          ],
          "scatter3d": [
           {
            "line": {
             "colorbar": {
              "outlinewidth": 0,
              "ticks": ""
             }
            },
            "marker": {
             "colorbar": {
              "outlinewidth": 0,
              "ticks": ""
             }
            },
            "type": "scatter3d"
           }
          ],
          "scattercarpet": [
           {
            "marker": {
             "colorbar": {
              "outlinewidth": 0,
              "ticks": ""
             }
            },
            "type": "scattercarpet"
           }
          ],
          "scattergeo": [
           {
            "marker": {
             "colorbar": {
              "outlinewidth": 0,
              "ticks": ""
             }
            },
            "type": "scattergeo"
           }
          ],
          "scattergl": [
           {
            "marker": {
             "colorbar": {
              "outlinewidth": 0,
              "ticks": ""
             }
            },
            "type": "scattergl"
           }
          ],
          "scattermapbox": [
           {
            "marker": {
             "colorbar": {
              "outlinewidth": 0,
              "ticks": ""
             }
            },
            "type": "scattermapbox"
           }
          ],
          "scatterpolar": [
           {
            "marker": {
             "colorbar": {
              "outlinewidth": 0,
              "ticks": ""
             }
            },
            "type": "scatterpolar"
           }
          ],
          "scatterpolargl": [
           {
            "marker": {
             "colorbar": {
              "outlinewidth": 0,
              "ticks": ""
             }
            },
            "type": "scatterpolargl"
           }
          ],
          "scatterternary": [
           {
            "marker": {
             "colorbar": {
              "outlinewidth": 0,
              "ticks": ""
             }
            },
            "type": "scatterternary"
           }
          ],
          "surface": [
           {
            "colorbar": {
             "outlinewidth": 0,
             "ticks": ""
            },
            "colorscale": [
             [
              0,
              "#0d0887"
             ],
             [
              0.1111111111111111,
              "#46039f"
             ],
             [
              0.2222222222222222,
              "#7201a8"
             ],
             [
              0.3333333333333333,
              "#9c179e"
             ],
             [
              0.4444444444444444,
              "#bd3786"
             ],
             [
              0.5555555555555556,
              "#d8576b"
             ],
             [
              0.6666666666666666,
              "#ed7953"
             ],
             [
              0.7777777777777778,
              "#fb9f3a"
             ],
             [
              0.8888888888888888,
              "#fdca26"
             ],
             [
              1,
              "#f0f921"
             ]
            ],
            "type": "surface"
           }
          ],
          "table": [
           {
            "cells": {
             "fill": {
              "color": "#EBF0F8"
             },
             "line": {
              "color": "white"
             }
            },
            "header": {
             "fill": {
              "color": "#C8D4E3"
             },
             "line": {
              "color": "white"
             }
            },
            "type": "table"
           }
          ]
         },
         "layout": {
          "annotationdefaults": {
           "arrowcolor": "#2a3f5f",
           "arrowhead": 0,
           "arrowwidth": 1
          },
          "autotypenumbers": "strict",
          "coloraxis": {
           "colorbar": {
            "outlinewidth": 0,
            "ticks": ""
           }
          },
          "colorscale": {
           "diverging": [
            [
             0,
             "#8e0152"
            ],
            [
             0.1,
             "#c51b7d"
            ],
            [
             0.2,
             "#de77ae"
            ],
            [
             0.3,
             "#f1b6da"
            ],
            [
             0.4,
             "#fde0ef"
            ],
            [
             0.5,
             "#f7f7f7"
            ],
            [
             0.6,
             "#e6f5d0"
            ],
            [
             0.7,
             "#b8e186"
            ],
            [
             0.8,
             "#7fbc41"
            ],
            [
             0.9,
             "#4d9221"
            ],
            [
             1,
             "#276419"
            ]
           ],
           "sequential": [
            [
             0,
             "#0d0887"
            ],
            [
             0.1111111111111111,
             "#46039f"
            ],
            [
             0.2222222222222222,
             "#7201a8"
            ],
            [
             0.3333333333333333,
             "#9c179e"
            ],
            [
             0.4444444444444444,
             "#bd3786"
            ],
            [
             0.5555555555555556,
             "#d8576b"
            ],
            [
             0.6666666666666666,
             "#ed7953"
            ],
            [
             0.7777777777777778,
             "#fb9f3a"
            ],
            [
             0.8888888888888888,
             "#fdca26"
            ],
            [
             1,
             "#f0f921"
            ]
           ],
           "sequentialminus": [
            [
             0,
             "#0d0887"
            ],
            [
             0.1111111111111111,
             "#46039f"
            ],
            [
             0.2222222222222222,
             "#7201a8"
            ],
            [
             0.3333333333333333,
             "#9c179e"
            ],
            [
             0.4444444444444444,
             "#bd3786"
            ],
            [
             0.5555555555555556,
             "#d8576b"
            ],
            [
             0.6666666666666666,
             "#ed7953"
            ],
            [
             0.7777777777777778,
             "#fb9f3a"
            ],
            [
             0.8888888888888888,
             "#fdca26"
            ],
            [
             1,
             "#f0f921"
            ]
           ]
          },
          "colorway": [
           "#636efa",
           "#EF553B",
           "#00cc96",
           "#ab63fa",
           "#FFA15A",
           "#19d3f3",
           "#FF6692",
           "#B6E880",
           "#FF97FF",
           "#FECB52"
          ],
          "font": {
           "color": "#2a3f5f"
          },
          "geo": {
           "bgcolor": "white",
           "lakecolor": "white",
           "landcolor": "#E5ECF6",
           "showlakes": true,
           "showland": true,
           "subunitcolor": "white"
          },
          "hoverlabel": {
           "align": "left"
          },
          "hovermode": "closest",
          "mapbox": {
           "style": "light"
          },
          "paper_bgcolor": "white",
          "plot_bgcolor": "#E5ECF6",
          "polar": {
           "angularaxis": {
            "gridcolor": "white",
            "linecolor": "white",
            "ticks": ""
           },
           "bgcolor": "#E5ECF6",
           "radialaxis": {
            "gridcolor": "white",
            "linecolor": "white",
            "ticks": ""
           }
          },
          "scene": {
           "xaxis": {
            "backgroundcolor": "#E5ECF6",
            "gridcolor": "white",
            "gridwidth": 2,
            "linecolor": "white",
            "showbackground": true,
            "ticks": "",
            "zerolinecolor": "white"
           },
           "yaxis": {
            "backgroundcolor": "#E5ECF6",
            "gridcolor": "white",
            "gridwidth": 2,
            "linecolor": "white",
            "showbackground": true,
            "ticks": "",
            "zerolinecolor": "white"
           },
           "zaxis": {
            "backgroundcolor": "#E5ECF6",
            "gridcolor": "white",
            "gridwidth": 2,
            "linecolor": "white",
            "showbackground": true,
            "ticks": "",
            "zerolinecolor": "white"
           }
          },
          "shapedefaults": {
           "line": {
            "color": "#2a3f5f"
           }
          },
          "ternary": {
           "aaxis": {
            "gridcolor": "white",
            "linecolor": "white",
            "ticks": ""
           },
           "baxis": {
            "gridcolor": "white",
            "linecolor": "white",
            "ticks": ""
           },
           "bgcolor": "#E5ECF6",
           "caxis": {
            "gridcolor": "white",
            "linecolor": "white",
            "ticks": ""
           }
          },
          "title": {
           "x": 0.05
          },
          "xaxis": {
           "automargin": true,
           "gridcolor": "white",
           "linecolor": "white",
           "ticks": "",
           "title": {
            "standoff": 15
           },
           "zerolinecolor": "white",
           "zerolinewidth": 2
          },
          "yaxis": {
           "automargin": true,
           "gridcolor": "white",
           "linecolor": "white",
           "ticks": "",
           "title": {
            "standoff": 15
           },
           "zerolinecolor": "white",
           "zerolinewidth": 2
          }
         }
        },
        "title": {
         "text": "Number of Tweets containing #ChatGPT and/or #BARD collected from 1st Nov'22 and 9th Feb '23"
        },
        "xaxis": {
         "anchor": "y",
         "domain": [
          0,
          1
         ],
         "title": {
          "text": "Date"
         }
        },
        "yaxis": {
         "anchor": "x",
         "domain": [
          0,
          1
         ],
         "title": {
          "text": "Number of Tweets"
         }
        }
       }
      },
      "text/html": [
       "<div>                            <div id=\"cecc9ea9-ac7b-461e-a405-7deff6d68256\" class=\"plotly-graph-div\" style=\"height:525px; width:100%;\"></div>            <script type=\"text/javascript\">                require([\"plotly\"], function(Plotly) {                    window.PLOTLYENV=window.PLOTLYENV || {};                                    if (document.getElementById(\"cecc9ea9-ac7b-461e-a405-7deff6d68256\")) {                    Plotly.newPlot(                        \"cecc9ea9-ac7b-461e-a405-7deff6d68256\",                        [{\"hovertemplate\":\"Date=%{x}<br>Number of Tweets=%{y}<extra></extra>\",\"legendgroup\":\"\",\"line\":{\"color\":\"#636efa\",\"dash\":\"solid\"},\"mode\":\"lines\",\"name\":\"\",\"orientation\":\"v\",\"showlegend\":false,\"type\":\"scatter\",\"x\":[\"2022-11-01\",\"2022-11-02\",\"2022-11-03\",\"2022-11-04\",\"2022-11-05\",\"2022-11-06\",\"2022-11-07\",\"2022-11-08\",\"2022-11-09\",\"2022-11-10\",\"2022-11-11\",\"2022-11-12\",\"2022-11-13\",\"2022-11-14\",\"2022-11-15\",\"2022-11-16\",\"2022-11-17\",\"2022-11-18\",\"2022-11-19\",\"2022-11-20\",\"2022-11-21\",\"2022-11-22\",\"2022-11-23\",\"2022-11-24\",\"2022-11-25\",\"2022-11-26\",\"2022-11-27\",\"2022-11-28\",\"2022-11-29\",\"2022-11-30\",\"2022-12-01\",\"2022-12-02\",\"2022-12-03\",\"2022-12-04\",\"2022-12-05\",\"2022-12-06\",\"2022-12-07\",\"2022-12-08\",\"2022-12-09\",\"2022-12-10\",\"2022-12-11\",\"2022-12-12\",\"2022-12-13\",\"2022-12-14\",\"2022-12-15\",\"2022-12-16\",\"2022-12-17\",\"2022-12-18\",\"2022-12-19\",\"2022-12-20\",\"2022-12-21\",\"2022-12-22\",\"2022-12-23\",\"2022-12-24\",\"2022-12-25\",\"2022-12-26\",\"2022-12-27\",\"2022-12-28\",\"2022-12-29\",\"2022-12-30\",\"2022-12-31\",\"2023-01-01\",\"2023-01-02\",\"2023-01-03\",\"2023-01-04\",\"2023-01-05\",\"2023-01-06\",\"2023-01-07\",\"2023-01-08\",\"2023-01-09\",\"2023-01-10\",\"2023-01-11\",\"2023-01-12\",\"2023-01-13\",\"2023-01-14\",\"2023-01-15\",\"2023-01-16\",\"2023-01-17\",\"2023-01-18\",\"2023-01-19\",\"2023-01-20\",\"2023-01-21\",\"2023-01-22\",\"2023-01-23\",\"2023-01-24\",\"2023-01-25\",\"2023-01-26\",\"2023-01-27\",\"2023-01-28\",\"2023-01-29\",\"2023-01-30\",\"2023-01-31\",\"2023-02-01\",\"2023-02-02\",\"2023-02-03\",\"2023-02-04\",\"2023-02-05\",\"2023-02-06\",\"2023-02-07\",\"2023-02-08\"],\"xaxis\":\"x\",\"y\":[8,14,18,19,11,14,10,17,12,8,6,12,5,11,10,14,15,12,19,13,10,16,11,13,17,20,13,16,20,95,1553,3563,3059,4087,5810,6311,4769,4947,4620,3309,2887,2895,2783,2691,2514,2452,1737,1459,1835,1880,2061,1944,1852,1477,1124,1436,1728,1708,1683,1647,1297,1197,1548,2113,2745,3251,3153,2686,2597,3124,4294,4591,4096,3869,2899,2668,3583,4420,4223,3955,3796,3202,2901,4429,4560,4511,4332,4490,3205,2924,3502,3508,5214,5491,5210,3567,3269,5782,9383,7724],\"yaxis\":\"y\"}],                        {\"legend\":{\"tracegroupgap\":0},\"template\":{\"data\":{\"bar\":[{\"error_x\":{\"color\":\"#2a3f5f\"},\"error_y\":{\"color\":\"#2a3f5f\"},\"marker\":{\"line\":{\"color\":\"#E5ECF6\",\"width\":0.5},\"pattern\":{\"fillmode\":\"overlay\",\"size\":10,\"solidity\":0.2}},\"type\":\"bar\"}],\"barpolar\":[{\"marker\":{\"line\":{\"color\":\"#E5ECF6\",\"width\":0.5},\"pattern\":{\"fillmode\":\"overlay\",\"size\":10,\"solidity\":0.2}},\"type\":\"barpolar\"}],\"carpet\":[{\"aaxis\":{\"endlinecolor\":\"#2a3f5f\",\"gridcolor\":\"white\",\"linecolor\":\"white\",\"minorgridcolor\":\"white\",\"startlinecolor\":\"#2a3f5f\"},\"baxis\":{\"endlinecolor\":\"#2a3f5f\",\"gridcolor\":\"white\",\"linecolor\":\"white\",\"minorgridcolor\":\"white\",\"startlinecolor\":\"#2a3f5f\"},\"type\":\"carpet\"}],\"choropleth\":[{\"colorbar\":{\"outlinewidth\":0,\"ticks\":\"\"},\"type\":\"choropleth\"}],\"contour\":[{\"colorbar\":{\"outlinewidth\":0,\"ticks\":\"\"},\"colorscale\":[[0.0,\"#0d0887\"],[0.1111111111111111,\"#46039f\"],[0.2222222222222222,\"#7201a8\"],[0.3333333333333333,\"#9c179e\"],[0.4444444444444444,\"#bd3786\"],[0.5555555555555556,\"#d8576b\"],[0.6666666666666666,\"#ed7953\"],[0.7777777777777778,\"#fb9f3a\"],[0.8888888888888888,\"#fdca26\"],[1.0,\"#f0f921\"]],\"type\":\"contour\"}],\"contourcarpet\":[{\"colorbar\":{\"outlinewidth\":0,\"ticks\":\"\"},\"type\":\"contourcarpet\"}],\"heatmap\":[{\"colorbar\":{\"outlinewidth\":0,\"ticks\":\"\"},\"colorscale\":[[0.0,\"#0d0887\"],[0.1111111111111111,\"#46039f\"],[0.2222222222222222,\"#7201a8\"],[0.3333333333333333,\"#9c179e\"],[0.4444444444444444,\"#bd3786\"],[0.5555555555555556,\"#d8576b\"],[0.6666666666666666,\"#ed7953\"],[0.7777777777777778,\"#fb9f3a\"],[0.8888888888888888,\"#fdca26\"],[1.0,\"#f0f921\"]],\"type\":\"heatmap\"}],\"heatmapgl\":[{\"colorbar\":{\"outlinewidth\":0,\"ticks\":\"\"},\"colorscale\":[[0.0,\"#0d0887\"],[0.1111111111111111,\"#46039f\"],[0.2222222222222222,\"#7201a8\"],[0.3333333333333333,\"#9c179e\"],[0.4444444444444444,\"#bd3786\"],[0.5555555555555556,\"#d8576b\"],[0.6666666666666666,\"#ed7953\"],[0.7777777777777778,\"#fb9f3a\"],[0.8888888888888888,\"#fdca26\"],[1.0,\"#f0f921\"]],\"type\":\"heatmapgl\"}],\"histogram\":[{\"marker\":{\"pattern\":{\"fillmode\":\"overlay\",\"size\":10,\"solidity\":0.2}},\"type\":\"histogram\"}],\"histogram2d\":[{\"colorbar\":{\"outlinewidth\":0,\"ticks\":\"\"},\"colorscale\":[[0.0,\"#0d0887\"],[0.1111111111111111,\"#46039f\"],[0.2222222222222222,\"#7201a8\"],[0.3333333333333333,\"#9c179e\"],[0.4444444444444444,\"#bd3786\"],[0.5555555555555556,\"#d8576b\"],[0.6666666666666666,\"#ed7953\"],[0.7777777777777778,\"#fb9f3a\"],[0.8888888888888888,\"#fdca26\"],[1.0,\"#f0f921\"]],\"type\":\"histogram2d\"}],\"histogram2dcontour\":[{\"colorbar\":{\"outlinewidth\":0,\"ticks\":\"\"},\"colorscale\":[[0.0,\"#0d0887\"],[0.1111111111111111,\"#46039f\"],[0.2222222222222222,\"#7201a8\"],[0.3333333333333333,\"#9c179e\"],[0.4444444444444444,\"#bd3786\"],[0.5555555555555556,\"#d8576b\"],[0.6666666666666666,\"#ed7953\"],[0.7777777777777778,\"#fb9f3a\"],[0.8888888888888888,\"#fdca26\"],[1.0,\"#f0f921\"]],\"type\":\"histogram2dcontour\"}],\"mesh3d\":[{\"colorbar\":{\"outlinewidth\":0,\"ticks\":\"\"},\"type\":\"mesh3d\"}],\"parcoords\":[{\"line\":{\"colorbar\":{\"outlinewidth\":0,\"ticks\":\"\"}},\"type\":\"parcoords\"}],\"pie\":[{\"automargin\":true,\"type\":\"pie\"}],\"scatter\":[{\"marker\":{\"colorbar\":{\"outlinewidth\":0,\"ticks\":\"\"}},\"type\":\"scatter\"}],\"scatter3d\":[{\"line\":{\"colorbar\":{\"outlinewidth\":0,\"ticks\":\"\"}},\"marker\":{\"colorbar\":{\"outlinewidth\":0,\"ticks\":\"\"}},\"type\":\"scatter3d\"}],\"scattercarpet\":[{\"marker\":{\"colorbar\":{\"outlinewidth\":0,\"ticks\":\"\"}},\"type\":\"scattercarpet\"}],\"scattergeo\":[{\"marker\":{\"colorbar\":{\"outlinewidth\":0,\"ticks\":\"\"}},\"type\":\"scattergeo\"}],\"scattergl\":[{\"marker\":{\"colorbar\":{\"outlinewidth\":0,\"ticks\":\"\"}},\"type\":\"scattergl\"}],\"scattermapbox\":[{\"marker\":{\"colorbar\":{\"outlinewidth\":0,\"ticks\":\"\"}},\"type\":\"scattermapbox\"}],\"scatterpolar\":[{\"marker\":{\"colorbar\":{\"outlinewidth\":0,\"ticks\":\"\"}},\"type\":\"scatterpolar\"}],\"scatterpolargl\":[{\"marker\":{\"colorbar\":{\"outlinewidth\":0,\"ticks\":\"\"}},\"type\":\"scatterpolargl\"}],\"scatterternary\":[{\"marker\":{\"colorbar\":{\"outlinewidth\":0,\"ticks\":\"\"}},\"type\":\"scatterternary\"}],\"surface\":[{\"colorbar\":{\"outlinewidth\":0,\"ticks\":\"\"},\"colorscale\":[[0.0,\"#0d0887\"],[0.1111111111111111,\"#46039f\"],[0.2222222222222222,\"#7201a8\"],[0.3333333333333333,\"#9c179e\"],[0.4444444444444444,\"#bd3786\"],[0.5555555555555556,\"#d8576b\"],[0.6666666666666666,\"#ed7953\"],[0.7777777777777778,\"#fb9f3a\"],[0.8888888888888888,\"#fdca26\"],[1.0,\"#f0f921\"]],\"type\":\"surface\"}],\"table\":[{\"cells\":{\"fill\":{\"color\":\"#EBF0F8\"},\"line\":{\"color\":\"white\"}},\"header\":{\"fill\":{\"color\":\"#C8D4E3\"},\"line\":{\"color\":\"white\"}},\"type\":\"table\"}]},\"layout\":{\"annotationdefaults\":{\"arrowcolor\":\"#2a3f5f\",\"arrowhead\":0,\"arrowwidth\":1},\"autotypenumbers\":\"strict\",\"coloraxis\":{\"colorbar\":{\"outlinewidth\":0,\"ticks\":\"\"}},\"colorscale\":{\"diverging\":[[0,\"#8e0152\"],[0.1,\"#c51b7d\"],[0.2,\"#de77ae\"],[0.3,\"#f1b6da\"],[0.4,\"#fde0ef\"],[0.5,\"#f7f7f7\"],[0.6,\"#e6f5d0\"],[0.7,\"#b8e186\"],[0.8,\"#7fbc41\"],[0.9,\"#4d9221\"],[1,\"#276419\"]],\"sequential\":[[0.0,\"#0d0887\"],[0.1111111111111111,\"#46039f\"],[0.2222222222222222,\"#7201a8\"],[0.3333333333333333,\"#9c179e\"],[0.4444444444444444,\"#bd3786\"],[0.5555555555555556,\"#d8576b\"],[0.6666666666666666,\"#ed7953\"],[0.7777777777777778,\"#fb9f3a\"],[0.8888888888888888,\"#fdca26\"],[1.0,\"#f0f921\"]],\"sequentialminus\":[[0.0,\"#0d0887\"],[0.1111111111111111,\"#46039f\"],[0.2222222222222222,\"#7201a8\"],[0.3333333333333333,\"#9c179e\"],[0.4444444444444444,\"#bd3786\"],[0.5555555555555556,\"#d8576b\"],[0.6666666666666666,\"#ed7953\"],[0.7777777777777778,\"#fb9f3a\"],[0.8888888888888888,\"#fdca26\"],[1.0,\"#f0f921\"]]},\"colorway\":[\"#636efa\",\"#EF553B\",\"#00cc96\",\"#ab63fa\",\"#FFA15A\",\"#19d3f3\",\"#FF6692\",\"#B6E880\",\"#FF97FF\",\"#FECB52\"],\"font\":{\"color\":\"#2a3f5f\"},\"geo\":{\"bgcolor\":\"white\",\"lakecolor\":\"white\",\"landcolor\":\"#E5ECF6\",\"showlakes\":true,\"showland\":true,\"subunitcolor\":\"white\"},\"hoverlabel\":{\"align\":\"left\"},\"hovermode\":\"closest\",\"mapbox\":{\"style\":\"light\"},\"paper_bgcolor\":\"white\",\"plot_bgcolor\":\"#E5ECF6\",\"polar\":{\"angularaxis\":{\"gridcolor\":\"white\",\"linecolor\":\"white\",\"ticks\":\"\"},\"bgcolor\":\"#E5ECF6\",\"radialaxis\":{\"gridcolor\":\"white\",\"linecolor\":\"white\",\"ticks\":\"\"}},\"scene\":{\"xaxis\":{\"backgroundcolor\":\"#E5ECF6\",\"gridcolor\":\"white\",\"gridwidth\":2,\"linecolor\":\"white\",\"showbackground\":true,\"ticks\":\"\",\"zerolinecolor\":\"white\"},\"yaxis\":{\"backgroundcolor\":\"#E5ECF6\",\"gridcolor\":\"white\",\"gridwidth\":2,\"linecolor\":\"white\",\"showbackground\":true,\"ticks\":\"\",\"zerolinecolor\":\"white\"},\"zaxis\":{\"backgroundcolor\":\"#E5ECF6\",\"gridcolor\":\"white\",\"gridwidth\":2,\"linecolor\":\"white\",\"showbackground\":true,\"ticks\":\"\",\"zerolinecolor\":\"white\"}},\"shapedefaults\":{\"line\":{\"color\":\"#2a3f5f\"}},\"ternary\":{\"aaxis\":{\"gridcolor\":\"white\",\"linecolor\":\"white\",\"ticks\":\"\"},\"baxis\":{\"gridcolor\":\"white\",\"linecolor\":\"white\",\"ticks\":\"\"},\"bgcolor\":\"#E5ECF6\",\"caxis\":{\"gridcolor\":\"white\",\"linecolor\":\"white\",\"ticks\":\"\"}},\"title\":{\"x\":0.05},\"xaxis\":{\"automargin\":true,\"gridcolor\":\"white\",\"linecolor\":\"white\",\"ticks\":\"\",\"title\":{\"standoff\":15},\"zerolinecolor\":\"white\",\"zerolinewidth\":2},\"yaxis\":{\"automargin\":true,\"gridcolor\":\"white\",\"linecolor\":\"white\",\"ticks\":\"\",\"title\":{\"standoff\":15},\"zerolinecolor\":\"white\",\"zerolinewidth\":2}}},\"title\":{\"text\":\"Number of Tweets containing #ChatGPT and/or #BARD collected from 1st Nov'22 and 9th Feb '23\"},\"xaxis\":{\"anchor\":\"y\",\"domain\":[0.0,1.0],\"title\":{\"text\":\"Date\"}},\"yaxis\":{\"anchor\":\"x\",\"domain\":[0.0,1.0],\"title\":{\"text\":\"Number of Tweets\"}}},                        {\"responsive\": true}                    ).then(function(){\n",
       "                            \n",
       "var gd = document.getElementById('cecc9ea9-ac7b-461e-a405-7deff6d68256');\n",
       "var x = new MutationObserver(function (mutations, observer) {{\n",
       "        var display = window.getComputedStyle(gd).display;\n",
       "        if (!display || display === 'none') {{\n",
       "            console.log([gd, 'removed!']);\n",
       "            Plotly.purge(gd);\n",
       "            observer.disconnect();\n",
       "        }}\n",
       "}});\n",
       "\n",
       "// Listen for the removal of the full notebook cells\n",
       "var notebookContainer = gd.closest('#notebook-container');\n",
       "if (notebookContainer) {{\n",
       "    x.observe(notebookContainer, {childList: true});\n",
       "}}\n",
       "\n",
       "// Listen for the clearing of the current output cell\n",
       "var outputEl = gd.closest('.output');\n",
       "if (outputEl) {{\n",
       "    x.observe(outputEl, {childList: true});\n",
       "}}\n",
       "\n",
       "                        })                };                });            </script>        </div>"
      ]
     },
     "metadata": {},
     "output_type": "display_data"
    }
   ],
   "source": [
    "import plotly.express as px\n",
    "\n",
    "df = px.data.stocks()\n",
    "fig = px.line(x=dict_num_tweets.keys(), \n",
    "              y=dict_num_tweets.values(),\n",
    "              title=\"Number of Tweets containing #ChatGPT and/or #BARD collected from 1st Nov'22 and 9th Feb '23\",\n",
    "              labels={\n",
    "                     \"x\": \"Date\",\n",
    "                     \"y\": \"Number of Tweets\"\n",
    "                 }\n",
    "             )\n",
    "fig.show()"
   ]
  },
  {
   "cell_type": "code",
   "execution_count": null,
   "metadata": {},
   "outputs": [],
   "source": []
  }
 ],
 "metadata": {
  "colab": {
   "authorship_tag": "ABX9TyPSVzwEFrzN413yDz4aDy3N",
   "include_colab_link": true,
   "provenance": []
  },
  "kernelspec": {
   "display_name": "Python 3",
   "language": "python",
   "name": "python3"
  },
  "toc": {
   "base_numbering": 1,
   "nav_menu": {},
   "number_sections": true,
   "sideBar": true,
   "skip_h1_title": false,
   "title_cell": "Table of Contents",
   "title_sidebar": "Contents",
   "toc_cell": false,
   "toc_position": {},
   "toc_section_display": true,
   "toc_window_display": false
  },
  "varInspector": {
   "cols": {
    "lenName": 16,
    "lenType": 16,
    "lenVar": 40
   },
   "kernels_config": {
    "python": {
     "delete_cmd_postfix": "",
     "delete_cmd_prefix": "del ",
     "library": "var_list.py",
     "varRefreshCmd": "print(var_dic_list())"
    },
    "r": {
     "delete_cmd_postfix": ") ",
     "delete_cmd_prefix": "rm(",
     "library": "var_list.r",
     "varRefreshCmd": "cat(var_dic_list()) "
    }
   },
   "position": {
    "height": "518.854px",
    "left": "1134px",
    "right": "20px",
    "top": "120px",
    "width": "350px"
   },
   "types_to_exclude": [
    "module",
    "function",
    "builtin_function_or_method",
    "instance",
    "_Feature"
   ],
   "window_display": false
  }
 },
 "nbformat": 4,
 "nbformat_minor": 1
}
