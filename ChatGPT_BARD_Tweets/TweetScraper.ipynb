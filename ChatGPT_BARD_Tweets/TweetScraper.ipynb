{
 "cells": [
  {
   "cell_type": "markdown",
   "metadata": {
    "colab_type": "text",
    "id": "view-in-github"
   },
   "source": [
    "<a href=\"https://colab.research.google.com/github/royn5618/Medium_Blog_Codes/blob/master/ChatGPT_BARD_Tweets/Untitled8.ipynb\" target=\"_parent\"><img src=\"https://colab.research.google.com/assets/colab-badge.svg\" alt=\"Open In Colab\"/></a>"
   ]
  },
  {
   "cell_type": "code",
   "execution_count": 1,
   "metadata": {
    "ExecuteTime": {
     "end_time": "2023-02-14T22:19:59.906140Z",
     "start_time": "2023-02-14T22:19:59.892299Z"
    },
    "colab": {
     "base_uri": "https://localhost:8080/"
    },
    "id": "RMst14ka0Zqd",
    "outputId": "767eff0e-999a-4323-a50b-9f28b9d1fa72"
   },
   "outputs": [],
   "source": [
    "# !pip3 install snscrape"
   ]
  },
  {
   "cell_type": "code",
   "execution_count": 2,
   "metadata": {
    "ExecuteTime": {
     "end_time": "2023-02-14T22:20:01.440096Z",
     "start_time": "2023-02-14T22:19:59.911922Z"
    },
    "id": "309_2Wwr0l3K"
   },
   "outputs": [
    {
     "name": "stderr",
     "output_type": "stream",
     "text": [
      "C:\\Users\\nroy0\\anaconda3\\lib\\site-packages\\pandas\\core\\computation\\expressions.py:20: UserWarning: Pandas requires version '2.7.3' or newer of 'numexpr' (version '2.7.1' currently installed).\n",
      "  from pandas.core.computation.check import NUMEXPR_INSTALLED\n"
     ]
    }
   ],
   "source": [
    "import pandas as pd\n",
    "import tqdm.notebook as tqdm\n",
    "import snscrape.modules.twitter as sntwitter\n",
    "import datetime"
   ]
  },
  {
   "cell_type": "code",
   "execution_count": 3,
   "metadata": {
    "ExecuteTime": {
     "end_time": "2023-02-14T22:20:01.464838Z",
     "start_time": "2023-02-14T22:20:01.445086Z"
    }
   },
   "outputs": [],
   "source": [
    "# list_dates = pd.date_range(end=\"2023-02-09\",start=\"2022-11-01\").strftime('%Y-%m-%d').tolist()\n",
    "list_dates = pd.date_range(end=\"2023-02-14\",start=\"2023-02-07\").strftime('%Y-%m-%d').tolist()"
   ]
  },
  {
   "cell_type": "code",
   "execution_count": null,
   "metadata": {
    "ExecuteTime": {
     "start_time": "2023-02-14T22:19:59.869Z"
    },
    "scrolled": false
   },
   "outputs": [
    {
     "name": "stdout",
     "output_type": "stream",
     "text": [
      "#chatgpt OR #bard since:2023-02-07 until:2023-02-08 lang:en\n"
     ]
    }
   ],
   "source": [
    "dict_num_tweets = {}\n",
    "for i, date in enumerate(list_dates):\n",
    "    if date != list_dates[-1]: \n",
    "        since = date\n",
    "        until = list_dates[i+1]\n",
    "        query = \"#chatgpt OR #bard since:{} until:{} lang:en\".format(since, until)\n",
    "        print(query)\n",
    "        scraper = sntwitter.TwitterSearchScraper(query)\n",
    "        tweets = []\n",
    "        for i, tweet in enumerate(scraper.get_items()):\n",
    "            data = [\n",
    "                tweet.date, tweet.id, tweet.rawContent, tweet.viewCount, tweet.likeCount,\n",
    "                tweet.retweetCount, tweet.coordinates\n",
    "            ]\n",
    "            tweets.append(data)\n",
    "        df = pd.DataFrame(tweets, columns=['date', 'id', 'content', 'view_count', 'like_count', 'retweet_count', 'coordinates'])\n",
    "        file_name = \"Data/chatgpt_bard_{}_{}.csv\".format(since, until)\n",
    "        print(\"Dumping Tweets @ \", file_name)\n",
    "        df.to_csv(file_name, index=False)\n",
    "        print(\"Tweets dumped @ \", file_name)\n",
    "        dict_num_tweets[since] = len(df)"
   ]
  },
  {
   "cell_type": "code",
   "execution_count": null,
   "metadata": {
    "ExecuteTime": {
     "start_time": "2023-02-14T22:19:59.870Z"
    }
   },
   "outputs": [],
   "source": [
    "# import plotly.express as px\n",
    "\n",
    "# df = px.data.stocks()\n",
    "# fig = px.line(x=dict_num_tweets.keys(), \n",
    "#               y=dict_num_tweets.values(),\n",
    "#               title=\"Number of Tweets containing #ChatGPT and/or #BARD collected from 1st Nov'22 and 9th Feb '23\",\n",
    "#               labels={\n",
    "#                      \"x\": \"Date\",\n",
    "#                      \"y\": \"Number of Tweets\"\n",
    "#                  }\n",
    "#              )\n",
    "# fig.show()"
   ]
  },
  {
   "cell_type": "code",
   "execution_count": null,
   "metadata": {},
   "outputs": [],
   "source": []
  }
 ],
 "metadata": {
  "colab": {
   "authorship_tag": "ABX9TyPSVzwEFrzN413yDz4aDy3N",
   "include_colab_link": true,
   "provenance": []
  },
  "kernelspec": {
   "display_name": "Python 3",
   "language": "python",
   "name": "python3"
  },
  "language_info": {
   "codemirror_mode": {
    "name": "ipython",
    "version": 3
   },
   "file_extension": ".py",
   "mimetype": "text/x-python",
   "name": "python",
   "nbconvert_exporter": "python",
   "pygments_lexer": "ipython3",
   "version": "3.8.5"
  },
  "toc": {
   "base_numbering": 1,
   "nav_menu": {},
   "number_sections": true,
   "sideBar": true,
   "skip_h1_title": false,
   "title_cell": "Table of Contents",
   "title_sidebar": "Contents",
   "toc_cell": false,
   "toc_position": {},
   "toc_section_display": true,
   "toc_window_display": false
  },
  "varInspector": {
   "cols": {
    "lenName": 16,
    "lenType": 16,
    "lenVar": 40
   },
   "kernels_config": {
    "python": {
     "delete_cmd_postfix": "",
     "delete_cmd_prefix": "del ",
     "library": "var_list.py",
     "varRefreshCmd": "print(var_dic_list())"
    },
    "r": {
     "delete_cmd_postfix": ") ",
     "delete_cmd_prefix": "rm(",
     "library": "var_list.r",
     "varRefreshCmd": "cat(var_dic_list()) "
    }
   },
   "position": {
    "height": "518.854px",
    "left": "1134px",
    "right": "20px",
    "top": "120px",
    "width": "350px"
   },
   "types_to_exclude": [
    "module",
    "function",
    "builtin_function_or_method",
    "instance",
    "_Feature"
   ],
   "window_display": false
  }
 },
 "nbformat": 4,
 "nbformat_minor": 1
}
