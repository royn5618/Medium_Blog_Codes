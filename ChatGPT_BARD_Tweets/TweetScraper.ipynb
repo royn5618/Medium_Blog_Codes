{
 "cells": [
  {
   "cell_type": "markdown",
   "metadata": {
    "colab_type": "text",
    "id": "view-in-github"
   },
   "source": [
    "<a href=\"https://colab.research.google.com/github/royn5618/Medium_Blog_Codes/blob/master/ChatGPT_BARD_Tweets/Untitled8.ipynb\" target=\"_parent\"><img src=\"https://colab.research.google.com/assets/colab-badge.svg\" alt=\"Open In Colab\"/></a>"
   ]
  },
  {
   "cell_type": "code",
   "execution_count": 1,
   "metadata": {
    "ExecuteTime": {
     "end_time": "2023-02-09T15:50:44.208730Z",
     "start_time": "2023-02-09T15:50:44.201709Z"
    },
    "colab": {
     "base_uri": "https://localhost:8080/"
    },
    "id": "RMst14ka0Zqd",
    "outputId": "767eff0e-999a-4323-a50b-9f28b9d1fa72"
   },
   "outputs": [],
   "source": [
    "# !pip3 install snscrape"
   ]
  },
  {
   "cell_type": "code",
   "execution_count": 2,
   "metadata": {
    "ExecuteTime": {
     "end_time": "2023-02-09T15:50:45.122436Z",
     "start_time": "2023-02-09T15:50:44.211268Z"
    },
    "id": "309_2Wwr0l3K"
   },
   "outputs": [],
   "source": [
    "import pandas as pd\n",
    "import tqdm.notebook as tqdm\n",
    "import snscrape.modules.twitter as sntwitter\n",
    "import datetime"
   ]
  },
  {
   "cell_type": "code",
   "execution_count": 3,
   "metadata": {
    "ExecuteTime": {
     "end_time": "2023-02-09T15:50:45.143124Z",
     "start_time": "2023-02-09T15:50:45.122436Z"
    }
   },
   "outputs": [],
   "source": [
    "list_dates = pd.date_range(end=\"2023-02-09\",start=\"2022-11-01\").strftime('%Y-%m-%d').tolist()"
   ]
  },
  {
   "cell_type": "code",
   "execution_count": null,
   "metadata": {
    "ExecuteTime": {
     "start_time": "2023-02-09T15:50:44.202Z"
    },
    "scrolled": false
   },
   "outputs": [
    {
     "name": "stdout",
     "output_type": "stream",
     "text": [
      "#chatgpt OR #bard since:2022-11-01 until:2022-11-02 lang:en\n",
      "Dumping Tweets @  Data/chatgpt_bard_2022-11-01_2022-11-02.csv\n",
      "Tweets dumped @  Data/chatgpt_bard_2022-11-01_2022-11-02.csv\n",
      "#chatgpt OR #bard since:2022-11-02 until:2022-11-03 lang:en\n",
      "Dumping Tweets @  Data/chatgpt_bard_2022-11-02_2022-11-03.csv\n",
      "Tweets dumped @  Data/chatgpt_bard_2022-11-02_2022-11-03.csv\n",
      "#chatgpt OR #bard since:2022-11-03 until:2022-11-04 lang:en\n",
      "Dumping Tweets @  Data/chatgpt_bard_2022-11-03_2022-11-04.csv\n",
      "Tweets dumped @  Data/chatgpt_bard_2022-11-03_2022-11-04.csv\n",
      "#chatgpt OR #bard since:2022-11-04 until:2022-11-05 lang:en\n",
      "Dumping Tweets @  Data/chatgpt_bard_2022-11-04_2022-11-05.csv\n",
      "Tweets dumped @  Data/chatgpt_bard_2022-11-04_2022-11-05.csv\n",
      "#chatgpt OR #bard since:2022-11-05 until:2022-11-06 lang:en\n",
      "Dumping Tweets @  Data/chatgpt_bard_2022-11-05_2022-11-06.csv\n",
      "Tweets dumped @  Data/chatgpt_bard_2022-11-05_2022-11-06.csv\n",
      "#chatgpt OR #bard since:2022-11-06 until:2022-11-07 lang:en\n",
      "Dumping Tweets @  Data/chatgpt_bard_2022-11-06_2022-11-07.csv\n",
      "Tweets dumped @  Data/chatgpt_bard_2022-11-06_2022-11-07.csv\n",
      "#chatgpt OR #bard since:2022-11-07 until:2022-11-08 lang:en\n",
      "Dumping Tweets @  Data/chatgpt_bard_2022-11-07_2022-11-08.csv\n",
      "Tweets dumped @  Data/chatgpt_bard_2022-11-07_2022-11-08.csv\n",
      "#chatgpt OR #bard since:2022-11-08 until:2022-11-09 lang:en\n",
      "Dumping Tweets @  Data/chatgpt_bard_2022-11-08_2022-11-09.csv\n",
      "Tweets dumped @  Data/chatgpt_bard_2022-11-08_2022-11-09.csv\n",
      "#chatgpt OR #bard since:2022-11-09 until:2022-11-10 lang:en\n",
      "Dumping Tweets @  Data/chatgpt_bard_2022-11-09_2022-11-10.csv\n",
      "Tweets dumped @  Data/chatgpt_bard_2022-11-09_2022-11-10.csv\n",
      "#chatgpt OR #bard since:2022-11-10 until:2022-11-11 lang:en\n",
      "Dumping Tweets @  Data/chatgpt_bard_2022-11-10_2022-11-11.csv\n",
      "Tweets dumped @  Data/chatgpt_bard_2022-11-10_2022-11-11.csv\n",
      "#chatgpt OR #bard since:2022-11-11 until:2022-11-12 lang:en\n",
      "Dumping Tweets @  Data/chatgpt_bard_2022-11-11_2022-11-12.csv\n",
      "Tweets dumped @  Data/chatgpt_bard_2022-11-11_2022-11-12.csv\n",
      "#chatgpt OR #bard since:2022-11-12 until:2022-11-13 lang:en\n",
      "Dumping Tweets @  Data/chatgpt_bard_2022-11-12_2022-11-13.csv\n",
      "Tweets dumped @  Data/chatgpt_bard_2022-11-12_2022-11-13.csv\n",
      "#chatgpt OR #bard since:2022-11-13 until:2022-11-14 lang:en\n",
      "Dumping Tweets @  Data/chatgpt_bard_2022-11-13_2022-11-14.csv\n",
      "Tweets dumped @  Data/chatgpt_bard_2022-11-13_2022-11-14.csv\n",
      "#chatgpt OR #bard since:2022-11-14 until:2022-11-15 lang:en\n",
      "Dumping Tweets @  Data/chatgpt_bard_2022-11-14_2022-11-15.csv\n",
      "Tweets dumped @  Data/chatgpt_bard_2022-11-14_2022-11-15.csv\n",
      "#chatgpt OR #bard since:2022-11-15 until:2022-11-16 lang:en\n",
      "Dumping Tweets @  Data/chatgpt_bard_2022-11-15_2022-11-16.csv\n",
      "Tweets dumped @  Data/chatgpt_bard_2022-11-15_2022-11-16.csv\n",
      "#chatgpt OR #bard since:2022-11-16 until:2022-11-17 lang:en\n",
      "Dumping Tweets @  Data/chatgpt_bard_2022-11-16_2022-11-17.csv\n",
      "Tweets dumped @  Data/chatgpt_bard_2022-11-16_2022-11-17.csv\n",
      "#chatgpt OR #bard since:2022-11-17 until:2022-11-18 lang:en\n",
      "Dumping Tweets @  Data/chatgpt_bard_2022-11-17_2022-11-18.csv\n",
      "Tweets dumped @  Data/chatgpt_bard_2022-11-17_2022-11-18.csv\n",
      "#chatgpt OR #bard since:2022-11-18 until:2022-11-19 lang:en\n",
      "Dumping Tweets @  Data/chatgpt_bard_2022-11-18_2022-11-19.csv\n",
      "Tweets dumped @  Data/chatgpt_bard_2022-11-18_2022-11-19.csv\n",
      "#chatgpt OR #bard since:2022-11-19 until:2022-11-20 lang:en\n",
      "Dumping Tweets @  Data/chatgpt_bard_2022-11-19_2022-11-20.csv\n",
      "Tweets dumped @  Data/chatgpt_bard_2022-11-19_2022-11-20.csv\n",
      "#chatgpt OR #bard since:2022-11-20 until:2022-11-21 lang:en\n",
      "Dumping Tweets @  Data/chatgpt_bard_2022-11-20_2022-11-21.csv\n",
      "Tweets dumped @  Data/chatgpt_bard_2022-11-20_2022-11-21.csv\n",
      "#chatgpt OR #bard since:2022-11-21 until:2022-11-22 lang:en\n",
      "Dumping Tweets @  Data/chatgpt_bard_2022-11-21_2022-11-22.csv\n",
      "Tweets dumped @  Data/chatgpt_bard_2022-11-21_2022-11-22.csv\n",
      "#chatgpt OR #bard since:2022-11-22 until:2022-11-23 lang:en\n",
      "Dumping Tweets @  Data/chatgpt_bard_2022-11-22_2022-11-23.csv\n",
      "Tweets dumped @  Data/chatgpt_bard_2022-11-22_2022-11-23.csv\n",
      "#chatgpt OR #bard since:2022-11-23 until:2022-11-24 lang:en\n",
      "Dumping Tweets @  Data/chatgpt_bard_2022-11-23_2022-11-24.csv\n",
      "Tweets dumped @  Data/chatgpt_bard_2022-11-23_2022-11-24.csv\n",
      "#chatgpt OR #bard since:2022-11-24 until:2022-11-25 lang:en\n",
      "Dumping Tweets @  Data/chatgpt_bard_2022-11-24_2022-11-25.csv\n",
      "Tweets dumped @  Data/chatgpt_bard_2022-11-24_2022-11-25.csv\n",
      "#chatgpt OR #bard since:2022-11-25 until:2022-11-26 lang:en\n",
      "Dumping Tweets @  Data/chatgpt_bard_2022-11-25_2022-11-26.csv\n",
      "Tweets dumped @  Data/chatgpt_bard_2022-11-25_2022-11-26.csv\n",
      "#chatgpt OR #bard since:2022-11-26 until:2022-11-27 lang:en\n",
      "Dumping Tweets @  Data/chatgpt_bard_2022-11-26_2022-11-27.csv\n",
      "Tweets dumped @  Data/chatgpt_bard_2022-11-26_2022-11-27.csv\n",
      "#chatgpt OR #bard since:2022-11-27 until:2022-11-28 lang:en\n",
      "Dumping Tweets @  Data/chatgpt_bard_2022-11-27_2022-11-28.csv\n",
      "Tweets dumped @  Data/chatgpt_bard_2022-11-27_2022-11-28.csv\n",
      "#chatgpt OR #bard since:2022-11-28 until:2022-11-29 lang:en\n",
      "Dumping Tweets @  Data/chatgpt_bard_2022-11-28_2022-11-29.csv\n",
      "Tweets dumped @  Data/chatgpt_bard_2022-11-28_2022-11-29.csv\n",
      "#chatgpt OR #bard since:2022-11-29 until:2022-11-30 lang:en\n",
      "Dumping Tweets @  Data/chatgpt_bard_2022-11-29_2022-11-30.csv\n",
      "Tweets dumped @  Data/chatgpt_bard_2022-11-29_2022-11-30.csv\n",
      "#chatgpt OR #bard since:2022-11-30 until:2022-12-01 lang:en\n",
      "Dumping Tweets @  Data/chatgpt_bard_2022-11-30_2022-12-01.csv\n",
      "Tweets dumped @  Data/chatgpt_bard_2022-11-30_2022-12-01.csv\n",
      "#chatgpt OR #bard since:2022-12-01 until:2022-12-02 lang:en\n",
      "Dumping Tweets @  Data/chatgpt_bard_2022-12-01_2022-12-02.csv\n",
      "Tweets dumped @  Data/chatgpt_bard_2022-12-01_2022-12-02.csv\n",
      "#chatgpt OR #bard since:2022-12-02 until:2022-12-03 lang:en\n",
      "Dumping Tweets @  Data/chatgpt_bard_2022-12-02_2022-12-03.csv\n",
      "Tweets dumped @  Data/chatgpt_bard_2022-12-02_2022-12-03.csv\n",
      "#chatgpt OR #bard since:2022-12-03 until:2022-12-04 lang:en\n",
      "Dumping Tweets @  Data/chatgpt_bard_2022-12-03_2022-12-04.csv\n",
      "Tweets dumped @  Data/chatgpt_bard_2022-12-03_2022-12-04.csv\n",
      "#chatgpt OR #bard since:2022-12-04 until:2022-12-05 lang:en\n",
      "Dumping Tweets @  Data/chatgpt_bard_2022-12-04_2022-12-05.csv\n",
      "Tweets dumped @  Data/chatgpt_bard_2022-12-04_2022-12-05.csv\n",
      "#chatgpt OR #bard since:2022-12-05 until:2022-12-06 lang:en\n",
      "Dumping Tweets @  Data/chatgpt_bard_2022-12-05_2022-12-06.csv\n",
      "Tweets dumped @  Data/chatgpt_bard_2022-12-05_2022-12-06.csv\n",
      "#chatgpt OR #bard since:2022-12-06 until:2022-12-07 lang:en\n"
     ]
    }
   ],
   "source": [
    "dict_num_tweets = {}\n",
    "for i, date in enumerate(list_dates):\n",
    "    if date != list_dates[-1]: \n",
    "        since = date\n",
    "        until = list_dates[i+1]\n",
    "        query = \"#chatgpt OR #bard since:{} until:{} lang:en\".format(since, until)\n",
    "        print(query)\n",
    "        scraper = sntwitter.TwitterSearchScraper(query)\n",
    "        tweets = []\n",
    "        for i, tweet in enumerate(scraper.get_items()):\n",
    "            data = [\n",
    "                tweet.date, tweet.id, tweet.rawContent, tweet.viewCount, tweet.likeCount,\n",
    "                tweet.retweetCount, tweet.coordinates\n",
    "            ]\n",
    "            tweets.append(data)\n",
    "        df = pd.DataFrame(tweets, columns=['date', 'id', 'content', 'view_count', 'like_count', 'retweet_count', 'coordinates'])\n",
    "        file_name = \"Data/chatgpt_bard_{}_{}.csv\".format(since, until)\n",
    "        print(\"Dumping Tweets @ \", file_name)\n",
    "        df.to_csv(file_name, index=False)\n",
    "        print(\"Tweets dumped @ \", file_name)\n",
    "        dict_num_tweets[since] = len(df)"
   ]
  },
  {
   "cell_type": "code",
   "execution_count": null,
   "metadata": {
    "ExecuteTime": {
     "start_time": "2023-02-09T15:50:44.203Z"
    }
   },
   "outputs": [],
   "source": [
    "dict_num_tweets"
   ]
  }
 ],
 "metadata": {
  "colab": {
   "authorship_tag": "ABX9TyPSVzwEFrzN413yDz4aDy3N",
   "include_colab_link": true,
   "provenance": []
  },
  "kernelspec": {
   "display_name": "Python 3",
   "language": "python",
   "name": "python3"
  },
  "language_info": {
   "codemirror_mode": {
    "name": "ipython",
    "version": 3
   },
   "file_extension": ".py",
   "mimetype": "text/x-python",
   "name": "python",
   "nbconvert_exporter": "python",
   "pygments_lexer": "ipython3",
   "version": "3.8.5"
  },
  "toc": {
   "base_numbering": 1,
   "nav_menu": {},
   "number_sections": true,
   "sideBar": true,
   "skip_h1_title": false,
   "title_cell": "Table of Contents",
   "title_sidebar": "Contents",
   "toc_cell": false,
   "toc_position": {},
   "toc_section_display": true,
   "toc_window_display": false
  },
  "varInspector": {
   "cols": {
    "lenName": 16,
    "lenType": 16,
    "lenVar": 40
   },
   "kernels_config": {
    "python": {
     "delete_cmd_postfix": "",
     "delete_cmd_prefix": "del ",
     "library": "var_list.py",
     "varRefreshCmd": "print(var_dic_list())"
    },
    "r": {
     "delete_cmd_postfix": ") ",
     "delete_cmd_prefix": "rm(",
     "library": "var_list.r",
     "varRefreshCmd": "cat(var_dic_list()) "
    }
   },
   "position": {
    "height": "518.854px",
    "left": "1134px",
    "right": "20px",
    "top": "120px",
    "width": "350px"
   },
   "types_to_exclude": [
    "module",
    "function",
    "builtin_function_or_method",
    "instance",
    "_Feature"
   ],
   "window_display": false
  }
 },
 "nbformat": 4,
 "nbformat_minor": 1
}
