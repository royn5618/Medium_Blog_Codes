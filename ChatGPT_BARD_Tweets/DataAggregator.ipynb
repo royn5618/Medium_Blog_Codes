{
 "cells": [
  {
   "cell_type": "code",
   "execution_count": 1,
   "metadata": {
    "ExecuteTime": {
     "end_time": "2023-02-26T19:05:53.391961Z",
     "start_time": "2023-02-26T19:05:52.475248Z"
    }
   },
   "outputs": [],
   "source": [
    "import pandas as pd\n",
    "import glob"
   ]
  },
  {
   "cell_type": "code",
   "execution_count": 2,
   "metadata": {
    "ExecuteTime": {
     "end_time": "2023-02-26T19:05:53.470820Z",
     "start_time": "2023-02-26T19:05:53.458685Z"
    }
   },
   "outputs": [],
   "source": [
    "data_folder = 'Data/*.csv'"
   ]
  },
  {
   "cell_type": "code",
   "execution_count": 3,
   "metadata": {
    "ExecuteTime": {
     "end_time": "2023-02-26T19:05:55.951444Z",
     "start_time": "2023-02-26T19:05:53.589568Z"
    }
   },
   "outputs": [],
   "source": [
    "list_dfs = []\n",
    "for each in glob.glob(data_folder):\n",
    "    df_tweets_daily = pd.read_csv(each)\n",
    "#     print(df_tweets_daily)\n",
    "    list_dfs.append(df_tweets_daily)\n",
    "df_all_tweets = pd.concat(list_dfs, axis=0, ignore_index=True)"
   ]
  },
  {
   "cell_type": "code",
   "execution_count": 4,
   "metadata": {
    "ExecuteTime": {
     "end_time": "2023-02-26T19:05:57.870642Z",
     "start_time": "2023-02-26T19:05:57.841453Z"
    }
   },
   "outputs": [
    {
     "data": {
      "text/plain": [
       "(284168, 7)"
      ]
     },
     "execution_count": 4,
     "metadata": {},
     "output_type": "execute_result"
    }
   ],
   "source": [
    "df_all_tweets.shape"
   ]
  },
  {
   "cell_type": "code",
   "execution_count": 5,
   "metadata": {
    "ExecuteTime": {
     "end_time": "2023-02-26T19:05:59.887426Z",
     "start_time": "2023-02-26T19:05:59.865738Z"
    }
   },
   "outputs": [
    {
     "data": {
      "text/plain": [
       "'Your Brand is what you do.\\nYour Product is how you do it.\\nYour Marketing is why you do it.\\nYour Visibility is how we know you. \\n\\nMiss any of the puzzle at your loss. They all compliment each other.\\n\\n#AUSvsIND #Nordstream2 #ประเทศไทยมีมินยุนกิแล้ว #ا #ChatGPT #ValentinesWeek'"
      ]
     },
     "execution_count": 5,
     "metadata": {},
     "output_type": "execute_result"
    }
   ],
   "source": [
    "df_all_tweets['content'][261486]"
   ]
  },
  {
   "cell_type": "code",
   "execution_count": 6,
   "metadata": {
    "ExecuteTime": {
     "end_time": "2023-02-26T19:06:14.974966Z",
     "start_time": "2023-02-26T19:06:14.919110Z"
    }
   },
   "outputs": [
    {
     "data": {
      "text/html": [
       "<div>\n",
       "<style scoped>\n",
       "    .dataframe tbody tr th:only-of-type {\n",
       "        vertical-align: middle;\n",
       "    }\n",
       "\n",
       "    .dataframe tbody tr th {\n",
       "        vertical-align: top;\n",
       "    }\n",
       "\n",
       "    .dataframe thead th {\n",
       "        text-align: right;\n",
       "    }\n",
       "</style>\n",
       "<table border=\"1\" class=\"dataframe\">\n",
       "  <thead>\n",
       "    <tr style=\"text-align: right;\">\n",
       "      <th></th>\n",
       "      <th>date</th>\n",
       "      <th>id</th>\n",
       "      <th>content</th>\n",
       "      <th>view_count</th>\n",
       "      <th>like_count</th>\n",
       "      <th>retweet_count</th>\n",
       "      <th>coordinates</th>\n",
       "    </tr>\n",
       "  </thead>\n",
       "  <tbody>\n",
       "    <tr>\n",
       "      <th>284163</th>\n",
       "      <td>2023-02-18 00:00:09+00:00</td>\n",
       "      <td>1626733270103719936</td>\n",
       "      <td>\"Wow, so VAR finally forced Lee Mason out of P...</td>\n",
       "      <td>41.0</td>\n",
       "      <td>0</td>\n",
       "      <td>0</td>\n",
       "      <td>NaN</td>\n",
       "    </tr>\n",
       "    <tr>\n",
       "      <th>284164</th>\n",
       "      <td>2023-02-18 00:00:08+00:00</td>\n",
       "      <td>1626733264714010625</td>\n",
       "      <td>A rabbi in New York wrote a 1,000-word sermon ...</td>\n",
       "      <td>118.0</td>\n",
       "      <td>0</td>\n",
       "      <td>0</td>\n",
       "      <td>NaN</td>\n",
       "    </tr>\n",
       "    <tr>\n",
       "      <th>284165</th>\n",
       "      <td>2023-02-18 00:00:02+00:00</td>\n",
       "      <td>1626733242735902722</td>\n",
       "      <td>Noun: squat\\n\\nA squat is when you pretend you...</td>\n",
       "      <td>21.0</td>\n",
       "      <td>2</td>\n",
       "      <td>1</td>\n",
       "      <td>NaN</td>\n",
       "    </tr>\n",
       "    <tr>\n",
       "      <th>284166</th>\n",
       "      <td>2023-02-18 00:00:01+00:00</td>\n",
       "      <td>1626733236444598276</td>\n",
       "      <td>In #ReasonGoodGames new #MMORPG Anticthon base...</td>\n",
       "      <td>56.0</td>\n",
       "      <td>4</td>\n",
       "      <td>2</td>\n",
       "      <td>NaN</td>\n",
       "    </tr>\n",
       "    <tr>\n",
       "      <th>284167</th>\n",
       "      <td>2023-02-18 00:00:00+00:00</td>\n",
       "      <td>1626733232208154625</td>\n",
       "      <td>How chatgpt will affect the future of SEO? 😮\\n...</td>\n",
       "      <td>16.0</td>\n",
       "      <td>1</td>\n",
       "      <td>0</td>\n",
       "      <td>NaN</td>\n",
       "    </tr>\n",
       "  </tbody>\n",
       "</table>\n",
       "</div>"
      ],
      "text/plain": [
       "                             date                   id  \\\n",
       "284163  2023-02-18 00:00:09+00:00  1626733270103719936   \n",
       "284164  2023-02-18 00:00:08+00:00  1626733264714010625   \n",
       "284165  2023-02-18 00:00:02+00:00  1626733242735902722   \n",
       "284166  2023-02-18 00:00:01+00:00  1626733236444598276   \n",
       "284167  2023-02-18 00:00:00+00:00  1626733232208154625   \n",
       "\n",
       "                                                  content  view_count  \\\n",
       "284163  \"Wow, so VAR finally forced Lee Mason out of P...        41.0   \n",
       "284164  A rabbi in New York wrote a 1,000-word sermon ...       118.0   \n",
       "284165  Noun: squat\\n\\nA squat is when you pretend you...        21.0   \n",
       "284166  In #ReasonGoodGames new #MMORPG Anticthon base...        56.0   \n",
       "284167  How chatgpt will affect the future of SEO? 😮\\n...        16.0   \n",
       "\n",
       "        like_count  retweet_count coordinates  \n",
       "284163           0              0         NaN  \n",
       "284164           0              0         NaN  \n",
       "284165           2              1         NaN  \n",
       "284166           4              2         NaN  \n",
       "284167           1              0         NaN  "
      ]
     },
     "execution_count": 6,
     "metadata": {},
     "output_type": "execute_result"
    }
   ],
   "source": [
    "df_all_tweets.tail()"
   ]
  },
  {
   "cell_type": "code",
   "execution_count": 7,
   "metadata": {
    "ExecuteTime": {
     "end_time": "2023-02-26T19:06:17.215173Z",
     "start_time": "2023-02-26T19:06:17.179511Z"
    }
   },
   "outputs": [
    {
     "data": {
      "text/plain": [
       "'2022-11-01 02:57:46+00:00'"
      ]
     },
     "execution_count": 7,
     "metadata": {},
     "output_type": "execute_result"
    }
   ],
   "source": [
    "df_all_tweets['date'].min()"
   ]
  },
  {
   "cell_type": "code",
   "execution_count": 8,
   "metadata": {
    "ExecuteTime": {
     "end_time": "2023-02-26T19:06:19.791713Z",
     "start_time": "2023-02-26T19:06:19.758974Z"
    }
   },
   "outputs": [
    {
     "data": {
      "text/plain": [
       "'2023-02-18 23:59:56+00:00'"
      ]
     },
     "execution_count": 8,
     "metadata": {},
     "output_type": "execute_result"
    }
   ],
   "source": [
    "df_all_tweets['date'].max()"
   ]
  },
  {
   "cell_type": "code",
   "execution_count": 9,
   "metadata": {
    "ExecuteTime": {
     "end_time": "2023-02-26T19:06:22.229105Z",
     "start_time": "2023-02-26T19:06:22.208524Z"
    }
   },
   "outputs": [],
   "source": [
    "# df_all_tweets.to_csv('chat_tweets_Nov22_Feb23.csv', index=False)"
   ]
  },
  {
   "cell_type": "code",
   "execution_count": 10,
   "metadata": {
    "ExecuteTime": {
     "end_time": "2023-02-26T19:06:24.550999Z",
     "start_time": "2023-02-26T19:06:24.373983Z"
    }
   },
   "outputs": [
    {
     "name": "stdout",
     "output_type": "stream",
     "text": [
      "<class 'pandas.core.frame.DataFrame'>\n",
      "RangeIndex: 284168 entries, 0 to 284167\n",
      "Data columns (total 7 columns):\n",
      " #   Column         Non-Null Count   Dtype  \n",
      "---  ------         --------------   -----  \n",
      " 0   date           284168 non-null  object \n",
      " 1   id             284168 non-null  int64  \n",
      " 2   content        284168 non-null  object \n",
      " 3   view_count     228607 non-null  float64\n",
      " 4   like_count     284168 non-null  int64  \n",
      " 5   retweet_count  284168 non-null  int64  \n",
      " 6   coordinates    6284 non-null    object \n",
      "dtypes: float64(1), int64(3), object(3)\n",
      "memory usage: 15.2+ MB\n"
     ]
    }
   ],
   "source": [
    "df_all_tweets.info()"
   ]
  },
  {
   "cell_type": "code",
   "execution_count": null,
   "metadata": {},
   "outputs": [],
   "source": []
  }
 ],
 "metadata": {
  "kernelspec": {
   "display_name": "Python 3",
   "language": "python",
   "name": "python3"
  },
  "language_info": {
   "codemirror_mode": {
    "name": "ipython",
    "version": 3
   },
   "file_extension": ".py",
   "mimetype": "text/x-python",
   "name": "python",
   "nbconvert_exporter": "python",
   "pygments_lexer": "ipython3",
   "version": "3.8.5"
  },
  "toc": {
   "base_numbering": 1,
   "nav_menu": {},
   "number_sections": true,
   "sideBar": true,
   "skip_h1_title": false,
   "title_cell": "Table of Contents",
   "title_sidebar": "Contents",
   "toc_cell": false,
   "toc_position": {},
   "toc_section_display": true,
   "toc_window_display": false
  },
  "varInspector": {
   "cols": {
    "lenName": 16,
    "lenType": 16,
    "lenVar": 40
   },
   "kernels_config": {
    "python": {
     "delete_cmd_postfix": "",
     "delete_cmd_prefix": "del ",
     "library": "var_list.py",
     "varRefreshCmd": "print(var_dic_list())"
    },
    "r": {
     "delete_cmd_postfix": ") ",
     "delete_cmd_prefix": "rm(",
     "library": "var_list.r",
     "varRefreshCmd": "cat(var_dic_list()) "
    }
   },
   "types_to_exclude": [
    "module",
    "function",
    "builtin_function_or_method",
    "instance",
    "_Feature"
   ],
   "window_display": false
  }
 },
 "nbformat": 4,
 "nbformat_minor": 4
}
