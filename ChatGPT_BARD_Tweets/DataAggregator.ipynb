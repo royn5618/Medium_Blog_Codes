{
 "cells": [
  {
   "cell_type": "code",
   "execution_count": 1,
   "metadata": {
    "ExecuteTime": {
     "end_time": "2023-02-14T23:00:27.090045Z",
     "start_time": "2023-02-14T23:00:25.938797Z"
    }
   },
   "outputs": [
    {
     "name": "stderr",
     "output_type": "stream",
     "text": [
      "C:\\Users\\nroy0\\anaconda3\\lib\\site-packages\\pandas\\core\\computation\\expressions.py:20: UserWarning: Pandas requires version '2.7.3' or newer of 'numexpr' (version '2.7.1' currently installed).\n",
      "  from pandas.core.computation.check import NUMEXPR_INSTALLED\n"
     ]
    }
   ],
   "source": [
    "import pandas as pd\n",
    "import glob"
   ]
  },
  {
   "cell_type": "code",
   "execution_count": 4,
   "metadata": {
    "ExecuteTime": {
     "end_time": "2023-02-14T23:00:48.457775Z",
     "start_time": "2023-02-14T23:00:48.450908Z"
    }
   },
   "outputs": [],
   "source": [
    "data_folder = 'Data/*.csv'"
   ]
  },
  {
   "cell_type": "code",
   "execution_count": 7,
   "metadata": {
    "ExecuteTime": {
     "end_time": "2023-02-14T23:03:24.076908Z",
     "start_time": "2023-02-14T23:03:20.273927Z"
    }
   },
   "outputs": [],
   "source": [
    "list_dfs = []\n",
    "for each in glob.glob(data_folder):\n",
    "    df_tweets_daily = pd.read_csv(each)\n",
    "#     print(df_tweets_daily)\n",
    "    list_dfs.append(df_tweets_daily)\n",
    "df_all_tweets = pd.concat(list_dfs, axis=0, ignore_index=True)"
   ]
  },
  {
   "cell_type": "code",
   "execution_count": 8,
   "metadata": {
    "ExecuteTime": {
     "end_time": "2023-02-14T23:03:25.907147Z",
     "start_time": "2023-02-14T23:03:25.880462Z"
    }
   },
   "outputs": [
    {
     "data": {
      "text/plain": [
       "(261491, 7)"
      ]
     },
     "execution_count": 8,
     "metadata": {},
     "output_type": "execute_result"
    }
   ],
   "source": [
    "df_all_tweets.shape"
   ]
  },
  {
   "cell_type": "code",
   "execution_count": 20,
   "metadata": {
    "ExecuteTime": {
     "end_time": "2023-02-14T23:06:43.896966Z",
     "start_time": "2023-02-14T23:06:43.874784Z"
    }
   },
   "outputs": [
    {
     "data": {
      "text/plain": [
       "'Sherpa Zip Up Jacket\\n19% off code: ZFTW18 @zaful_official \\nSHOP&gt;&gt;https://t.co/QnmUd0pPkd\\n\\n#ChatGPT #wafc #TheLastOfUs #TheBachelor #BBTitans #DeadlineDay #earthquake #FACup #GRAMMYs #HogwartsLegacy #IrelandisFull #JacksonWang #loveisland #LUFC #MCStan #onlyfans https://t.co/1evIaqGfeB'"
      ]
     },
     "execution_count": 20,
     "metadata": {},
     "output_type": "execute_result"
    }
   ],
   "source": [
    "df_all_tweets['content'][261486]"
   ]
  },
  {
   "cell_type": "code",
   "execution_count": 10,
   "metadata": {
    "ExecuteTime": {
     "end_time": "2023-02-14T23:03:49.311896Z",
     "start_time": "2023-02-14T23:03:49.287539Z"
    }
   },
   "outputs": [
    {
     "data": {
      "text/html": [
       "<div>\n",
       "<style scoped>\n",
       "    .dataframe tbody tr th:only-of-type {\n",
       "        vertical-align: middle;\n",
       "    }\n",
       "\n",
       "    .dataframe tbody tr th {\n",
       "        vertical-align: top;\n",
       "    }\n",
       "\n",
       "    .dataframe thead th {\n",
       "        text-align: right;\n",
       "    }\n",
       "</style>\n",
       "<table border=\"1\" class=\"dataframe\">\n",
       "  <thead>\n",
       "    <tr style=\"text-align: right;\">\n",
       "      <th></th>\n",
       "      <th>date</th>\n",
       "      <th>id</th>\n",
       "      <th>content</th>\n",
       "      <th>view_count</th>\n",
       "      <th>like_count</th>\n",
       "      <th>retweet_count</th>\n",
       "      <th>coordinates</th>\n",
       "    </tr>\n",
       "  </thead>\n",
       "  <tbody>\n",
       "    <tr>\n",
       "      <th>261486</th>\n",
       "      <td>2023-02-13 00:00:18+00:00</td>\n",
       "      <td>1624921368847581184</td>\n",
       "      <td>Sherpa Zip Up Jacket\\n19% off code: ZFTW18 @za...</td>\n",
       "      <td>2504.0</td>\n",
       "      <td>0</td>\n",
       "      <td>1</td>\n",
       "      <td>NaN</td>\n",
       "    </tr>\n",
       "    <tr>\n",
       "      <th>261487</th>\n",
       "      <td>2023-02-13 00:00:13+00:00</td>\n",
       "      <td>1624921348077236224</td>\n",
       "      <td>The best thing about #ChatGPT is how it can cr...</td>\n",
       "      <td>62.0</td>\n",
       "      <td>1</td>\n",
       "      <td>0</td>\n",
       "      <td>NaN</td>\n",
       "    </tr>\n",
       "    <tr>\n",
       "      <th>261488</th>\n",
       "      <td>2023-02-13 00:00:12+00:00</td>\n",
       "      <td>1624921341605425152</td>\n",
       "      <td>Through our EON-XR app, you can create VR work...</td>\n",
       "      <td>125.0</td>\n",
       "      <td>6</td>\n",
       "      <td>3</td>\n",
       "      <td>NaN</td>\n",
       "    </tr>\n",
       "    <tr>\n",
       "      <th>261489</th>\n",
       "      <td>2023-02-13 00:00:03+00:00</td>\n",
       "      <td>1624921305534324736</td>\n",
       "      <td>Noun: thane\\n\\nA thane is a medieval title of ...</td>\n",
       "      <td>21.0</td>\n",
       "      <td>2</td>\n",
       "      <td>1</td>\n",
       "      <td>NaN</td>\n",
       "    </tr>\n",
       "    <tr>\n",
       "      <th>261490</th>\n",
       "      <td>2023-02-13 00:00:01+00:00</td>\n",
       "      <td>1624921296726560769</td>\n",
       "      <td>$AI - Still above the 10ma, all this talk abou...</td>\n",
       "      <td>127.0</td>\n",
       "      <td>2</td>\n",
       "      <td>0</td>\n",
       "      <td>Coordinates(longitude=-117.117116, latitude=32...</td>\n",
       "    </tr>\n",
       "  </tbody>\n",
       "</table>\n",
       "</div>"
      ],
      "text/plain": [
       "                             date                   id  \\\n",
       "261486  2023-02-13 00:00:18+00:00  1624921368847581184   \n",
       "261487  2023-02-13 00:00:13+00:00  1624921348077236224   \n",
       "261488  2023-02-13 00:00:12+00:00  1624921341605425152   \n",
       "261489  2023-02-13 00:00:03+00:00  1624921305534324736   \n",
       "261490  2023-02-13 00:00:01+00:00  1624921296726560769   \n",
       "\n",
       "                                                  content  view_count  \\\n",
       "261486  Sherpa Zip Up Jacket\\n19% off code: ZFTW18 @za...      2504.0   \n",
       "261487  The best thing about #ChatGPT is how it can cr...        62.0   \n",
       "261488  Through our EON-XR app, you can create VR work...       125.0   \n",
       "261489  Noun: thane\\n\\nA thane is a medieval title of ...        21.0   \n",
       "261490  $AI - Still above the 10ma, all this talk abou...       127.0   \n",
       "\n",
       "        like_count  retweet_count  \\\n",
       "261486           0              1   \n",
       "261487           1              0   \n",
       "261488           6              3   \n",
       "261489           2              1   \n",
       "261490           2              0   \n",
       "\n",
       "                                              coordinates  \n",
       "261486                                                NaN  \n",
       "261487                                                NaN  \n",
       "261488                                                NaN  \n",
       "261489                                                NaN  \n",
       "261490  Coordinates(longitude=-117.117116, latitude=32...  "
      ]
     },
     "execution_count": 10,
     "metadata": {},
     "output_type": "execute_result"
    }
   ],
   "source": [
    "df_all_tweets.tail()"
   ]
  },
  {
   "cell_type": "code",
   "execution_count": 22,
   "metadata": {
    "ExecuteTime": {
     "end_time": "2023-02-19T20:35:10.597876Z",
     "start_time": "2023-02-19T20:35:10.383058Z"
    }
   },
   "outputs": [
    {
     "data": {
      "text/plain": [
       "'2022-11-01 02:57:46+00:00'"
      ]
     },
     "execution_count": 22,
     "metadata": {},
     "output_type": "execute_result"
    }
   ],
   "source": [
    "df_all_tweets['date'].min()"
   ]
  },
  {
   "cell_type": "code",
   "execution_count": 23,
   "metadata": {
    "ExecuteTime": {
     "end_time": "2023-02-19T20:35:23.391477Z",
     "start_time": "2023-02-19T20:35:23.316415Z"
    }
   },
   "outputs": [
    {
     "data": {
      "text/plain": [
       "'2023-02-13 23:58:52+00:00'"
      ]
     },
     "execution_count": 23,
     "metadata": {},
     "output_type": "execute_result"
    }
   ],
   "source": [
    "df_all_tweets['date'].max()"
   ]
  },
  {
   "cell_type": "code",
   "execution_count": 40,
   "metadata": {
    "ExecuteTime": {
     "end_time": "2023-02-19T20:51:13.560252Z",
     "start_time": "2023-02-19T20:51:07.820413Z"
    }
   },
   "outputs": [],
   "source": [
    "df_all_tweets.to_csv('_tweets.csv', index=False)"
   ]
  },
  {
   "cell_type": "code",
   "execution_count": null,
   "metadata": {},
   "outputs": [],
   "source": []
  },
  {
   "cell_type": "code",
   "execution_count": null,
   "metadata": {},
   "outputs": [],
   "source": []
  }
 ],
 "metadata": {
  "kernelspec": {
   "display_name": "Python 3",
   "language": "python",
   "name": "python3"
  },
  "language_info": {
   "codemirror_mode": {
    "name": "ipython",
    "version": 3
   },
   "file_extension": ".py",
   "mimetype": "text/x-python",
   "name": "python",
   "nbconvert_exporter": "python",
   "pygments_lexer": "ipython3",
   "version": "3.8.5"
  },
  "toc": {
   "base_numbering": 1,
   "nav_menu": {},
   "number_sections": true,
   "sideBar": true,
   "skip_h1_title": false,
   "title_cell": "Table of Contents",
   "title_sidebar": "Contents",
   "toc_cell": false,
   "toc_position": {},
   "toc_section_display": true,
   "toc_window_display": false
  },
  "varInspector": {
   "cols": {
    "lenName": 16,
    "lenType": 16,
    "lenVar": 40
   },
   "kernels_config": {
    "python": {
     "delete_cmd_postfix": "",
     "delete_cmd_prefix": "del ",
     "library": "var_list.py",
     "varRefreshCmd": "print(var_dic_list())"
    },
    "r": {
     "delete_cmd_postfix": ") ",
     "delete_cmd_prefix": "rm(",
     "library": "var_list.r",
     "varRefreshCmd": "cat(var_dic_list()) "
    }
   },
   "types_to_exclude": [
    "module",
    "function",
    "builtin_function_or_method",
    "instance",
    "_Feature"
   ],
   "window_display": false
  }
 },
 "nbformat": 4,
 "nbformat_minor": 4
}
