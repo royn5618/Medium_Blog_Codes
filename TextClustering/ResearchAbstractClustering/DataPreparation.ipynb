{
 "cells": [
  {
   "cell_type": "markdown",
   "metadata": {},
   "source": [
    "# Introduction"
   ]
  },
  {
   "cell_type": "markdown",
   "metadata": {},
   "source": [
    "Data Source: https://www.kaggle.com/datasets/Cornell-University/arxiv"
   ]
  },
  {
   "cell_type": "markdown",
   "metadata": {},
   "source": [
    "## Imports"
   ]
  },
  {
   "cell_type": "code",
   "execution_count": 1,
   "metadata": {
    "ExecuteTime": {
     "end_time": "2023-03-18T19:44:41.435797Z",
     "start_time": "2023-03-18T19:44:40.105133Z"
    }
   },
   "outputs": [],
   "source": [
    "import numpy as np\n",
    "import pandas as pd\n",
    "import json\n",
    "from bs4 import BeautifulSoup as bs\n",
    "import requests"
   ]
  },
  {
   "cell_type": "code",
   "execution_count": 2,
   "metadata": {
    "ExecuteTime": {
     "end_time": "2023-03-18T19:44:41.451364Z",
     "start_time": "2023-03-18T19:44:41.435797Z"
    }
   },
   "outputs": [],
   "source": [
    "file_path = 'Input/arxiv-metadata-oai-snapshot.json'"
   ]
  },
  {
   "cell_type": "markdown",
   "metadata": {},
   "source": [
    "## Load Data from Json"
   ]
  },
  {
   "cell_type": "code",
   "execution_count": 3,
   "metadata": {
    "ExecuteTime": {
     "end_time": "2023-03-18T19:44:41.482648Z",
     "start_time": "2023-03-18T19:44:41.451364Z"
    }
   },
   "outputs": [],
   "source": [
    "def get_research_paper(data_file):\n",
    "    with open(data_file, 'r') as f:\n",
    "        for line in f:\n",
    "            yield line"
   ]
  },
  {
   "cell_type": "code",
   "execution_count": 4,
   "metadata": {
    "ExecuteTime": {
     "end_time": "2023-03-18T19:44:41.498401Z",
     "start_time": "2023-03-18T19:44:41.482648Z"
    }
   },
   "outputs": [],
   "source": [
    "test_paper = get_research_paper(file_path)"
   ]
  },
  {
   "cell_type": "code",
   "execution_count": 5,
   "metadata": {
    "ExecuteTime": {
     "end_time": "2023-03-18T19:44:41.515548Z",
     "start_time": "2023-03-18T19:44:41.502548Z"
    }
   },
   "outputs": [
    {
     "name": "stdout",
     "output_type": "stream",
     "text": [
      "{'id': '0704.0001', 'submitter': 'Pavel Nadolsky', 'authors': \"C. Bal\\\\'azs, E. L. Berger, P. M. Nadolsky, C.-P. Yuan\", 'title': 'Calculation of prompt diphoton production cross sections at Tevatron and\\n  LHC energies', 'comments': '37 pages, 15 figures; published version', 'journal-ref': 'Phys.Rev.D76:013009,2007', 'doi': '10.1103/PhysRevD.76.013009', 'report-no': 'ANL-HEP-PR-07-12', 'categories': 'hep-ph', 'license': None, 'abstract': '  A fully differential calculation in perturbative quantum chromodynamics is\\npresented for the production of massive photon pairs at hadron colliders. All\\nnext-to-leading order perturbative contributions from quark-antiquark,\\ngluon-(anti)quark, and gluon-gluon subprocesses are included, as well as\\nall-orders resummation of initial-state gluon radiation valid at\\nnext-to-next-to-leading logarithmic accuracy. The region of phase space is\\nspecified in which the calculation is most reliable. Good agreement is\\ndemonstrated with data from the Fermilab Tevatron, and predictions are made for\\nmore detailed tests with CDF and DO data. Predictions are shown for\\ndistributions of diphoton pairs produced at the energy of the Large Hadron\\nCollider (LHC). Distributions of the diphoton pairs from the decay of a Higgs\\nboson are contrasted with those produced from QCD processes at the LHC, showing\\nthat enhanced sensitivity to the signal can be obtained with judicious\\nselection of events.\\n', 'versions': [{'version': 'v1', 'created': 'Mon, 2 Apr 2007 19:18:42 GMT'}, {'version': 'v2', 'created': 'Tue, 24 Jul 2007 20:10:27 GMT'}], 'update_date': '2008-11-26', 'authors_parsed': [['Balázs', 'C.', ''], ['Berger', 'E. L.', ''], ['Nadolsky', 'P. M.', ''], ['Yuan', 'C. -P.', '']]}\n"
     ]
    }
   ],
   "source": [
    "for each_paper_data in test_paper:\n",
    "    dict_paper_data = json.loads(each_paper_data)\n",
    "    print(dict_paper_data)\n",
    "#     print(dict_paper_data.get('categories'))\n",
    "#     print(pd.to_datetime(dict_paper_data.get('update_date')).year)\n",
    "    break"
   ]
  },
  {
   "cell_type": "markdown",
   "metadata": {},
   "source": [
    "Only need: title, categories, abstract, id, journal-ref, authors_parsed\n",
    "\n",
    "Categories are available here - https://arxiv.org/category_taxonomy"
   ]
  },
  {
   "cell_type": "markdown",
   "metadata": {},
   "source": [
    "## Get Category Codes"
   ]
  },
  {
   "cell_type": "code",
   "execution_count": 6,
   "metadata": {
    "ExecuteTime": {
     "end_time": "2023-03-18T19:44:42.384286Z",
     "start_time": "2023-03-18T19:44:41.518547Z"
    }
   },
   "outputs": [
    {
     "name": "stderr",
     "output_type": "stream",
     "text": [
      "C:\\Users\\nroy0\\anaconda3\\lib\\site-packages\\bs4\\builder\\__init__.py:545: XMLParsedAsHTMLWarning: It looks like you're parsing an XML document using an HTML parser. If this really is an HTML document (maybe it's XHTML?), you can ignore or filter this warning. If it's XML, you should know that using an XML parser will be more reliable. To parse this document as XML, make sure you have the lxml package installed, and pass the keyword argument `features=\"xml\"` into the BeautifulSoup constructor.\n",
      "  warnings.warn(\n"
     ]
    }
   ],
   "source": [
    "r = requests.get('https://arxiv.org/category_taxonomy')\n",
    "soup = bs(r.content)\n",
    "\n",
    "dict_categories_descriptions = {}\n",
    "for each_cat in soup.find_all(attrs={\"class\" : \"column is-one-fifth\"}):\n",
    "    try:\n",
    "        _text = each_cat.h4.text\n",
    "        _key = _text.split(' (')[0]\n",
    "        _value = _text.split(' (')[1].replace(')', '')\n",
    "        dict_categories_descriptions[_key] = _value\n",
    "    except:\n",
    "        pass"
   ]
  },
  {
   "cell_type": "code",
   "execution_count": 7,
   "metadata": {
    "ExecuteTime": {
     "end_time": "2023-03-18T19:44:42.399660Z",
     "start_time": "2023-03-18T19:44:42.387099Z"
    }
   },
   "outputs": [],
   "source": [
    "df_categories_metadata = pd.DataFrame()"
   ]
  },
  {
   "cell_type": "code",
   "execution_count": 8,
   "metadata": {
    "ExecuteTime": {
     "end_time": "2023-03-18T19:44:42.414556Z",
     "start_time": "2023-03-18T19:44:42.401673Z"
    }
   },
   "outputs": [],
   "source": [
    "df_categories_metadata['cat_code'] = list(dict_categories_descriptions.keys())\n",
    "df_categories_metadata['cat_desc'] = list(dict_categories_descriptions.values())"
   ]
  },
  {
   "cell_type": "code",
   "execution_count": 9,
   "metadata": {
    "ExecuteTime": {
     "end_time": "2023-03-18T19:44:42.430198Z",
     "start_time": "2023-03-18T19:44:42.415598Z"
    }
   },
   "outputs": [],
   "source": [
    "cat_map = {\n",
    "    'cs.': 'Computer Science',\n",
    "    'econ.': 'Economics',\n",
    "    'eess.' : 'Electrical and Electronics',\n",
    "    'math.' : 'Mathematics',\n",
    "    'q-bio.': 'Quantitative Biology',\n",
    "    'q-fin.': 'Quantitative Finance',\n",
    "    'stat.' : 'Statistics'\n",
    "    # None of these -> Physics\n",
    "}"
   ]
  },
  {
   "cell_type": "code",
   "execution_count": 10,
   "metadata": {
    "ExecuteTime": {
     "end_time": "2023-03-18T19:44:42.446198Z",
     "start_time": "2023-03-18T19:44:42.432194Z"
    }
   },
   "outputs": [],
   "source": [
    "def get_parent_categories(x):\n",
    "    \"\"\"\n",
    "    Check if category starts with any of the keys listed,\n",
    "    if not, return Physics since it has multiple start codes.\n",
    "    \"\"\"\n",
    "    for each_cat in list(cat_map.keys()):\n",
    "        if x.startswith(each_cat):\n",
    "            return cat_map[each_cat]\n",
    "    return 'Physics'"
   ]
  },
  {
   "cell_type": "code",
   "execution_count": 11,
   "metadata": {
    "ExecuteTime": {
     "end_time": "2023-03-18T19:44:42.478214Z",
     "start_time": "2023-03-18T19:44:42.448241Z"
    }
   },
   "outputs": [
    {
     "data": {
      "text/html": [
       "<div>\n",
       "<style scoped>\n",
       "    .dataframe tbody tr th:only-of-type {\n",
       "        vertical-align: middle;\n",
       "    }\n",
       "\n",
       "    .dataframe tbody tr th {\n",
       "        vertical-align: top;\n",
       "    }\n",
       "\n",
       "    .dataframe thead th {\n",
       "        text-align: right;\n",
       "    }\n",
       "</style>\n",
       "<table border=\"1\" class=\"dataframe\">\n",
       "  <thead>\n",
       "    <tr style=\"text-align: right;\">\n",
       "      <th></th>\n",
       "      <th>cat_code</th>\n",
       "      <th>cat_desc</th>\n",
       "      <th>parent_cat</th>\n",
       "    </tr>\n",
       "  </thead>\n",
       "  <tbody>\n",
       "    <tr>\n",
       "      <th>0</th>\n",
       "      <td>cs.AI</td>\n",
       "      <td>Artificial Intelligence</td>\n",
       "      <td>Computer Science</td>\n",
       "    </tr>\n",
       "    <tr>\n",
       "      <th>1</th>\n",
       "      <td>cs.AR</td>\n",
       "      <td>Hardware Architecture</td>\n",
       "      <td>Computer Science</td>\n",
       "    </tr>\n",
       "    <tr>\n",
       "      <th>2</th>\n",
       "      <td>cs.CC</td>\n",
       "      <td>Computational Complexity</td>\n",
       "      <td>Computer Science</td>\n",
       "    </tr>\n",
       "    <tr>\n",
       "      <th>3</th>\n",
       "      <td>cs.CE</td>\n",
       "      <td>Computational Engineering, Finance, and Science</td>\n",
       "      <td>Computer Science</td>\n",
       "    </tr>\n",
       "    <tr>\n",
       "      <th>4</th>\n",
       "      <td>cs.CG</td>\n",
       "      <td>Computational Geometry</td>\n",
       "      <td>Computer Science</td>\n",
       "    </tr>\n",
       "    <tr>\n",
       "      <th>...</th>\n",
       "      <td>...</td>\n",
       "      <td>...</td>\n",
       "      <td>...</td>\n",
       "    </tr>\n",
       "    <tr>\n",
       "      <th>150</th>\n",
       "      <td>stat.CO</td>\n",
       "      <td>Computation</td>\n",
       "      <td>Statistics</td>\n",
       "    </tr>\n",
       "    <tr>\n",
       "      <th>151</th>\n",
       "      <td>stat.ME</td>\n",
       "      <td>Methodology</td>\n",
       "      <td>Statistics</td>\n",
       "    </tr>\n",
       "    <tr>\n",
       "      <th>152</th>\n",
       "      <td>stat.ML</td>\n",
       "      <td>Machine Learning</td>\n",
       "      <td>Statistics</td>\n",
       "    </tr>\n",
       "    <tr>\n",
       "      <th>153</th>\n",
       "      <td>stat.OT</td>\n",
       "      <td>Other Statistics</td>\n",
       "      <td>Statistics</td>\n",
       "    </tr>\n",
       "    <tr>\n",
       "      <th>154</th>\n",
       "      <td>stat.TH</td>\n",
       "      <td>Statistics Theory</td>\n",
       "      <td>Statistics</td>\n",
       "    </tr>\n",
       "  </tbody>\n",
       "</table>\n",
       "<p>155 rows × 3 columns</p>\n",
       "</div>"
      ],
      "text/plain": [
       "    cat_code                                         cat_desc  \\\n",
       "0      cs.AI                          Artificial Intelligence   \n",
       "1      cs.AR                            Hardware Architecture   \n",
       "2      cs.CC                         Computational Complexity   \n",
       "3      cs.CE  Computational Engineering, Finance, and Science   \n",
       "4      cs.CG                           Computational Geometry   \n",
       "..       ...                                              ...   \n",
       "150  stat.CO                                      Computation   \n",
       "151  stat.ME                                      Methodology   \n",
       "152  stat.ML                                 Machine Learning   \n",
       "153  stat.OT                                 Other Statistics   \n",
       "154  stat.TH                                Statistics Theory   \n",
       "\n",
       "           parent_cat  \n",
       "0    Computer Science  \n",
       "1    Computer Science  \n",
       "2    Computer Science  \n",
       "3    Computer Science  \n",
       "4    Computer Science  \n",
       "..                ...  \n",
       "150        Statistics  \n",
       "151        Statistics  \n",
       "152        Statistics  \n",
       "153        Statistics  \n",
       "154        Statistics  \n",
       "\n",
       "[155 rows x 3 columns]"
      ]
     },
     "execution_count": 11,
     "metadata": {},
     "output_type": "execute_result"
    }
   ],
   "source": [
    "df_categories_metadata['parent_cat']  = df_categories_metadata['cat_code'].apply(get_parent_categories)\n",
    "df_categories_metadata"
   ]
  },
  {
   "cell_type": "code",
   "execution_count": 12,
   "metadata": {
    "ExecuteTime": {
     "end_time": "2023-03-18T19:44:42.494204Z",
     "start_time": "2023-03-18T19:44:42.480194Z"
    }
   },
   "outputs": [],
   "source": [
    "df_categories_metadata.to_csv('Outputs/arxiv_cat_codes.csv', index=False)"
   ]
  },
  {
   "cell_type": "code",
   "execution_count": 13,
   "metadata": {
    "ExecuteTime": {
     "end_time": "2023-03-18T19:44:42.509607Z",
     "start_time": "2023-03-18T19:44:42.496194Z"
    }
   },
   "outputs": [
    {
     "name": "stdout",
     "output_type": "stream",
     "text": [
      "['cs.AI', 'cs.AR', 'cs.CC', 'cs.CE', 'cs.CG', 'cs.CL', 'cs.CR', 'cs.CV', 'cs.CY', 'cs.DB', 'cs.DC', 'cs.DL', 'cs.DM', 'cs.DS', 'cs.ET', 'cs.FL', 'cs.GL', 'cs.GR', 'cs.GT', 'cs.HC', 'cs.IR', 'cs.IT', 'cs.LG', 'cs.LO', 'cs.MA', 'cs.MM', 'cs.MS', 'cs.NA', 'cs.NE', 'cs.NI', 'cs.OH', 'cs.OS', 'cs.PF', 'cs.PL', 'cs.RO', 'cs.SC', 'cs.SD', 'cs.SE', 'cs.SI', 'cs.SY']\n"
     ]
    }
   ],
   "source": [
    "all_cs_categories = list(df_categories_metadata[df_categories_metadata['cat_code'].str.startswith('cs.')]['cat_code'].str.strip())\n",
    "print(all_cs_categories)"
   ]
  },
  {
   "cell_type": "markdown",
   "metadata": {},
   "source": [
    "## Corpus Date Range Analysis "
   ]
  },
  {
   "cell_type": "code",
   "execution_count": 14,
   "metadata": {
    "ExecuteTime": {
     "end_time": "2023-03-18T19:45:29.275761Z",
     "start_time": "2023-03-18T19:44:42.512605Z"
    }
   },
   "outputs": [],
   "source": [
    "list_dates = []\n",
    "_paper = get_research_paper(file_path)\n",
    "for _data in _paper:\n",
    "    _dict = json.loads(_data)\n",
    "    list_dates.append(_dict['update_date'])"
   ]
  },
  {
   "cell_type": "code",
   "execution_count": 15,
   "metadata": {
    "ExecuteTime": {
     "end_time": "2023-03-18T19:45:29.385665Z",
     "start_time": "2023-03-18T19:45:29.277716Z"
    }
   },
   "outputs": [],
   "source": [
    "class DatasetInfo:\n",
    "    total_length = len(list_dates)\n",
    "    min_date = pd.to_datetime(min(list_dates))\n",
    "    max_date= pd.to_datetime(max(list_dates))"
   ]
  },
  {
   "cell_type": "markdown",
   "metadata": {},
   "source": [
    "## DataClass for ResearchPaper Objects"
   ]
  },
  {
   "cell_type": "code",
   "execution_count": 16,
   "metadata": {
    "ExecuteTime": {
     "end_time": "2023-03-18T19:45:29.401690Z",
     "start_time": "2023-03-18T19:45:29.387661Z"
    }
   },
   "outputs": [],
   "source": [
    "from dataclasses import dataclass\n",
    "from dataclasses import field\n",
    "\n",
    "@dataclass\n",
    "class ResearchPaper:\n",
    "    res_paper_id: int\n",
    "    category: list\n",
    "    title: str\n",
    "    abstract: str\n",
    "    list_authors: list\n",
    "    updated_date: pd.Timestamp\n",
    "    updated_year: int"
   ]
  },
  {
   "cell_type": "code",
   "execution_count": 17,
   "metadata": {
    "ExecuteTime": {
     "end_time": "2023-03-18T19:45:29.417259Z",
     "start_time": "2023-03-18T19:45:29.403693Z"
    }
   },
   "outputs": [
    {
     "data": {
      "text/plain": [
       "2018"
      ]
     },
     "execution_count": 17,
     "metadata": {},
     "output_type": "execute_result"
    }
   ],
   "source": [
    "max_year = DatasetInfo.max_date.year\n",
    "max_year - 5"
   ]
  },
  {
   "cell_type": "code",
   "execution_count": 18,
   "metadata": {
    "ExecuteTime": {
     "end_time": "2023-03-18T19:49:39.116487Z",
     "start_time": "2023-03-18T19:45:29.419192Z"
    }
   },
   "outputs": [],
   "source": [
    "research_papers = []\n",
    "paper_data = get_research_paper(file_path)\n",
    "for each_paper_data in paper_data:\n",
    "    dict_paper_data = json.loads(each_paper_data)\n",
    "    # Get data for last 5 years and in Category Computer Science\n",
    "    max_year = DatasetInfo.max_date.year\n",
    "    start_year = max_year - 5\n",
    "    updated_date = pd.to_datetime(dict_paper_data.get('update_date'))\n",
    "    categories = dict_paper_data.get('categories')\n",
    "    list_categories = set(categories.split(' '))\n",
    "    if  updated_date.year >= start_year and bool(set(list_categories).intersection(set(all_cs_categories))):\n",
    "        try:\n",
    "            rp_obj = ResearchPaper(res_paper_id = dict_paper_data.get('id'),\n",
    "                                   category = list_categories,\n",
    "                                   title = dict_paper_data.get('title'),                               \n",
    "                                   abstract = dict_paper_data.get('abstract'),\n",
    "                                   list_authors = dict_paper_data.get('authors_parsed'),\n",
    "                                   updated_date = updated_date,\n",
    "                                   updated_year = updated_date.year\n",
    "                                  )\n",
    "            research_papers.append(rp_obj)\n",
    "        except:\n",
    "            pass"
   ]
  },
  {
   "cell_type": "code",
   "execution_count": 19,
   "metadata": {
    "ExecuteTime": {
     "end_time": "2023-03-18T19:49:39.132164Z",
     "start_time": "2023-03-18T19:49:39.116487Z"
    }
   },
   "outputs": [],
   "source": [
    "# from operator import attrgetter\n",
    "# max(research_papers, key=attrgettera('updated_date'))\n",
    "# min(research_papers, key=attrgetter('updated_date'))"
   ]
  },
  {
   "cell_type": "code",
   "execution_count": 20,
   "metadata": {
    "ExecuteTime": {
     "end_time": "2023-03-18T19:50:09.051153Z",
     "start_time": "2023-03-18T19:49:39.132164Z"
    }
   },
   "outputs": [],
   "source": [
    "df = pd.DataFrame(research_papers)"
   ]
  },
  {
   "cell_type": "code",
   "execution_count": 21,
   "metadata": {
    "ExecuteTime": {
     "end_time": "2023-03-18T19:50:09.658325Z",
     "start_time": "2023-03-18T19:50:09.060141Z"
    }
   },
   "outputs": [
    {
     "name": "stdout",
     "output_type": "stream",
     "text": [
      "<class 'pandas.core.frame.DataFrame'>\n",
      "RangeIndex: 357620 entries, 0 to 357619\n",
      "Data columns (total 7 columns):\n",
      " #   Column        Non-Null Count   Dtype         \n",
      "---  ------        --------------   -----         \n",
      " 0   res_paper_id  357620 non-null  object        \n",
      " 1   category      357620 non-null  object        \n",
      " 2   title         357620 non-null  object        \n",
      " 3   abstract      357620 non-null  object        \n",
      " 4   list_authors  357620 non-null  object        \n",
      " 5   updated_date  357620 non-null  datetime64[ns]\n",
      " 6   updated_year  357620 non-null  int64         \n",
      "dtypes: datetime64[ns](1), int64(1), object(5)\n",
      "memory usage: 19.1+ MB\n"
     ]
    }
   ],
   "source": [
    "df.info()"
   ]
  },
  {
   "cell_type": "code",
   "execution_count": 23,
   "metadata": {
    "ExecuteTime": {
     "end_time": "2023-03-18T19:52:47.319760Z",
     "start_time": "2023-03-18T19:52:42.862064Z"
    }
   },
   "outputs": [],
   "source": [
    "df.to_pickle('Outputs/cs_papers_2018_2023.pkl')"
   ]
  },
  {
   "cell_type": "code",
   "execution_count": null,
   "metadata": {},
   "outputs": [],
   "source": []
  }
 ],
 "metadata": {
  "kernelspec": {
   "display_name": "Python 3",
   "language": "python",
   "name": "python3"
  },
  "language_info": {
   "codemirror_mode": {
    "name": "ipython",
    "version": 3
   },
   "file_extension": ".py",
   "mimetype": "text/x-python",
   "name": "python",
   "nbconvert_exporter": "python",
   "pygments_lexer": "ipython3",
   "version": "3.8.5"
  },
  "toc": {
   "base_numbering": 1,
   "nav_menu": {},
   "number_sections": true,
   "sideBar": true,
   "skip_h1_title": false,
   "title_cell": "Table of Contents",
   "title_sidebar": "Contents",
   "toc_cell": false,
   "toc_position": {},
   "toc_section_display": true,
   "toc_window_display": true
  },
  "varInspector": {
   "cols": {
    "lenName": 16,
    "lenType": 16,
    "lenVar": 40
   },
   "kernels_config": {
    "python": {
     "delete_cmd_postfix": "",
     "delete_cmd_prefix": "del ",
     "library": "var_list.py",
     "varRefreshCmd": "print(var_dic_list())"
    },
    "r": {
     "delete_cmd_postfix": ") ",
     "delete_cmd_prefix": "rm(",
     "library": "var_list.r",
     "varRefreshCmd": "cat(var_dic_list()) "
    }
   },
   "types_to_exclude": [
    "module",
    "function",
    "builtin_function_or_method",
    "instance",
    "_Feature"
   ],
   "window_display": false
  }
 },
 "nbformat": 4,
 "nbformat_minor": 5
}
