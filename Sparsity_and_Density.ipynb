{
  "nbformat": 4,
  "nbformat_minor": 0,
  "metadata": {
    "colab": {
      "provenance": [],
      "authorship_tag": "ABX9TyMvud4i7npaHvK4xglvl1tG",
      "include_colab_link": true
    },
    "kernelspec": {
      "name": "python3",
      "display_name": "Python 3"
    },
    "language_info": {
      "name": "python"
    }
  },
  "cells": [
    {
      "cell_type": "markdown",
      "metadata": {
        "id": "view-in-github",
        "colab_type": "text"
      },
      "source": [
        "<a href=\"https://colab.research.google.com/github/royn5618/Medium_Blog_Codes/blob/master/Sparsity_and_Density.ipynb\" target=\"_parent\"><img src=\"https://colab.research.google.com/assets/colab-badge.svg\" alt=\"Open In Colab\"/></a>"
      ]
    },
    {
      "cell_type": "markdown",
      "source": [
        "# Generating a Sparse Matrix using Count Vectorizer"
      ],
      "metadata": {
        "id": "ph21Jb4nkYBW"
      }
    },
    {
      "cell_type": "code",
      "execution_count": 1,
      "metadata": {
        "id": "pcP0_NI5pAZM"
      },
      "outputs": [],
      "source": [
        "docs = ['a demonstration of a product or technique',\n",
        "        'a public meeting or march protesting against something or expressing views on a political issue',\n",
        "        'record a song or piece of music to demonstrate the capabilities of a musical group or performer or as preparation for a full recording',\n",
        "        'demonstrate the capabilities of software or another product']"
      ]
    },
    {
      "cell_type": "code",
      "source": [
        "from sklearn.feature_extraction.text import CountVectorizer\n",
        "vectorizer = CountVectorizer()"
      ],
      "metadata": {
        "id": "xr-jue7sqfnd"
      },
      "execution_count": 2,
      "outputs": []
    },
    {
      "cell_type": "markdown",
      "source": [],
      "metadata": {
        "id": "4S52qsogkg7v"
      }
    },
    {
      "cell_type": "code",
      "source": [
        "_cv = vectorizer.fit_transform(docs)"
      ],
      "metadata": {
        "id": "FndrBH3ism5m"
      },
      "execution_count": 3,
      "outputs": []
    },
    {
      "cell_type": "code",
      "source": [
        "vocabulary = vectorizer.get_feature_names_out()\n",
        "vocabulary"
      ],
      "metadata": {
        "colab": {
          "base_uri": "https://localhost:8080/"
        },
        "id": "c_l-NJZ-s2YZ",
        "outputId": "b41997a2-0063-416e-8220-e928f25ac2dc"
      },
      "execution_count": 4,
      "outputs": [
        {
          "output_type": "execute_result",
          "data": {
            "text/plain": [
              "array(['against', 'another', 'as', 'capabilities', 'demonstrate',\n",
              "       'demonstration', 'expressing', 'for', 'full', 'group', 'issue',\n",
              "       'march', 'meeting', 'music', 'musical', 'of', 'on', 'or',\n",
              "       'performer', 'piece', 'political', 'preparation', 'product',\n",
              "       'protesting', 'public', 'record', 'recording', 'software',\n",
              "       'something', 'song', 'technique', 'the', 'to', 'views'],\n",
              "      dtype=object)"
            ]
          },
          "metadata": {},
          "execution_count": 4
        }
      ]
    },
    {
      "cell_type": "code",
      "source": [
        "len(vocabulary)"
      ],
      "metadata": {
        "colab": {
          "base_uri": "https://localhost:8080/"
        },
        "id": "OIAHGN3YszPY",
        "outputId": "8d5a5360-fd26-4942-edc0-615223667f67"
      },
      "execution_count": 5,
      "outputs": [
        {
          "output_type": "execute_result",
          "data": {
            "text/plain": [
              "34"
            ]
          },
          "metadata": {},
          "execution_count": 5
        }
      ]
    },
    {
      "cell_type": "code",
      "source": [
        "_cv"
      ],
      "metadata": {
        "colab": {
          "base_uri": "https://localhost:8080/"
        },
        "id": "4JuLPR84vDTj",
        "outputId": "1bd39d0d-aa69-4f2d-a459-24922d9711fc"
      },
      "execution_count": 6,
      "outputs": [
        {
          "output_type": "execute_result",
          "data": {
            "text/plain": [
              "<4x34 sparse matrix of type '<class 'numpy.int64'>'\n",
              "\twith 43 stored elements in Compressed Sparse Row format>"
            ]
          },
          "metadata": {},
          "execution_count": 6
        }
      ]
    },
    {
      "cell_type": "code",
      "source": [
        "print(_cv.toarray())"
      ],
      "metadata": {
        "colab": {
          "base_uri": "https://localhost:8080/"
        },
        "id": "jnQP4lO2p6FU",
        "outputId": "85c73212-c84d-4d2b-d0af-0981dc4a9524"
      },
      "execution_count": 7,
      "outputs": [
        {
          "output_type": "stream",
          "name": "stdout",
          "text": [
            "[[0 0 0 0 0 1 0 0 0 0 0 0 0 0 0 1 0 1 0 0 0 0 1 0 0 0 0 0 0 0 1 0 0 0]\n",
            " [1 0 0 0 0 0 1 0 0 0 1 1 1 0 0 0 1 2 0 0 1 0 0 1 1 0 0 0 1 0 0 0 0 1]\n",
            " [0 0 1 1 1 0 0 1 1 1 0 0 0 1 1 2 0 3 1 1 0 1 0 0 0 1 1 0 0 1 0 1 1 0]\n",
            " [0 1 0 1 1 0 0 0 0 0 0 0 0 0 0 1 0 1 0 0 0 0 1 0 0 0 0 1 0 0 0 1 0 0]]\n"
          ]
        }
      ]
    },
    {
      "cell_type": "code",
      "source": [
        "import numpy as np\n",
        "\n",
        "num_elements = 34 * 4 #_cv.toarray().size\n",
        "num_zeros = num_elements - np.count_nonzero(_cv.toarray())"
      ],
      "metadata": {
        "id": "ge0CeGgrptEH"
      },
      "execution_count": 8,
      "outputs": []
    },
    {
      "cell_type": "code",
      "source": [
        "num_zeros"
      ],
      "metadata": {
        "colab": {
          "base_uri": "https://localhost:8080/"
        },
        "id": "PM7Ww3q-09gh",
        "outputId": "7b045e76-08f4-40a6-853f-6df365404835"
      },
      "execution_count": 9,
      "outputs": [
        {
          "output_type": "execute_result",
          "data": {
            "text/plain": [
              "93"
            ]
          },
          "metadata": {},
          "execution_count": 9
        }
      ]
    },
    {
      "cell_type": "code",
      "source": [
        "num_zeros / num_elements"
      ],
      "metadata": {
        "colab": {
          "base_uri": "https://localhost:8080/"
        },
        "id": "XFb35LDU0yHr",
        "outputId": "3a0e6b55-71a0-4482-ddf9-2db29b87b985"
      },
      "execution_count": 10,
      "outputs": [
        {
          "output_type": "execute_result",
          "data": {
            "text/plain": [
              "0.6838235294117647"
            ]
          },
          "metadata": {},
          "execution_count": 10
        }
      ]
    },
    {
      "cell_type": "markdown",
      "source": [
        "# Generating a Dense Matrix Using Word2Vec"
      ],
      "metadata": {
        "id": "4URJKdOEkize"
      }
    },
    {
      "cell_type": "code",
      "source": [
        "import nltk\n",
        "nltk.download('punkt')\n",
        "from nltk.tokenize import word_tokenize\n",
        "from gensim.models import word2vec"
      ],
      "metadata": {
        "id": "IH58UUt2m3bc",
        "outputId": "5a086d19-73e0-4ce5-e7a4-dc647cd3fb57",
        "colab": {
          "base_uri": "https://localhost:8080/"
        }
      },
      "execution_count": 16,
      "outputs": [
        {
          "output_type": "stream",
          "name": "stderr",
          "text": [
            "[nltk_data] Downloading package punkt to /root/nltk_data...\n",
            "[nltk_data]   Unzipping tokenizers/punkt.zip.\n"
          ]
        }
      ]
    },
    {
      "cell_type": "code",
      "source": [
        "vector_size = 10"
      ],
      "metadata": {
        "id": "j0p3v-iiklk9"
      },
      "execution_count": 11,
      "outputs": []
    },
    {
      "cell_type": "code",
      "source": [
        "tokenized_docs = [word_tokenize(each_train_text) for each_train_text in docs]\n",
        "print(tokenized_docs)"
      ],
      "metadata": {
        "id": "iPUCwBgXm6UJ",
        "outputId": "350b8861-3ddf-4e9b-9629-dc9c241e9fd5",
        "colab": {
          "base_uri": "https://localhost:8080/"
        }
      },
      "execution_count": 18,
      "outputs": [
        {
          "output_type": "stream",
          "name": "stdout",
          "text": [
            "[['a', 'demonstration', 'of', 'a', 'product', 'or', 'technique'], ['a', 'public', 'meeting', 'or', 'march', 'protesting', 'against', 'something', 'or', 'expressing', 'views', 'on', 'a', 'political', 'issue'], ['record', 'a', 'song', 'or', 'piece', 'of', 'music', 'to', 'demonstrate', 'the', 'capabilities', 'of', 'a', 'musical', 'group', 'or', 'performer', 'or', 'as', 'preparation', 'for', 'a', 'full', 'recording'], ['demonstrate', 'the', 'capabilities', 'of', 'software', 'or', 'another', 'product']]\n"
          ]
        }
      ]
    },
    {
      "cell_type": "code",
      "source": [
        "w2v_model = word2vec.Word2Vec(\n",
        "    tokenized_docs,\n",
        "    size=vector_size,  # Dimensionality of the word vectors\n",
        "    window=2,\n",
        "    min_count=1,\n",
        "    sg=1  # 1 for skip-gram; otherwise CBOW\n",
        ")\n",
        "w2v_model"
      ],
      "metadata": {
        "id": "NtUieXV106O2",
        "outputId": "f5ff479c-d031-468f-a24e-42aeac478acc",
        "colab": {
          "base_uri": "https://localhost:8080/"
        }
      },
      "execution_count": 22,
      "outputs": [
        {
          "output_type": "stream",
          "name": "stderr",
          "text": [
            "WARNING:gensim.models.base_any2vec:consider setting layer size to a multiple of 4 for greater performance\n",
            "WARNING:gensim.models.base_any2vec:under 10 jobs per worker: consider setting a smaller `batch_words' for smoother alpha decay\n"
          ]
        },
        {
          "output_type": "execute_result",
          "data": {
            "text/plain": [
              "<gensim.models.word2vec.Word2Vec at 0x7f55ba1ceee0>"
            ]
          },
          "metadata": {},
          "execution_count": 22
        }
      ]
    },
    {
      "cell_type": "code",
      "source": [],
      "metadata": {
        "id": "-2ioqADGnioq"
      },
      "execution_count": null,
      "outputs": []
    }
  ]
}