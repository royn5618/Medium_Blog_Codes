{
 "cells": [
  {
   "cell_type": "markdown",
   "metadata": {
    "colab_type": "text",
    "id": "view-in-github"
   },
   "source": [
    "<a href=\"https://colab.research.google.com/github/royn5618/Medium_Blog_Codes/blob/master/Sparsity_and_Density.ipynb\" target=\"_parent\"><img src=\"https://colab.research.google.com/assets/colab-badge.svg\" alt=\"Open In Colab\"/></a>"
   ]
  },
  {
   "cell_type": "code",
   "execution_count": 8,
   "metadata": {
    "ExecuteTime": {
     "end_time": "2023-02-08T10:44:04.518520Z",
     "start_time": "2023-02-08T10:44:04.492185Z"
    }
   },
   "outputs": [
    {
     "name": "stdout",
     "output_type": "stream",
     "text": [
      "This notebook uses the following Python Libraries:\n",
      "Scikit Learn, version:  1.2.1\n",
      "Gensim, version:  4.1.1\n"
     ]
    }
   ],
   "source": [
    "import sklearn, gensim\n",
    "print(\"This notebook uses the following Python Libraries:\")\n",
    "print(\"Scikit Learn, version: \", sklearn.__version__)\n",
    "print(\"Gensim, version: \", gensim.__version__)"
   ]
  },
  {
   "cell_type": "markdown",
   "metadata": {
    "id": "ph21Jb4nkYBW"
   },
   "source": [
    "# Generating a Sparse Matrix using Count Vectorizer"
   ]
  },
  {
   "cell_type": "code",
   "execution_count": 9,
   "metadata": {
    "ExecuteTime": {
     "end_time": "2023-02-08T10:44:04.547302Z",
     "start_time": "2023-02-08T10:44:04.523428Z"
    },
    "id": "pcP0_NI5pAZM"
   },
   "outputs": [],
   "source": [
    "docs = ['a demonstration of a product or technique',\n",
    "        'a public meeting or march protesting against something or expressing views on a political issue',\n",
    "        'record a song or piece of music to demonstrate the capabilities of a musical group or performer or as preparation for a full recording',\n",
    "        'demonstrate the capabilities of software or another product']"
   ]
  },
  {
   "cell_type": "code",
   "execution_count": 10,
   "metadata": {
    "ExecuteTime": {
     "end_time": "2023-02-08T10:44:04.562291Z",
     "start_time": "2023-02-08T10:44:04.551488Z"
    },
    "id": "xr-jue7sqfnd"
   },
   "outputs": [],
   "source": [
    "from sklearn.feature_extraction.text import CountVectorizer\n",
    "vectorizer = CountVectorizer()"
   ]
  },
  {
   "cell_type": "code",
   "execution_count": 11,
   "metadata": {
    "ExecuteTime": {
     "end_time": "2023-02-08T10:44:04.578504Z",
     "start_time": "2023-02-08T10:44:04.568909Z"
    },
    "id": "FndrBH3ism5m"
   },
   "outputs": [],
   "source": [
    "_cv = vectorizer.fit_transform(docs)"
   ]
  },
  {
   "cell_type": "code",
   "execution_count": 27,
   "metadata": {
    "ExecuteTime": {
     "end_time": "2023-02-08T10:46:16.012757Z",
     "start_time": "2023-02-08T10:46:15.989512Z"
    }
   },
   "outputs": [],
   "source": [
    "# vectorizer.vocabulary_ "
   ]
  },
  {
   "cell_type": "code",
   "execution_count": 13,
   "metadata": {
    "ExecuteTime": {
     "end_time": "2023-02-08T10:44:04.633938Z",
     "start_time": "2023-02-08T10:44:04.610214Z"
    },
    "colab": {
     "base_uri": "https://localhost:8080/"
    },
    "id": "c_l-NJZ-s2YZ",
    "outputId": "b41997a2-0063-416e-8220-e928f25ac2dc"
   },
   "outputs": [
    {
     "data": {
      "text/plain": [
       "array(['against', 'another', 'as', 'capabilities', 'demonstrate',\n",
       "       'demonstration', 'expressing', 'for', 'full', 'group', 'issue',\n",
       "       'march', 'meeting', 'music', 'musical', 'of', 'on', 'or',\n",
       "       'performer', 'piece', 'political', 'preparation', 'product',\n",
       "       'protesting', 'public', 'record', 'recording', 'software',\n",
       "       'something', 'song', 'technique', 'the', 'to', 'views'],\n",
       "      dtype=object)"
      ]
     },
     "execution_count": 13,
     "metadata": {},
     "output_type": "execute_result"
    }
   ],
   "source": [
    "vocabulary = vectorizer.get_feature_names_out()\n",
    "vocabulary"
   ]
  },
  {
   "cell_type": "code",
   "execution_count": 14,
   "metadata": {
    "ExecuteTime": {
     "end_time": "2023-02-08T10:44:04.660936Z",
     "start_time": "2023-02-08T10:44:04.636825Z"
    },
    "colab": {
     "base_uri": "https://localhost:8080/"
    },
    "id": "OIAHGN3YszPY",
    "outputId": "8d5a5360-fd26-4942-edc0-615223667f67"
   },
   "outputs": [
    {
     "data": {
      "text/plain": [
       "34"
      ]
     },
     "execution_count": 14,
     "metadata": {},
     "output_type": "execute_result"
    }
   ],
   "source": [
    "len(vocabulary)"
   ]
  },
  {
   "cell_type": "code",
   "execution_count": 15,
   "metadata": {
    "ExecuteTime": {
     "end_time": "2023-02-08T10:44:04.686194Z",
     "start_time": "2023-02-08T10:44:04.660936Z"
    },
    "colab": {
     "base_uri": "https://localhost:8080/"
    },
    "id": "4JuLPR84vDTj",
    "outputId": "1bd39d0d-aa69-4f2d-a459-24922d9711fc"
   },
   "outputs": [
    {
     "data": {
      "text/plain": [
       "<4x34 sparse matrix of type '<class 'numpy.int64'>'\n",
       "\twith 43 stored elements in Compressed Sparse Row format>"
      ]
     },
     "execution_count": 15,
     "metadata": {},
     "output_type": "execute_result"
    }
   ],
   "source": [
    "_cv"
   ]
  },
  {
   "cell_type": "code",
   "execution_count": 16,
   "metadata": {
    "ExecuteTime": {
     "end_time": "2023-02-08T10:44:04.718405Z",
     "start_time": "2023-02-08T10:44:04.690036Z"
    },
    "colab": {
     "base_uri": "https://localhost:8080/"
    },
    "id": "jnQP4lO2p6FU",
    "outputId": "85c73212-c84d-4d2b-d0af-0981dc4a9524"
   },
   "outputs": [
    {
     "name": "stdout",
     "output_type": "stream",
     "text": [
      "[[0 0 0 0 0 1 0 0 0 0 0 0 0 0 0 1 0 1 0 0 0 0 1 0 0 0 0 0 0 0 1 0 0 0]\n",
      " [1 0 0 0 0 0 1 0 0 0 1 1 1 0 0 0 1 2 0 0 1 0 0 1 1 0 0 0 1 0 0 0 0 1]\n",
      " [0 0 1 1 1 0 0 1 1 1 0 0 0 1 1 2 0 3 1 1 0 1 0 0 0 1 1 0 0 1 0 1 1 0]\n",
      " [0 1 0 1 1 0 0 0 0 0 0 0 0 0 0 1 0 1 0 0 0 0 1 0 0 0 0 1 0 0 0 1 0 0]]\n"
     ]
    }
   ],
   "source": [
    "print(_cv.toarray())"
   ]
  },
  {
   "cell_type": "code",
   "execution_count": 17,
   "metadata": {
    "ExecuteTime": {
     "end_time": "2023-02-08T10:44:04.744532Z",
     "start_time": "2023-02-08T10:44:04.723211Z"
    },
    "id": "ge0CeGgrptEH"
   },
   "outputs": [],
   "source": [
    "import numpy as np\n",
    "\n",
    "num_elements = 34 * 4 #_cv.toarray().size\n",
    "num_zeros = num_elements - np.count_nonzero(_cv.toarray())"
   ]
  },
  {
   "cell_type": "code",
   "execution_count": 18,
   "metadata": {
    "ExecuteTime": {
     "end_time": "2023-02-08T10:44:04.767854Z",
     "start_time": "2023-02-08T10:44:04.749275Z"
    },
    "colab": {
     "base_uri": "https://localhost:8080/"
    },
    "id": "PM7Ww3q-09gh",
    "outputId": "7b045e76-08f4-40a6-853f-6df365404835"
   },
   "outputs": [
    {
     "data": {
      "text/plain": [
       "93"
      ]
     },
     "execution_count": 18,
     "metadata": {},
     "output_type": "execute_result"
    }
   ],
   "source": [
    "num_zeros"
   ]
  },
  {
   "cell_type": "code",
   "execution_count": 19,
   "metadata": {
    "ExecuteTime": {
     "end_time": "2023-02-08T10:44:04.804096Z",
     "start_time": "2023-02-08T10:44:04.775583Z"
    },
    "colab": {
     "base_uri": "https://localhost:8080/"
    },
    "id": "XFb35LDU0yHr",
    "outputId": "3a0e6b55-71a0-4482-ddf9-2db29b87b985"
   },
   "outputs": [
    {
     "data": {
      "text/plain": [
       "0.6838235294117647"
      ]
     },
     "execution_count": 19,
     "metadata": {},
     "output_type": "execute_result"
    }
   ],
   "source": [
    "num_zeros / num_elements"
   ]
  },
  {
   "cell_type": "markdown",
   "metadata": {
    "id": "4URJKdOEkize"
   },
   "source": [
    "# Generating a Dense Matrix Using Word2Vec"
   ]
  },
  {
   "cell_type": "code",
   "execution_count": 20,
   "metadata": {
    "ExecuteTime": {
     "end_time": "2023-02-08T10:44:09.348528Z",
     "start_time": "2023-02-08T10:44:04.804096Z"
    },
    "colab": {
     "base_uri": "https://localhost:8080/"
    },
    "id": "IH58UUt2m3bc",
    "outputId": "5a086d19-73e0-4ce5-e7a4-dc647cd3fb57"
   },
   "outputs": [
    {
     "name": "stderr",
     "output_type": "stream",
     "text": [
      "[nltk_data] Downloading package punkt to\n",
      "[nltk_data]     C:\\Users\\nroy0\\AppData\\Roaming\\nltk_data...\n",
      "[nltk_data]   Unzipping tokenizers\\punkt.zip.\n"
     ]
    }
   ],
   "source": [
    "import nltk\n",
    "# nltk.download('punkt')\n",
    "from nltk.tokenize import word_tokenize\n",
    "from gensim.models import word2vec"
   ]
  },
  {
   "cell_type": "code",
   "execution_count": 21,
   "metadata": {
    "ExecuteTime": {
     "end_time": "2023-02-08T10:44:09.367428Z",
     "start_time": "2023-02-08T10:44:09.348528Z"
    },
    "id": "j0p3v-iiklk9"
   },
   "outputs": [],
   "source": [
    "vector_size = 10"
   ]
  },
  {
   "cell_type": "code",
   "execution_count": 22,
   "metadata": {
    "ExecuteTime": {
     "end_time": "2023-02-08T10:44:09.434073Z",
     "start_time": "2023-02-08T10:44:09.375562Z"
    },
    "colab": {
     "base_uri": "https://localhost:8080/"
    },
    "id": "iPUCwBgXm6UJ",
    "outputId": "350b8861-3ddf-4e9b-9629-dc9c241e9fd5"
   },
   "outputs": [
    {
     "name": "stdout",
     "output_type": "stream",
     "text": [
      "[['a', 'demonstration', 'of', 'a', 'product', 'or', 'technique'], ['a', 'public', 'meeting', 'or', 'march', 'protesting', 'against', 'something', 'or', 'expressing', 'views', 'on', 'a', 'political', 'issue'], ['record', 'a', 'song', 'or', 'piece', 'of', 'music', 'to', 'demonstrate', 'the', 'capabilities', 'of', 'a', 'musical', 'group', 'or', 'performer', 'or', 'as', 'preparation', 'for', 'a', 'full', 'recording'], ['demonstrate', 'the', 'capabilities', 'of', 'software', 'or', 'another', 'product']]\n"
     ]
    }
   ],
   "source": [
    "tokenized_docs = [word_tokenize(each_train_text) for each_train_text in docs]\n",
    "print(tokenized_docs)"
   ]
  },
  {
   "cell_type": "code",
   "execution_count": 24,
   "metadata": {
    "ExecuteTime": {
     "end_time": "2023-02-08T10:44:33.866150Z",
     "start_time": "2023-02-08T10:44:33.782019Z"
    },
    "colab": {
     "base_uri": "https://localhost:8080/"
    },
    "id": "NtUieXV106O2",
    "outputId": "f5ff479c-d031-468f-a24e-42aeac478acc"
   },
   "outputs": [
    {
     "data": {
      "text/plain": [
       "<gensim.models.word2vec.Word2Vec at 0x1df7bcb23d0>"
      ]
     },
     "execution_count": 24,
     "metadata": {},
     "output_type": "execute_result"
    }
   ],
   "source": [
    "w2v_model = word2vec.Word2Vec(\n",
    "    tokenized_docs,\n",
    "    vector_size=vector_size,  # Dimensionality of the word vectors\n",
    "    window=2,\n",
    "    min_count=1,\n",
    "    sg=1  # 1 for skip-gram; otherwise CBOW\n",
    ")"
   ]
  },
  {
   "cell_type": "code",
   "execution_count": 26,
   "metadata": {
    "ExecuteTime": {
     "end_time": "2023-02-08T10:45:34.840602Z",
     "start_time": "2023-02-08T10:45:34.813810Z"
    },
    "id": "-2ioqADGnioq"
   },
   "outputs": [
    {
     "data": {
      "text/plain": [
       "array([-0.03709092, -0.08746651,  0.05438888,  0.06511763, -0.00784039,\n",
       "       -0.06706186, -0.07086928, -0.02501981,  0.05135532, -0.03659423],\n",
       "      dtype=float32)"
      ]
     },
     "execution_count": 26,
     "metadata": {},
     "output_type": "execute_result"
    }
   ],
   "source": [
    "w2v_model.wv.get_vector('demonstration')"
   ]
  },
  {
   "cell_type": "code",
   "execution_count": 32,
   "metadata": {
    "ExecuteTime": {
     "end_time": "2023-02-08T10:48:35.918819Z",
     "start_time": "2023-02-08T10:48:35.888777Z"
    }
   },
   "outputs": [
    {
     "data": {
      "text/plain": [
       "[array([-0.00543602,  0.00242176,  0.05117757,  0.09023254, -0.09288687,\n",
       "        -0.07112895,  0.06502526,  0.08983966, -0.05024805, -0.03765193],\n",
       "       dtype=float32),\n",
       " array([-0.03709092, -0.08746651,  0.05438888,  0.06511763, -0.00784039,\n",
       "        -0.06706186, -0.07086928, -0.02501981,  0.05135532, -0.03659423],\n",
       "       dtype=float32),\n",
       " array([ 0.07311484,  0.05067236,  0.06759576,  0.00768621,  0.063453  ,\n",
       "        -0.03407172, -0.00933318,  0.05775234, -0.07525568, -0.0394193 ],\n",
       "       dtype=float32),\n",
       " array([-0.00543602,  0.00242176,  0.05117757,  0.09023254, -0.09288687,\n",
       "        -0.07112895,  0.06502526,  0.08983966, -0.05024805, -0.03765193],\n",
       "       dtype=float32),\n",
       " array([-0.0960355 ,  0.05007293, -0.08759587, -0.04391825, -0.000351  ,\n",
       "        -0.00296183, -0.0766124 ,  0.09614742,  0.04982056,  0.09233143],\n",
       "       dtype=float32),\n",
       " array([ 0.07357611, -0.01511498, -0.04508233,  0.06564156, -0.04849871,\n",
       "        -0.01822503,  0.02962095,  0.01011256, -0.08299582, -0.09466723],\n",
       "       dtype=float32),\n",
       " array([-0.08535192,  0.03208897, -0.04636655, -0.05090209,  0.03590465,\n",
       "         0.05367114,  0.07772893, -0.05764414,  0.07433416,  0.06623407],\n",
       "       dtype=float32)]"
      ]
     },
     "execution_count": 32,
     "metadata": {},
     "output_type": "execute_result"
    }
   ],
   "source": [
    "dense_vector_document_1 = [w2v_model.wv.get_vector(each_token) for each_token in tokenized_docs[0]] # selecting the first document only\n",
    "dense_vector_document_1"
   ]
  },
  {
   "cell_type": "markdown",
   "metadata": {},
   "source": [
    "Thanks for visiting!\n",
    "\n",
    "Recommended Next Steps: Check out FastText, GloVE, BERT to explore more ways of dense representation for texts"
   ]
  }
 ],
 "metadata": {
  "colab": {
   "authorship_tag": "ABX9TyMvud4i7npaHvK4xglvl1tG",
   "include_colab_link": true,
   "provenance": []
  },
  "kernelspec": {
   "display_name": "Python 3",
   "language": "python",
   "name": "python3"
  },
  "language_info": {
   "codemirror_mode": {
    "name": "ipython",
    "version": 3
   },
   "file_extension": ".py",
   "mimetype": "text/x-python",
   "name": "python",
   "nbconvert_exporter": "python",
   "pygments_lexer": "ipython3",
   "version": "3.8.5"
  },
  "toc": {
   "base_numbering": 1,
   "nav_menu": {},
   "number_sections": true,
   "sideBar": true,
   "skip_h1_title": false,
   "title_cell": "Table of Contents",
   "title_sidebar": "Contents",
   "toc_cell": false,
   "toc_position": {},
   "toc_section_display": true,
   "toc_window_display": true
  },
  "varInspector": {
   "cols": {
    "lenName": 16,
    "lenType": 16,
    "lenVar": 40
   },
   "kernels_config": {
    "python": {
     "delete_cmd_postfix": "",
     "delete_cmd_prefix": "del ",
     "library": "var_list.py",
     "varRefreshCmd": "print(var_dic_list())"
    },
    "r": {
     "delete_cmd_postfix": ") ",
     "delete_cmd_prefix": "rm(",
     "library": "var_list.r",
     "varRefreshCmd": "cat(var_dic_list()) "
    }
   },
   "types_to_exclude": [
    "module",
    "function",
    "builtin_function_or_method",
    "instance",
    "_Feature"
   ],
   "window_display": false
  }
 },
 "nbformat": 4,
 "nbformat_minor": 1
}
