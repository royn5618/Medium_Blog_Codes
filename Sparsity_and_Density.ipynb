{
  "nbformat": 4,
  "nbformat_minor": 0,
  "metadata": {
    "colab": {
      "provenance": [],
      "authorship_tag": "ABX9TyMrXAQlGFM662WEeJ6j0HmU",
      "include_colab_link": true
    },
    "kernelspec": {
      "name": "python3",
      "display_name": "Python 3"
    },
    "language_info": {
      "name": "python"
    }
  },
  "cells": [
    {
      "cell_type": "markdown",
      "metadata": {
        "id": "view-in-github",
        "colab_type": "text"
      },
      "source": [
        "<a href=\"https://colab.research.google.com/github/royn5618/Medium_Blog_Codes/blob/master/Sparsity_and_Density.ipynb\" target=\"_parent\"><img src=\"https://colab.research.google.com/assets/colab-badge.svg\" alt=\"Open In Colab\"/></a>"
      ]
    },
    {
      "cell_type": "code",
      "execution_count": 28,
      "metadata": {
        "id": "pcP0_NI5pAZM"
      },
      "outputs": [],
      "source": [
        "docs = ['a demonstration of a product or technique',\n",
        "        'a public meeting or march protesting against something or expressing views on a political issue',\n",
        "        'record a song or piece of music to demonstrate the capabilities of a musical group or performer or as preparation for a full recording',\n",
        "        'demonstrate the capabilities of software or another product']"
      ]
    },
    {
      "cell_type": "code",
      "source": [
        "from sklearn.feature_extraction.text import CountVectorizer\n",
        "vectorizer = CountVectorizer()"
      ],
      "metadata": {
        "id": "xr-jue7sqfnd"
      },
      "execution_count": 29,
      "outputs": []
    },
    {
      "cell_type": "code",
      "source": [
        "_cv = vectorizer.fit_transform(docs)"
      ],
      "metadata": {
        "id": "FndrBH3ism5m"
      },
      "execution_count": 30,
      "outputs": []
    },
    {
      "cell_type": "code",
      "source": [
        "vocabulary = vectorizer.get_feature_names_out()\n",
        "vocabulary"
      ],
      "metadata": {
        "colab": {
          "base_uri": "https://localhost:8080/"
        },
        "id": "c_l-NJZ-s2YZ",
        "outputId": "64e441e2-207d-465e-dede-eae5d9f86fa0"
      },
      "execution_count": 31,
      "outputs": [
        {
          "output_type": "execute_result",
          "data": {
            "text/plain": [
              "array(['against', 'another', 'as', 'capabilities', 'demonstrate',\n",
              "       'demonstration', 'expressing', 'for', 'full', 'group', 'issue',\n",
              "       'march', 'meeting', 'music', 'musical', 'of', 'on', 'or',\n",
              "       'performer', 'piece', 'political', 'preparation', 'product',\n",
              "       'protesting', 'public', 'record', 'recording', 'software',\n",
              "       'something', 'song', 'technique', 'the', 'to', 'views'],\n",
              "      dtype=object)"
            ]
          },
          "metadata": {},
          "execution_count": 31
        }
      ]
    },
    {
      "cell_type": "code",
      "source": [
        "len(vocabulary)"
      ],
      "metadata": {
        "colab": {
          "base_uri": "https://localhost:8080/"
        },
        "id": "OIAHGN3YszPY",
        "outputId": "8313da25-2bc4-4a62-ba8e-f09bca1c30d0"
      },
      "execution_count": 32,
      "outputs": [
        {
          "output_type": "execute_result",
          "data": {
            "text/plain": [
              "34"
            ]
          },
          "metadata": {},
          "execution_count": 32
        }
      ]
    },
    {
      "cell_type": "code",
      "source": [
        "_cv"
      ],
      "metadata": {
        "colab": {
          "base_uri": "https://localhost:8080/"
        },
        "id": "4JuLPR84vDTj",
        "outputId": "59d07d19-0f90-497c-b142-850fc6392aa9"
      },
      "execution_count": 33,
      "outputs": [
        {
          "output_type": "execute_result",
          "data": {
            "text/plain": [
              "<4x34 sparse matrix of type '<class 'numpy.int64'>'\n",
              "\twith 43 stored elements in Compressed Sparse Row format>"
            ]
          },
          "metadata": {},
          "execution_count": 33
        }
      ]
    },
    {
      "cell_type": "code",
      "source": [
        "print(_cv.toarray())"
      ],
      "metadata": {
        "colab": {
          "base_uri": "https://localhost:8080/"
        },
        "id": "jnQP4lO2p6FU",
        "outputId": "f0d29751-c2dc-4224-a99d-b28850ad6641"
      },
      "execution_count": 34,
      "outputs": [
        {
          "output_type": "stream",
          "name": "stdout",
          "text": [
            "[[0 0 0 0 0 1 0 0 0 0 0 0 0 0 0 1 0 1 0 0 0 0 1 0 0 0 0 0 0 0 1 0 0 0]\n",
            " [1 0 0 0 0 0 1 0 0 0 1 1 1 0 0 0 1 2 0 0 1 0 0 1 1 0 0 0 1 0 0 0 0 1]\n",
            " [0 0 1 1 1 0 0 1 1 1 0 0 0 1 1 2 0 3 1 1 0 1 0 0 0 1 1 0 0 1 0 1 1 0]\n",
            " [0 1 0 1 1 0 0 0 0 0 0 0 0 0 0 1 0 1 0 0 0 0 1 0 0 0 0 1 0 0 0 1 0 0]]\n"
          ]
        }
      ]
    },
    {
      "cell_type": "code",
      "source": [
        "import numpy as np\n",
        "\n",
        "num_elements = 34 * 4 #_cv.toarray().size\n",
        "num_zeros = num_elements - np.count_nonzero(_cv.toarray())"
      ],
      "metadata": {
        "id": "ge0CeGgrptEH"
      },
      "execution_count": 42,
      "outputs": []
    },
    {
      "cell_type": "code",
      "source": [
        "num_zeros"
      ],
      "metadata": {
        "colab": {
          "base_uri": "https://localhost:8080/"
        },
        "id": "PM7Ww3q-09gh",
        "outputId": "04827ab5-3630-4be3-90d9-d0ca922760f6"
      },
      "execution_count": 44,
      "outputs": [
        {
          "output_type": "execute_result",
          "data": {
            "text/plain": [
              "93"
            ]
          },
          "metadata": {},
          "execution_count": 44
        }
      ]
    },
    {
      "cell_type": "code",
      "source": [
        "num_zeros / num_elements"
      ],
      "metadata": {
        "colab": {
          "base_uri": "https://localhost:8080/"
        },
        "id": "XFb35LDU0yHr",
        "outputId": "d7a1ad80-0a43-4242-964a-70a3ddecbecc"
      },
      "execution_count": 43,
      "outputs": [
        {
          "output_type": "execute_result",
          "data": {
            "text/plain": [
              "0.6838235294117647"
            ]
          },
          "metadata": {},
          "execution_count": 43
        }
      ]
    },
    {
      "cell_type": "code",
      "source": [],
      "metadata": {
        "id": "NtUieXV106O2"
      },
      "execution_count": null,
      "outputs": []
    }
  ]
}