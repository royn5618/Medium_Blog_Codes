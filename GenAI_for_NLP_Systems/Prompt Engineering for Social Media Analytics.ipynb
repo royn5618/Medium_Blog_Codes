{
 "cells": [
  {
   "cell_type": "code",
   "execution_count": 1,
   "id": "2d8a659d",
   "metadata": {
    "ExecuteTime": {
     "end_time": "2024-03-24T11:22:28.877577Z",
     "start_time": "2024-03-24T11:22:24.170593Z"
    }
   },
   "outputs": [],
   "source": [
    "from openai import OpenAI\n",
    "import os"
   ]
  },
  {
   "cell_type": "code",
   "execution_count": 2,
   "id": "cba10134",
   "metadata": {
    "ExecuteTime": {
     "end_time": "2024-03-24T11:22:29.049344Z",
     "start_time": "2024-03-24T11:22:28.988416Z"
    }
   },
   "outputs": [],
   "source": [
    "model_name = 'gpt-3.5-turbo'\n",
    "client = OpenAI(api_key=os.environ['OPENAI_API_KEY'])"
   ]
  },
  {
   "cell_type": "code",
   "execution_count": 3,
   "id": "19d2db71",
   "metadata": {
    "ExecuteTime": {
     "end_time": "2024-03-24T11:22:32.043682Z",
     "start_time": "2024-03-24T11:22:29.183267Z"
    }
   },
   "outputs": [
    {
     "data": {
      "text/html": [
       "<div>\n",
       "<style scoped>\n",
       "    .dataframe tbody tr th:only-of-type {\n",
       "        vertical-align: middle;\n",
       "    }\n",
       "\n",
       "    .dataframe tbody tr th {\n",
       "        vertical-align: top;\n",
       "    }\n",
       "\n",
       "    .dataframe thead th {\n",
       "        text-align: right;\n",
       "    }\n",
       "</style>\n",
       "<table border=\"1\" class=\"dataframe\">\n",
       "  <thead>\n",
       "    <tr style=\"text-align: right;\">\n",
       "      <th></th>\n",
       "      <th>text</th>\n",
       "      <th>hash_tags</th>\n",
       "      <th>account_tags</th>\n",
       "      <th>emoji_lists</th>\n",
       "      <th>sentiment</th>\n",
       "      <th>emotion</th>\n",
       "    </tr>\n",
       "  </thead>\n",
       "  <tbody>\n",
       "    <tr>\n",
       "      <th>0</th>\n",
       "      <td>RT @POTUS: As we celebrate the progress we’ve ...</td>\n",
       "      <td>NaN</td>\n",
       "      <td>POTUS</td>\n",
       "      <td>NaN</td>\n",
       "      <td>POSITIVE</td>\n",
       "      <td>optimism</td>\n",
       "    </tr>\n",
       "    <tr>\n",
       "      <th>1</th>\n",
       "      <td>This #EarthDay, I'm happy to be meeting with P...</td>\n",
       "      <td>EarthDay,GetTheLeadOut</td>\n",
       "      <td>PennEnvironment</td>\n",
       "      <td>NaN</td>\n",
       "      <td>POSITIVE</td>\n",
       "      <td>optimism</td>\n",
       "    </tr>\n",
       "    <tr>\n",
       "      <th>2</th>\n",
       "      <td>RT @Khan__sir_patna: All of people wishes and ...</td>\n",
       "      <td>EarthDay</td>\n",
       "      <td>Khan__sir_patna</td>\n",
       "      <td>NaN</td>\n",
       "      <td>POSITIVE</td>\n",
       "      <td>joy</td>\n",
       "    </tr>\n",
       "    <tr>\n",
       "      <th>3</th>\n",
       "      <td>RT @CapsCoalition: Biden Signs Executive Order...</td>\n",
       "      <td>EarthDay</td>\n",
       "      <td>CapsCoalition</td>\n",
       "      <td>NaN</td>\n",
       "      <td>POSITIVE</td>\n",
       "      <td>optimism</td>\n",
       "    </tr>\n",
       "    <tr>\n",
       "      <th>4</th>\n",
       "      <td>RT @tamannaahspeaks: Animals source their food...</td>\n",
       "      <td>MyconnectwithSoil</td>\n",
       "      <td>tamannaahspeaks,SadhguruJV,cpsavesoil</td>\n",
       "      <td>NaN</td>\n",
       "      <td>POSITIVE</td>\n",
       "      <td>optimism</td>\n",
       "    </tr>\n",
       "  </tbody>\n",
       "</table>\n",
       "</div>"
      ],
      "text/plain": [
       "                                                text               hash_tags  \\\n",
       "0  RT @POTUS: As we celebrate the progress we’ve ...                     NaN   \n",
       "1  This #EarthDay, I'm happy to be meeting with P...  EarthDay,GetTheLeadOut   \n",
       "2  RT @Khan__sir_patna: All of people wishes and ...                EarthDay   \n",
       "3  RT @CapsCoalition: Biden Signs Executive Order...                EarthDay   \n",
       "4  RT @tamannaahspeaks: Animals source their food...       MyconnectwithSoil   \n",
       "\n",
       "                            account_tags emoji_lists sentiment   emotion  \n",
       "0                                  POTUS         NaN  POSITIVE  optimism  \n",
       "1                        PennEnvironment         NaN  POSITIVE  optimism  \n",
       "2                        Khan__sir_patna         NaN  POSITIVE       joy  \n",
       "3                          CapsCoalition         NaN  POSITIVE  optimism  \n",
       "4  tamannaahspeaks,SadhguruJV,cpsavesoil         NaN  POSITIVE  optimism  "
      ]
     },
     "execution_count": 3,
     "metadata": {},
     "output_type": "execute_result"
    }
   ],
   "source": [
    "import pandas as pd\n",
    "df = pd.read_csv('../EarthDayBlog/earth_day_tweets.csv')\n",
    "df.head()"
   ]
  },
  {
   "cell_type": "code",
   "execution_count": 15,
   "id": "a5a62f93",
   "metadata": {
    "ExecuteTime": {
     "end_time": "2024-03-24T11:34:03.267407Z",
     "start_time": "2024-03-24T11:34:03.244915Z"
    }
   },
   "outputs": [],
   "source": [
    "df_sample = df.sample(5)"
   ]
  },
  {
   "cell_type": "code",
   "execution_count": 16,
   "id": "a40cf8a5",
   "metadata": {
    "ExecuteTime": {
     "end_time": "2024-03-24T11:34:03.873466Z",
     "start_time": "2024-03-24T11:34:03.834118Z"
    }
   },
   "outputs": [
    {
     "data": {
      "text/html": [
       "<div>\n",
       "<style scoped>\n",
       "    .dataframe tbody tr th:only-of-type {\n",
       "        vertical-align: middle;\n",
       "    }\n",
       "\n",
       "    .dataframe tbody tr th {\n",
       "        vertical-align: top;\n",
       "    }\n",
       "\n",
       "    .dataframe thead th {\n",
       "        text-align: right;\n",
       "    }\n",
       "</style>\n",
       "<table border=\"1\" class=\"dataframe\">\n",
       "  <thead>\n",
       "    <tr style=\"text-align: right;\">\n",
       "      <th></th>\n",
       "      <th>text</th>\n",
       "      <th>hash_tags</th>\n",
       "      <th>account_tags</th>\n",
       "      <th>emoji_lists</th>\n",
       "      <th>sentiment</th>\n",
       "      <th>emotion</th>\n",
       "    </tr>\n",
       "  </thead>\n",
       "  <tbody>\n",
       "    <tr>\n",
       "      <th>36053</th>\n",
       "      <td>RT @420iloveweed: Happy earth day, remember if you shower with a friend, you can save water....</td>\n",
       "      <td>NaN</td>\n",
       "      <td>420iloveweed</td>\n",
       "      <td>NaN</td>\n",
       "      <td>POSITIVE</td>\n",
       "      <td>joy</td>\n",
       "    </tr>\n",
       "    <tr>\n",
       "      <th>31428</th>\n",
       "      <td>RT @kucoincom: Happy Earth Day! 🌎\\n\\nAs we celebrate #EarthDay, #KuCoin is joining hands with @EarthFund_io to give away 20,000 1EARTH!\\n\\n🌍 Follow @kucoincom @EarthFund_io \\n\\n🌏 RT &amp;amp; comment your thoughts on making Earth a better place\\n\\n🎁 5 winners will each receive 4,000 1EARTH! https://t.co/Mao0As00pD</td>\n",
       "      <td>EarthDay,KuCoin</td>\n",
       "      <td>kucoincom,EarthFund_io,kucoincom,EarthFund_io</td>\n",
       "      <td>['🌎', '🌍', '🌏', '🎁']</td>\n",
       "      <td>POSITIVE</td>\n",
       "      <td>joy</td>\n",
       "    </tr>\n",
       "    <tr>\n",
       "      <th>71038</th>\n",
       "      <td>Earth Day every day! https://t.co/nyC6hlPfuT</td>\n",
       "      <td>NaN</td>\n",
       "      <td>NaN</td>\n",
       "      <td>NaN</td>\n",
       "      <td>NEGATIVE</td>\n",
       "      <td>joy</td>\n",
       "    </tr>\n",
       "    <tr>\n",
       "      <th>4534</th>\n",
       "      <td>Climate change is very real but so is eco-anxiety. If you're feeling stressed this #EarthDay, try our @BBCRadio3 series Into the Wild: five city-dwelling writers head into the countryside to explore their relationship with nature and nature writing. https://t.co/4r8ds5Arl0</td>\n",
       "      <td>EarthDay</td>\n",
       "      <td>BBCRadio3</td>\n",
       "      <td>NaN</td>\n",
       "      <td>POSITIVE</td>\n",
       "      <td>optimism</td>\n",
       "    </tr>\n",
       "    <tr>\n",
       "      <th>48403</th>\n",
       "      <td>RT @TRF_Climate: OPINION: #EarthDay is a wake-up call for how our use of oil, coal and gas is driving a global #climate breakdown that violates the right to a clean and healthy environment, writes @RPearshouse of @hrw | @UN_HRC #humanrights #energy https://t.co/kwU2c54HGG</td>\n",
       "      <td>EarthDay,climate,humanrights,energy</td>\n",
       "      <td>TRF_Climate,RPearshouse,hrw,UN_HRC</td>\n",
       "      <td>NaN</td>\n",
       "      <td>NEGATIVE</td>\n",
       "      <td>sadness</td>\n",
       "    </tr>\n",
       "  </tbody>\n",
       "</table>\n",
       "</div>"
      ],
      "text/plain": [
       "                                                                                                                                                                                                                                                                                                                          text  \\\n",
       "36053                                                                                                                                                                                                                          RT @420iloveweed: Happy earth day, remember if you shower with a friend, you can save water....   \n",
       "31428  RT @kucoincom: Happy Earth Day! 🌎\\n\\nAs we celebrate #EarthDay, #KuCoin is joining hands with @EarthFund_io to give away 20,000 1EARTH!\\n\\n🌍 Follow @kucoincom @EarthFund_io \\n\\n🌏 RT &amp; comment your thoughts on making Earth a better place\\n\\n🎁 5 winners will each receive 4,000 1EARTH! https://t.co/Mao0As00pD   \n",
       "71038                                                                                                                                                                                                                                                                             Earth Day every day! https://t.co/nyC6hlPfuT   \n",
       "4534                                         Climate change is very real but so is eco-anxiety. If you're feeling stressed this #EarthDay, try our @BBCRadio3 series Into the Wild: five city-dwelling writers head into the countryside to explore their relationship with nature and nature writing. https://t.co/4r8ds5Arl0   \n",
       "48403                                         RT @TRF_Climate: OPINION: #EarthDay is a wake-up call for how our use of oil, coal and gas is driving a global #climate breakdown that violates the right to a clean and healthy environment, writes @RPearshouse of @hrw | @UN_HRC #humanrights #energy https://t.co/kwU2c54HGG   \n",
       "\n",
       "                                 hash_tags  \\\n",
       "36053                                  NaN   \n",
       "31428                      EarthDay,KuCoin   \n",
       "71038                                  NaN   \n",
       "4534                              EarthDay   \n",
       "48403  EarthDay,climate,humanrights,energy   \n",
       "\n",
       "                                        account_tags           emoji_lists  \\\n",
       "36053                                   420iloveweed                   NaN   \n",
       "31428  kucoincom,EarthFund_io,kucoincom,EarthFund_io  ['🌎', '🌍', '🌏', '🎁']   \n",
       "71038                                            NaN                   NaN   \n",
       "4534                                       BBCRadio3                   NaN   \n",
       "48403             TRF_Climate,RPearshouse,hrw,UN_HRC                   NaN   \n",
       "\n",
       "      sentiment   emotion  \n",
       "36053  POSITIVE       joy  \n",
       "31428  POSITIVE       joy  \n",
       "71038  NEGATIVE       joy  \n",
       "4534   POSITIVE  optimism  \n",
       "48403  NEGATIVE   sadness  "
      ]
     },
     "execution_count": 16,
     "metadata": {},
     "output_type": "execute_result"
    }
   ],
   "source": [
    "pd.set_option('max_colwidth', 800)\n",
    "df_sample"
   ]
  },
  {
   "cell_type": "markdown",
   "id": "a6f4bca4",
   "metadata": {},
   "source": [
    "# Text Classification\n",
    "\n",
    "## Sentiment Analysis\n",
    "\n",
    "Let's start with the most common NLP task in social media analysis.\n",
    "\n",
    "Data Source: https://www.kaggle.com/datasets/sbhatti/financial-sentiment-analysis"
   ]
  },
  {
   "cell_type": "code",
   "execution_count": 17,
   "id": "8f54606d",
   "metadata": {
    "ExecuteTime": {
     "end_time": "2024-03-24T11:34:28.238662Z",
     "start_time": "2024-03-24T11:34:17.101829Z"
    }
   },
   "outputs": [
    {
     "name": "stdout",
     "output_type": "stream",
     "text": [
      "1. Positive sentiment: \n",
      "- \"Happy earth day, remember if you shower with a friend, you can save water....\" - This tweet expresses a positive sentiment towards Earth Day and promotes water conservation in a light-hearted manner.\n",
      "\n",
      "2. Positive sentiment: \n",
      "- \"Happy Earth Day! 🌎 As we celebrate #EarthDay, #KuCoin is joining hands with @EarthFund_io to give away 20,000 1EARTH! Follow @kucoincom @EarthFund_io RT & comment your thoughts on making Earth a better place 5 winners will each receive 4,000 1EARTH!\" - This tweet also expresses a positive sentiment towards Earth Day and promotes environmental awareness and action.\n",
      "\n",
      "3. Neutral sentiment: \n",
      "- \"Earth Day every day!\" - This tweet simply states the importance of Earth Day without expressing a clear positive or negative sentiment.\n",
      "\n",
      "4. Neutral sentiment: \n",
      "- \"Climate change is very real but so is eco-anxiety. If you're feeling stressed this #EarthDay, try our @BBCRadio3 series Into the Wild: five city-dwelling writers head into the countryside to explore their relationship with nature and nature writing.\" - This tweet acknowledges the reality of climate change and offers a solution for those feeling stressed on Earth Day, without expressing a clear positive or negative sentiment.\n",
      "\n",
      "5. Negative sentiment: \n",
      "- \"OPINION: #EarthDay is a wake-up call for how our use of oil, coal and gas is driving a global #climate breakdown that violates the right to a clean and healthy environment, writes @RPearshouse of @hrw | @UN_HRC #humanrights #energy\" - This tweet expresses a negative sentiment towards the impact of human activities on the environment and the violation of the right to a clean and healthy environment.\n"
     ]
    }
   ],
   "source": [
    "# ZERO SHOT\n",
    "\n",
    "prompt = f\"\"\"Classify the following texts into positive, negative or neutral sentiments from the user's point of view:\n",
    "---\n",
    "{list(df_sample['text'])}\n",
    "---\n",
    "\n",
    "Provide explanations as well.\n",
    "\"\"\"\n",
    "\n",
    "response = client.chat.completions.create(\n",
    "    model = model_name,\n",
    "    messages=[{\n",
    "        \"role\": \"user\",\n",
    "        \"content\": prompt\n",
    "    }],\n",
    "    temperature=0, # Deterministic Response\n",
    "    n=1  #default\n",
    ")\n",
    "\n",
    "print(response.choices[0].message.content)"
   ]
  },
  {
   "cell_type": "markdown",
   "id": "f588e758",
   "metadata": {},
   "source": [
    "## (General) Text Classification\n",
    "\n",
    "Used Texts from Dataset: https://www.kaggle.com/datasets/dipankarmitra/natural-language-processing-with-disaster-tweets\n",
    "\n",
    "- Class 1: Related to Natural Disasters\n",
    "- Class 0: Not Related to Natural Disasters"
   ]
  },
  {
   "cell_type": "code",
   "execution_count": 50,
   "id": "3242d20f",
   "metadata": {
    "ExecuteTime": {
     "end_time": "2024-03-24T12:33:21.079837Z",
     "start_time": "2024-03-24T12:33:21.070602Z"
    }
   },
   "outputs": [],
   "source": [
    "# FEW SHOT\n",
    "\n",
    "prompt = \"\"\" Following are a few examples of texts and coresponding classes to be used for text classification:\n",
    "---\n",
    "Text: #RockyFire Update => California Hwy. 20 closed in both directions due to Lake County fire - #CAfire #wildfires | Class: 1 \\n\n",
    "Text: What a goooooooaaaaaal!!!!!! | Class: 0 \\n\n",
    "Text: My car is so fast | Class: 0 \\n\n",
    "Text: London is cool ;) | Class: 0 \\n\n",
    "Text: #flood #disaster Heavy rain causes flash flooding of streets in Manitou, Colorado Springs areas | Class: 1 \\n\n",
    "Text: I'm afraid that the tornado is coming to our area. | Class: 1 \\n\n",
    "---\n",
    "Classify the following and include an explanation:\n",
    "Text: There's an emergency evacuation happening now in the building across the street | Class:  \\n\n",
    "\"\"\""
   ]
  },
  {
   "cell_type": "code",
   "execution_count": 51,
   "id": "fb836d3f",
   "metadata": {
    "ExecuteTime": {
     "end_time": "2024-03-24T12:33:23.098525Z",
     "start_time": "2024-03-24T12:33:21.470766Z"
    }
   },
   "outputs": [
    {
     "name": "stdout",
     "output_type": "stream",
     "text": [
      "Class: 1\n",
      "\n",
      "Explanation: The text mentions an emergency evacuation, which indicates a potential disaster or crisis situation. This falls under the category of text related to emergencies or disasters, which would be classified as Class 1.\n"
     ]
    }
   ],
   "source": [
    "response = client.chat.completions.create(\n",
    "    model = model_name,\n",
    "    messages=[{\n",
    "        \"role\": \"user\",\n",
    "        \"content\": prompt\n",
    "    }],\n",
    "    temperature=0, # Deterministic Response\n",
    "    max_tokens=100,\n",
    "    n=1  #default\n",
    ")\n",
    "\n",
    "print(response.choices[0].message.content)"
   ]
  },
  {
   "cell_type": "markdown",
   "id": "756d36d5",
   "metadata": {},
   "source": [
    "**Observation**\n",
    "\n",
    "In this example I deliberately did not pass the meaning of the classes. Despite their absence, the model can correctly identify the class."
   ]
  },
  {
   "cell_type": "markdown",
   "id": "502a20c6",
   "metadata": {},
   "source": [
    "## Multiclass opinion mining\n",
    "\n",
    "Texts taken from Multiclass Emotion Classification Dataset: https://www.kaggle.com/datasets/praveengovi/emotions-dataset-for-nlp\n",
    "\n",
    "This is where I got the idea of my first blog: [GenAI for Better NLP Systems I: A Tool for Generating Synthetic Data](https://medium.com/towards-data-science/genai-for-better-nlp-systems-i-a-tool-for-generating-synthetic-data-4b862ef3f88a)"
   ]
  },
  {
   "cell_type": "code",
   "execution_count": 19,
   "id": "436eb78f",
   "metadata": {
    "ExecuteTime": {
     "end_time": "2024-03-24T11:37:54.059570Z",
     "start_time": "2024-03-24T11:37:47.450715Z"
    }
   },
   "outputs": [
    {
     "name": "stdout",
     "output_type": "stream",
     "text": [
      "RT @420iloveweed: Happy earth day, remember if you shower with a friend, you can save water.... | joy\n",
      "RT @kucoincom: Happy Earth Day! 🌎\n",
      "As we celebrate #EarthDay, #KuCoin is joining hands with @EarthFund_io to give away 20,000 1EARTH!\n",
      "🌍 Follow @kucoincom @EarthFund_io \n",
      "🌏 RT & comment your thoughts on making Earth a better place\n",
      "🎁 5 winners will each receive 4,000 1EARTH! https://t.co/Mao0As00pD | joy\n",
      "Earth Day every day! https://t.co/nyC6hlPfuT | joy\n",
      "Climate change is very real but so is eco-anxiety. If you're feeling stressed this #EarthDay, try our @BBCRadio3 series Into the Wild: five city-dwelling writers head into the countryside to explore their relationship with nature and nature writing. https://t.co/4r8ds5Arl0 | sadness\n",
      "RT @TRF_Climate: OPINION: #EarthDay is a wake-up call for how our use of oil, coal and gas is driving a global #climate breakdown that violates the right to a clean and healthy environment, writes @RPearshouse of @hrw | @UN_HRC #humanrights #energy https://t.co/kwU2c54HGG | anger\n"
     ]
    }
   ],
   "source": [
    "prompt = f\"\"\" Assess the Texts and indicate the emotion from the following list:\n",
    "- sadness, anger, fear, joy.\n",
    "\n",
    "---\n",
    "{list(df_sample['text'])}\n",
    "---\n",
    "\n",
    "Use this format:\n",
    "text | emotion\n",
    "\n",
    "\"\"\"\n",
    "\n",
    "response = client.chat.completions.create(\n",
    "    model = model_name,\n",
    "    messages=[{\n",
    "        \"role\": \"user\",\n",
    "        \"content\": prompt\n",
    "    }],\n",
    "    temperature=0, # Deterministic Response\n",
    "    n=1  #default\n",
    ")\n",
    "\n",
    "print(response.choices[0].message.content)"
   ]
  },
  {
   "cell_type": "markdown",
   "id": "10784028",
   "metadata": {},
   "source": [
    "## Text Summarization\n",
    "\n",
    "Using the same customer review text for intent detection."
   ]
  },
  {
   "cell_type": "code",
   "execution_count": 23,
   "id": "699bd742",
   "metadata": {
    "ExecuteTime": {
     "end_time": "2024-03-24T11:41:12.760334Z",
     "start_time": "2024-03-24T11:41:12.749374Z"
    }
   },
   "outputs": [
    {
     "data": {
      "text/plain": [
       "'RT @TRF_Climate: OPINION: #EarthDay is a wake-up call for how our use of oil, coal and gas is driving a global #climate breakdown that violates the right to a clean and healthy environment, writes @RPearshouse of @hrw | @UN_HRC #humanrights #energy https://t.co/kwU2c54HGG'"
      ]
     },
     "execution_count": 23,
     "metadata": {},
     "output_type": "execute_result"
    }
   ],
   "source": [
    "list(df_sample['text'])[-1]"
   ]
  },
  {
   "cell_type": "code",
   "execution_count": 27,
   "id": "9eaa1070",
   "metadata": {
    "ExecuteTime": {
     "end_time": "2024-03-24T11:42:18.524959Z",
     "start_time": "2024-03-24T11:42:15.996300Z"
    }
   },
   "outputs": [
    {
     "name": "stdout",
     "output_type": "stream",
     "text": [
      "The key concern is how the use of oil, coal, and gas is driving a global climate breakdown that violates the right to a clean and healthy environment.\n"
     ]
    }
   ],
   "source": [
    "prompt = f\"\"\"\n",
    "{list(df_sample['text'])[-1]}\n",
    "Provide the key concern the above in one sentence:\"\"\"\n",
    "\n",
    "response = client.chat.completions.create(\n",
    "    model = model_name,\n",
    "    messages=[{\n",
    "        \"role\": \"user\",\n",
    "        \"content\": prompt\n",
    "    }],\n",
    "    temperature=0, # Deterministic Response\n",
    "    n=1  #default\n",
    ")\n",
    "\n",
    "print(response.choices[0].message.content)"
   ]
  },
  {
   "cell_type": "markdown",
   "id": "726a36f9",
   "metadata": {},
   "source": [
    "## Topic Extraction"
   ]
  },
  {
   "cell_type": "code",
   "execution_count": 33,
   "id": "76679c88",
   "metadata": {
    "ExecuteTime": {
     "end_time": "2024-03-24T11:46:57.376040Z",
     "start_time": "2024-03-24T11:46:55.488279Z"
    }
   },
   "outputs": [
    {
     "name": "stdout",
     "output_type": "stream",
     "text": [
      "Tweet 1: \n",
      "- Topic: eco-anxiety\n",
      "\n",
      "Tweet 2: \n",
      "- Topics: give-away, climate change\n",
      "\n",
      "Tweet 3: \n",
      "- Topic: climate change\n",
      "\n",
      "Tweet 4: \n",
      "- Topic: eco-anxiety\n",
      "\n",
      "Tweet 5: \n",
      "- Topics: climate change, eco-anxiety\n"
     ]
    }
   ],
   "source": [
    "topic_list = [\n",
    "    'climate change', 'eco-anxiety', 'give-away'\n",
    "]\n",
    "\n",
    "prompt = f\"\"\" List of topics: {\", \".join(topic_list)}\n",
    "Tweets: '''{list(df_sample['text'])}'''\n",
    "\n",
    "Assign one or more topics to the given tweets and enlist the results per tweet.\n",
    "\"\"\"\n",
    "\n",
    "response = client.chat.completions.create(\n",
    "    model = model_name,\n",
    "    messages=[{\n",
    "        \"role\": \"user\",\n",
    "        \"content\": prompt\n",
    "    }],\n",
    "    temperature=0, # Deterministic Response\n",
    "    n=1  #default\n",
    ")\n",
    "\n",
    "print(response.choices[0].message.content)"
   ]
  },
  {
   "cell_type": "markdown",
   "id": "61f99d1d",
   "metadata": {},
   "source": [
    "## Keyword Extraction"
   ]
  },
  {
   "cell_type": "code",
   "execution_count": 35,
   "id": "a3e9f606",
   "metadata": {
    "ExecuteTime": {
     "end_time": "2024-03-24T11:49:18.265665Z",
     "start_time": "2024-03-24T11:49:16.188046Z"
    }
   },
   "outputs": [
    {
     "name": "stdout",
     "output_type": "stream",
     "text": [
      "1. earth day, shower, save water\n",
      "2. earth day, kucoin, giveaway, 1EARTH, earthfund_io, winners, better place\n",
      "3. earth day\n",
      "4. climate change, eco-anxiety, BBCRadio3, into the wild, nature writing\n",
      "5. earth day, oil, coal, gas, climate breakdown, human rights, energy, RPearshouse, HRW, UN_HRC\n"
     ]
    }
   ],
   "source": [
    "prompt = f\"\"\"Extract keywords from these tweets:\n",
    "---\n",
    "Tweets:\n",
    "{list(df_sample['text'])}\n",
    "---\n",
    "\n",
    "Enlist the keywords per tweet.\n",
    "\n",
    "\"\"\"\n",
    "\n",
    "response = client.chat.completions.create(\n",
    "    model = model_name,\n",
    "    messages=[{\n",
    "        \"role\": \"user\",\n",
    "        \"content\": prompt\n",
    "    }],\n",
    "    temperature=0, # Deterministic Response\n",
    "    n=1  #default\n",
    ")\n",
    "\n",
    "print(response.choices[0].message.content)"
   ]
  },
  {
   "cell_type": "markdown",
   "id": "d06f2c29",
   "metadata": {},
   "source": [
    "## Spell-Check"
   ]
  },
  {
   "cell_type": "code",
   "execution_count": 37,
   "id": "deea3afa",
   "metadata": {
    "ExecuteTime": {
     "end_time": "2024-03-24T11:51:56.514578Z",
     "start_time": "2024-03-24T11:51:49.112110Z"
    }
   },
   "outputs": [
    {
     "name": "stdout",
     "output_type": "stream",
     "text": [
      "1. Happy Earth Day! Remember, if you shower with a friend, you can save water. Error corrected\n",
      "\n",
      "2. Happy Earth Day! 🌎 As we celebrate #EarthDay, #KuCoin is joining hands with @EarthFund_io to give away 20,000 1EARTH! Follow @kucoincom @EarthFund_io RT & comment your thoughts on making Earth a better place. 5 winners will each receive 4,000 1EARTH! https://t.co/Mao0As00pD. Error corrected\n",
      "\n",
      "3. Earth Day every day! https://t.co/nyC6hlPfuT. No errors found\n",
      "\n",
      "4. Climate change is very real, but so is eco-anxiety. If you're feeling stressed this #EarthDay, try our @BBCRadio3 series Into the Wild: five city-dwelling writers head into the countryside to explore their relationship with nature and nature writing. https://t.co/4r8ds5Arl0. No errors found\n",
      "\n",
      "5. OPINION: #EarthDay is a wake-up call for how our use of oil, coal, and gas is driving a global #climate breakdown that violates the right to a clean and healthy environment, writes @RPearshouse of @hrw | @UN_HRC #humanrights #energy https://t.co/kwU2c54HGG. No errors found\n"
     ]
    }
   ],
   "source": [
    "prompt = f\"\"\"Proofread and correct the following tweets and rewrite the corrected version per tweet. \n",
    "If found an error, write \" Error corrected\" after the corrected sentence.\n",
    "If you don't find any errors, just say \"No errors found\" after the sentence for which no error was found:\n",
    "---\n",
    "Tweets:\n",
    "{list(df_sample['text'])}\n",
    "---\n",
    "\"\"\"\n",
    "\n",
    "\n",
    "response = client.chat.completions.create(\n",
    "    model = model_name,\n",
    "    messages=[{\n",
    "        \"role\": \"user\",\n",
    "        \"content\": prompt\n",
    "    }],\n",
    "    temperature=0, # Deterministic Response\n",
    "    n=1  #default\n",
    ")\n",
    "\n",
    "print(response.choices[0].message.content)"
   ]
  },
  {
   "cell_type": "code",
   "execution_count": 38,
   "id": "2c5d02cd",
   "metadata": {
    "ExecuteTime": {
     "end_time": "2024-03-24T11:54:09.370562Z",
     "start_time": "2024-03-24T11:54:04.714813Z"
    }
   },
   "outputs": [
    {
     "name": "stdout",
     "output_type": "stream",
     "text": [
      "Happy Earth Day, remember if you shower with a friend, you can save water.\n",
      "Error corrected\n",
      "\n",
      "Happy Earth Day! As we celebrate Earth Day, KuCoin is joining hands with EarthFund_io to give away 20,000 1EARTH! Follow KuCoin EarthFund_io RT & comment your thoughts on making Earth a better place 5 winners will each receive 4,000 1EARTH!\n",
      "\n",
      "Earth Day every day!\n",
      "Error corrected\n",
      "\n",
      "Climate change is very real but so is eco-anxiety. If you're feeling stressed this Earth Day, try our BBCRadio3 series Into the Wild: five city-dwelling writers head into the countryside to explore their relationship with nature and nature writing.\n",
      "Error corrected\n",
      "\n",
      "OPINION: Earth Day is a wake-up call for how our use of oil, coal and gas is driving a global climate breakdown that violates the right to a clean and healthy environment, writes RPearshouse of HRW UN_HRC humanrights energy\n",
      "Error corrected\n"
     ]
    }
   ],
   "source": [
    "prompt = f\"\"\"Proofread and rewrite the corrected version per tweet without hastags, urls and account tags.\n",
    "If found an error, write \" Error corrected\" after the corrected sentence.\n",
    "If you don't find any errors, just say \"No errors found\" after the sentence for which no error was found:\n",
    "---\n",
    "Tweets:\n",
    "{list(df_sample['text'])}\n",
    "---\n",
    "\"\"\"\n",
    "\n",
    "\n",
    "response = client.chat.completions.create(\n",
    "    model = model_name,\n",
    "    messages=[{\n",
    "        \"role\": \"user\",\n",
    "        \"content\": prompt\n",
    "    }],\n",
    "    temperature=0, # Deterministic Response\n",
    "    n=1  #default\n",
    ")\n",
    "\n",
    "print(response.choices[0].message.content)"
   ]
  },
  {
   "cell_type": "markdown",
   "id": "cd91da8a",
   "metadata": {},
   "source": [
    "## Multilingual Applications\n",
    "\n",
    "Data Source: https://www.kaggle.com/datasets/skylord/dutch-tweets/data"
   ]
  },
  {
   "cell_type": "markdown",
   "id": "7f126310",
   "metadata": {},
   "source": [
    "### Language Detection"
   ]
  },
  {
   "cell_type": "code",
   "execution_count": 46,
   "id": "2771e336",
   "metadata": {
    "ExecuteTime": {
     "end_time": "2024-03-24T12:07:41.552836Z",
     "start_time": "2024-03-24T12:07:40.773048Z"
    }
   },
   "outputs": [
    {
     "name": "stdout",
     "output_type": "stream",
     "text": [
      "This appears to be Dutch.\n"
     ]
    }
   ],
   "source": [
    "prompt = f\"\"\"\n",
    "What language this is: \n",
    "```\n",
    "1. De droom van D66 wordt werkelijkheid: COVID-19 superdodelijk voor ouderen\n",
    "2. Mag hier licht op gegrinnikt worden? Of is dat niet toegestaan?\n",
    "```\n",
    "\"\"\"\n",
    "\n",
    "response = client.chat.completions.create(\n",
    "    model = model_name,\n",
    "    messages=[{\n",
    "        \"role\": \"user\",\n",
    "        \"content\": prompt\n",
    "    }],\n",
    "    temperature=0, # Deterministic Response\n",
    "    n=1  #default\n",
    ")\n",
    "\n",
    "print(response.choices[0].message.content)"
   ]
  },
  {
   "cell_type": "markdown",
   "id": "45969950",
   "metadata": {},
   "source": [
    "### Translation"
   ]
  },
  {
   "cell_type": "code",
   "execution_count": 47,
   "id": "b4114fe1",
   "metadata": {
    "ExecuteTime": {
     "end_time": "2024-03-24T12:07:43.122569Z",
     "start_time": "2024-03-24T12:07:42.027333Z"
    }
   },
   "outputs": [
    {
     "name": "stdout",
     "output_type": "stream",
     "text": [
      "1. The dream of D66 is coming true: COVID-19 super deadly for the elderly\n",
      "2. Can we chuckle about this? Or is that not allowed?\n"
     ]
    }
   ],
   "source": [
    "prompt = f\"\"\"\n",
    "Translate the following into English:\n",
    "```\n",
    "1. De droom van D66 wordt werkelijkheid: COVID-19 superdodelijk voor ouderen\n",
    "2. Mag hier licht op gegrinnikt worden? Of is dat niet toegestaan?\n",
    "```\n",
    "\"\"\"\n",
    "\n",
    "response = client.chat.completions.create(\n",
    "    model = model_name,\n",
    "    messages=[{\n",
    "        \"role\": \"user\",\n",
    "        \"content\": prompt\n",
    "    }],\n",
    "    temperature=0, # Deterministic Response\n",
    "    n=1  #default\n",
    ")\n",
    "\n",
    "print(response.choices[0].message.content)"
   ]
  },
  {
   "cell_type": "markdown",
   "id": "7211f164",
   "metadata": {},
   "source": [
    "### Transliteration\n",
    "\n",
    "Dataset: https://www.kaggle.com/datasets/parthplc/hindi-to-hinglish"
   ]
  },
  {
   "cell_type": "code",
   "execution_count": 49,
   "id": "e93a9362",
   "metadata": {
    "ExecuteTime": {
     "end_time": "2024-03-24T12:22:24.589978Z",
     "start_time": "2024-03-24T12:22:19.704559Z"
    }
   },
   "outputs": [
    {
     "name": "stdout",
     "output_type": "stream",
     "text": [
      "1. tini niyonsign o signboard toirir byabsa korten. | Bengali | They are doing business by making neon signs and signboards.\n",
      "2. Chobi mukti kom howar onyotomo karon chilo, nirbhorjogyo shilpir shonkote chilen projojokera. | Bengali | The reason for the decline in the freedom of expression through images was the fear of artists in the totalitarian regime.\n",
      "3. beriliyam oxaid ek akaarbanik yaugik hai. | Hindi | Beryllium oxide is a ceramic material.\n",
      "4. durdarshi kala - ernst fuchs, pole laifole, michael boven | Hindi | Visionary art - Ernst Fuchs, Paul Laffoley, Michael Boven\n",
      "5. prashikshan, pralekhan, prakashan evam antarashtriya sampark ityadi. | Hindi | Training, writing, publishing, and international communication, etc.\n"
     ]
    }
   ],
   "source": [
    "# This text is in Bengali but writen in using latin letters using phonetical similarity\n",
    "# Massive application of this scenario in Social Media Analysis\n",
    "\n",
    "prompt = f\"\"\"\n",
    "Identify the language of the following texts and translate them to English:\n",
    "1. tini niyonsign o signboard toirir byabsa korten.\n",
    "2. Chobi mukti kom howar onyotomo karon chilo, nirbhorjogyo shilpir shonkote chilen projojokera.\n",
    "3. beriliyam oxaid ek akaarbanik yaugik hai.\n",
    "4. durdarshi kala - ernst fuchs, pole laifole, michael boven\n",
    "5. prashikshan, pralekhan, prakashan evam antarashtriya sampark ityadi.\n",
    "\n",
    "Use the following format:\n",
    "text | language | translated text\n",
    "\"\"\"\n",
    "\n",
    "response = client.chat.completions.create(\n",
    "    model = model_name,\n",
    "    messages=[{\n",
    "        \"role\": \"user\",\n",
    "        \"content\": prompt\n",
    "    }],\n",
    "    temperature=0, # Deterministic Response\n",
    "    n=1  #default\n",
    ")\n",
    "\n",
    "print(response.choices[0].message.content)"
   ]
  },
  {
   "cell_type": "code",
   "execution_count": null,
   "id": "be8169ed",
   "metadata": {},
   "outputs": [],
   "source": []
  }
 ],
 "metadata": {
  "kernelspec": {
   "display_name": "Python 3 (ipykernel)",
   "language": "python",
   "name": "python3"
  },
  "language_info": {
   "codemirror_mode": {
    "name": "ipython",
    "version": 3
   },
   "file_extension": ".py",
   "mimetype": "text/x-python",
   "name": "python",
   "nbconvert_exporter": "python",
   "pygments_lexer": "ipython3",
   "version": "3.11.3"
  },
  "toc": {
   "base_numbering": 1,
   "nav_menu": {},
   "number_sections": true,
   "sideBar": true,
   "skip_h1_title": false,
   "title_cell": "Table of Contents",
   "title_sidebar": "Contents",
   "toc_cell": false,
   "toc_position": {
    "height": "calc(100% - 180px)",
    "left": "10px",
    "top": "150px",
    "width": "216.725px"
   },
   "toc_section_display": true,
   "toc_window_display": true
  },
  "varInspector": {
   "cols": {
    "lenName": 16,
    "lenType": 16,
    "lenVar": 40
   },
   "kernels_config": {
    "python": {
     "delete_cmd_postfix": "",
     "delete_cmd_prefix": "del ",
     "library": "var_list.py",
     "varRefreshCmd": "print(var_dic_list())"
    },
    "r": {
     "delete_cmd_postfix": ") ",
     "delete_cmd_prefix": "rm(",
     "library": "var_list.r",
     "varRefreshCmd": "cat(var_dic_list()) "
    }
   },
   "types_to_exclude": [
    "module",
    "function",
    "builtin_function_or_method",
    "instance",
    "_Feature"
   ],
   "window_display": false
  }
 },
 "nbformat": 4,
 "nbformat_minor": 5
}
