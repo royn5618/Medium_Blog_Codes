{
  "nbformat": 4,
  "nbformat_minor": 0,
  "metadata": {
    "colab": {
      "provenance": [],
      "toc_visible": true,
      "authorship_tag": "ABX9TyN4z/9SQZaEJbUJjaNyXOue",
      "include_colab_link": true
    },
    "kernelspec": {
      "name": "python3",
      "display_name": "Python 3"
    },
    "language_info": {
      "name": "python"
    }
  },
  "cells": [
    {
      "cell_type": "markdown",
      "metadata": {
        "id": "view-in-github",
        "colab_type": "text"
      },
      "source": [
        "<a href=\"https://colab.research.google.com/github/royn5618/Medium_Blog_Codes/blob/master/GenAI_for_NLP_Systems/nlp_for_social_media_analytics.ipynb\" target=\"_parent\"><img src=\"https://colab.research.google.com/assets/colab-badge.svg\" alt=\"Open In Colab\"/></a>"
      ]
    },
    {
      "cell_type": "markdown",
      "source": [
        "# Setup\n",
        "\n",
        "Blog Link:"
      ],
      "metadata": {
        "id": "mPr6t9tRCtoR"
      }
    },
    {
      "cell_type": "code",
      "source": [
        "! pip install --upgrade \"httpx==0.27.2\""
      ],
      "metadata": {
        "id": "jgLz2hTxA3xK",
        "colab": {
          "base_uri": "https://localhost:8080/"
        },
        "outputId": "0fc87995-04c4-4eba-a2a4-6a0289333cef"
      },
      "execution_count": null,
      "outputs": [
        {
          "output_type": "stream",
          "name": "stdout",
          "text": [
            "Requirement already satisfied: httpx==0.27.2 in /usr/local/lib/python3.10/dist-packages (0.27.2)\n",
            "Requirement already satisfied: anyio in /usr/local/lib/python3.10/dist-packages (from httpx==0.27.2) (3.7.1)\n",
            "Requirement already satisfied: certifi in /usr/local/lib/python3.10/dist-packages (from httpx==0.27.2) (2024.8.30)\n",
            "Requirement already satisfied: httpcore==1.* in /usr/local/lib/python3.10/dist-packages (from httpx==0.27.2) (1.0.7)\n",
            "Requirement already satisfied: idna in /usr/local/lib/python3.10/dist-packages (from httpx==0.27.2) (3.10)\n",
            "Requirement already satisfied: sniffio in /usr/local/lib/python3.10/dist-packages (from httpx==0.27.2) (1.3.1)\n",
            "Requirement already satisfied: h11<0.15,>=0.13 in /usr/local/lib/python3.10/dist-packages (from httpcore==1.*->httpx==0.27.2) (0.14.0)\n",
            "Requirement already satisfied: exceptiongroup in /usr/local/lib/python3.10/dist-packages (from anyio->httpx==0.27.2) (1.2.2)\n"
          ]
        }
      ]
    },
    {
      "cell_type": "code",
      "source": [
        "import openai\n",
        "openai.__version__"
      ],
      "metadata": {
        "colab": {
          "base_uri": "https://localhost:8080/",
          "height": 36
        },
        "id": "0_H4cmGy_573",
        "outputId": "d089bde7-6a36-4f32-fb99-ce231008f580"
      },
      "execution_count": null,
      "outputs": [
        {
          "output_type": "execute_result",
          "data": {
            "text/plain": [
              "'1.54.5'"
            ],
            "application/vnd.google.colaboratory.intrinsic+json": {
              "type": "string"
            }
          },
          "metadata": {},
          "execution_count": 2
        }
      ]
    },
    {
      "cell_type": "code",
      "execution_count": null,
      "metadata": {
        "id": "yx7zif-e_uf-"
      },
      "outputs": [],
      "source": [
        "from openai import OpenAI\n",
        "client = OpenAI(api_key=api_key)"
      ]
    },
    {
      "cell_type": "code",
      "source": [
        "def get_response(prompt, ret=False):\n",
        "  completion = client.chat.completions.create(\n",
        "    model=\"gpt-4o-mini\",\n",
        "    temperature=0,\n",
        "    messages=[\n",
        "        {\"role\": \"system\", \"content\": \"You are a helpful assistant.\"},\n",
        "        {\n",
        "            \"role\": \"user\",\n",
        "            \"content\": prompt\n",
        "        }\n",
        "    ]\n",
        "  )\n",
        "  if ret:\n",
        "    return completion.choices[0].message.content\n",
        "  print(completion.choices[0].message.content)"
      ],
      "metadata": {
        "id": "mMpv8GggKZd_"
      },
      "execution_count": null,
      "outputs": []
    },
    {
      "cell_type": "markdown",
      "source": [
        "# Text Cleaning and Standardising\n",
        "\n",
        "Below I have provided Tweets from Natural Disasters Kaggle Challenge which has the typical characteristics of social media texts - phonetic spellings, hashtags, smileys, hyper-punctuations. In this section, I will demonstrate how we can use GPT to correct spellings and grammatical mistakes, plus standardise texts for ease of further text modeling."
      ],
      "metadata": {
        "id": "d0k_05C0Cs6b"
      }
    },
    {
      "cell_type": "markdown",
      "source": [
        "## Basic Prompt"
      ],
      "metadata": {
        "id": "sT_m0Lr3GCzn"
      }
    },
    {
      "cell_type": "code",
      "source": [
        "# FEW SHOT\n",
        "\n",
        "prompt = \"\"\" Following are a few tweet samples. Can you standardise all text with correct spelling and grammar.\n",
        "---\n",
        "Text: #RockyFire Update => California Hwy. 20 closed in both directions due to Lake County fire - #CAfire #wildfires\n",
        "Text: What a goooooooaaaaaal!!!!!!\n",
        "Text: My car is so fast\n",
        "Text: London is cool ;)\n",
        "Text: #flood #disaster Heavy rain causes flash flooding of streets in Manitou, Colorado Springs areas\n",
        "Text: I'm afraid that the tornado is coming to our area.\n",
        "---\n",
        "\"\"\""
      ],
      "metadata": {
        "id": "cTlRGTi9C1kl"
      },
      "execution_count": null,
      "outputs": []
    },
    {
      "cell_type": "code",
      "source": [
        " get_response(prompt)"
      ],
      "metadata": {
        "colab": {
          "base_uri": "https://localhost:8080/"
        },
        "id": "ZKNA0fxQC5Sr",
        "outputId": "e870672c-6b7b-49e7-a66b-4f62bb3a3bc9"
      },
      "execution_count": null,
      "outputs": [
        {
          "output_type": "stream",
          "name": "stdout",
          "text": [
            "Here are the standardized versions of the tweets with correct spelling and grammar:\n",
            "\n",
            "1. **#RockyFire Update: California Highway 20 is closed in both directions due to a fire in Lake County. #CAfire #wildfires**\n",
            "2. **What a goal!**\n",
            "3. **My car is very fast.**\n",
            "4. **London is cool.**\n",
            "5. **#Flood #Disaster: Heavy rain causes flash flooding of streets in the Manitou and Colorado Springs areas.**\n",
            "6. **I'm afraid that a tornado is coming to our area.**\n"
          ]
        }
      ]
    },
    {
      "cell_type": "markdown",
      "source": [
        "## Improved Prompt"
      ],
      "metadata": {
        "id": "1xjQvPSVGFof"
      }
    },
    {
      "cell_type": "markdown",
      "source": [
        "Note how GPT has interpreted some of the hashtags and has not addressed the emoji at all. This is where our \"GenAI's Law of Specification\" comes in. We need to state how each element should be treated explicitly. Example below:"
      ],
      "metadata": {
        "id": "7rhlh2aMEh0w"
      }
    },
    {
      "cell_type": "code",
      "source": [
        "# FEW SHOT\n",
        "\n",
        "prompt = \"\"\" Following are a few tweet samples. Can you standardise all text with correct spelling and grammar.\n",
        "Preserve hashtags as they are. Remove smileys. Expand contractions.\n",
        "---\n",
        "Text: #RockyFire Update => California Hwy. 20 closed in both directions due to Lake County fire - #CAfire #wildfires\n",
        "Text: What a goooooooaaaaaal!!!!!!\n",
        "Text: My car is so fast\n",
        "Text: London is cool ;)\n",
        "Text: #flood #disaster Heavy rain causes flash flooding of streets in Manitou, Colorado Springs areas\n",
        "Text: I'm afraid that the tornado is coming to our area.\n",
        "---\n",
        "\"\"\""
      ],
      "metadata": {
        "id": "9x8RiiHaDhNE"
      },
      "execution_count": null,
      "outputs": []
    },
    {
      "cell_type": "code",
      "source": [
        " get_response(prompt)"
      ],
      "metadata": {
        "colab": {
          "base_uri": "https://localhost:8080/"
        },
        "id": "NjjqAdT0DjS6",
        "outputId": "d83e3944-b90a-4ef4-d5a3-bee5718cb7c0"
      },
      "execution_count": null,
      "outputs": [
        {
          "output_type": "stream",
          "name": "stdout",
          "text": [
            "Here are the standardized texts with correct spelling and grammar:\n",
            "\n",
            "Text: #RockyFire Update: California Highway 20 is closed in both directions due to the Lake County fire - #CAfire #wildfires  \n",
            "Text: What a goal!  \n",
            "Text: My car is very fast.  \n",
            "Text: London is cool.  \n",
            "Text: #flood #disaster Heavy rain causes flash flooding of streets in Manitou and Colorado Springs areas.  \n",
            "Text: I am afraid that the tornado is coming to our area.  \n"
          ]
        }
      ]
    },
    {
      "cell_type": "markdown",
      "source": [
        "Notice how the texts are now cleaner."
      ],
      "metadata": {
        "id": "H8XBikJeDjAi"
      }
    },
    {
      "cell_type": "markdown",
      "source": [
        "# Text Classification\n",
        "\n",
        "In this section I have demonstrated how to use GPTs for Text Classification.\n",
        "There are ofcourse a few variations and more tailored approaches to your specific text classification needs.\n",
        "\n",
        "I have enclosed two ways of instructing GPTs which can be further fine-tuned."
      ],
      "metadata": {
        "id": "iBbzNr24C5-o"
      }
    },
    {
      "cell_type": "markdown",
      "source": [
        "## Classify Disasters"
      ],
      "metadata": {
        "id": "4Jp98A9wF_s5"
      }
    },
    {
      "cell_type": "code",
      "source": [
        "# FEW SHOT LEARNING\n",
        "\n",
        "prompt = \"\"\" Following are a few examples of texts and coresponding classes to be used for text classification:\n",
        "---\n",
        "Text: #RockyFire Update => California Hwy. 20 closed in both directions due to Lake County fire - #CAfire #wildfires | Class: 1 \\n\n",
        "Text: What a goooooooaaaaaal!!!!!! | Class: 0 \\n\n",
        "Text: My car is so fast | Class: 0 \\n\n",
        "Text: London is cool ;) | Class: 0 \\n\n",
        "Text: #flood #disaster Heavy rain causes flash flooding of streets in Manitou, Colorado Springs areas | Class: 1 \\n\n",
        "Text: I'm afraid that the tornado is coming to our area. | Class: 1 \\n\n",
        "---\n",
        "Classify the following:\n",
        "Text: There's an emergency evacuation happening now in the building across the street | Class:  \\n\n",
        "\"\"\""
      ],
      "metadata": {
        "id": "0vzoMeoK_1q2"
      },
      "execution_count": null,
      "outputs": []
    },
    {
      "cell_type": "code",
      "source": [
        " get_response(prompt)"
      ],
      "metadata": {
        "colab": {
          "base_uri": "https://localhost:8080/"
        },
        "id": "Ihk0Ni9FBPam",
        "outputId": "93a81077-afb7-4290-ad14-47c2933dc9df"
      },
      "execution_count": null,
      "outputs": [
        {
          "output_type": "stream",
          "name": "stdout",
          "text": [
            "Class: 1\n"
          ]
        }
      ]
    },
    {
      "cell_type": "markdown",
      "source": [
        "Not note how the above response if the full text and Class 1 at the end, the same prompt resulted in Class: 1 a while back. So again, we go back to GenAI's Law of Specification."
      ],
      "metadata": {
        "id": "yNzWfC5JLV7R"
      }
    },
    {
      "cell_type": "markdown",
      "source": [
        "## Modified Prompt for Research\n",
        "\n",
        "The classification is correct but how do we know that GPT has the right idea. So below is an example of including explanation.\n",
        "\n",
        "Explanation is interesting (bear with me to my next post on sentiment analysis). When processing in large batches, explanation will help in discerning the rationale that sometime may differ from the objective of your use-case."
      ],
      "metadata": {
        "id": "5LpJTCLoGLYK"
      }
    },
    {
      "cell_type": "code",
      "source": [
        "# FEW SHOT LEARNING\n",
        "\n",
        "prompt = \"\"\" Following are a few examples of texts and coresponding classes to be used for text classification:\n",
        "---\n",
        "Text: #RockyFire Update => California Hwy. 20 closed in both directions due to Lake County fire - #CAfire #wildfires | Class: 1 \\n\n",
        "Text: What a goooooooaaaaaal!!!!!! | Class: 0 \\n\n",
        "Text: My car is so fast | Class: 0 \\n\n",
        "Text: London is cool ;) | Class: 0 \\n\n",
        "Text: #flood #disaster Heavy rain causes flash flooding of streets in Manitou, Colorado Springs areas | Class: 1 \\n\n",
        "Text: I'm afraid that the tornado is coming to our area. | Class: 1 \\n\n",
        "---\n",
        "Classify the following and include an explanation:\n",
        "Text: There's an emergency evacuation happening now in the building across the street | Class:  \\n\n",
        "\"\"\""
      ],
      "metadata": {
        "id": "zM-0oSgbGMYo"
      },
      "execution_count": null,
      "outputs": []
    },
    {
      "cell_type": "code",
      "source": [
        " get_response(prompt)"
      ],
      "metadata": {
        "colab": {
          "base_uri": "https://localhost:8080/"
        },
        "id": "ZrgcmTFAGMVP",
        "outputId": "50a3a70d-8c6e-46bb-fea2-c61725b4aec7"
      },
      "execution_count": null,
      "outputs": [
        {
          "output_type": "stream",
          "name": "stdout",
          "text": [
            "Class: 1\n",
            "\n",
            "Explanation: The text describes a situation involving an \"emergency evacuation,\" which indicates a serious and urgent event. This aligns with the characteristics of Class 1, which includes texts related to emergencies, disasters, or significant safety concerns. The mention of an evacuation suggests that there is a potential threat to safety, similar to the other examples in Class 1 that discuss fires and floods.\n"
          ]
        }
      ]
    },
    {
      "cell_type": "markdown",
      "source": [
        "## Improved for integrating with applications"
      ],
      "metadata": {
        "id": "1N7FOMmNJw5I"
      }
    },
    {
      "cell_type": "code",
      "source": [
        "# FEW SHOT LEARNING\n",
        "\n",
        "prompt = \"\"\" Following are a few examples of texts and coresponding classes to be used for text classification:\n",
        "---\n",
        "Text: #RockyFire Update => California Hwy. 20 closed in both directions due to Lake County fire - #CAfire #wildfires | Class: 1 \\n\n",
        "Text: What a goooooooaaaaaal!!!!!! | Class: 0 \\n\n",
        "Text: My car is so fast | Class: 0 \\n\n",
        "Text: London is cool ;) | Class: 0 \\n\n",
        "Text: #flood #disaster Heavy rain causes flash flooding of streets in Manitou, Colorado Springs areas | Class: 1 \\n\n",
        "Text: I'm afraid that the tornado is coming to our area. | Class: 1 \\n\n",
        "---\n",
        "Classify the following. Use this JSON format: {tweet: <>, class: <>, explanation: <>}. Produce only the JSON response in {}. Do not use quote on JSON element names.\n",
        "Text: There's an emergency evacuation happening now in the building across the street\n",
        "\"\"\""
      ],
      "metadata": {
        "id": "QHoAzXp3GMNI"
      },
      "execution_count": null,
      "outputs": []
    },
    {
      "cell_type": "code",
      "source": [
        " response1 = get_response(prompt, ret=True)\n",
        " response1"
      ],
      "metadata": {
        "colab": {
          "base_uri": "https://localhost:8080/",
          "height": 53
        },
        "id": "8UNq_s3XJ9Cy",
        "outputId": "5047d4a5-d186-4219-f952-13d15dd3feb8"
      },
      "execution_count": null,
      "outputs": [
        {
          "output_type": "execute_result",
          "data": {
            "text/plain": [
              "'{tweet: \"There\\'s an emergency evacuation happening now in the building across the street\", class: 1, explanation: \"The text indicates a situation that involves an emergency evacuation, which is related to a disaster or urgent safety concern, thus it is classified as class 1.\"}'"
            ],
            "application/vnd.google.colaboratory.intrinsic+json": {
              "type": "string"
            }
          },
          "metadata": {},
          "execution_count": 15
        }
      ]
    },
    {
      "cell_type": "code",
      "source": [
        " response2 = get_response(prompt, ret=True)\n",
        " response2"
      ],
      "metadata": {
        "colab": {
          "base_uri": "https://localhost:8080/",
          "height": 53
        },
        "id": "u-HSMlETMSo1",
        "outputId": "75118697-ee5d-434c-b30f-e34c3cac5bcf"
      },
      "execution_count": null,
      "outputs": [
        {
          "output_type": "execute_result",
          "data": {
            "text/plain": [
              "'{tweet: \"There\\'s an emergency evacuation happening now in the building across the street\", class: 1, explanation: \"The text indicates a situation that involves an emergency evacuation, which is a serious event related to safety and potential disaster.\"}'"
            ],
            "application/vnd.google.colaboratory.intrinsic+json": {
              "type": "string"
            }
          },
          "metadata": {},
          "execution_count": 16
        }
      ]
    },
    {
      "cell_type": "code",
      "source": [
        " response3 = get_response(prompt, ret=True)\n",
        " response3"
      ],
      "metadata": {
        "colab": {
          "base_uri": "https://localhost:8080/",
          "height": 53
        },
        "id": "s9X0t6BYMUkG",
        "outputId": "7ec97fc6-ea46-46f6-8df4-f1fe390a2a0f"
      },
      "execution_count": null,
      "outputs": [
        {
          "output_type": "execute_result",
          "data": {
            "text/plain": [
              "'{tweet: \"There\\'s an emergency evacuation happening now in the building across the street\", class: 1, explanation: \"The text indicates a situation that involves an emergency evacuation, which is related to a disaster or urgent safety concern.\"}'"
            ],
            "application/vnd.google.colaboratory.intrinsic+json": {
              "type": "string"
            }
          },
          "metadata": {},
          "execution_count": 17
        }
      ]
    },
    {
      "cell_type": "markdown",
      "source": [
        "Here I have prompted GPT to generate a response thrice with the same prompt.\n",
        "\n",
        "Note how the exaplanation has changed but not the structure. This ensures that if you are connecting to another application based on this JSON output, your code is safeguarded to the sporadic changes of GPT."
      ],
      "metadata": {
        "id": "OTNUPri8Mo4C"
      }
    },
    {
      "cell_type": "markdown",
      "source": [
        "## Hate Speech Detection\n",
        "\n",
        "Data Source: https://www.kaggle.com/datasets/mrmorj/hate-speech-and-offensive-language-dataset"
      ],
      "metadata": {
        "id": "7mLsSHwjyUTy"
      }
    },
    {
      "cell_type": "code",
      "source": [
        "prompt = \"\"\" Below are four tweets. Label them as - Hate Speech, Offensive or Neither. Include an explanation.\n",
        "\n",
        "1. RT @mayasolovely: As a woman you shouldn't complain about cleaning up your house. &amp; as a man you should always take the trash out...\n",
        "2. @UrKindOfBrand Dawg!!!! RT @80sbaby4life: You ever fuck a bitch and she start to cry? You be confused as shit\n",
        "3. @T_Madison_x: The shit just blows me..claim you so faithful and down for somebody but still fucking with hoes!\n",
        "4. @CASHandBOOBIES: I been kidnapped yo bitch\n",
        "\"\"\""
      ],
      "metadata": {
        "id": "L5oCbyqpaVsM"
      },
      "execution_count": null,
      "outputs": []
    },
    {
      "cell_type": "code",
      "source": [
        "get_response(prompt)"
      ],
      "metadata": {
        "colab": {
          "base_uri": "https://localhost:8080/"
        },
        "id": "DsvjgMNk8Rx-",
        "outputId": "92aa351e-c76c-4bc9-b597-8325eb3b35a4"
      },
      "execution_count": null,
      "outputs": [
        {
          "output_type": "stream",
          "name": "stdout",
          "text": [
            "1. **Offensive** - This tweet perpetuates gender stereotypes by suggesting that women should accept their role in household chores and that men have a specific duty regarding trash. While it may not be outright hate speech, it is offensive as it reinforces traditional gender roles and can be seen as belittling to women.\n",
            "\n",
            "2. **Offensive** - This tweet contains crude language and discusses a sensitive topic (sexual encounters and emotional reactions) in a disrespectful manner. It objectifies women and trivializes their feelings, which can be considered offensive.\n",
            "\n",
            "3. **Neither** - This tweet expresses frustration about infidelity but does not contain hate speech or offensive language. It reflects a personal opinion or observation without targeting a specific group or using derogatory terms.\n",
            "\n",
            "4. **Offensive** - This tweet makes a disturbing claim about kidnapping, which is a serious crime. Even if it is meant humorously or hyperbolically, it is offensive as it trivializes the issue of kidnapping and can be harmful or alarming to those who take it seriously.\n"
          ]
        }
      ]
    },
    {
      "cell_type": "markdown",
      "source": [
        "For context, the data says:\n",
        "\n",
        "- Tweet 1: Neither\n",
        "- Tweet 2: Offensive\n",
        "- Tweet 3: Hate Speech\n",
        "- Tweet 4: Offensive\n",
        "\n",
        "So accuracy looks like: 1/4\n",
        "\n",
        "But what is concerning are the first and the third labels. Source of the ground truth is crowdsourced and a voting system for Hate Speech, Offensive and Neither categories have been utilised to formulate the answers. As human, our brains are biased and many times we fail to think an unbiased view which falters our understanding of biases in the data. This right here is an example.\n",
        "\n",
        "Check how this obvious offensive message is classsed as neither in the Training Data. Also, note how the third tweet is referenced as neither, however, this is 100% looks offensive to me as a woman.\n",
        "\n",
        "Now the last one however did not look like offensive to me but GenAI is bringing a perpective here.\n",
        "\n",
        "Hate speech, offensive language or vulgarity can sometimes be confusing and hence, while GenAI can definitely do a good job at identifying these with zero-shot learning, based on business needs and your definition of these terms - present more clarity to the instructions as I have done below."
      ],
      "metadata": {
        "id": "oUF64dKR95xq"
      }
    },
    {
      "cell_type": "code",
      "source": [
        "prompt = \"\"\" Below are four tweets. Label them as - Hate Speech, Offensive or Neither. Find the definitions below:\n",
        "\n",
        "---\n",
        "Hate Speech: Hate against a race, gender, ethnicity or a group.\n",
        "Offensive: Any usage of fowl and inappropritate language\n",
        "Neither: That does not quality into any of the above.\n",
        "---\n",
        "Tweets:\n",
        "1. RT @mayasolovely: As a woman you shouldn't complain about cleaning up your house. &amp; as a man you should always take the trash out...\n",
        "2. im grabbing a minute to post i feel greedy wrong\n",
        "3. @UrKindOfBrand Dawg!!!! RT @80sbaby4life: You ever fuck a bitch and she start to cry? You be confused as shit\n",
        "4. @T_Madison_x: The shit just blows me..claim you so faithful and down for somebody but still fucking with hoes!\n",
        "5. @CASHandBOOBIES: I been kidnapped yo bitch\n",
        "6. Does anyone have any useful advice/guidance for whether the COVID vaccine is safe whilst breastfeeding?\n",
        "7. Women are excellent sources of confusion.\n",
        "\"\"\""
      ],
      "metadata": {
        "id": "7Jat0SvwBJKc"
      },
      "execution_count": null,
      "outputs": []
    },
    {
      "cell_type": "code",
      "source": [
        "get_response(prompt)"
      ],
      "metadata": {
        "colab": {
          "base_uri": "https://localhost:8080/"
        },
        "id": "1YobyZJVB6dw",
        "outputId": "672505fa-7d01-47a5-d931-8e6d96728b77"
      },
      "execution_count": null,
      "outputs": [
        {
          "output_type": "stream",
          "name": "stdout",
          "text": [
            "Here are the labels for the tweets based on the provided definitions:\n",
            "\n",
            "1. **Offensive** - The tweet contains inappropriate language and promotes traditional gender roles in a derogatory manner.\n",
            "2. **Neither** - The tweet does not contain hate speech or offensive language; it expresses a personal feeling.\n",
            "3. **Offensive** - The tweet contains inappropriate language and discusses a sensitive topic in a crude manner.\n",
            "4. **Offensive** - The tweet contains inappropriate language and discusses infidelity in a crude way.\n",
            "5. **Offensive** - The tweet contains inappropriate language and suggests a serious crime in a casual manner.\n",
            "6. **Neither** - The tweet is a request for information and does not contain hate speech or offensive language.\n",
            "7. **Hate Speech** - The tweet generalizes women negatively, implying they are confusing, which can be seen as derogatory towards women as a group.\n"
          ]
        }
      ]
    },
    {
      "cell_type": "code",
      "source": [
        "get_response(prompt)"
      ],
      "metadata": {
        "colab": {
          "base_uri": "https://localhost:8080/"
        },
        "id": "HYFpQApZBfmT",
        "outputId": "ec64b7be-d926-453a-f658-d232722e587d"
      },
      "execution_count": null,
      "outputs": [
        {
          "output_type": "stream",
          "name": "stdout",
          "text": [
            "Here are the labels for the tweets based on the provided definitions:\n",
            "\n",
            "1. **Offensive** - The tweet contains inappropriate language and promotes traditional gender roles in a derogatory manner.\n",
            "2. **Neither** - This tweet does not contain hate speech or offensive language; it expresses a personal feeling.\n",
            "3. **Offensive** - The tweet contains inappropriate language and discusses a sensitive topic in a crude manner.\n",
            "4. **Offensive** - The tweet uses inappropriate language and discusses infidelity in a crude way.\n",
            "5. **Offensive** - The tweet contains inappropriate language and suggests a serious crime in a casual manner.\n",
            "6. **Neither** - This tweet is a request for information and does not contain hate speech or offensive language.\n",
            "7. **Hate Speech** - This tweet generalizes women in a negative way, implying they are confusing, which can be seen as derogatory towards women as a group.\n"
          ]
        }
      ]
    },
    {
      "cell_type": "code",
      "source": [
        "get_response(prompt)"
      ],
      "metadata": {
        "colab": {
          "base_uri": "https://localhost:8080/"
        },
        "id": "_oq9UZYfB_n6",
        "outputId": "38b8d140-e832-4030-8ad3-27c52320d08c"
      },
      "execution_count": null,
      "outputs": [
        {
          "output_type": "stream",
          "name": "stdout",
          "text": [
            "Here are the labels for the tweets based on the provided definitions:\n",
            "\n",
            "1. **Offensive**: The tweet contains inappropriate language and promotes traditional gender roles in a derogatory manner.\n",
            "2. **Neither**: This tweet does not contain hate speech or offensive language; it expresses a personal feeling.\n",
            "3. **Offensive**: The tweet uses inappropriate language and discusses a sensitive topic in a crude manner.\n",
            "4. **Offensive**: The tweet contains inappropriate language and discusses infidelity in a crude way.\n",
            "5. **Offensive**: The tweet uses inappropriate language and suggests a serious crime in a casual manner.\n",
            "6. **Neither**: This tweet is a request for information and does not contain hate speech or offensive language.\n",
            "7. **Hate Speech**: This tweet generalizes women negatively, implying they are confusing, which can be seen as derogatory towards women as a group. \n",
            "\n",
            "So the final labels are:\n",
            "1. Offensive\n",
            "2. Neither\n",
            "3. Offensive\n",
            "4. Offensive\n",
            "5. Offensive\n",
            "6. Neither\n",
            "7. Hate Speech\n"
          ]
        }
      ]
    },
    {
      "cell_type": "markdown",
      "source": [
        "## Mental Health Signal\n",
        "\n",
        "Data Source: https://www.kaggle.com/datasets/infamouscoder/mental-health-social-media"
      ],
      "metadata": {
        "id": "Jv29xxuMyXjc"
      }
    },
    {
      "cell_type": "code",
      "source": [
        "prompt = f\"\"\" Try and detect any signals of mental health concerns:\n",
        "\n",
        "Below are 20 tweets from User 101202:\n",
        "I was told when I was diagnosed with depression that I needed a family doctor. 2 years later, still can't find one.\n",
        "@jephjacques HELLO YES THIS IS DOG\n",
        "RT @gpsforthebrain: Ah, spring. #Halifax #ohcanada https://t.co/32BPe0W2zD\n",
        "@AlexReekie Plus who wants to go out with a fish?\n",
        "@emastaflash @HfxGinger Hey it's totally a thing.\n",
        "@threehares Maybe Wednesday or Thursday, once I've recovered from the trauma of several days on the surgical floor :)\n",
        "@threehares I'm doing double shifts for the next 2 days, I doubt I'll be in any shape to go out after. :(\n",
        "@threehares I has no time, I is working all the shifts :(\n",
        "Burger Week needs less burger photos shoved down my throat and more ACTUAL BURGERS shoved down my throat.\n",
        "I'm already so sick of hearing about Burger Week. I GET IT, YOUR MEAT AND BREAD IS DELCIOUS.\n",
        "Hahaha wtf Canadian Tire docked me $0.25 on my return for not bringing back the fucking garbage Canadian Tire money they gave me.\n",
        "\"HELLO YES THIS IS WARD CLERK\n",
        "I NEED TO ORDER ALL THE COMMODES AND ALL THE LAB TESTS\"\n",
        "Work complaints I text to BF: \"I couldn't get my re-rostering started on time because everybody started pooping and bleeding!\"\n",
        "Makeup-wearing friends: recommendations for a vanity/makeup mirror with halo lighting?\n",
        "Happy first day of spring! https://t.co/rKawwvgc30\n",
        "RT @22_Minutes: Winter is over in a few hours. Don't look outside and you'll believe it.\n",
        "\"Bf: \"\"What the hell is Wonderwall?\"\"\n",
        "Me: \"\"You'll know it when you hear it.\"\"\n",
        "Bf: *hears first two words of lyrics* \"\"Yeah I know this.\"\"\n",
        "It's a slow going. In the meantime, though, I can shred some Carly Rae Jepsen.\n",
        "Trying to learn Oasis songs on ukulele so I can actually say, \"Anyway, here's Wonderwall.\"\n",
        "LED lights are bullshit.\n",
        "What is the point of having a 7x magnified mirror with a light if you need to be LITERALLY AN INCH AWAY FROM THE MIRROR TO GET ANY LIGHT?!\n",
        "Wearing my new yellow raincoat and floofy hair today. Bf takes one look &amp; goes, \"OK, April O'Neil.\"\n",
        "Thinking of renting myself out as a professional housewife. I just need to learn how to cook.\n",
        "In related news, I have completed the transformation into my mother. Remember me fondly. RIP, my youth.\n",
        "I actually managed to mop the floors without bf &amp; cat immediately tracking footprints all over it. IT'S A CHRISTMAS MIRACLE!\n",
        "\"\"\""
      ],
      "metadata": {
        "id": "aSzQ1_7wytaA"
      },
      "execution_count": null,
      "outputs": []
    },
    {
      "cell_type": "code",
      "source": [
        "get_response(prompt)"
      ],
      "metadata": {
        "colab": {
          "base_uri": "https://localhost:8080/"
        },
        "id": "uqMHCInpdj2d",
        "outputId": "9736602e-91cb-453d-d766-6fb3a11b1689"
      },
      "execution_count": null,
      "outputs": [
        {
          "output_type": "stream",
          "name": "stdout",
          "text": [
            "Based on the tweets provided, there are a few signals that may indicate mental health concerns, particularly related to the user's experience with depression and stress. Here are some observations:\n",
            "\n",
            "1. **Struggles with Healthcare Access**: The user mentions being diagnosed with depression and struggling to find a family doctor for two years. This could indicate feelings of frustration, helplessness, or a lack of support, which are common in individuals dealing with mental health issues.\n",
            "\n",
            "2. **Work-Related Stress**: The user references working double shifts and feeling overwhelmed (\"I has no time, I is working all the shifts\"). This suggests a high level of stress and possibly burnout, which can be detrimental to mental health.\n",
            "\n",
            "3. **Use of Humor as a Coping Mechanism**: The user employs humor in various tweets (e.g., about work complaints and Burger Week). While humor can be a healthy coping mechanism, it can also sometimes mask deeper feelings of distress or dissatisfaction.\n",
            "\n",
            "4. **Expressions of Frustration**: The user expresses annoyance with Burger Week and the situation with Canadian Tire. While these may seem like light-hearted complaints, they could also reflect underlying irritability or frustration that can accompany mental health struggles.\n",
            "\n",
            "5. **References to Personal Transformation**: The tweet about completing the transformation into their mother and the mention of \"RIP, my youth\" could suggest feelings of nostalgia or loss, which might be tied to broader feelings of dissatisfaction or anxiety about life changes.\n",
            "\n",
            "6. **Social Interaction**: The user engages with friends and makes plans, which is a positive sign. However, the mention of needing to \"recover from the trauma\" of work could indicate that they are feeling overwhelmed or emotionally drained.\n",
            "\n",
            "Overall, while there are some positive interactions and humor in the tweets, there are also signs of stress, frustration, and potential feelings of isolation or helplessness related to mental health. It may be beneficial for the user to seek support or talk to someone about their experiences.\n"
          ]
        }
      ]
    },
    {
      "cell_type": "markdown",
      "source": [
        "## Sentiment and Opinion Mining\n",
        "\n",
        "Data Source:"
      ],
      "metadata": {
        "id": "n7JgfMZCacVr"
      }
    },
    {
      "cell_type": "code",
      "source": [
        "prompt = \"\"\" Select which emotion it reflects from the emotion_list.\n",
        "emotion_list =[sadness, anger, fear, joy, love].\n",
        "\n",
        "Text: i didnt feel humiliated | emotion: [1, 0, 0, 0, 0]\n",
        "Text: im grabbing a minute to post i feel greedy wrong | emotion: [0, 1, 0, 0, 0]\n",
        "Text: i left with my bouquet of red and yellow tulips under my arm feeling slightly more optimistic than when i arrived | emotion: [0, 0, 0, 1, 0]\n",
        "Text: i find myself in the odd position of feeling supportive of | emotion: [0, 0, 0, 0, 1]\n",
        "Text: i feel a little nervous i go to the gym | emotion:\n",
        "\"\"\""
      ],
      "metadata": {
        "id": "Rzp3uZi9aVmK"
      },
      "execution_count": null,
      "outputs": []
    },
    {
      "cell_type": "code",
      "source": [
        "get_response(prompt)"
      ],
      "metadata": {
        "colab": {
          "base_uri": "https://localhost:8080/"
        },
        "id": "yAziLcvQaVoq",
        "outputId": "e620f95f-2c4c-471d-aed5-2f1ebea78ce3"
      },
      "execution_count": null,
      "outputs": [
        {
          "output_type": "stream",
          "name": "stdout",
          "text": [
            "Based on the provided text \"i feel a little nervous i go to the gym\", the emotion it reflects is **fear**. \n",
            "\n",
            "So, the emotion would be represented as: \n",
            "emotion: [0, 0, 1, 0, 0]\n"
          ]
        }
      ]
    },
    {
      "cell_type": "code",
      "source": [],
      "metadata": {
        "id": "ArMXLU5af5Di"
      },
      "execution_count": null,
      "outputs": []
    },
    {
      "cell_type": "markdown",
      "source": [
        "# Working with Different Languages\n",
        "\n",
        "Inherently social media is multilingual... predominantly English but has a humungous base of diverse lanaguages, written in their own scripts, or phonetic english. This is a big challenge in social media analytics that can be addressed much more accurately and efficiently in short span of development and execution time through GPT than traditional NLP systems."
      ],
      "metadata": {
        "id": "TH3RwKz8KOgL"
      }
    },
    {
      "cell_type": "markdown",
      "source": [
        "## Language Detection and Translation"
      ],
      "metadata": {
        "id": "ek4T1OhCRHwG"
      }
    },
    {
      "cell_type": "code",
      "source": [
        "# FEW SHOT LEARNING\n",
        "\n",
        "prompt = \"\"\" Detect language and produce a comma separated output using the following format: text, language, translated_en\n",
        "Use \\n as line separator and do not use any numbers for counting texts.\n",
        "\n",
        "---\n",
        "1. De droom van D66 wordt werkelijkheid: COVID-19 superdodelijk voor ouderen\n",
        "2. نعم، يمكنني الكتابة باللغة العربية. كيف يمكنني مساعدتك؟\n",
        "3. আজকের দিনটা কেমন যাচ্ছে আপনার? 😊\n",
        "---\n",
        "\n",
        "Preserve hashtags and emojis.\n",
        "\"\"\""
      ],
      "metadata": {
        "id": "5V9qfLJVKUrb"
      },
      "execution_count": null,
      "outputs": []
    },
    {
      "cell_type": "code",
      "source": [
        "get_response(prompt)"
      ],
      "metadata": {
        "colab": {
          "base_uri": "https://localhost:8080/"
        },
        "id": "ksFf4tYpQxvG",
        "outputId": "48c4c29f-377e-4324-ab0e-88914b6490f3"
      },
      "execution_count": null,
      "outputs": [
        {
          "output_type": "stream",
          "name": "stdout",
          "text": [
            "De droom van D66 wordt werkelijkheid: COVID-19 superdodelijk voor ouderen, Dutch, The dream of D66 is becoming reality: COVID-19 super deadly for the elderly  \n",
            "نعم، يمكنني الكتابة باللغة العربية. كيف يمكنني مساعدتك؟, Arabic, Yes, I can write in Arabic. How can I help you?  \n",
            "আজকের দিনটা কেমন যাচ্ছে আপনার? 😊, Bengali, How is your day going today? 😊  \n"
          ]
        }
      ]
    },
    {
      "cell_type": "markdown",
      "source": [
        "## Transliteration"
      ],
      "metadata": {
        "id": "jZmvqExPRGge"
      }
    },
    {
      "cell_type": "code",
      "source": [
        "prompt = f\"\"\"\n",
        "Identify the language of the following texts in Indian languages and translate them to English:\n",
        "\n",
        "1. Chobi mukti kom howar onyotomo karon chilo, nirbhorjogyo shilpir shonkote chilen projojokera.\n",
        "2. તળાવ સારું લાગે છે, હું હવે તરવા જાઉં છું.\n",
        "3. beriliyam oxaid ek akaarbanik yaugik hai.\n",
        "4. durdarshi kala - ernst fuchs, pole laifole, michael boven\n",
        "5. prashikshan, pralekhan, prakashan evam antarashtriya sampark ityadi.\n",
        "6. நான் மற்றொரு மலையேற்றத்திற்காக மலைகளுக்குச் செல்கிறேன்\n",
        "\n",
        "Use the following format:\n",
        "text | language | translated text\n",
        "\"\"\""
      ],
      "metadata": {
        "id": "0OgCYQUaRMQs"
      },
      "execution_count": null,
      "outputs": []
    },
    {
      "cell_type": "code",
      "source": [
        "get_response(prompt)"
      ],
      "metadata": {
        "colab": {
          "base_uri": "https://localhost:8080/"
        },
        "id": "wbxXJCvoRMTW",
        "outputId": "0186025c-870c-440d-a22c-64d080176813"
      },
      "execution_count": null,
      "outputs": [
        {
          "output_type": "stream",
          "name": "stdout",
          "text": [
            "Here are the translations and identifications of the languages for the provided texts:\n",
            "\n",
            "1. Chobi mukti kom howar onyotomo karon chilo, nirbhorjogyo shilpir shonkote chilen projojokera. | Bengali | The reason for the photo's liberation was that the projectors were dependent on the shortage of skilled artists.\n",
            "\n",
            "2. તળાવ સારું લાગે છે, હું હવે તરવા જાઉં છું. | Gujarati | The pond looks nice, I am going to swim now.\n",
            "\n",
            "3. beriliyam oxaid ek akaarbanik yaugik hai. | Hindi | Beryllium oxide is a non-organic compound.\n",
            "\n",
            "4. durdarshi kala - ernst fuchs, pole laifole, michael boven | Hindi | Visionary art - Ernst Fuchs, Pole Laifole, Michael Boven.\n",
            "\n",
            "5. prashikshan, pralekhan, prakashan evam antarashtriya sampark ityadi. | Hindi | Training, writing, publishing, and international relations, etc.\n",
            "\n",
            "6. நான் மற்றொரு மலையேற்றத்திற்காக மலைகளுக்குச் செல்கிறேன் | Tamil | I am going to the mountains for another climb.\n"
          ]
        }
      ]
    },
    {
      "cell_type": "markdown",
      "source": [
        "# Topic Modeling"
      ],
      "metadata": {
        "id": "c3ZjoV9ihMA5"
      }
    },
    {
      "cell_type": "markdown",
      "source": [
        "## Keyword Extractions"
      ],
      "metadata": {
        "id": "jNAzF6lnTbfC"
      }
    },
    {
      "cell_type": "code",
      "source": [
        "prompt = f\"\"\" Below is a set of 5 tweets. Identify and generate a list of pharma keywords in these tweets:\n",
        "---\n",
        "Does anyone have any useful advice/guidance for whether the COVID vaccine is safe whilst breastfeeding?\n",
        "while deaths are closing in on the 300,000 mark... millions of people wait #PfizerBioNTech #Vaccine !\n",
        "The first COVID-19 vaccine doses have arrived in Oregon.\n",
        "Had my Covid-19 Vaccination, doing my bit helping to save the human race. Mega sore arm today as expected\n",
        "This vaccine is special because it triggers an immune response without using the actual virus that causes covid-19\n",
        "---\n",
        "\"\"\""
      ],
      "metadata": {
        "id": "sRQOiw8pTcWx"
      },
      "execution_count": null,
      "outputs": []
    },
    {
      "cell_type": "code",
      "source": [
        "get_response(prompt)"
      ],
      "metadata": {
        "colab": {
          "base_uri": "https://localhost:8080/"
        },
        "id": "5m2GolYBVw4P",
        "outputId": "c5eb2bb7-6e82-4876-99da-45dcd56abbcc"
      },
      "execution_count": null,
      "outputs": [
        {
          "output_type": "stream",
          "name": "stdout",
          "text": [
            "Here is a list of pharma keywords identified in the tweets:\n",
            "\n",
            "1. COVID vaccine\n",
            "2. Breastfeeding\n",
            "3. PfizerBioNTech\n",
            "4. Vaccine\n",
            "5. COVID-19\n",
            "6. Vaccination\n",
            "7. Immune response\n",
            "8. Virus\n",
            "9. Doses\n",
            "10. Sore arm\n",
            "\n",
            "These keywords relate to pharmaceuticals, vaccines, and health-related topics discussed in the tweets.\n"
          ]
        }
      ]
    },
    {
      "cell_type": "code",
      "source": [
        "prompt = f\"\"\" Below is a set of 5 tweets. Your task is to detect if the tweets have location information in them or not.\n",
        "Use this format:\n",
        "text | has_location\n",
        "<tweet> | Y\n",
        "<tweet> | N\n",
        "---\n",
        "Does anyone have any useful advice/guidance for whether the COVID vaccine is safe whilst breastfeeding?\n",
        "while deaths are closing in on the 300,000 mark... millions of people wait #PfizerBioNTech #Vaccine !\n",
        "The first COVID-19 vaccine doses have arrived in Oregon.\n",
        "Had my Covid-19 Vaccination, doing my bit helping to save the human race. Mega sore arm today as expected :(\n",
        "This vaccine is special because it triggers an immune response without using the actual virus that causes covid-19\n",
        "---\n",
        "\"\"\""
      ],
      "metadata": {
        "id": "NCInQ0w6V9z5"
      },
      "execution_count": null,
      "outputs": []
    },
    {
      "cell_type": "code",
      "source": [
        "get_response(prompt)"
      ],
      "metadata": {
        "colab": {
          "base_uri": "https://localhost:8080/"
        },
        "id": "ZAWYDd_dWzap",
        "outputId": "8da5ce0c-c0b9-4fd5-dc0f-a5b636e07d42"
      },
      "execution_count": null,
      "outputs": [
        {
          "output_type": "stream",
          "name": "stdout",
          "text": [
            "Does anyone have any useful advice/guidance for whether the COVID vaccine is safe whilst breastfeeding? | N  \n",
            "while deaths are closing in on the 300,000 mark... millions of people wait #PfizerBioNTech #Vaccine ! | N  \n",
            "The first COVID-19 vaccine doses have arrived in Oregon. | Y  \n",
            "Had my Covid-19 Vaccination, doing my bit helping to save the human race. Mega sore arm today as expected :( | N  \n",
            "This vaccine is special because it triggers an immune response without using the actual virus that causes covid-19 | N  \n"
          ]
        }
      ]
    },
    {
      "cell_type": "markdown",
      "source": [
        "## Topic Detection"
      ],
      "metadata": {
        "id": "iYp34-m8Tbbt"
      }
    },
    {
      "cell_type": "code",
      "source": [
        "prompt= f\"\"\" Below are 5 tweet samples. Each of them may be attached to the topics - 'climate' or 'covid'. If tweet is related with neither, use 'Other'.\n",
        "\n",
        "---\n",
        "Had my Covid-19 Vaccination, doing my bit helping to save the human race. Mega sore arm today as expected :(\n",
        "What a goooooooaaaaaal!!!!!!\n",
        "#flood #disaster Heavy rain causes flash flooding of streets in Manitou, Colorado Springs areas\n",
        "@threehares Maybe Wednesday or Thursday, once I've recovered from the trauma of several days on the surgical floor :)\n",
        "---\n",
        "\n",
        "\"\"\""
      ],
      "metadata": {
        "id": "nrmHuzFLY4Au"
      },
      "execution_count": null,
      "outputs": []
    },
    {
      "cell_type": "code",
      "source": [
        "get_response(prompt)"
      ],
      "metadata": {
        "colab": {
          "base_uri": "https://localhost:8080/"
        },
        "id": "mt8c9Y3hZrDh",
        "outputId": "2b5b0e7d-d0c1-4e6d-899a-4f51d21a4718"
      },
      "execution_count": null,
      "outputs": [
        {
          "output_type": "stream",
          "name": "stdout",
          "text": [
            "1. Covid\n",
            "2. Other\n",
            "3. Climate\n",
            "4. Other\n"
          ]
        }
      ]
    },
    {
      "cell_type": "markdown",
      "source": [
        "## Trend Detection & Associated Sentiment"
      ],
      "metadata": {
        "id": "kG5a7T0Ik5ve"
      }
    },
    {
      "cell_type": "code",
      "source": [
        "prompt = f\"\"\"\n",
        "Below is a batch of tweets.\n",
        "---\n",
        "\"When battling with a Zombie, I sometimes recite a bone-chilling chorus.\n",
        "#Bard #TTRPG\"\n",
        "\"A well-rehearsed comedy is like a rebellious roar of an overdue thunderstorm.\n",
        "#Bard #Actor #Musician #Magician\"\n",
        "\"When the world is at war, and the people struggle to survive, not all are inclined to pursue endeavors deemed 'frivolous'.\n",
        "\n",
        "But what if those endeavors aren't 'frivolous' at all?\n",
        "\n",
        "Lilene, shy and musically inclined, will learn how useful it is.  #FFXIV #Elezen #ARR #Bard https://t.co/dBZpIsIiMR\"\n",
        "\"Today we bring you the iconic stars of the DnD multiverse, the Bards!\n",
        "\n",
        "In our class discussion we talk about how versatile these virtuosos can be, especially in the social tier of the game.\n",
        "\n",
        "#dnd5e #bard\"\n",
        "\"Overall, using AI to create art can expand the boundaries of creativity and allow artists to explore new directions in their work.  ðŸ§µ4/4   @OpenAI #ChatGPT\n",
        "ðŸ‘€\"\n",
        "\"Just played around with OpenAI's new #ChatGPT model and asked it to write a poem about embodied carbon in buildings. This is what I got...\n",
        "\n",
        "Try out ChatGPT\n",
        "https://t.co/vaov2Ttluo\n",
        "\n",
        "#embodiedcarbon #poetry https://t.co/DbgO6Qz2Zq\"\n",
        "I asked #ChatGPT to write me a story about Sova and Jett falling in love... https://t.co/yyZNrFRTQs\n",
        "OpenAI's new ChatGPT is very good at creative writing.  #openAI #chatGPT #poetry #Bitcoin https://t.co/yxMfXVjxDB\n",
        "This is a great improvement! Unlike text-davinci-003, #ChatGPT understands the context from previous userâ€™s answers.\n",
        "My mind is blown. I cannot believe how good ChatGPT from OpenAI is. I see this already replacing a lot of googling tasks I do, 100% right out of the box. I donâ€™t even know what to say anymore. I must be doing something wrong. Someone please break it for me! #ChatGPT\n",
        "\"Absolutely insane. I asked #chatGPT to generate a simple personal website.\n",
        "\n",
        "It showed step by step on how to create it, then added HTML and CSS.\n",
        "\n",
        "The output was used on @Replit. ðŸ¤¯ https://t.co/yLigabNMAO\"\n",
        "#ChatGPT is pretty mind-blowing. https://t.co/jXD5pGcTt9\n",
        "---\n",
        "\n",
        "Extract:\n",
        "\n",
        "1. Most popoular Topic:\n",
        "2. Sentiment: <positive/negative/neutral>\n",
        "3. Opinion: <joy/sadness/anxious/angry/excitement>\n",
        "4. Associated Hashtags:\n",
        "\"\"\""
      ],
      "metadata": {
        "id": "vxNIUC10h5zT"
      },
      "execution_count": null,
      "outputs": []
    },
    {
      "cell_type": "code",
      "source": [
        "get_response(prompt)"
      ],
      "metadata": {
        "colab": {
          "base_uri": "https://localhost:8080/"
        },
        "id": "GVxetA94kGbu",
        "outputId": "2fa4b934-cf20-48ee-82fe-afb72624cebb"
      },
      "execution_count": null,
      "outputs": [
        {
          "output_type": "stream",
          "name": "stdout",
          "text": [
            "1. Most popular Topic: ChatGPT and its creative capabilities\n",
            "2. Sentiment: Positive\n",
            "3. Opinion: Excitement\n",
            "4. Associated Hashtags: #ChatGPT, #openAI, #poetry, #embodiedcarbon, #dnd5e, #bard, #TTRPG, #Actor, #Musician, #Magician\n"
          ]
        }
      ]
    },
    {
      "cell_type": "code",
      "source": [
        "prompt = f\"\"\"\n",
        "Below is a batch of tweets.\n",
        "---\n",
        "\"When battling with a Zombie, I sometimes recite a bone-chilling chorus.\n",
        "#Bard #TTRPG\"\n",
        "\"A well-rehearsed comedy is like a rebellious roar of an overdue thunderstorm.\n",
        "#Bard #Actor #Musician #Magician\"\n",
        "\"When the world is at war, and the people struggle to survive, not all are inclined to pursue endeavors deemed 'frivolous'.\n",
        "\n",
        "But what if those endeavors aren't 'frivolous' at all?\n",
        "\n",
        "Lilene, shy and musically inclined, will learn how useful it is.  #FFXIV #Elezen #ARR #Bard https://t.co/dBZpIsIiMR\"\n",
        "\"Today we bring you the iconic stars of the DnD multiverse, the Bards!\n",
        "\n",
        "In our class discussion we talk about how versatile these virtuosos can be, especially in the social tier of the game.\n",
        "\n",
        "#dnd5e #bard\"\n",
        "\"Overall, using AI to create art can expand the boundaries of creativity and allow artists to explore new directions in their work.  ðŸ§µ4/4   @OpenAI #ChatGPT\n",
        "ðŸ‘€\"\n",
        "\"Just played around with OpenAI's new #ChatGPT model and asked it to write a poem about embodied carbon in buildings. This is what I got...\n",
        "\n",
        "Try out ChatGPT\n",
        "https://t.co/vaov2Ttluo\n",
        "\n",
        "#embodiedcarbon #poetry https://t.co/DbgO6Qz2Zq\"\n",
        "I asked #ChatGPT to write me a story about Sova and Jett falling in love... https://t.co/yyZNrFRTQs\n",
        "OpenAI's new ChatGPT is very good at creative writing.  #openAI #chatGPT #poetry #Bitcoin https://t.co/yxMfXVjxDB\n",
        "This is a great improvement! Unlike text-davinci-003, #ChatGPT understands the context from previous userâ€™s answers.\n",
        "My mind is blown. I cannot believe how good ChatGPT from OpenAI is. I see this already replacing a lot of googling tasks I do, 100% right out of the box. I donâ€™t even know what to say anymore. I must be doing something wrong. Someone please break it for me! #ChatGPT\n",
        "\"Absolutely insane. I asked #chatGPT to generate a simple personal website.\n",
        "\n",
        "It showed step by step on how to create it, then added HTML and CSS.\n",
        "\n",
        "The output was used on @Replit. ðŸ¤¯ https://t.co/yLigabNMAO\"\n",
        "#ChatGPT is pretty mind-blowing. https://t.co/jXD5pGcTt9\n",
        "---\n",
        "\n",
        "Extract topics and rank them based on popularity.\n",
        "\"\"\""
      ],
      "metadata": {
        "id": "KDheqot-kfV3"
      },
      "execution_count": null,
      "outputs": []
    },
    {
      "cell_type": "code",
      "source": [
        "get_response(prompt)"
      ],
      "metadata": {
        "colab": {
          "base_uri": "https://localhost:8080/"
        },
        "id": "-98HIXQIkkkY",
        "outputId": "7aa5db3e-1eb5-4213-b7f1-d3bd4aa5406f"
      },
      "execution_count": null,
      "outputs": [
        {
          "output_type": "stream",
          "name": "stdout",
          "text": [
            "Based on the provided tweets, here are the extracted topics ranked by popularity:\n",
            "\n",
            "1. **ChatGPT and AI**: \n",
            "   - Multiple tweets discuss the capabilities of ChatGPT, including creative writing, generating personal websites, and its overall effectiveness. This topic appears to be the most popular, with several tweets highlighting user experiences and improvements.\n",
            "\n",
            "2. **Bards in TTRPGs (Tabletop Role-Playing Games)**:\n",
            "   - Several tweets focus on Bards, particularly in the context of Dungeons & Dragons (DnD) and Final Fantasy XIV (FFXIV). The discussions revolve around their versatility, roles in storytelling, and character development.\n",
            "\n",
            "3. **Creative Writing and Poetry**:\n",
            "   - There are tweets that mention using AI for poetry and creative writing, showcasing the intersection of technology and artistic expression. This topic is closely related to the ChatGPT discussions.\n",
            "\n",
            "4. **Art and Creativity**:\n",
            "   - One tweet touches on the use of AI in creating art and expanding creative boundaries, which is a relevant topic but less emphasized compared to the others.\n",
            "\n",
            "5. **Gaming and Character Development**:\n",
            "   - The tweets about Lilene and the struggles of characters in a war-torn world suggest a focus on character development in gaming narratives, though this is less prominent than the other topics.\n",
            "\n",
            "Overall, the most popular topic is the discussion around ChatGPT and its applications, followed by the focus on Bards in TTRPGs.\n"
          ]
        }
      ]
    },
    {
      "cell_type": "markdown",
      "source": [
        "# User Profiling"
      ],
      "metadata": {
        "id": "ri3oat6ryTQ_"
      }
    },
    {
      "cell_type": "code",
      "source": [
        "import requests\n",
        "r = requests.get('https://www.instagram.com/taylorswift/')\n",
        "user_info = r.text[:128000]"
      ],
      "metadata": {
        "id": "5OLsFYtkvogL"
      },
      "execution_count": null,
      "outputs": []
    },
    {
      "cell_type": "code",
      "source": [
        "prompt = f\"\"\"\n",
        "Create user profile using the following JSON format:\n",
        "{{\n",
        "\n",
        "    name: <name>,\n",
        "    location: <location>,\n",
        "    influencer_status: <influencer/none>,\n",
        "    profession: <profession>,\n",
        "    num_followers: <followers count on Insta>,\n",
        "    num_following: <following count on Insta>,\n",
        "    total_posts: <number of posts on Insta>,\n",
        "    bio: <bio>.\n",
        "    bio_sentiment: <positive/negative/neutral>,\n",
        "    bio_opinion: <joy/sadness/anxious/angry/excitement>,\n",
        "    associated_brand: <endorsing any brand, then names>,\n",
        "    interests: <possible interests>,\n",
        "    urls: <associated urls>\n",
        "\n",
        "}}\n",
        "Produce only JSON.\n",
        "---\n",
        "User info: {user_info}\n",
        "\"\"\""
      ],
      "metadata": {
        "id": "pbdblSnJw1rR"
      },
      "execution_count": null,
      "outputs": []
    },
    {
      "cell_type": "code",
      "source": [
        "get_response(prompt)"
      ],
      "metadata": {
        "colab": {
          "base_uri": "https://localhost:8080/"
        },
        "id": "ft71tgETdrE7",
        "outputId": "c0c7768f-3d6d-4cc5-fb77-8cbb0c86d804"
      },
      "execution_count": null,
      "outputs": [
        {
          "output_type": "stream",
          "name": "stdout",
          "text": [
            "```json\n",
            "{\n",
            "    \"name\": \"Taylor Swift\",\n",
            "    \"location\": \"Nashville, TN\",\n",
            "    \"influencer_status\": \"influencer\",\n",
            "    \"profession\": \"Singer-Songwriter\",\n",
            "    \"num_followers\": 250000000,\n",
            "    \"num_following\": 1000,\n",
            "    \"total_posts\": 3000,\n",
            "    \"bio\": \"Lover of music, cats, and coffee. 🌟\",\n",
            "    \"bio_sentiment\": \"positive\",\n",
            "    \"bio_opinion\": \"joy\",\n",
            "    \"associated_brand\": [\"Reputation\", \"Taylor Swift Merch\"],\n",
            "    \"interests\": [\"Music\", \"Writing\", \"Traveling\", \"Fashion\"],\n",
            "    \"urls\": [\"https://www.instagram.com/taylorswift/\"]\n",
            "}\n",
            "```\n"
          ]
        }
      ]
    },
    {
      "cell_type": "markdown",
      "source": [
        "# Hallucination\n",
        "\n",
        "So if you believed that the response from the previous link actually worked for building the user profile, then you are believing in a hallucination of the GPT model.\n",
        "\n",
        "See how I have added specific instructions:\n",
        "\n",
        "1. Have a structure\n",
        "2. Generate only the JSON\n",
        "3. Provided user details as a response from the URL\n",
        "4. Also I have temperature = 0 (which is supposed to make GPT as factual as possible)\n",
        "\n",
        "This is why GPT is not alerting that this is a sample. However there are a few ways of avoiding it."
      ],
      "metadata": {
        "id": "D65ZZea95WFb"
      }
    },
    {
      "cell_type": "code",
      "source": [
        "prompt = f\"\"\"\n",
        "Create user profile using the following JSON format:\n",
        "{{\n",
        "\n",
        "    name: <name>,\n",
        "    location: <location>,\n",
        "    influencer_status: <influencer/none>,\n",
        "    profession: <profession>,\n",
        "    num_followers: <followers count on Insta>,\n",
        "    num_following: <following count on Insta>,\n",
        "    total_posts: <number of posts on Insta>,\n",
        "    bio: <bio>.\n",
        "    bio_sentiment: <positive/negative/neutral>,\n",
        "    bio_opinion: <joy/sadness/anxious/angry/excitement>,\n",
        "    associated_brand: <endorsing any brand, then names>,\n",
        "    interests: <possible interests>,\n",
        "    urls: <associated urls>,\n",
        "    content_derived_from_user_info: <YES - Referred from User Info provided below / NO - LLM Generated Sample>\n",
        "\n",
        "}}\n",
        "Produce only JSON.\n",
        "---\n",
        "User info: {user_info}\n",
        "\"\"\""
      ],
      "metadata": {
        "id": "fkLq0uzHdrCY"
      },
      "execution_count": null,
      "outputs": []
    },
    {
      "cell_type": "code",
      "source": [
        "get_response(prompt)"
      ],
      "metadata": {
        "colab": {
          "base_uri": "https://localhost:8080/"
        },
        "id": "MH5iue3CXhyN",
        "outputId": "96b99e1b-3553-4ae4-eef1-623e6443fbd1"
      },
      "execution_count": null,
      "outputs": [
        {
          "output_type": "stream",
          "name": "stdout",
          "text": [
            "```json\n",
            "{\n",
            "    \"name\": \"Taylor Swift\",\n",
            "    \"location\": \"Nashville, TN\",\n",
            "    \"influencer_status\": \"influencer\",\n",
            "    \"profession\": \"Singer-Songwriter\",\n",
            "    \"num_followers\": 250000000,\n",
            "    \"num_following\": 1000,\n",
            "    \"total_posts\": 3000,\n",
            "    \"bio\": \"Lover of music, cats, and coffee. 🌟\",\n",
            "    \"bio_sentiment\": \"positive\",\n",
            "    \"bio_opinion\": \"joy\",\n",
            "    \"associated_brand\": \"Reputation, Folklore, Evermore\",\n",
            "    \"interests\": \"Music, Writing, Philanthropy, Fashion\",\n",
            "    \"urls\": [\n",
            "        \"https://www.instagram.com/taylorswift/\",\n",
            "        \"https://www.taylorswift.com/\"\n",
            "    ],\n",
            "    \"content_derived_from_user_info\": \"NO\"\n",
            "}\n",
            "```\n"
          ]
        }
      ]
    },
    {
      "cell_type": "markdown",
      "source": [
        "Below is the actual page source content, validated with the right information required."
      ],
      "metadata": {
        "id": "6iUd84ghjBvw"
      }
    },
    {
      "cell_type": "code",
      "source": [
        "file = open(\"page_source.txt\", \"r\")\n",
        "content = file.read()\n",
        "print(len(content))\n",
        "file.close()"
      ],
      "metadata": {
        "colab": {
          "base_uri": "https://localhost:8080/"
        },
        "id": "2-PZd2KjjBG6",
        "outputId": "f5e706a6-27e2-4793-bdbb-fcb048fbaca6"
      },
      "execution_count": null,
      "outputs": [
        {
          "output_type": "stream",
          "name": "stdout",
          "text": [
            "561735\n"
          ]
        }
      ]
    },
    {
      "cell_type": "code",
      "source": [
        "user_info = content[:-200000]\n",
        "prompt = f\"\"\"\n",
        "Create user profile using the following JSON format:\n",
        "{{\n",
        "\n",
        "    name: <name>,\n",
        "    location: <location>,\n",
        "    influencer_status: <influencer/none>,\n",
        "    profession: <profession>,\n",
        "    num_followers: <followers count on Insta>,\n",
        "    num_following: <following count on Insta>,\n",
        "    total_posts: <number of posts on Insta>,\n",
        "    bio: <bio>.\n",
        "    bio_sentiment: <positive/negative/neutral>,\n",
        "    bio_opinion: <joy/sadness/anxious/angry/excitement>,\n",
        "    associated_brand: <endorsing any brand, then names>,\n",
        "    interests: <possible interests>,\n",
        "    urls: <associated urls>,\n",
        "    content_derived_from_user_info: <YES - Referred from User Info provided below / NO - LLM Generated Sample>\n",
        "\n",
        "}}\n",
        "Produce only JSON.\n",
        "---\n",
        "User info: {user_info}\n",
        "\"\"\"\n",
        "\n",
        "get_response(prompt)"
      ],
      "metadata": {
        "colab": {
          "base_uri": "https://localhost:8080/"
        },
        "id": "FjQZWlaujYkn",
        "outputId": "ed938387-f663-427e-ea7d-aee32f52c250"
      },
      "execution_count": null,
      "outputs": [
        {
          "output_type": "stream",
          "name": "stdout",
          "text": [
            "```json\n",
            "{\n",
            "    \"name\": \"Taylor Swift\",\n",
            "    \"location\": \"Unknown\",\n",
            "    \"influencer_status\": \"influencer\",\n",
            "    \"profession\": \"Singer-Songwriter\",\n",
            "    \"num_followers\": 283000000,\n",
            "    \"num_following\": 0,\n",
            "    \"total_posts\": 675,\n",
            "    \"bio\": \"All’s fair in love and poetry... New album THE TORTURED POETS DEPARTMENT. Out now 🤍\",\n",
            "    \"bio_sentiment\": \"positive\",\n",
            "    \"bio_opinion\": \"joy\",\n",
            "    \"associated_brand\": \"None\",\n",
            "    \"interests\": \"Music, Writing, Performing\",\n",
            "    \"urls\": [\n",
            "        \"https://www.instagram.com/taylorswift/\"\n",
            "    ],\n",
            "    \"content_derived_from_user_info\": \"YES\"\n",
            "}\n",
            "```\n"
          ]
        }
      ]
    },
    {
      "cell_type": "markdown",
      "source": [
        "And with this I'd like to conclude that- Let LLMs speak because LLMs will try  to give you a hint if the response is factual or not. So take it and build around it!"
      ],
      "metadata": {
        "id": "8biqnRJl-oah"
      }
    },
    {
      "cell_type": "markdown",
      "source": [
        "**Thanks for visiting!**"
      ],
      "metadata": {
        "id": "SCcqaQuq5bo0"
      }
    }
  ]
}
