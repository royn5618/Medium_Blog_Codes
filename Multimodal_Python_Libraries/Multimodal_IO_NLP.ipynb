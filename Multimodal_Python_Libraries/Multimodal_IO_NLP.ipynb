{
 "cells": [
  {
   "cell_type": "markdown",
   "metadata": {},
   "source": [
    "**Setup**"
   ]
  },
  {
   "cell_type": "code",
   "execution_count": null,
   "metadata": {
    "ExecuteTime": {
     "end_time": "2023-03-26T23:20:05.903325Z",
     "start_time": "2023-03-26T23:20:05.878166Z"
    }
   },
   "outputs": [],
   "source": [
    "import os"
   ]
  },
  {
   "cell_type": "code",
   "execution_count": null,
   "metadata": {
    "ExecuteTime": {
     "end_time": "2023-03-26T23:20:05.921671Z",
     "start_time": "2023-03-26T23:20:05.904174Z"
    }
   },
   "outputs": [],
   "source": [
    "dir_output = 'Outputs'"
   ]
  },
  {
   "cell_type": "code",
   "execution_count": null,
   "metadata": {
    "ExecuteTime": {
     "end_time": "2023-03-26T23:20:05.946488Z",
     "start_time": "2023-03-26T23:20:05.922834Z"
    }
   },
   "outputs": [],
   "source": [
    "os.makedirs(dir_output, exist_ok=True)"
   ]
  },
  {
   "cell_type": "markdown",
   "metadata": {},
   "source": [
    "# PyAudio"
   ]
  },
  {
   "cell_type": "code",
   "execution_count": null,
   "metadata": {
    "ExecuteTime": {
     "end_time": "2023-03-26T23:20:05.986470Z",
     "start_time": "2023-03-26T23:20:05.946488Z"
    }
   },
   "outputs": [],
   "source": [
    "import pyaudio\n",
    "import wave"
   ]
  },
  {
   "cell_type": "code",
   "execution_count": null,
   "metadata": {
    "ExecuteTime": {
     "end_time": "2023-03-26T23:20:06.010063Z",
     "start_time": "2023-03-26T23:20:05.987305Z"
    }
   },
   "outputs": [],
   "source": [
    "CHUNK = 1024\n",
    "FORMAT = pyaudio.paInt16\n",
    "CHANNELS = 2\n",
    "RATE = 44100\n",
    "RECORD_SECONDS = 5\n",
    "WAVE_OUTPUT_FILENAME = dir_output + \"/output.wav\""
   ]
  },
  {
   "cell_type": "code",
   "execution_count": null,
   "metadata": {
    "ExecuteTime": {
     "end_time": "2023-03-26T23:20:11.800792Z",
     "start_time": "2023-03-26T23:20:06.010776Z"
    }
   },
   "outputs": [],
   "source": [
    "p = pyaudio.PyAudio()\n",
    "stream = p.open(format=FORMAT,\n",
    "                channels=CHANNELS,\n",
    "                rate=RATE,\n",
    "                input=True,\n",
    "                frames_per_buffer=CHUNK)\n",
    "print(\"Start recording... You have only 5 secs!\")\n",
    "frames = []\n",
    "for i in range(0, int(RATE / CHUNK * RECORD_SECONDS)):\n",
    "    data = stream.read(CHUNK)\n",
    "    frames.append(data)\n",
    "print(\"*Recording completed...\")"
   ]
  },
  {
   "cell_type": "code",
   "execution_count": null,
   "metadata": {
    "ExecuteTime": {
     "end_time": "2023-03-26T23:20:11.890414Z",
     "start_time": "2023-03-26T23:20:11.808234Z"
    }
   },
   "outputs": [],
   "source": [
    "stream.stop_stream()\n",
    "stream.close()\n",
    "p.terminate()\n",
    "wf = wave.open(WAVE_OUTPUT_FILENAME, 'wb')\n",
    "wf.setnchannels(CHANNELS)\n",
    "wf.setsampwidth(p.get_sample_size(FORMAT))\n",
    "wf.setframerate(RATE)\n",
    "wf.writeframes(b''.join(frames))\n",
    "wf.close()"
   ]
  },
  {
   "cell_type": "code",
   "execution_count": null,
   "metadata": {
    "ExecuteTime": {
     "end_time": "2023-03-26T23:20:17.347412Z",
     "start_time": "2023-03-26T23:20:11.901915Z"
    }
   },
   "outputs": [],
   "source": [
    "chunk = 1024  \n",
    "\n",
    "# Open the sound file \n",
    "wf = wave.open(WAVE_OUTPUT_FILENAME, 'rb')\n",
    "\n",
    "# Create an interface to PortAudio\n",
    "p = pyaudio.PyAudio()\n",
    "\n",
    "# Open a .Stream object to write the WAV file to\n",
    "# 'output = True' indicates that the sound will be played rather than recorded\n",
    "stream = p.open(format = p.get_format_from_width(wf.getsampwidth()),\n",
    "                channels = wf.getnchannels(),\n",
    "                rate = wf.getframerate(),\n",
    "                output = True)\n",
    "\n",
    "# Read data in chunks\n",
    "data = wf.readframes(chunk)\n",
    "\n",
    "# Play the sound by writing the audio data to the stream\n",
    "while data:\n",
    "    stream.write(data)\n",
    "    data = wf.readframes(chunk)\n",
    "\n",
    "# Close and terminate the stream\n",
    "stream.close()\n",
    "p.terminate()"
   ]
  },
  {
   "cell_type": "markdown",
   "metadata": {},
   "source": [
    "# Speech Recognizer"
   ]
  },
  {
   "cell_type": "code",
   "execution_count": null,
   "metadata": {
    "ExecuteTime": {
     "end_time": "2023-03-26T23:20:24.711254Z",
     "start_time": "2023-03-26T23:20:17.347412Z"
    }
   },
   "outputs": [],
   "source": [
    "import speech_recognition as sr\n",
    "\n",
    "# obtain audio from the microphone\n",
    "r = sr.Recognizer()\n",
    "with sr.Microphone() as source:\n",
    "    print(\"Say something!\")\n",
    "    audio = r.listen(source,phrase_time_limit=10) # ask the progtam to eait for 10 seconds\n",
    "try:\n",
    "    print(\"Google Speech Recognition thinks you said \" + r.recognize_google(audio))\n",
    "except sr.UnknownValueError:\n",
    "    print(\"Could not understand audio\")"
   ]
  },
  {
   "cell_type": "markdown",
   "metadata": {},
   "source": [
    "# Keras Optical Character Recognition"
   ]
  },
  {
   "cell_type": "code",
   "execution_count": null,
   "metadata": {
    "ExecuteTime": {
     "end_time": "2023-03-26T23:20:34.784950Z",
     "start_time": "2023-03-26T23:20:24.711254Z"
    }
   },
   "outputs": [],
   "source": [
    "import numpy as np\n",
    "import tensorflow as tf\n",
    "from platform import python_version\n",
    "\n",
    "# this prints the library version\n",
    "print(tf.__version__) \n",
    "print(np.__version__) \n",
    "\n",
    "# this prints the python version\n",
    "print(python_version())"
   ]
  },
  {
   "cell_type": "code",
   "execution_count": null,
   "metadata": {
    "ExecuteTime": {
     "end_time": "2023-03-26T23:20:38.045739Z",
     "start_time": "2023-03-26T23:20:34.784950Z"
    }
   },
   "outputs": [],
   "source": [
    "import keras_ocr # Required numpy1.23.1"
   ]
  },
  {
   "cell_type": "code",
   "execution_count": null,
   "metadata": {
    "ExecuteTime": {
     "end_time": "2023-03-26T23:20:43.120312Z",
     "start_time": "2023-03-26T23:20:38.045739Z"
    }
   },
   "outputs": [],
   "source": [
    "# https://github.com/faustomorales/keras-ocr/releases/download/v0.8.4/crnn_kurapan.h5\n",
    "# https://github.com/faustomorales/keras-ocr/releases/download/v0.8.4/craft_mlt_25k.h5\n",
    "pipeline = keras_ocr.pipeline.Pipeline()"
   ]
  },
  {
   "cell_type": "code",
   "execution_count": null,
   "metadata": {
    "ExecuteTime": {
     "end_time": "2023-03-26T23:21:23.553396Z",
     "start_time": "2023-03-26T23:20:43.121136Z"
    }
   },
   "outputs": [],
   "source": [
    "image_links = [#\"https://thegoalchaser.com/wp-content/uploads/positive-life-quotes-1.png\",\n",
    "               \"https://hips.hearstapps.com/hmg-prod/images/life-quotes-zhuangzi-1665420803.png\",\n",
    "               \"https://images.gr-assets.com/quotes/1511992603p8/8630.jpg\"\n",
    "              ]\n",
    "\n",
    "images = [keras_ocr.tools.read(url) for url in image_links]\n",
    "\n",
    "# Each list of predictions in prediction_groups is a list of\n",
    "# (word, box) tuples.\n",
    "prediction_groups = pipeline.recognize(images)"
   ]
  },
  {
   "cell_type": "code",
   "execution_count": null,
   "metadata": {
    "ExecuteTime": {
     "end_time": "2023-03-26T23:24:05.593197Z",
     "start_time": "2023-03-26T23:24:04.704161Z"
    }
   },
   "outputs": [],
   "source": [
    "keras_ocr.tools.drawAnnotations(image=images[0], predictions=prediction_groups[0])"
   ]
  },
  {
   "cell_type": "code",
   "execution_count": null,
   "metadata": {
    "ExecuteTime": {
     "end_time": "2023-03-26T23:24:58.966581Z",
     "start_time": "2023-03-26T23:24:58.948585Z"
    }
   },
   "outputs": [],
   "source": [
    "# prediction_groups[0]"
   ]
  },
  {
   "cell_type": "code",
   "execution_count": null,
   "metadata": {
    "ExecuteTime": {
     "end_time": "2023-03-26T23:23:56.271772Z",
     "start_time": "2023-03-26T23:23:56.245228Z"
    }
   },
   "outputs": [],
   "source": [
    "print([each[0] for each in prediction_groups[0]])"
   ]
  },
  {
   "cell_type": "markdown",
   "metadata": {},
   "source": [
    "# PyPDF2"
   ]
  },
  {
   "cell_type": "code",
   "execution_count": null,
   "metadata": {
    "ExecuteTime": {
     "end_time": "2023-03-26T23:21:38.250395Z",
     "start_time": "2023-03-26T23:21:25.471422Z"
    }
   },
   "outputs": [],
   "source": [
    "import urllib.request\n",
    "url = \"https://www.uc.edu/content/dam/uc/ce/docs/OLLI/Page%20Content/ARTIFICIAL%20INTELLIGENCEr.pdf\"\n",
    "urllib.request.urlretrieve(url, \"test_pdf.pdf\")"
   ]
  },
  {
   "cell_type": "code",
   "execution_count": null,
   "metadata": {
    "ExecuteTime": {
     "end_time": "2023-03-26T23:21:38.884657Z",
     "start_time": "2023-03-26T23:21:38.258394Z"
    }
   },
   "outputs": [],
   "source": [
    "from PyPDF2 import PdfReader\n",
    "\n",
    "# https://www.diochnos.com/about/McCarthyWhatisAI.pdf\n",
    "\n",
    "reader = PdfReader(\"test_pdf.pdf\")\n",
    "number_of_pages = len(reader.pages)"
   ]
  },
  {
   "cell_type": "code",
   "execution_count": null,
   "metadata": {
    "ExecuteTime": {
     "end_time": "2023-03-26T23:21:38.900549Z",
     "start_time": "2023-03-26T23:21:38.884657Z"
    }
   },
   "outputs": [],
   "source": [
    "page = reader.pages[0]\n",
    "text = page.extract_text()"
   ]
  },
  {
   "cell_type": "code",
   "execution_count": null,
   "metadata": {
    "ExecuteTime": {
     "end_time": "2023-03-26T23:21:38.921965Z",
     "start_time": "2023-03-26T23:21:38.905237Z"
    }
   },
   "outputs": [],
   "source": [
    "text"
   ]
  },
  {
   "cell_type": "code",
   "execution_count": null,
   "metadata": {
    "ExecuteTime": {
     "end_time": "2023-03-26T23:21:39.405199Z",
     "start_time": "2023-03-26T23:21:38.922450Z"
    }
   },
   "outputs": [],
   "source": [
    "list_text_in_pdf_by_page_num = []\n",
    "for num_page in range(0, number_of_pages):\n",
    "    page = reader.pages[num_page]\n",
    "    text = page.extract_text()\n",
    "    list_text_in_pdf_by_page_num.append(text)"
   ]
  },
  {
   "cell_type": "code",
   "execution_count": null,
   "metadata": {
    "ExecuteTime": {
     "end_time": "2023-03-26T23:21:39.423470Z",
     "start_time": "2023-03-26T23:21:39.405199Z"
    }
   },
   "outputs": [],
   "source": [
    "list_text_in_pdf_by_page_num[1]"
   ]
  },
  {
   "cell_type": "markdown",
   "metadata": {},
   "source": [
    "# pyttsx3"
   ]
  },
  {
   "cell_type": "code",
   "execution_count": null,
   "metadata": {
    "ExecuteTime": {
     "end_time": "2023-03-26T23:21:40.155305Z",
     "start_time": "2023-03-26T23:21:39.426825Z"
    }
   },
   "outputs": [],
   "source": [
    "import pyttsx3\n",
    "engine = pyttsx3.init()"
   ]
  },
  {
   "cell_type": "code",
   "execution_count": null,
   "metadata": {
    "ExecuteTime": {
     "end_time": "2023-03-26T23:21:40.230555Z",
     "start_time": "2023-03-26T23:21:40.155305Z"
    }
   },
   "outputs": [],
   "source": [
    "speech_text = \"Good morning!\"\n",
    "voices = engine.getProperty('voices')\n",
    "engine.setProperty('voice', voices[0].id)\n",
    "# engine.say(speech_text)\n",
    "# engine.say(list_text_in_pdf_by_page_num[1].replace('\\n', ''))\n",
    "engine.runAndWait()"
   ]
  },
  {
   "cell_type": "code",
   "execution_count": null,
   "metadata": {
    "ExecuteTime": {
     "end_time": "2023-03-26T23:21:40.455747Z",
     "start_time": "2023-03-26T23:21:40.247148Z"
    }
   },
   "outputs": [],
   "source": [
    "engine.save_to_file(speech_text, dir_output + '/pyttsx3_save_audio.mp3') # save to a file\n",
    "engine.runAndWait()"
   ]
  },
  {
   "cell_type": "markdown",
   "metadata": {},
   "source": [
    "# PyTube"
   ]
  },
  {
   "cell_type": "code",
   "execution_count": 1,
   "metadata": {
    "ExecuteTime": {
     "end_time": "2023-03-27T00:21:42.735703Z",
     "start_time": "2023-03-27T00:21:42.627513Z"
    }
   },
   "outputs": [],
   "source": [
    "from pytube import YouTube"
   ]
  },
  {
   "cell_type": "code",
   "execution_count": 2,
   "metadata": {
    "ExecuteTime": {
     "end_time": "2023-03-27T00:21:42.834639Z",
     "start_time": "2023-03-27T00:21:42.810298Z"
    }
   },
   "outputs": [],
   "source": [
    "import pytube"
   ]
  },
  {
   "cell_type": "code",
   "execution_count": 3,
   "metadata": {
    "ExecuteTime": {
     "end_time": "2023-03-27T00:21:43.062981Z",
     "start_time": "2023-03-27T00:21:43.030244Z"
    }
   },
   "outputs": [
    {
     "data": {
      "text/plain": [
       "'12.1.2'"
      ]
     },
     "execution_count": 3,
     "metadata": {},
     "output_type": "execute_result"
    }
   ],
   "source": [
    "pytube.__version__"
   ]
  },
  {
   "cell_type": "code",
   "execution_count": 9,
   "metadata": {
    "ExecuteTime": {
     "end_time": "2023-03-27T00:25:21.500962Z",
     "start_time": "2023-03-27T00:24:33.878717Z"
    }
   },
   "outputs": [
    {
     "data": {
      "text/plain": [
       "'C:\\\\Users\\\\nroy0\\\\Documents\\\\MyGitHub\\\\Medium_Blog_Codes\\\\Multimodal_Python_Libraries\\\\United Nations Says Climate Crisis Is a ‘Time Bomb’.mp4'"
      ]
     },
     "execution_count": 9,
     "metadata": {},
     "output_type": "execute_result"
    }
   ],
   "source": [
    "yt = YouTube('https://www.youtube.com/watch?v=HI3EWPKda0c')\n",
    "yt.streams.filter(progressive=True, file_extension='mp4').order_by('resolution').desc().first().download()"
   ]
  },
  {
   "cell_type": "code",
   "execution_count": 10,
   "metadata": {
    "ExecuteTime": {
     "end_time": "2023-03-27T00:25:21.607146Z",
     "start_time": "2023-03-27T00:25:21.575513Z"
    }
   },
   "outputs": [
    {
     "data": {
      "text/plain": [
       "'United Nations Says Climate Crisis Is a ‘Time Bomb’'"
      ]
     },
     "execution_count": 10,
     "metadata": {},
     "output_type": "execute_result"
    }
   ],
   "source": [
    "yt.title"
   ]
  },
  {
   "cell_type": "code",
   "execution_count": 11,
   "metadata": {
    "ExecuteTime": {
     "end_time": "2023-03-27T00:25:21.696719Z",
     "start_time": "2023-03-27T00:25:21.680262Z"
    }
   },
   "outputs": [
    {
     "data": {
      "text/plain": [
       "'The United Nations is sounding an urgent alarm on the environment. An intergovernmental panel of top scientists says time is running out to save the planet from the effects of climate change. The panel is urging governments to take immediate action. It has been compiling research since 2015 from around the world, noting the impact climate change has had and what needs to be done to combat it. Inside Edition Digital’s Mara Montalbano has more.'"
      ]
     },
     "execution_count": 11,
     "metadata": {},
     "output_type": "execute_result"
    }
   ],
   "source": [
    "yt.description"
   ]
  },
  {
   "cell_type": "code",
   "execution_count": 7,
   "metadata": {
    "ExecuteTime": {
     "end_time": "2023-03-27T00:22:41.807972Z",
     "start_time": "2023-03-27T00:22:41.782237Z"
    }
   },
   "outputs": [
    {
     "data": {
      "text/plain": [
       "{'a.en': <Caption lang=\"English (auto-generated)\" code=\"a.en\">}"
      ]
     },
     "execution_count": 7,
     "metadata": {},
     "output_type": "execute_result"
    }
   ],
   "source": [
    "yt.captions"
   ]
  },
  {
   "cell_type": "code",
   "execution_count": 13,
   "metadata": {
    "ExecuteTime": {
     "end_time": "2023-03-27T00:31:28.169069Z",
     "start_time": "2023-03-27T00:31:27.978627Z"
    }
   },
   "outputs": [
    {
     "data": {
      "text/plain": [
       "'<?xml version=\"1.0\" encoding=\"utf-8\" ?><timedtext format=\"3\">\\n<head>\\n<ws id=\"0\"/>\\n<ws id=\"1\" mh=\"2\" ju=\"0\" sd=\"3\"/>\\n<wp id=\"0\"/>\\n<wp id=\"1\" ap=\"6\" ah=\"20\" av=\"100\" rc=\"2\" cc=\"40\"/>\\n</head>\\n<body>\\n<w t=\"0\" id=\"1\" wp=\"1\" ws=\"1\"/>\\n<p t=\"0\" d=\"4799\" w=\"1\"><s ac=\"248\">the</s><s t=\"480\" ac=\"248\"> United</s><s t=\"599\" ac=\"248\"> Nations</s><s t=\"1079\" ac=\"248\"> is</s><s t=\"1500\" ac=\"248\"> sounding</s><s t=\"1920\" ac=\"248\"> an</s><s t=\"2340\" ac=\"248\"> urgent</s></p>\\n<p t=\"2510\" d=\"2289\" w=\"1\" a=\"1\">\\n</p>\\n<p t=\"2520\" d=\"3779\" w=\"1\"><s ac=\"248\">alarm</s><s t=\"119\" ac=\"248\"> on</s><s t=\"600\" ac=\"248\"> the</s><s t=\"780\" ac=\"248\"> environment</s><s t=\"1200\" ac=\"248\"> the</s><s t=\"1860\" ac=\"248\"> climate</s></p>\\n<p t=\"4789\" d=\"1510\" w=\"1\" a=\"1\">\\n</p>\\n<p t=\"4799\" d=\"4380\" w=\"1\"><s ac=\"248\">Time</s><s t=\"241\" ac=\"244\"> Bomb</s><s t=\"480\" ac=\"245\"> is</s></p>\\n<p t=\"6289\" d=\"2890\" w=\"1\" a=\"1\">\\n</p>\\n<p t=\"6299\" d=\"5281\" w=\"1\"><s ac=\"248\">a</s><s t=\"480\" ac=\"218\"> un</s><s t=\"800\" ac=\"244\"> intergovernmental</s><s t=\"1800\" ac=\"248\"> panel</s><s t=\"2281\" ac=\"248\"> of</s><s t=\"2581\" ac=\"243\"> top</s></p>\\n<p t=\"9169\" d=\"2411\" w=\"1\" a=\"1\">\\n</p>\\n<p t=\"9179\" d=\"3960\" w=\"1\"><s ac=\"248\">scientists</s><s t=\"661\" ac=\"248\"> says</s><s t=\"1380\" ac=\"248\"> time</s><s t=\"1561\" ac=\"248\"> is</s><s t=\"1741\" ac=\"248\"> running</s><s t=\"1920\" ac=\"248\"> out</s><s t=\"2221\" ac=\"248\"> to</s></p>\\n<p t=\"11570\" d=\"1569\" w=\"1\" a=\"1\">\\n</p>\\n<p t=\"11580\" d=\"3780\" w=\"1\"><s ac=\"248\">save</s><s t=\"180\" ac=\"248\"> the</s><s t=\"420\" ac=\"248\"> planet</s><s t=\"540\" ac=\"248\"> from</s><s t=\"960\" ac=\"248\"> the</s><s t=\"1139\" ac=\"248\"> effects</s><s t=\"1439\" ac=\"248\"> of</s></p>\\n<p t=\"13129\" d=\"2231\" w=\"1\" a=\"1\">\\n</p>\\n<p t=\"13139\" d=\"5281\" w=\"1\"><s ac=\"248\">climate</s><s t=\"481\" ac=\"248\"> change</s><s t=\"721\" ac=\"248\"> the</s><s t=\"1441\" ac=\"248\"> panel</s><s t=\"1741\" ac=\"248\"> is</s><s t=\"2040\" ac=\"248\"> urging</s></p>\\n<p t=\"15350\" d=\"3070\" w=\"1\" a=\"1\">\\n</p>\\n<p t=\"15360\" d=\"4980\" w=\"1\"><s ac=\"248\">governments</s><s t=\"600\" ac=\"248\"> to</s><s t=\"779\" ac=\"248\"> take</s><s t=\"960\" ac=\"248\"> immediate</s><s t=\"1679\" ac=\"248\"> action</s><s t=\"2100\" ac=\"248\"> we</s></p>\\n<p t=\"18410\" d=\"1930\" w=\"1\" a=\"1\">\\n</p>\\n<p t=\"18420\" d=\"5580\" w=\"1\"><s ac=\"248\">must</s><s t=\"240\" ac=\"248\"> move</s><s t=\"480\" ac=\"248\"> from</s><s t=\"779\" ac=\"248\"> climate</s><s t=\"1199\" ac=\"248\"> procrastination</s></p>\\n<p t=\"20330\" d=\"3670\" w=\"1\" a=\"1\">\\n</p>\\n<p t=\"20340\" d=\"6420\" w=\"1\"><s ac=\"248\">to</s><s t=\"900\" ac=\"248\"> climate</s><s t=\"1320\" ac=\"248\"> activation</s><s t=\"1859\" ac=\"248\"> and</s><s t=\"2820\" ac=\"248\"> we</s><s t=\"3060\" ac=\"248\"> must</s><s t=\"3240\" ac=\"248\"> begin</s></p>\\n<p t=\"23990\" d=\"2770\" w=\"1\" a=\"1\">\\n</p>\\n<p t=\"24000\" d=\"5160\" w=\"1\"><s ac=\"248\">this</s><s t=\"480\" ac=\"248\"> today</s><s t=\"900\" ac=\"248\"> the</s><s t=\"1619\" ac=\"248\"> panel</s><s t=\"1920\" ac=\"248\"> has</s><s t=\"2100\" ac=\"248\"> been</s><s t=\"2279\" ac=\"248\"> compiling</s></p>\\n<p t=\"26750\" d=\"2410\" w=\"1\" a=\"1\">\\n</p>\\n<p t=\"26760\" d=\"4800\" w=\"1\"><s ac=\"248\">research</s><s t=\"540\" ac=\"248\"> since</s><s t=\"839\" ac=\"248\"> 2015</s><s t=\"1439\" ac=\"248\"> from</s><s t=\"1920\" ac=\"248\"> around</s><s t=\"2099\" ac=\"248\"> the</s></p>\\n<p t=\"29150\" d=\"2410\" w=\"1\" a=\"1\">\\n</p>\\n<p t=\"29160\" d=\"4680\" w=\"1\"><s ac=\"248\">world</s><s t=\"119\" ac=\"248\"> noting</s><s t=\"1080\" ac=\"248\"> the</s><s t=\"1320\" ac=\"248\"> impact</s><s t=\"1680\" ac=\"248\"> climate</s><s t=\"2220\" ac=\"248\"> change</s></p>\\n<p t=\"31550\" d=\"2290\" w=\"1\" a=\"1\">\\n</p>\\n<p t=\"31560\" d=\"4440\" w=\"1\"><s ac=\"248\">has</s><s t=\"360\" ac=\"248\"> had</s><s t=\"539\" ac=\"248\"> and</s><s t=\"1080\" ac=\"248\"> what</s><s t=\"1320\" ac=\"248\"> needs</s><s t=\"1560\" ac=\"248\"> to</s><s t=\"1679\" ac=\"248\"> be</s><s t=\"1800\" ac=\"248\"> done</s><s t=\"1980\" ac=\"248\"> to</s></p>\\n<p t=\"33830\" d=\"2170\" w=\"1\" a=\"1\">\\n</p>\\n<p t=\"33840\" d=\"5040\" w=\"1\"><s ac=\"248\">combat</s><s t=\"360\" ac=\"248\"> it</s><s t=\"540\" ac=\"248\"> renewable</s><s t=\"1260\" ac=\"248\"> energy</s><s t=\"1500\" ac=\"248\"> instead</s><s t=\"2040\" ac=\"248\"> of</s></p>\\n<p t=\"35990\" d=\"2890\" w=\"1\" a=\"1\">\\n</p>\\n<p t=\"36000\" d=\"5520\" w=\"1\"><s ac=\"248\">fossil</s><s t=\"360\" ac=\"248\"> fuels</s><s t=\"780\" ac=\"248\"> Energy</s><s t=\"1500\" ac=\"248\"> Efficiency</s><s t=\"2160\" ac=\"248\"> green</s></p>\\n<p t=\"38870\" d=\"2650\" w=\"1\" a=\"1\">\\n</p>\\n<p t=\"38880\" d=\"5460\" w=\"1\"><s ac=\"248\">transport</s><s t=\"660\" ac=\"248\"> green</s><s t=\"1440\" ac=\"248\"> Urban</s><s t=\"1679\" ac=\"248\"> infrastructure</s></p>\\n<p t=\"41510\" d=\"2830\" w=\"1\" a=\"1\">\\n</p>\\n<p t=\"41520\" d=\"5640\" w=\"1\"><s ac=\"248\">halting</s><s t=\"840\" ac=\"248\"> deforestation</s><s t=\"1820\" ac=\"248\"> ecosystem</s></p>\\n<p t=\"44330\" d=\"2830\" w=\"1\" a=\"1\">\\n</p>\\n<p t=\"44340\" d=\"5039\" w=\"1\"><s ac=\"248\">restoration</s><s t=\"719\" ac=\"248\"> the</s><s t=\"1559\" ac=\"248\"> war</s><s t=\"1680\" ac=\"248\"> in</s><s t=\"1860\" ac=\"240\"> Ukraine</s><s t=\"2280\" ac=\"248\"> has</s><s t=\"2580\" ac=\"248\"> only</s></p>\\n<p t=\"47150\" d=\"2229\" w=\"1\" a=\"1\">\\n</p>\\n<p t=\"47160\" d=\"4680\" w=\"1\"><s ac=\"248\">increased</s><s t=\"899\" ac=\"245\"> urgency</s><s t=\"1079\" ac=\"248\"> for</s><s t=\"1440\" ac=\"248\"> renewable</s><s t=\"1860\" ac=\"244\"> energy</s></p>\\n<p t=\"49369\" d=\"2471\" w=\"1\" a=\"1\">\\n</p>\\n<p t=\"49379\" d=\"5160\" w=\"1\"><s ac=\"248\">sources</s><s t=\"601\" ac=\"248\"> as</s><s t=\"1141\" ac=\"248\"> many</s><s t=\"1321\" ac=\"248\"> countries</s><s t=\"1741\" ac=\"248\"> in</s><s t=\"1921\" ac=\"248\"> Europe</s><s t=\"2101\" ac=\"248\"> have</s></p>\\n<p t=\"51830\" d=\"2709\" w=\"1\" a=\"1\">\\n</p>\\n<p t=\"51840\" d=\"5160\" w=\"1\"><s ac=\"248\">resorted</s><s t=\"480\" ac=\"248\"> back</s><s t=\"780\" ac=\"248\"> to</s><s t=\"1020\" ac=\"248\"> using</s><s t=\"1379\" ac=\"248\"> coal</s><s t=\"1920\" ac=\"248\"> as</s><s t=\"2340\" ac=\"248\"> relations</s></p>\\n<p t=\"54529\" d=\"2471\" w=\"1\" a=\"1\">\\n</p>\\n<p t=\"54539\" d=\"4200\" w=\"1\"><s ac=\"248\">with</s><s t=\"301\" ac=\"248\"> Russia</s><s t=\"660\" ac=\"248\"> have</s><s t=\"901\" ac=\"248\"> become</s><s t=\"1261\" ac=\"248\"> strained</s><s t=\"1860\" ac=\"247\"> it&#39;s</s></p>\\n<p t=\"56990\" d=\"1749\" w=\"1\" a=\"1\">\\n</p>\\n<p t=\"57000\" d=\"3899\" w=\"1\"><s ac=\"248\">not</s><s t=\"180\" ac=\"248\"> the</s><s t=\"420\" ac=\"248\"> first</s><s t=\"539\" ac=\"248\"> time</s><s t=\"719\" ac=\"248\"> such</s><s t=\"1020\" ac=\"248\"> a</s><s t=\"1199\" ac=\"248\"> warning</s><s t=\"1559\" ac=\"248\"> has</s></p>\\n<p t=\"58729\" d=\"2170\" w=\"1\" a=\"1\">\\n</p>\\n<p t=\"58739\" d=\"4800\" w=\"1\"><s ac=\"248\">been</s><s t=\"241\" ac=\"248\"> issued</s><s t=\"660\" ac=\"248\"> but</s><s t=\"1081\" ac=\"248\"> whether</s><s t=\"1261\" ac=\"248\"> governments</s><s t=\"1921\" ac=\"248\"> will</s></p>\\n<p t=\"60889\" d=\"2650\" w=\"1\" a=\"1\">\\n</p>\\n<p t=\"60899\" d=\"7161\" w=\"1\"><s ac=\"248\">act</s><s t=\"300\" ac=\"248\"> is</s><s t=\"721\" ac=\"248\"> the</s><s t=\"961\" ac=\"248\"> big</s><s t=\"1140\" ac=\"248\"> question</s><s t=\"1561\" ac=\"248\"> for</s><s t=\"2401\" ac=\"248\"> Inside</s></p>\\n<p t=\"63529\" d=\"4531\" w=\"1\" a=\"1\">\\n</p>\\n<p t=\"63539\" d=\"4521\" w=\"1\"><s ac=\"248\">Edition</s><s t=\"360\" ac=\"248\"> digital</s><s t=\"961\" ac=\"248\"> I&#39;m</s><s t=\"1440\" ac=\"248\"> Mara</s><s t=\"1800\" ac=\"240\"> Montalbano</s></p>\\n</body>\\n</timedtext>\\n'"
      ]
     },
     "execution_count": 13,
     "metadata": {},
     "output_type": "execute_result"
    }
   ],
   "source": [
    "yt.captions['a.en'].xml_captions"
   ]
  },
  {
   "cell_type": "code",
   "execution_count": 15,
   "metadata": {
    "ExecuteTime": {
     "end_time": "2023-03-27T00:32:39.087324Z",
     "start_time": "2023-03-27T00:32:38.271926Z"
    }
   },
   "outputs": [],
   "source": [
    "from bs4 import BeautifulSoup"
   ]
  },
  {
   "cell_type": "code",
   "execution_count": 16,
   "metadata": {
    "ExecuteTime": {
     "end_time": "2023-03-27T00:33:00.279210Z",
     "start_time": "2023-03-27T00:33:00.084428Z"
    }
   },
   "outputs": [],
   "source": [
    "soup = BeautifulSoup(yt.captions['a.en'].xml_captions, 'xml')"
   ]
  },
  {
   "cell_type": "code",
   "execution_count": 21,
   "metadata": {
    "ExecuteTime": {
     "end_time": "2023-03-27T00:35:22.565628Z",
     "start_time": "2023-03-27T00:35:22.533094Z"
    }
   },
   "outputs": [
    {
     "data": {
      "text/plain": [
       "\"the United Nations is sounding an urgent alarm on the environment the climate Time Bomb is a un intergovernmental panel of top scientists says time is running out to save the planet from the effects of climate change the panel is urging governments to take immediate action we must move from climate procrastination to climate activation and we must begin this today the panel has been compiling research since 2015 from around the world noting the impact climate change has had and what needs to be done to combat it renewable energy instead of fossil fuels Energy Efficiency green transport green Urban infrastructure halting deforestation ecosystem restoration the war in Ukraine has only increased urgency for renewable energy sources as many countries in Europe have resorted back to using coal as relations with Russia have become strained it's not the first time such a warning has been issued but whether governments will act is the big question for Inside Edition digital I'm Mara Montalbano\""
      ]
     },
     "execution_count": 21,
     "metadata": {},
     "output_type": "execute_result"
    }
   ],
   "source": [
    "names = soup.find_all('s')\n",
    "' '.join([name.text.strip() for name in names])"
   ]
  },
  {
   "cell_type": "code",
   "execution_count": null,
   "metadata": {},
   "outputs": [],
   "source": []
  }
 ],
 "metadata": {
  "kernelspec": {
   "display_name": "Python 3",
   "language": "python",
   "name": "python3"
  },
  "language_info": {
   "codemirror_mode": {
    "name": "ipython",
    "version": 3
   },
   "file_extension": ".py",
   "mimetype": "text/x-python",
   "name": "python",
   "nbconvert_exporter": "python",
   "pygments_lexer": "ipython3",
   "version": "3.9.5"
  },
  "toc": {
   "base_numbering": 1,
   "nav_menu": {},
   "number_sections": true,
   "sideBar": true,
   "skip_h1_title": false,
   "title_cell": "Table of Contents",
   "title_sidebar": "Contents",
   "toc_cell": false,
   "toc_position": {},
   "toc_section_display": true,
   "toc_window_display": true
  },
  "varInspector": {
   "cols": {
    "lenName": 16,
    "lenType": 16,
    "lenVar": 40
   },
   "kernels_config": {
    "python": {
     "delete_cmd_postfix": "",
     "delete_cmd_prefix": "del ",
     "library": "var_list.py",
     "varRefreshCmd": "print(var_dic_list())"
    },
    "r": {
     "delete_cmd_postfix": ") ",
     "delete_cmd_prefix": "rm(",
     "library": "var_list.r",
     "varRefreshCmd": "cat(var_dic_list()) "
    }
   },
   "types_to_exclude": [
    "module",
    "function",
    "builtin_function_or_method",
    "instance",
    "_Feature"
   ],
   "window_display": false
  }
 },
 "nbformat": 4,
 "nbformat_minor": 4
}
