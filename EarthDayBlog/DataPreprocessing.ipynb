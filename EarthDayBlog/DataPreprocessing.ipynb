{
 "cells": [
  {
   "cell_type": "markdown",
   "metadata": {},
   "source": [
    "# Imports"
   ]
  },
  {
   "cell_type": "code",
   "execution_count": 1,
   "metadata": {
    "ExecuteTime": {
     "end_time": "2022-05-15T12:45:51.733458Z",
     "start_time": "2022-05-15T12:45:29.331921Z"
    }
   },
   "outputs": [
    {
     "name": "stderr",
     "output_type": "stream",
     "text": [
      "C:\\Users\\nroy0\\anaconda3\\lib\\site-packages\\torchaudio\\extension\\extension.py:13: UserWarning: torchaudio C++ extension is not available.\n",
      "  warnings.warn('torchaudio C++ extension is not available.')\n"
     ]
    }
   ],
   "source": [
    "import pandas as pd\n",
    "import re\n",
    "import emoji\n",
    "import glob\n",
    "from transformers import pipeline\n",
    "from transformers import AutoModelForSequenceClassification\n",
    "from transformers import AutoTokenizer\n",
    "import numpy as np\n",
    "from scipy.special import softmax"
   ]
  },
  {
   "cell_type": "markdown",
   "metadata": {},
   "source": [
    "# Data Creation"
   ]
  },
  {
   "cell_type": "code",
   "execution_count": 2,
   "metadata": {
    "ExecuteTime": {
     "end_time": "2022-05-15T12:45:51.766980Z",
     "start_time": "2022-05-15T12:45:51.746784Z"
    }
   },
   "outputs": [],
   "source": [
    "FOLDER_NAME = \"data/data_*/*.pkl\""
   ]
  },
  {
   "cell_type": "code",
   "execution_count": 3,
   "metadata": {
    "ExecuteTime": {
     "end_time": "2022-05-15T12:46:12.992600Z",
     "start_time": "2022-05-15T12:45:51.772422Z"
    }
   },
   "outputs": [
    {
     "name": "stdout",
     "output_type": "stream",
     "text": [
      "                                                    0  \\\n",
      "0   RT @POTUS: As we celebrate the progress we’ve ...   \n",
      "1   This #EarthDay, I'm happy to be meeting with P...   \n",
      "2   RT @Khan__sir_patna: All of people wishes and ...   \n",
      "3   RT @CapsCoalition: Biden Signs Executive Order...   \n",
      "4   RT @tamannaahspeaks: Animals source their food...   \n",
      "..                                                ...   \n",
      "95  Did you know? The Canadian Coalition on Acid R...   \n",
      "96  Today, EERE celebrates #EarthDay by making sev...   \n",
      "97  RT @latestinspace: Happy Earth Day! These imag...   \n",
      "98  Happy earth day I work between two constructio...   \n",
      "99  RT @maxinevee: Happy Earth Day 🌳💚 https://t.co...   \n",
      "\n",
      "                                 1  \n",
      "0   Fri Apr 22 15:41:33 +0000 2022  \n",
      "1   Fri Apr 22 15:41:33 +0000 2022  \n",
      "2   Fri Apr 22 15:41:33 +0000 2022  \n",
      "3   Fri Apr 22 15:41:33 +0000 2022  \n",
      "4   Fri Apr 22 15:41:33 +0000 2022  \n",
      "..                             ...  \n",
      "95  Fri Apr 22 21:01:03 +0000 2022  \n",
      "96  Fri Apr 22 21:01:03 +0000 2022  \n",
      "97  Fri Apr 22 21:01:03 +0000 2022  \n",
      "98  Fri Apr 22 21:01:03 +0000 2022  \n",
      "99  Fri Apr 22 21:01:03 +0000 2022  \n",
      "\n",
      "[100099 rows x 2 columns]\n"
     ]
    }
   ],
   "source": [
    "df = pd.DataFrame()\n",
    "for each_file in glob.glob(FOLDER_NAME):\n",
    "    temp_df = pd.read_pickle(each_file)\n",
    "    df = pd.concat([df, temp_df])\n",
    "print(df)"
   ]
  },
  {
   "cell_type": "code",
   "execution_count": 4,
   "metadata": {
    "ExecuteTime": {
     "end_time": "2022-05-15T12:46:13.008618Z",
     "start_time": "2022-05-15T12:46:12.998112Z"
    }
   },
   "outputs": [],
   "source": [
    "df.columns = ['text', 'date']"
   ]
  },
  {
   "cell_type": "code",
   "execution_count": 5,
   "metadata": {
    "ExecuteTime": {
     "end_time": "2022-05-15T12:46:13.063766Z",
     "start_time": "2022-05-15T12:46:13.014184Z"
    }
   },
   "outputs": [],
   "source": [
    "df.reset_index(inplace=True)\n",
    "df.drop(columns=['index', 'date'], inplace=True)"
   ]
  },
  {
   "cell_type": "code",
   "execution_count": 6,
   "metadata": {
    "ExecuteTime": {
     "end_time": "2022-05-15T12:46:13.126085Z",
     "start_time": "2022-05-15T12:46:13.074104Z"
    }
   },
   "outputs": [
    {
     "data": {
      "text/html": [
       "<div>\n",
       "<style scoped>\n",
       "    .dataframe tbody tr th:only-of-type {\n",
       "        vertical-align: middle;\n",
       "    }\n",
       "\n",
       "    .dataframe tbody tr th {\n",
       "        vertical-align: top;\n",
       "    }\n",
       "\n",
       "    .dataframe thead th {\n",
       "        text-align: right;\n",
       "    }\n",
       "</style>\n",
       "<table border=\"1\" class=\"dataframe\">\n",
       "  <thead>\n",
       "    <tr style=\"text-align: right;\">\n",
       "      <th></th>\n",
       "      <th>text</th>\n",
       "    </tr>\n",
       "  </thead>\n",
       "  <tbody>\n",
       "    <tr>\n",
       "      <th>0</th>\n",
       "      <td>RT @POTUS: As we celebrate the progress we’ve ...</td>\n",
       "    </tr>\n",
       "    <tr>\n",
       "      <th>1</th>\n",
       "      <td>This #EarthDay, I'm happy to be meeting with P...</td>\n",
       "    </tr>\n",
       "    <tr>\n",
       "      <th>2</th>\n",
       "      <td>RT @Khan__sir_patna: All of people wishes and ...</td>\n",
       "    </tr>\n",
       "    <tr>\n",
       "      <th>3</th>\n",
       "      <td>RT @CapsCoalition: Biden Signs Executive Order...</td>\n",
       "    </tr>\n",
       "    <tr>\n",
       "      <th>4</th>\n",
       "      <td>RT @tamannaahspeaks: Animals source their food...</td>\n",
       "    </tr>\n",
       "  </tbody>\n",
       "</table>\n",
       "</div>"
      ],
      "text/plain": [
       "                                                text\n",
       "0  RT @POTUS: As we celebrate the progress we’ve ...\n",
       "1  This #EarthDay, I'm happy to be meeting with P...\n",
       "2  RT @Khan__sir_patna: All of people wishes and ...\n",
       "3  RT @CapsCoalition: Biden Signs Executive Order...\n",
       "4  RT @tamannaahspeaks: Animals source their food..."
      ]
     },
     "execution_count": 6,
     "metadata": {},
     "output_type": "execute_result"
    }
   ],
   "source": [
    "df.head()"
   ]
  },
  {
   "cell_type": "code",
   "execution_count": 7,
   "metadata": {
    "ExecuteTime": {
     "end_time": "2022-05-15T12:46:13.156441Z",
     "start_time": "2022-05-15T12:46:13.131103Z"
    }
   },
   "outputs": [
    {
     "data": {
      "text/html": [
       "<div>\n",
       "<style scoped>\n",
       "    .dataframe tbody tr th:only-of-type {\n",
       "        vertical-align: middle;\n",
       "    }\n",
       "\n",
       "    .dataframe tbody tr th {\n",
       "        vertical-align: top;\n",
       "    }\n",
       "\n",
       "    .dataframe thead th {\n",
       "        text-align: right;\n",
       "    }\n",
       "</style>\n",
       "<table border=\"1\" class=\"dataframe\">\n",
       "  <thead>\n",
       "    <tr style=\"text-align: right;\">\n",
       "      <th></th>\n",
       "      <th>text</th>\n",
       "    </tr>\n",
       "  </thead>\n",
       "  <tbody>\n",
       "    <tr>\n",
       "      <th>100094</th>\n",
       "      <td>Did you know? The Canadian Coalition on Acid R...</td>\n",
       "    </tr>\n",
       "    <tr>\n",
       "      <th>100095</th>\n",
       "      <td>Today, EERE celebrates #EarthDay by making sev...</td>\n",
       "    </tr>\n",
       "    <tr>\n",
       "      <th>100096</th>\n",
       "      <td>RT @latestinspace: Happy Earth Day! These imag...</td>\n",
       "    </tr>\n",
       "    <tr>\n",
       "      <th>100097</th>\n",
       "      <td>Happy earth day I work between two constructio...</td>\n",
       "    </tr>\n",
       "    <tr>\n",
       "      <th>100098</th>\n",
       "      <td>RT @maxinevee: Happy Earth Day 🌳💚 https://t.co...</td>\n",
       "    </tr>\n",
       "  </tbody>\n",
       "</table>\n",
       "</div>"
      ],
      "text/plain": [
       "                                                     text\n",
       "100094  Did you know? The Canadian Coalition on Acid R...\n",
       "100095  Today, EERE celebrates #EarthDay by making sev...\n",
       "100096  RT @latestinspace: Happy Earth Day! These imag...\n",
       "100097  Happy earth day I work between two constructio...\n",
       "100098  RT @maxinevee: Happy Earth Day 🌳💚 https://t.co..."
      ]
     },
     "execution_count": 7,
     "metadata": {},
     "output_type": "execute_result"
    }
   ],
   "source": [
    "df.tail()"
   ]
  },
  {
   "cell_type": "markdown",
   "metadata": {},
   "source": [
    "# Data Cleaning and Preprocessing"
   ]
  },
  {
   "cell_type": "code",
   "execution_count": 8,
   "metadata": {
    "ExecuteTime": {
     "end_time": "2022-05-15T12:46:13.190119Z",
     "start_time": "2022-05-15T12:46:13.161726Z"
    }
   },
   "outputs": [],
   "source": [
    "def clean_text(text):\n",
    "    ''' This method takes in text to remove urls and website links and account tags if any'''\n",
    "    url_pattern = r'(www.|http[s]?://)(?:[a-zA-Z]|[0-9]|[$-_@.&+]|[!*\\(\\),]|(?:%[0-9a-fA-F][0-9a-fA-F]))+'\n",
    "    text = re.sub(url_pattern, '', text)\n",
    "    tag_pattern = r'(RT @([A-Za-z0-9_]+):)|(@([A-Za-z0-9_]+))' # Removes the RT @account tag: pattern as well\n",
    "    text = re.sub(tag_pattern, '', text)\n",
    "    return text\n",
    "\n",
    "def get_account_tags(text):\n",
    "    ''' This method extracts account tags'''\n",
    "    tag_pattern = r'@([A-Za-z0-9_]+)'\n",
    "    text = re.findall(tag_pattern, text)\n",
    "    return text\n",
    "\n",
    "def get_hash_tags(text):\n",
    "    ''' This method extracts hashtags'''\n",
    "    tag_pattern = r'#([A-Za-z0-9]+)'\n",
    "    text = re.findall(tag_pattern, text)\n",
    "    return text\n",
    "\n",
    "def get_emoji_list(text):\n",
    "    ''' This method extracts emojis'''\n",
    "    dict_loc_emoji = emoji.emoji_lis(text)\n",
    "    if dict_loc_emoji:\n",
    "        list_emojis = [each['emoji'] for each in dict_loc_emoji]\n",
    "        return list_emojis\n",
    "    return None"
   ]
  },
  {
   "cell_type": "code",
   "execution_count": 9,
   "metadata": {
    "ExecuteTime": {
     "end_time": "2022-05-15T12:50:38.866731Z",
     "start_time": "2022-05-15T12:46:13.190119Z"
    }
   },
   "outputs": [],
   "source": [
    "df['text_cleaned'] = df.text.apply(clean_text)\n",
    "df['account_tags'] = df.text.apply(get_account_tags)\n",
    "df['hash_tags'] = df.text.apply(get_hash_tags)\n",
    "df['emoji_lists'] = df.text.apply(get_emoji_list)"
   ]
  },
  {
   "cell_type": "code",
   "execution_count": 10,
   "metadata": {
    "ExecuteTime": {
     "end_time": "2022-05-15T12:50:38.942305Z",
     "start_time": "2022-05-15T12:50:38.876040Z"
    }
   },
   "outputs": [
    {
     "data": {
      "text/html": [
       "<div>\n",
       "<style scoped>\n",
       "    .dataframe tbody tr th:only-of-type {\n",
       "        vertical-align: middle;\n",
       "    }\n",
       "\n",
       "    .dataframe tbody tr th {\n",
       "        vertical-align: top;\n",
       "    }\n",
       "\n",
       "    .dataframe thead th {\n",
       "        text-align: right;\n",
       "    }\n",
       "</style>\n",
       "<table border=\"1\" class=\"dataframe\">\n",
       "  <thead>\n",
       "    <tr style=\"text-align: right;\">\n",
       "      <th></th>\n",
       "      <th>text</th>\n",
       "      <th>text_cleaned</th>\n",
       "      <th>account_tags</th>\n",
       "      <th>hash_tags</th>\n",
       "      <th>emoji_lists</th>\n",
       "    </tr>\n",
       "  </thead>\n",
       "  <tbody>\n",
       "    <tr>\n",
       "      <th>0</th>\n",
       "      <td>RT @POTUS: As we celebrate the progress we’ve ...</td>\n",
       "      <td>As we celebrate the progress we’ve made this ...</td>\n",
       "      <td>[POTUS]</td>\n",
       "      <td>[]</td>\n",
       "      <td>None</td>\n",
       "    </tr>\n",
       "    <tr>\n",
       "      <th>1</th>\n",
       "      <td>This #EarthDay, I'm happy to be meeting with P...</td>\n",
       "      <td>This #EarthDay, I'm happy to be meeting with P...</td>\n",
       "      <td>[PennEnvironment]</td>\n",
       "      <td>[EarthDay, GetTheLeadOut]</td>\n",
       "      <td>None</td>\n",
       "    </tr>\n",
       "    <tr>\n",
       "      <th>2</th>\n",
       "      <td>RT @Khan__sir_patna: All of people wishes and ...</td>\n",
       "      <td>All of people wishes and happy earth day #Ear...</td>\n",
       "      <td>[Khan__sir_patna]</td>\n",
       "      <td>[EarthDay]</td>\n",
       "      <td>None</td>\n",
       "    </tr>\n",
       "    <tr>\n",
       "      <th>3</th>\n",
       "      <td>RT @CapsCoalition: Biden Signs Executive Order...</td>\n",
       "      <td>Biden Signs Executive Order on Natural Capita...</td>\n",
       "      <td>[CapsCoalition]</td>\n",
       "      <td>[EarthDay]</td>\n",
       "      <td>None</td>\n",
       "    </tr>\n",
       "    <tr>\n",
       "      <th>4</th>\n",
       "      <td>RT @tamannaahspeaks: Animals source their food...</td>\n",
       "      <td>Animals source their food from soil but our s...</td>\n",
       "      <td>[tamannaahspeaks, SadhguruJV, cpsavesoil]</td>\n",
       "      <td>[MyconnectwithSoil]</td>\n",
       "      <td>None</td>\n",
       "    </tr>\n",
       "  </tbody>\n",
       "</table>\n",
       "</div>"
      ],
      "text/plain": [
       "                                                text  \\\n",
       "0  RT @POTUS: As we celebrate the progress we’ve ...   \n",
       "1  This #EarthDay, I'm happy to be meeting with P...   \n",
       "2  RT @Khan__sir_patna: All of people wishes and ...   \n",
       "3  RT @CapsCoalition: Biden Signs Executive Order...   \n",
       "4  RT @tamannaahspeaks: Animals source their food...   \n",
       "\n",
       "                                        text_cleaned  \\\n",
       "0   As we celebrate the progress we’ve made this ...   \n",
       "1  This #EarthDay, I'm happy to be meeting with P...   \n",
       "2   All of people wishes and happy earth day #Ear...   \n",
       "3   Biden Signs Executive Order on Natural Capita...   \n",
       "4   Animals source their food from soil but our s...   \n",
       "\n",
       "                                account_tags                  hash_tags  \\\n",
       "0                                    [POTUS]                         []   \n",
       "1                          [PennEnvironment]  [EarthDay, GetTheLeadOut]   \n",
       "2                          [Khan__sir_patna]                 [EarthDay]   \n",
       "3                            [CapsCoalition]                 [EarthDay]   \n",
       "4  [tamannaahspeaks, SadhguruJV, cpsavesoil]        [MyconnectwithSoil]   \n",
       "\n",
       "  emoji_lists  \n",
       "0        None  \n",
       "1        None  \n",
       "2        None  \n",
       "3        None  \n",
       "4        None  "
      ]
     },
     "execution_count": 10,
     "metadata": {},
     "output_type": "execute_result"
    }
   ],
   "source": [
    "df.head()"
   ]
  },
  {
   "cell_type": "markdown",
   "metadata": {},
   "source": [
    "# Sentiment Analysis"
   ]
  },
  {
   "cell_type": "code",
   "execution_count": 11,
   "metadata": {
    "ExecuteTime": {
     "end_time": "2022-05-15T12:50:44.362950Z",
     "start_time": "2022-05-15T12:50:38.947993Z"
    }
   },
   "outputs": [],
   "source": [
    "classifier = pipeline(\"sentiment-analysis\")"
   ]
  },
  {
   "cell_type": "code",
   "execution_count": 12,
   "metadata": {
    "ExecuteTime": {
     "end_time": "2022-05-15T16:03:23.737647Z",
     "start_time": "2022-05-15T12:50:44.362950Z"
    }
   },
   "outputs": [],
   "source": [
    "df['sentiment'] = df.text_cleaned.apply(lambda x: classifier(x)[0]['label'])"
   ]
  },
  {
   "cell_type": "markdown",
   "metadata": {},
   "source": [
    "# Emotion Analysis"
   ]
  },
  {
   "cell_type": "code",
   "execution_count": 13,
   "metadata": {
    "ExecuteTime": {
     "end_time": "2022-05-15T16:03:23.780852Z",
     "start_time": "2022-05-15T16:03:23.750261Z"
    }
   },
   "outputs": [],
   "source": [
    "# import gc\n",
    "# gc.collect()"
   ]
  },
  {
   "cell_type": "code",
   "execution_count": 14,
   "metadata": {
    "ExecuteTime": {
     "end_time": "2022-05-15T16:03:31.005867Z",
     "start_time": "2022-05-15T16:03:23.786389Z"
    }
   },
   "outputs": [],
   "source": [
    "MODEL = f\"cardiffnlp/twitter-roberta-base-emotion\"\n",
    "tokenizer = AutoTokenizer.from_pretrained(MODEL)\n",
    "model = AutoModelForSequenceClassification.from_pretrained(MODEL)\n",
    "model.save_pretrained(MODEL)"
   ]
  },
  {
   "cell_type": "code",
   "execution_count": 15,
   "metadata": {
    "ExecuteTime": {
     "end_time": "2022-05-15T16:03:31.016469Z",
     "start_time": "2022-05-15T16:03:31.006963Z"
    }
   },
   "outputs": [],
   "source": [
    "def get_emotion(text):\n",
    "    labels = ['Anger', 'Joy', 'Optimism', 'Sadness'] \n",
    "    encoded_input = tokenizer(text, return_tensors='pt')\n",
    "    output = model(**encoded_input)\n",
    "    scores = softmax(output[0][0].detach().numpy())\n",
    "    ranking = np.argmax(scores)\n",
    "    return labels[ranking]"
   ]
  },
  {
   "cell_type": "code",
   "execution_count": 16,
   "metadata": {
    "ExecuteTime": {
     "end_time": "2022-05-15T21:01:57.482651Z",
     "start_time": "2022-05-15T16:03:31.016469Z"
    }
   },
   "outputs": [],
   "source": [
    "df['emotion'] = df.text_cleaned.apply(get_emotion)"
   ]
  },
  {
   "cell_type": "code",
   "execution_count": 17,
   "metadata": {
    "ExecuteTime": {
     "end_time": "2022-05-15T21:01:57.605920Z",
     "start_time": "2022-05-15T21:01:57.498390Z"
    }
   },
   "outputs": [
    {
     "data": {
      "text/plain": [
       "Joy         53363\n",
       "Optimism    38890\n",
       "Anger        4368\n",
       "Sadness      3478\n",
       "Name: emotion, dtype: int64"
      ]
     },
     "execution_count": 17,
     "metadata": {},
     "output_type": "execute_result"
    }
   ],
   "source": [
    "df['emotion'].value_counts()"
   ]
  },
  {
   "cell_type": "code",
   "execution_count": 18,
   "metadata": {
    "ExecuteTime": {
     "end_time": "2022-05-15T21:01:58.830456Z",
     "start_time": "2022-05-15T21:01:57.612391Z"
    }
   },
   "outputs": [],
   "source": [
    "df.to_pickle(\"data/data_feature_extracted_text_cleaned.pkl\")"
   ]
  }
 ],
 "metadata": {
  "kernelspec": {
   "display_name": "Python 3",
   "language": "python",
   "name": "python3"
  },
  "language_info": {
   "codemirror_mode": {
    "name": "ipython",
    "version": 3
   },
   "file_extension": ".py",
   "mimetype": "text/x-python",
   "name": "python",
   "nbconvert_exporter": "python",
   "pygments_lexer": "ipython3",
   "version": "3.8.5"
  },
  "toc": {
   "base_numbering": 1,
   "nav_menu": {},
   "number_sections": true,
   "sideBar": true,
   "skip_h1_title": false,
   "title_cell": "Table of Contents",
   "title_sidebar": "Contents",
   "toc_cell": false,
   "toc_position": {},
   "toc_section_display": true,
   "toc_window_display": true
  },
  "varInspector": {
   "cols": {
    "lenName": 16,
    "lenType": 16,
    "lenVar": 40
   },
   "kernels_config": {
    "python": {
     "delete_cmd_postfix": "",
     "delete_cmd_prefix": "del ",
     "library": "var_list.py",
     "varRefreshCmd": "print(var_dic_list())"
    },
    "r": {
     "delete_cmd_postfix": ") ",
     "delete_cmd_prefix": "rm(",
     "library": "var_list.r",
     "varRefreshCmd": "cat(var_dic_list()) "
    }
   },
   "types_to_exclude": [
    "module",
    "function",
    "builtin_function_or_method",
    "instance",
    "_Feature"
   ],
   "window_display": false
  }
 },
 "nbformat": 4,
 "nbformat_minor": 4
}
