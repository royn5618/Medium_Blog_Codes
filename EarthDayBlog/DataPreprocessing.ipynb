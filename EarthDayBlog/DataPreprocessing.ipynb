{
 "cells": [
  {
   "cell_type": "markdown",
   "metadata": {},
   "source": [
    "# Imports"
   ]
  },
  {
   "cell_type": "code",
   "execution_count": null,
   "metadata": {
    "ExecuteTime": {
     "end_time": "2022-05-05T21:32:59.057602Z",
     "start_time": "2022-05-05T21:32:42.637472Z"
    }
   },
   "outputs": [],
   "source": [
    "import pandas as pd\n",
    "import re\n",
    "import emoji\n",
    "import glob\n",
    "from transformers import pipeline\n",
    "from transformers import AutoModelForSequenceClassification\n",
    "from transformers import AutoTokenizer\n",
    "import numpy as np\n",
    "from scipy.special import softmax"
   ]
  },
  {
   "cell_type": "markdown",
   "metadata": {},
   "source": [
    "# Data Creation"
   ]
  },
  {
   "cell_type": "code",
   "execution_count": null,
   "metadata": {
    "ExecuteTime": {
     "end_time": "2022-05-05T21:32:59.151464Z",
     "start_time": "2022-05-05T21:32:59.139138Z"
    }
   },
   "outputs": [],
   "source": [
    "FOLDER_NAME = \"data/data_*/*.pkl\""
   ]
  },
  {
   "cell_type": "code",
   "execution_count": null,
   "metadata": {
    "ExecuteTime": {
     "end_time": "2022-05-05T21:33:16.175198Z",
     "start_time": "2022-05-05T21:32:59.218635Z"
    }
   },
   "outputs": [],
   "source": [
    "df = pd.DataFrame()\n",
    "for each_file in glob.glob(FOLDER_NAME):\n",
    "    temp_df = pd.read_pickle(each_file)\n",
    "    df = pd.concat([df, temp_df])\n",
    "print(df)"
   ]
  },
  {
   "cell_type": "code",
   "execution_count": null,
   "metadata": {
    "ExecuteTime": {
     "end_time": "2022-05-05T21:33:16.286855Z",
     "start_time": "2022-05-05T21:33:16.274190Z"
    }
   },
   "outputs": [],
   "source": [
    "df.columns = ['text', 'date']"
   ]
  },
  {
   "cell_type": "code",
   "execution_count": null,
   "metadata": {
    "ExecuteTime": {
     "end_time": "2022-05-05T21:33:16.436938Z",
     "start_time": "2022-05-05T21:33:16.407957Z"
    }
   },
   "outputs": [],
   "source": [
    "df.reset_index(inplace=True)\n",
    "df.drop(columns=['index', 'date'], inplace=True)"
   ]
  },
  {
   "cell_type": "code",
   "execution_count": null,
   "metadata": {
    "ExecuteTime": {
     "end_time": "2022-05-05T21:33:16.671026Z",
     "start_time": "2022-05-05T21:33:16.624676Z"
    }
   },
   "outputs": [],
   "source": [
    "df.head()"
   ]
  },
  {
   "cell_type": "code",
   "execution_count": null,
   "metadata": {
    "ExecuteTime": {
     "end_time": "2022-05-05T21:33:16.845048Z",
     "start_time": "2022-05-05T21:33:16.832218Z"
    }
   },
   "outputs": [],
   "source": [
    "df.tail()"
   ]
  },
  {
   "cell_type": "markdown",
   "metadata": {},
   "source": [
    "# Data Cleaning and Preprocessing"
   ]
  },
  {
   "cell_type": "code",
   "execution_count": null,
   "metadata": {
    "ExecuteTime": {
     "end_time": "2022-05-05T21:34:05.938493Z",
     "start_time": "2022-05-05T21:34:05.922924Z"
    }
   },
   "outputs": [],
   "source": [
    "def clean_text(text):\n",
    "    ''' This method takes in text to remove urls and website links and account tags if any'''\n",
    "    url_pattern = r'(www.|http[s]?://)(?:[a-zA-Z]|[0-9]|[$-_@.&+]|[!*\\(\\),]|(?:%[0-9a-fA-F][0-9a-fA-F]))+'\n",
    "    text = re.sub(url_pattern, '', text)\n",
    "    tag_pattern = r'(RT @([A-Za-z0-9_]+):)|(@([A-Za-z0-9_]+))' # Removes the RT @account tag: pattern as well\n",
    "    text = re.sub(tag_pattern, '', text)\n",
    "    return text\n",
    "\n",
    "def get_account_tags(text):\n",
    "    ''' This method extracts account tags'''\n",
    "    tag_pattern = r'@([A-Za-z0-9_]+)'\n",
    "    text = re.findall(tag_pattern, text)\n",
    "    return text\n",
    "\n",
    "def get_hash_tags(text):\n",
    "    ''' This method extracts hashtags'''\n",
    "    tag_pattern = r'#([A-Za-z0-9]+)'\n",
    "    text = re.findall(tag_pattern, text)\n",
    "    return text\n",
    "\n",
    "def get_emoji_list(text):\n",
    "    ''' This method extracts emojis'''\n",
    "    dict_loc_emoji = emoji.emoji_lis(text)\n",
    "    if dict_loc_emoji:\n",
    "        list_emojis = [each['emoji'] for each in dict_loc_emoji]\n",
    "        return list_emojis\n",
    "    return None"
   ]
  },
  {
   "cell_type": "code",
   "execution_count": null,
   "metadata": {
    "ExecuteTime": {
     "end_time": "2022-05-05T21:35:57.879425Z",
     "start_time": "2022-05-05T21:34:33.886770Z"
    }
   },
   "outputs": [],
   "source": [
    "df['text_cleaned'] = df.text.apply(clean_text)\n",
    "df['account_tags'] = df.text.apply(get_account_tags)\n",
    "df['hash_tags'] = df.text.apply(get_hash_tags)\n",
    "df['emoji_lists'] = df.text.apply(get_emoji_list)"
   ]
  },
  {
   "cell_type": "code",
   "execution_count": null,
   "metadata": {
    "ExecuteTime": {
     "end_time": "2022-05-05T21:35:58.084101Z",
     "start_time": "2022-05-05T21:35:58.056221Z"
    }
   },
   "outputs": [],
   "source": [
    "df.head()"
   ]
  },
  {
   "cell_type": "markdown",
   "metadata": {},
   "source": [
    "# Sentiment Analysis"
   ]
  },
  {
   "cell_type": "code",
   "execution_count": null,
   "metadata": {
    "ExecuteTime": {
     "end_time": "2022-04-27T10:48:04.475621Z",
     "start_time": "2022-04-27T10:47:58.667152Z"
    }
   },
   "outputs": [],
   "source": [
    "classifier = pipeline(\"sentiment-analysis\")"
   ]
  },
  {
   "cell_type": "code",
   "execution_count": null,
   "metadata": {
    "ExecuteTime": {
     "end_time": "2022-04-27T14:38:14.475963Z",
     "start_time": "2022-04-27T10:48:04.484612Z"
    }
   },
   "outputs": [],
   "source": [
    "df['sentiment'] = df.text.apply(lambda x: classifier(x)[0]['label'])"
   ]
  },
  {
   "cell_type": "markdown",
   "metadata": {},
   "source": [
    "# Emotion Analysis"
   ]
  },
  {
   "cell_type": "code",
   "execution_count": null,
   "metadata": {
    "ExecuteTime": {
     "end_time": "2022-04-27T14:38:19.646398Z",
     "start_time": "2022-04-27T14:38:19.626385Z"
    }
   },
   "outputs": [],
   "source": [
    "# import gc\n",
    "# gc.collect()"
   ]
  },
  {
   "cell_type": "code",
   "execution_count": null,
   "metadata": {
    "ExecuteTime": {
     "end_time": "2022-04-27T14:38:28.926567Z",
     "start_time": "2022-04-27T14:38:19.646398Z"
    }
   },
   "outputs": [],
   "source": [
    "MODEL = f\"cardiffnlp/twitter-roberta-base-emotion\"\n",
    "tokenizer = AutoTokenizer.from_pretrained(MODEL)\n",
    "model = AutoModelForSequenceClassification.from_pretrained(MODEL)\n",
    "model.save_pretrained(MODEL)"
   ]
  },
  {
   "cell_type": "code",
   "execution_count": null,
   "metadata": {
    "ExecuteTime": {
     "end_time": "2022-04-27T14:38:28.956103Z",
     "start_time": "2022-04-27T14:38:28.931570Z"
    }
   },
   "outputs": [],
   "source": [
    "def get_emotion(text):\n",
    "    labels = ['anger', 'joy', 'optimism', 'sadness'] \n",
    "    encoded_input = tokenizer(text, return_tensors='pt')\n",
    "    output = model(**encoded_input)\n",
    "    scores = softmax(output[0][0].detach().numpy())\n",
    "    ranking = np.argmax(scores)\n",
    "    return labels[ranking]"
   ]
  },
  {
   "cell_type": "code",
   "execution_count": null,
   "metadata": {
    "ExecuteTime": {
     "end_time": "2022-04-28T11:11:40.891506Z",
     "start_time": "2022-04-27T14:38:28.959106Z"
    }
   },
   "outputs": [],
   "source": [
    "df['emotion'] = df.text.apply(get_emotion)"
   ]
  },
  {
   "cell_type": "code",
   "execution_count": null,
   "metadata": {
    "ExecuteTime": {
     "end_time": "2022-04-28T11:11:41.227007Z",
     "start_time": "2022-04-28T11:11:40.923779Z"
    }
   },
   "outputs": [],
   "source": [
    "df['emotion'].value_counts()"
   ]
  },
  {
   "cell_type": "code",
   "execution_count": null,
   "metadata": {
    "ExecuteTime": {
     "end_time": "2022-04-28T11:56:24.793833Z",
     "start_time": "2022-04-28T11:56:23.177347Z"
    }
   },
   "outputs": [],
   "source": [
    "df.to_pickle(\"data/data_feature_extracted.pkl\")"
   ]
  }
 ],
 "metadata": {
  "kernelspec": {
   "display_name": "Python 3",
   "language": "python",
   "name": "python3"
  },
  "language_info": {
   "codemirror_mode": {
    "name": "ipython",
    "version": 3
   },
   "file_extension": ".py",
   "mimetype": "text/x-python",
   "name": "python",
   "nbconvert_exporter": "python",
   "pygments_lexer": "ipython3",
   "version": "3.8.5"
  },
  "toc": {
   "base_numbering": 1,
   "nav_menu": {},
   "number_sections": true,
   "sideBar": true,
   "skip_h1_title": false,
   "title_cell": "Table of Contents",
   "title_sidebar": "Contents",
   "toc_cell": false,
   "toc_position": {},
   "toc_section_display": true,
   "toc_window_display": true
  },
  "varInspector": {
   "cols": {
    "lenName": 16,
    "lenType": 16,
    "lenVar": 40
   },
   "kernels_config": {
    "python": {
     "delete_cmd_postfix": "",
     "delete_cmd_prefix": "del ",
     "library": "var_list.py",
     "varRefreshCmd": "print(var_dic_list())"
    },
    "r": {
     "delete_cmd_postfix": ") ",
     "delete_cmd_prefix": "rm(",
     "library": "var_list.r",
     "varRefreshCmd": "cat(var_dic_list()) "
    }
   },
   "types_to_exclude": [
    "module",
    "function",
    "builtin_function_or_method",
    "instance",
    "_Feature"
   ],
   "window_display": false
  }
 },
 "nbformat": 4,
 "nbformat_minor": 4
}
