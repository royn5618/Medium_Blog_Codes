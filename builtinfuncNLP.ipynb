{
  "nbformat": 4,
  "nbformat_minor": 0,
  "metadata": {
    "colab": {
      "name": "builtinfuncNLP.ipynb",
      "provenance": [],
      "collapsed_sections": [],
      "toc_visible": true,
      "authorship_tag": "ABX9TyMu62bC5Seud+pN8Wguo12y",
      "include_colab_link": true
    },
    "kernelspec": {
      "name": "python3",
      "display_name": "Python 3"
    },
    "language_info": {
      "name": "python"
    }
  },
  "cells": [
    {
      "cell_type": "markdown",
      "metadata": {
        "id": "view-in-github",
        "colab_type": "text"
      },
      "source": [
        "<a href=\"https://colab.research.google.com/github/royn5618/Medium_Blog_Codes/blob/master/builtinfuncNLP.ipynb\" target=\"_parent\"><img src=\"https://colab.research.google.com/assets/colab-badge.svg\" alt=\"Open In Colab\"/></a>"
      ]
    },
    {
      "cell_type": "markdown",
      "source": [
        "#10 Must-Know built-in functions in Python for Natural Language Processing\n",
        "\n",
        "Natural Language Processing is in demand and Python has built-in functions to support whatever you need for processing and analyzing text. Here is a list of must-know Python's in-built functions demonstrated focusing on the usability for text analytics and NLP -\n",
        "\n",
        "Full blog link: "
      ],
      "metadata": {
        "id": "CxE0--S6z6rG"
      }
    },
    {
      "cell_type": "markdown",
      "source": [
        "##Open()\n",
        "\n",
        "Read and write files.\n",
        "\n",
        "Link: https://docs.python.org/3/library/functions.html#open\n",
        "\n",
        "open(file, mode='r', buffering=- 1, encoding=None, errors=None, newline=None, closefd=True, opener=None)\n",
        "\n",
        "modes:\n",
        "1. x - create file\n",
        "2. r - Read file\n",
        "3. w - write file\n",
        "4. a - append file"
      ],
      "metadata": {
        "id": "tegC2Xr4Wovw"
      }
    },
    {
      "cell_type": "code",
      "execution_count": null,
      "metadata": {
        "colab": {
          "base_uri": "https://localhost:8080/"
        },
        "id": "8G8R_FtBJU9A",
        "outputId": "a9a89f81-aee2-4c77-d41b-3606d68e043a"
      },
      "outputs": [
        {
          "output_type": "stream",
          "name": "stdout",
          "text": [
            "The Republic of Ireland occupies most of the island of Ireland, off the coast of England and Wales. Its capital, Dublin, is the birthplace of writers like Oscar Wilde, and home of Guinness beer. The 9th-century Book of Kells and other illustrated manuscripts are on show in Dublin’s Trinity College Library. Dubbed the \"Emerald Isle” for its lush landscape, the country is dotted with castles like medieval Cahir Castle.\n"
          ]
        }
      ],
      "source": [
        "f = open(\"ireland.txt\", \"r\")\n",
        "print(f.read())"
      ]
    },
    {
      "cell_type": "code",
      "source": [
        "print(f.read())"
      ],
      "metadata": {
        "colab": {
          "base_uri": "https://localhost:8080/"
        },
        "id": "rRy-0QiqbQ0i",
        "outputId": "c19c6d3e-dac0-4148-e55a-2ec6e69c2c45"
      },
      "execution_count": null,
      "outputs": [
        {
          "output_type": "stream",
          "name": "stdout",
          "text": [
            "\n"
          ]
        }
      ]
    },
    {
      "cell_type": "code",
      "source": [
        "with open(\"ireland.txt\", \"r\") as f:\n",
        "  text = f.read()"
      ],
      "metadata": {
        "id": "aLclkJcpbT2L"
      },
      "execution_count": null,
      "outputs": []
    },
    {
      "cell_type": "code",
      "source": [
        "text"
      ],
      "metadata": {
        "colab": {
          "base_uri": "https://localhost:8080/",
          "height": 87
        },
        "id": "OSPy32_ib6YS",
        "outputId": "c9a29d0d-d254-4426-8962-6ffb1dd1a964"
      },
      "execution_count": null,
      "outputs": [
        {
          "output_type": "execute_result",
          "data": {
            "text/plain": [
              "'The Republic of Ireland occupies most of the island of Ireland, off the coast of England and Wales. Its capital, Dublin, is the birthplace of writers like Oscar Wilde, and home of Guinness beer. The 9th-century Book of Kells and other illustrated manuscripts are on show in Dublin’s Trinity College Library. Dubbed the \"Emerald Isle” for its lush landscape, the country is dotted with castles like medieval Cahir Castle.'"
            ],
            "application/vnd.google.colaboratory.intrinsic+json": {
              "type": "string"
            }
          },
          "metadata": {},
          "execution_count": 20
        }
      ]
    },
    {
      "cell_type": "code",
      "source": [
        "f = open(\"ireland_write_demo.txt\", \"w\")\n",
        "f.write(text)\n",
        "f.close()"
      ],
      "metadata": {
        "id": "vOEB__W3PupX"
      },
      "execution_count": null,
      "outputs": []
    },
    {
      "cell_type": "code",
      "source": [
        "f = open(\"create_text.txt\", \"x\")\n",
        "f.close()"
      ],
      "metadata": {
        "id": "PpmMl08uQWmL"
      },
      "execution_count": null,
      "outputs": []
    },
    {
      "cell_type": "code",
      "source": [
        "f = open(\"ireland_write_demo.txt\", \"a\")\n",
        "f.write(\"Some more text here.\")\n",
        "f.close()"
      ],
      "metadata": {
        "id": "XoKzNGkycKy0"
      },
      "execution_count": null,
      "outputs": []
    },
    {
      "cell_type": "code",
      "source": [
        "f = open(\"ireland_write_demo.txt\", \"r\")\n",
        "'Some more text' in f.read() # Check if the new line is appened in the file"
      ],
      "metadata": {
        "colab": {
          "base_uri": "https://localhost:8080/"
        },
        "id": "O2XHJEJMcUEO",
        "outputId": "835e2e78-af5c-4142-f1f6-c704dbf70574"
      },
      "execution_count": null,
      "outputs": [
        {
          "output_type": "execute_result",
          "data": {
            "text/plain": [
              "True"
            ]
          },
          "metadata": {},
          "execution_count": 26
        }
      ]
    },
    {
      "cell_type": "markdown",
      "source": [
        "## Set() and List()\n",
        "\n",
        "https://docs.python.org/3/library/functions.html#func-set\n",
        "\n",
        "https://docs.python.org/3/library/functions.html#func-list\n",
        "\n",
        "Build a vocab"
      ],
      "metadata": {
        "id": "37Fw2-GScnOE"
      }
    },
    {
      "cell_type": "code",
      "source": [
        "text"
      ],
      "metadata": {
        "colab": {
          "base_uri": "https://localhost:8080/",
          "height": 87
        },
        "id": "NEIGcAuscctL",
        "outputId": "6e2c8842-aca3-4716-faf6-9c8377c4a1a2"
      },
      "execution_count": null,
      "outputs": [
        {
          "output_type": "execute_result",
          "data": {
            "text/plain": [
              "'The Republic of Ireland occupies most of the island of Ireland, off the coast of England and Wales. Its capital, Dublin, is the birthplace of writers like Oscar Wilde, and home of Guinness beer. The 9th-century Book of Kells and other illustrated manuscripts are on show in Dublin’s Trinity College Library. Dubbed the \"Emerald Isle” for its lush landscape, the country is dotted with castles like medieval Cahir Castle.'"
            ],
            "application/vnd.google.colaboratory.intrinsic+json": {
              "type": "string"
            }
          },
          "metadata": {},
          "execution_count": 27
        }
      ]
    },
    {
      "cell_type": "code",
      "source": [
        "list_words = text.lower().split(' ')\n",
        "list_words[:10]"
      ],
      "metadata": {
        "colab": {
          "base_uri": "https://localhost:8080/"
        },
        "id": "_1blkoTUcxPe",
        "outputId": "6a8bc321-b8d1-4903-8660-8569fc8b7af1"
      },
      "execution_count": null,
      "outputs": [
        {
          "output_type": "execute_result",
          "data": {
            "text/plain": [
              "['the',\n",
              " 'republic',\n",
              " 'of',\n",
              " 'ireland',\n",
              " 'occupies',\n",
              " 'most',\n",
              " 'of',\n",
              " 'the',\n",
              " 'island',\n",
              " 'of']"
            ]
          },
          "metadata": {},
          "execution_count": 45
        }
      ]
    },
    {
      "cell_type": "code",
      "source": [
        "len(list_words)"
      ],
      "metadata": {
        "colab": {
          "base_uri": "https://localhost:8080/"
        },
        "id": "gvpIjwAdc4UO",
        "outputId": "2e238cc4-352d-43c9-da82-d96f1120ae13"
      },
      "execution_count": null,
      "outputs": [
        {
          "output_type": "execute_result",
          "data": {
            "text/plain": [
              "69"
            ]
          },
          "metadata": {},
          "execution_count": 46
        }
      ]
    },
    {
      "cell_type": "code",
      "source": [
        "vocab = set(list_words)\n",
        "vocab"
      ],
      "metadata": {
        "colab": {
          "base_uri": "https://localhost:8080/"
        },
        "id": "R7NARN37c-Ai",
        "outputId": "ec3e3714-29d0-4d7b-feda-1c69418456e0"
      },
      "execution_count": null,
      "outputs": [
        {
          "output_type": "execute_result",
          "data": {
            "text/plain": [
              "{'\"emerald',\n",
              " '9th-century',\n",
              " 'and',\n",
              " 'are',\n",
              " 'beer.',\n",
              " 'birthplace',\n",
              " 'book',\n",
              " 'cahir',\n",
              " 'capital,',\n",
              " 'castle.',\n",
              " 'castles',\n",
              " 'coast',\n",
              " 'college',\n",
              " 'country',\n",
              " 'dotted',\n",
              " 'dubbed',\n",
              " 'dublin,',\n",
              " 'dublin’s',\n",
              " 'england',\n",
              " 'for',\n",
              " 'guinness',\n",
              " 'home',\n",
              " 'illustrated',\n",
              " 'in',\n",
              " 'ireland',\n",
              " 'ireland,',\n",
              " 'is',\n",
              " 'island',\n",
              " 'isle”',\n",
              " 'its',\n",
              " 'kells',\n",
              " 'landscape,',\n",
              " 'library.',\n",
              " 'like',\n",
              " 'lush',\n",
              " 'manuscripts',\n",
              " 'medieval',\n",
              " 'most',\n",
              " 'occupies',\n",
              " 'of',\n",
              " 'off',\n",
              " 'on',\n",
              " 'oscar',\n",
              " 'other',\n",
              " 'republic',\n",
              " 'show',\n",
              " 'the',\n",
              " 'trinity',\n",
              " 'wales.',\n",
              " 'wilde,',\n",
              " 'with',\n",
              " 'writers'}"
            ]
          },
          "metadata": {},
          "execution_count": 54
        }
      ]
    },
    {
      "cell_type": "code",
      "source": [
        "len(vocab) # number of tokens/words decreased"
      ],
      "metadata": {
        "colab": {
          "base_uri": "https://localhost:8080/"
        },
        "id": "GM8NwROd0_oe",
        "outputId": "eeecaf62-0f3e-46ed-dc4e-cc67377dfb12"
      },
      "execution_count": null,
      "outputs": [
        {
          "output_type": "execute_result",
          "data": {
            "text/plain": [
              "52"
            ]
          },
          "metadata": {},
          "execution_count": 52
        }
      ]
    },
    {
      "cell_type": "code",
      "source": [
        "''' !Erorr - TypeError: 'set' object is not subscriptable '''\n",
        "\n",
        "print(vocab[:5])"
      ],
      "metadata": {
        "colab": {
          "base_uri": "https://localhost:8080/",
          "height": 201
        },
        "id": "JCO5wZHadR2U",
        "outputId": "f49ba2bd-5e6d-4075-9f8c-8bc7790d5228"
      },
      "execution_count": null,
      "outputs": [
        {
          "output_type": "error",
          "ename": "TypeError",
          "evalue": "ignored",
          "traceback": [
            "\u001b[0;31m---------------------------------------------------------------------------\u001b[0m",
            "\u001b[0;31mTypeError\u001b[0m                                 Traceback (most recent call last)",
            "\u001b[0;32m<ipython-input-48-aeeb9f7c3ddf>\u001b[0m in \u001b[0;36m<module>\u001b[0;34m()\u001b[0m\n\u001b[1;32m      1\u001b[0m \u001b[0;34m''' !Erorr - TypeError: 'set' object is not subscriptable '''\u001b[0m\u001b[0;34m\u001b[0m\u001b[0;34m\u001b[0m\u001b[0m\n\u001b[1;32m      2\u001b[0m \u001b[0;34m\u001b[0m\u001b[0m\n\u001b[0;32m----> 3\u001b[0;31m \u001b[0mprint\u001b[0m\u001b[0;34m(\u001b[0m\u001b[0mvocab\u001b[0m\u001b[0;34m[\u001b[0m\u001b[0;34m:\u001b[0m\u001b[0;36m5\u001b[0m\u001b[0;34m]\u001b[0m\u001b[0;34m)\u001b[0m\u001b[0;34m\u001b[0m\u001b[0;34m\u001b[0m\u001b[0m\n\u001b[0m",
            "\u001b[0;31mTypeError\u001b[0m: 'set' object is not subscriptable"
          ]
        }
      ]
    },
    {
      "cell_type": "code",
      "source": [
        "# Therefore use convert the set to list using list()\n",
        "\n",
        "print(list(vocab)[:5])"
      ],
      "metadata": {
        "colab": {
          "base_uri": "https://localhost:8080/"
        },
        "id": "4tCM5rFBdLBf",
        "outputId": "6c829e34-f376-4258-fca7-3b74f2fab1e5"
      },
      "execution_count": null,
      "outputs": [
        {
          "output_type": "stream",
          "name": "stdout",
          "text": [
            "['is', 'trinity', 'england', '9th-century', 'castles']\n"
          ]
        }
      ]
    },
    {
      "cell_type": "markdown",
      "source": [
        "## enumerate() and dict()\n",
        "\n",
        "https://docs.python.org/3/library/functions.html#enumerate\n",
        "\n",
        "https://docs.python.org/3/library/functions.html#func-dict\n",
        "\n",
        "Build an indexed dictionary of vocab for traceability"
      ],
      "metadata": {
        "id": "x48QL5Bcdkop"
      }
    },
    {
      "cell_type": "code",
      "source": [
        "dict(enumerate(vocab))"
      ],
      "metadata": {
        "colab": {
          "base_uri": "https://localhost:8080/"
        },
        "id": "vb097Un8dGWZ",
        "outputId": "89bc33af-5c12-4005-b723-6e031e53fc50"
      },
      "execution_count": null,
      "outputs": [
        {
          "output_type": "execute_result",
          "data": {
            "text/plain": [
              "{0: 'is',\n",
              " 1: 'trinity',\n",
              " 2: 'england',\n",
              " 3: '9th-century',\n",
              " 4: 'castles',\n",
              " 5: 'coast',\n",
              " 6: 'and',\n",
              " 7: 'library.',\n",
              " 8: 'with',\n",
              " 9: 'republic',\n",
              " 10: 'home',\n",
              " 11: 'island',\n",
              " 12: 'illustrated',\n",
              " 13: 'castle.',\n",
              " 14: 'wales.',\n",
              " 15: 'in',\n",
              " 16: 'manuscripts',\n",
              " 17: 'other',\n",
              " 18: 'are',\n",
              " 19: 'college',\n",
              " 20: 'capital,',\n",
              " 21: 'landscape,',\n",
              " 22: 'most',\n",
              " 23: 'country',\n",
              " 24: 'oscar',\n",
              " 25: 'kells',\n",
              " 26: 'dubbed',\n",
              " 27: 'guinness',\n",
              " 28: 'beer.',\n",
              " 29: 'for',\n",
              " 30: 'on',\n",
              " 31: 'dublin,',\n",
              " 32: 'isle”',\n",
              " 33: 'of',\n",
              " 34: '\"emerald',\n",
              " 35: 'show',\n",
              " 36: 'wilde,',\n",
              " 37: 'off',\n",
              " 38: 'its',\n",
              " 39: 'book',\n",
              " 40: 'the',\n",
              " 41: 'like',\n",
              " 42: 'cahir',\n",
              " 43: 'ireland,',\n",
              " 44: 'writers',\n",
              " 45: 'medieval',\n",
              " 46: 'ireland',\n",
              " 47: 'lush',\n",
              " 48: 'occupies',\n",
              " 49: 'dotted',\n",
              " 50: 'birthplace',\n",
              " 51: 'dublin’s'}"
            ]
          },
          "metadata": {},
          "execution_count": 50
        }
      ]
    },
    {
      "cell_type": "markdown",
      "source": [
        "## input()"
      ],
      "metadata": {
        "id": "D9F3pg4M2sZL"
      }
    },
    {
      "cell_type": "code",
      "source": [
        "user_input = input(\"Enter a sentence: \")\n",
        "user_input"
      ],
      "metadata": {
        "colab": {
          "base_uri": "https://localhost:8080/",
          "height": 52
        },
        "id": "K5rfadNxdEge",
        "outputId": "1abd785c-cce4-4c16-cd5d-d921bd8d1b4f"
      },
      "execution_count": 1,
      "outputs": [
        {
          "name": "stdout",
          "output_type": "stream",
          "text": [
            "Enter a sentence: This is it!\n"
          ]
        },
        {
          "output_type": "execute_result",
          "data": {
            "text/plain": [
              "'This is it!'"
            ],
            "application/vnd.google.colaboratory.intrinsic+json": {
              "type": "string"
            }
          },
          "metadata": {},
          "execution_count": 1
        }
      ]
    },
    {
      "cell_type": "code",
      "source": [
        "def vocab_size(x):\n",
        "  print('Input:', x)\n",
        "  print('Vocab Size: ', len(set(x.split(' '))))"
      ],
      "metadata": {
        "id": "CmHO7Cd9dB8e"
      },
      "execution_count": 2,
      "outputs": []
    },
    {
      "cell_type": "code",
      "source": [
        "vocab_size(user_input)"
      ],
      "metadata": {
        "colab": {
          "base_uri": "https://localhost:8080/"
        },
        "id": "RfnIvg0pdA5e",
        "outputId": "2e11f196-d529-4d8b-a095-35c2e08e72b2"
      },
      "execution_count": 4,
      "outputs": [
        {
          "output_type": "stream",
          "name": "stdout",
          "text": [
            "Input: This is it!\n",
            "Vocab Size:  3\n"
          ]
        }
      ]
    },
    {
      "cell_type": "markdown",
      "source": [
        "## zip()\n",
        "\n",
        "Depending on how you organize or process your data, you might want to use zip() function."
      ],
      "metadata": {
        "id": "7wSSai-_61oT"
      }
    },
    {
      "cell_type": "code",
      "source": [
        "texts = ['I enjoyed the concert thoroughly',\n",
        "         'The performance was too short',\n",
        "         'Great environment and fantastic music as usual',\n",
        "         'Beautiful evening with friends and music',\n",
        "         'Amazing concert',\n",
        "         'Not coming back to this one'\n",
        "         ]\n",
        "sentiments = ['pos','neg', 'pos', 'pos', 'pos', 'neg']"
      ],
      "metadata": {
        "id": "5qXGl8zkc3J1"
      },
      "execution_count": null,
      "outputs": []
    },
    {
      "cell_type": "code",
      "source": [
        "for text, sentiment in zip(texts, sentiments):\n",
        "  print(text)\n",
        "  print(sentiment)"
      ],
      "metadata": {
        "colab": {
          "base_uri": "https://localhost:8080/"
        },
        "id": "KqSh8xm3DvNH",
        "outputId": "0d58aaeb-60c9-4d88-cbcf-789e8b384ab6"
      },
      "execution_count": null,
      "outputs": [
        {
          "output_type": "stream",
          "name": "stdout",
          "text": [
            "I enjoyed the concert thoroughly\n",
            "pos\n",
            "The performance was too short\n",
            "neg\n",
            "Great environment and fantastic music as usual\n",
            "pos\n",
            "Beautiful evening with friends and music\n",
            "pos\n",
            "Amazing concert\n",
            "pos\n",
            "Not coming back to this one\n",
            "neg\n"
          ]
        }
      ]
    },
    {
      "cell_type": "markdown",
      "source": [
        "## type() and isinstance()\n",
        "\n",
        "To chech if the object is an instance of a specific Class."
      ],
      "metadata": {
        "id": "Jy3Y9Z-xWnFO"
      }
    },
    {
      "cell_type": "code",
      "source": [
        "string = \"This is a string\""
      ],
      "metadata": {
        "id": "3fGPsh4BF7vb"
      },
      "execution_count": 14,
      "outputs": []
    },
    {
      "cell_type": "code",
      "source": [
        "import spacy\n",
        "\n",
        "nlp = spacy.load(\"en_core_web_sm\")\n",
        "doc = nlp(string)"
      ],
      "metadata": {
        "id": "SGtfaS0vF7yf"
      },
      "execution_count": 2,
      "outputs": []
    },
    {
      "cell_type": "code",
      "source": [
        "string"
      ],
      "metadata": {
        "colab": {
          "base_uri": "https://localhost:8080/",
          "height": 35
        },
        "id": "0g_ZN3cpHIp5",
        "outputId": "c4a4e3a5-036b-44d0-8cac-95d7cfdb665f"
      },
      "execution_count": 15,
      "outputs": [
        {
          "output_type": "execute_result",
          "data": {
            "text/plain": [
              "'This is a string'"
            ],
            "application/vnd.google.colaboratory.intrinsic+json": {
              "type": "string"
            }
          },
          "metadata": {},
          "execution_count": 15
        }
      ]
    },
    {
      "cell_type": "code",
      "source": [
        "doc"
      ],
      "metadata": {
        "colab": {
          "base_uri": "https://localhost:8080/"
        },
        "id": "u8m2K-hSHIye",
        "outputId": "295bcbb9-e640-4f12-8b58-392d66acd3ec"
      },
      "execution_count": 11,
      "outputs": [
        {
          "output_type": "execute_result",
          "data": {
            "text/plain": [
              "This is a string"
            ]
          },
          "metadata": {},
          "execution_count": 11
        }
      ]
    },
    {
      "cell_type": "code",
      "source": [
        "type(doc)"
      ],
      "metadata": {
        "colab": {
          "base_uri": "https://localhost:8080/"
        },
        "id": "wqk04SeAGANb",
        "outputId": "7bae4a49-dd63-4c24-9be7-98c95ecb1ffa"
      },
      "execution_count": 5,
      "outputs": [
        {
          "output_type": "execute_result",
          "data": {
            "text/plain": [
              "spacy.tokens.doc.Doc"
            ]
          },
          "metadata": {},
          "execution_count": 5
        }
      ]
    },
    {
      "cell_type": "code",
      "source": [
        "type(string)"
      ],
      "metadata": {
        "colab": {
          "base_uri": "https://localhost:8080/"
        },
        "id": "WHhfDkxjGLlX",
        "outputId": "fe70986f-12e0-48a5-b46b-d236e221b10a"
      },
      "execution_count": 6,
      "outputs": [
        {
          "output_type": "execute_result",
          "data": {
            "text/plain": [
              "str"
            ]
          },
          "metadata": {},
          "execution_count": 6
        }
      ]
    },
    {
      "cell_type": "code",
      "source": [
        "isinstance(string, str)"
      ],
      "metadata": {
        "colab": {
          "base_uri": "https://localhost:8080/"
        },
        "id": "LU9-oz9lGZ_7",
        "outputId": "fda249f3-d5ff-4dea-a524-70844d4f097b"
      },
      "execution_count": 7,
      "outputs": [
        {
          "output_type": "execute_result",
          "data": {
            "text/plain": [
              "True"
            ]
          },
          "metadata": {},
          "execution_count": 7
        }
      ]
    },
    {
      "cell_type": "code",
      "source": [
        "isinstance(string, spacy.tokens.doc.Doc)"
      ],
      "metadata": {
        "colab": {
          "base_uri": "https://localhost:8080/"
        },
        "id": "jvfm47heG0OL",
        "outputId": "4bca914e-e67c-4ada-b1cc-3adcae15cfa4"
      },
      "execution_count": 8,
      "outputs": [
        {
          "output_type": "execute_result",
          "data": {
            "text/plain": [
              "False"
            ]
          },
          "metadata": {},
          "execution_count": 8
        }
      ]
    },
    {
      "cell_type": "code",
      "source": [
        "isinstance(doc, spacy.tokens.doc.Doc)"
      ],
      "metadata": {
        "colab": {
          "base_uri": "https://localhost:8080/"
        },
        "id": "I60pfNCmGaC3",
        "outputId": "35fad20a-9d61-452a-d836-d1764a669c6c"
      },
      "execution_count": 9,
      "outputs": [
        {
          "output_type": "execute_result",
          "data": {
            "text/plain": [
              "True"
            ]
          },
          "metadata": {},
          "execution_count": 9
        }
      ]
    }
  ]
}